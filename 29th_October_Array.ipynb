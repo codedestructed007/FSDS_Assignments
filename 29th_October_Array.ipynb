{
 "cells": [
  {
   "cell_type": "markdown",
   "id": "808a0b7c-01d5-4e39-b7fa-07fe5036b62f",
   "metadata": {},
   "source": [
    "## Problems on Arrays "
   ]
  },
  {
   "cell_type": "markdown",
   "id": "91f6dc51-5e76-4f85-ac03-633fd0e51414",
   "metadata": {},
   "source": [
    "1. Given an array, check if it contains any duplicates or not.\n",
    "arr = [1, 2, 4, 2, 5, 9]\n",
    "Output = True"
   ]
  },
  {
   "cell_type": "code",
   "execution_count": 2,
   "id": "83d15422-16c5-47ec-aa60-d114b2ce76d7",
   "metadata": {},
   "outputs": [],
   "source": [
    "def check_duplicates(array):\n",
    "    diction = {}\n",
    "    for i in array:\n",
    "        if i in diction:\n",
    "            return 'Contains duplicates'\n",
    "        else:\n",
    "            diction[i]= 1\n",
    "            \n",
    "    return 'No Duplicates found'"
   ]
  },
  {
   "cell_type": "code",
   "execution_count": 3,
   "id": "52b67378-13bc-44a7-adbd-3d5c1cc03287",
   "metadata": {},
   "outputs": [
    {
     "data": {
      "text/plain": [
       "'Contains duplicates'"
      ]
     },
     "execution_count": 3,
     "metadata": {},
     "output_type": "execute_result"
    }
   ],
   "source": [
    "check_duplicates([1, 2, 4, 2, 5, 9])"
   ]
  },
  {
   "cell_type": "markdown",
   "id": "34dc312a-3112-4f4d-a9e4-0bdbf60d0864",
   "metadata": {},
   "source": [
    "2. Given an array and an integer k, rotate the array to the right by k steps.\n",
    "arr = [1, 2, 3, 4, 5, 6, 7] k = 3\n",
    "Output = [5, 6, 7, 1, 2, 3, 4]"
   ]
  },
  {
   "cell_type": "code",
   "execution_count": 4,
   "id": "41eccca5-bd0c-4024-a7cf-d8c36444c12f",
   "metadata": {},
   "outputs": [],
   "source": [
    "# time complexity O(n)\n",
    "def rotate_array(array,k):\n",
    "    return array[-k:] + array[:-k]"
   ]
  },
  {
   "cell_type": "code",
   "execution_count": 6,
   "id": "d0fe65a3-5474-4dd7-aa9f-a202a4415196",
   "metadata": {},
   "outputs": [
    {
     "data": {
      "text/plain": [
       "[5, 6, 7, 1, 2, 3, 4]"
      ]
     },
     "execution_count": 6,
     "metadata": {},
     "output_type": "execute_result"
    }
   ],
   "source": [
    "rotate_array([1, 2, 3, 4, 5, 6, 7],k = 3)"
   ]
  },
  {
   "cell_type": "markdown",
   "id": "536aab4c-27bb-4e8b-b08a-fc62ffd38651",
   "metadata": {},
   "source": [
    "3. Reverse the given array in-place, means without using any extra data structure.\n",
    "arr = [2, 4, 5, 7, 9, 12]\n",
    "Output = [12, 9, 7, 5, 4, 2]"
   ]
  },
  {
   "cell_type": "markdown",
   "id": "a4b9645a-add4-4bfc-a614-f231fce73410",
   "metadata": {},
   "source": [
    "#### Method 1st Using recursion"
   ]
  },
  {
   "cell_type": "code",
   "execution_count": 9,
   "id": "c4898faa-c209-45df-b9cb-69d9cef25700",
   "metadata": {},
   "outputs": [],
   "source": [
    "# Method first using recursion\n",
    "def reverse_array_recursion(array,start,end):\n",
    "    \n",
    "    # base condition \n",
    "    if start>=end:\n",
    "        return array\n",
    "    \n",
    "    # logic \n",
    "    array[start],array[end] = array[end],array[start]\n",
    "    \n",
    "    return reverse_array_recursion(array,start+1,end-1)\n",
    "    \n",
    "    "
   ]
  },
  {
   "cell_type": "code",
   "execution_count": 10,
   "id": "ef7393f2-ecfb-49a6-8ab1-b346e511ed23",
   "metadata": {},
   "outputs": [
    {
     "data": {
      "text/plain": [
       "[12, 9, 7, 5, 4, 2]"
      ]
     },
     "execution_count": 10,
     "metadata": {},
     "output_type": "execute_result"
    }
   ],
   "source": [
    "array =  [2, 4, 5, 7, 9, 12]\n",
    "reverse_array_recursion(array,0,len(array)-1)"
   ]
  },
  {
   "cell_type": "markdown",
   "id": "40ba36e7-0098-46b3-9698-f7e20734b09e",
   "metadata": {},
   "source": [
    "#### Method 2 Using Two pointers"
   ]
  },
  {
   "cell_type": "code",
   "execution_count": 11,
   "id": "fc4c30bc-a616-437b-8917-f153552b3460",
   "metadata": {},
   "outputs": [],
   "source": [
    "def reverse_array(array):\n",
    "    i = 0\n",
    "    j = len(array)-1\n",
    "    while i<j:\n",
    "        array[i],array[j] = array[j] , array[i]\n",
    "        i+=1\n",
    "        j-=1\n",
    "    return array\n",
    "    "
   ]
  },
  {
   "cell_type": "code",
   "execution_count": 13,
   "id": "63eaee17-d4cc-485b-8076-e291dfa03f6d",
   "metadata": {},
   "outputs": [
    {
     "data": {
      "text/plain": [
       "[12, 9, 7, 5, 4, 2]"
      ]
     },
     "execution_count": 13,
     "metadata": {},
     "output_type": "execute_result"
    }
   ],
   "source": [
    "array =  [2, 4, 5, 7, 9, 12]\n",
    "reverse_array(array)"
   ]
  },
  {
   "cell_type": "markdown",
   "id": "5ebaac35-d8a4-4ba9-8069-0f468d03310c",
   "metadata": {},
   "source": [
    "4. Given an array of integers, find the maximum element in an array\n",
    "arr = [10, 5, 20, 8, 15]\n",
    "Output = 20"
   ]
  },
  {
   "cell_type": "markdown",
   "id": "1bb4c125-2d88-4839-8666-99338ddd8f9d",
   "metadata": {},
   "source": [
    "#### Linear approac time complexity O(n)"
   ]
  },
  {
   "cell_type": "code",
   "execution_count": 14,
   "id": "2f58b772-4459-4373-9c84-b0bf0a31c58a",
   "metadata": {},
   "outputs": [],
   "source": [
    "def maximum_element(array):\n",
    "    maximum = 0\n",
    "    for i in array:\n",
    "        if i > maximum:\n",
    "            maximum = i\n",
    "    return maximum"
   ]
  },
  {
   "cell_type": "code",
   "execution_count": 15,
   "id": "b616ba5c-8acb-46d2-b47e-b0629c4a58ce",
   "metadata": {},
   "outputs": [
    {
     "data": {
      "text/plain": [
       "20"
      ]
     },
     "execution_count": 15,
     "metadata": {},
     "output_type": "execute_result"
    }
   ],
   "source": [
    "maximum_element([10, 5, 20, 8, 15])"
   ]
  },
  {
   "cell_type": "markdown",
   "id": "ade022f7-e925-457e-94fb-99220df217cb",
   "metadata": {},
   "source": [
    "#### Approach 2nd - sort(with log(n) and find the last element with O(1)"
   ]
  },
  {
   "cell_type": "code",
   "execution_count": 18,
   "id": "84f7f74b-ae43-496d-a9e5-91a627c0280b",
   "metadata": {},
   "outputs": [],
   "source": [
    "def maximum(array):\n",
    "    array.sort()\n",
    "    return array[-1]"
   ]
  },
  {
   "cell_type": "code",
   "execution_count": 19,
   "id": "c34a894f-be09-43fa-98d0-3fb18106100b",
   "metadata": {},
   "outputs": [
    {
     "data": {
      "text/plain": [
       "20"
      ]
     },
     "execution_count": 19,
     "metadata": {},
     "output_type": "execute_result"
    }
   ],
   "source": [
    "maximum([10, 5, 20, 8, 15])"
   ]
  },
  {
   "cell_type": "markdown",
   "id": "4bc1e376-a692-4816-8c09-1021c7a5bf27",
   "metadata": {},
   "source": [
    "5. Given a sorted array, remove the duplicate element without using any extra data structure.\n",
    "arr = [1, 1, 2, 2, 2, 3, 3, 4, 4, 4, 5, 5]\n",
    "Output = [1, 2, 3, 4, 5]"
   ]
  },
  {
   "cell_type": "code",
   "execution_count": 26,
   "id": "03bdb708-de8e-4a11-9936-59cdc417f602",
   "metadata": {},
   "outputs": [],
   "source": [
    "# Approach using two pointers\n",
    "def remove_duplicates(array):\n",
    "    i =0\n",
    "    j = 0\n",
    "    while j<len(array)-1:\n",
    "        if array[i] == array[j]:\n",
    "            j+=1\n",
    "        else:\n",
    "            if array[j] > array[i]:\n",
    "                i+=1\n",
    "                # do swap\n",
    "                array[i],array[j], array[j],array[i]\n",
    "            else:\n",
    "                j+=1\n",
    "    return array[:i+1]"
   ]
  },
  {
   "cell_type": "code",
   "execution_count": 27,
   "id": "f77f4302-df9b-4a77-806c-c1e9e57d69aa",
   "metadata": {},
   "outputs": [
    {
     "data": {
      "text/plain": [
       "[1, 1, 2, 2, 2, 3, 3, 4, 4, 4, 5]"
      ]
     },
     "execution_count": 27,
     "metadata": {},
     "output_type": "execute_result"
    }
   ],
   "source": [
    "remove_duplicates([1, 1, 2, 2, 2, 3, 3, 4, 4, 4, 5, 5])"
   ]
  },
  {
   "cell_type": "code",
   "execution_count": null,
   "id": "85aff261-1ed4-4012-8c64-ab6ae9aa519e",
   "metadata": {},
   "outputs": [],
   "source": []
  }
 ],
 "metadata": {
  "kernelspec": {
   "display_name": "Python 3 (ipykernel)",
   "language": "python",
   "name": "python3"
  },
  "language_info": {
   "codemirror_mode": {
    "name": "ipython",
    "version": 3
   },
   "file_extension": ".py",
   "mimetype": "text/x-python",
   "name": "python",
   "nbconvert_exporter": "python",
   "pygments_lexer": "ipython3",
   "version": "3.10.8"
  }
 },
 "nbformat": 4,
 "nbformat_minor": 5
}
