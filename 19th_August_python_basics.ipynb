{
 "cells": [
  {
   "cell_type": "markdown",
   "id": "b9f41e9d-7c48-4f0e-abb3-65754872124d",
   "metadata": {},
   "source": [
    "# Python Basics variable"
   ]
  },
  {
   "cell_type": "markdown",
   "id": "3160fb16-8b63-4be0-98c6-50d90b499d89",
   "metadata": {},
   "source": [
    "1. Swaping the value between two variables without using third temporary variable"
   ]
  },
  {
   "cell_type": "code",
   "execution_count": 1,
   "id": "ee9c2df5-f6d3-437f-b06f-d0513dcf7092",
   "metadata": {},
   "outputs": [
    {
     "name": "stdout",
     "output_type": "stream",
     "text": [
      "x = 12 , y = 44 before swapping\n",
      "x= 44 , y = 12 after swapping\n"
     ]
    }
   ],
   "source": [
    "#let say \n",
    "x = 12\n",
    "y = 44\n",
    "print('x = {} , y = {} before swapping'.format(x,y))\n",
    "\n",
    "#swapping\n",
    "\n",
    "x, y = y, x\n",
    "print('x= {} , y = {} after swapping'.format(x,y))"
   ]
  },
  {
   "cell_type": "markdown",
   "id": "30dd551a-93b0-4dd7-875c-7f7adfe62540",
   "metadata": {},
   "source": [
    "2. Create a program that calculates the area of a rectangle. Take the length and width as inputs from the user and store them in variables. Calculate and display the area."
   ]
  },
  {
   "cell_type": "code",
   "execution_count": 2,
   "id": "4a224442-92e8-4f53-888f-f430ec301c24",
   "metadata": {},
   "outputs": [
    {
     "name": "stdin",
     "output_type": "stream",
     "text": [
      "Enter the length 100\n",
      "Enter the width 80\n"
     ]
    },
    {
     "name": "stdout",
     "output_type": "stream",
     "text": [
      " area is 8000\n"
     ]
    }
   ],
   "source": [
    "length = int(input('Enter the length'))\n",
    "width  = int(input('Enter the width'))\n",
    "area = length * width \n",
    "print(' area is {}'.format(area))"
   ]
  },
  {
   "cell_type": "markdown",
   "id": "4993d965-566b-4c10-9e61-6776a7b197ef",
   "metadata": {},
   "source": [
    "3. Write a Python program that converts temperature from Celsius to Fahrenheit. Take the temperature in elsius as input, store it in a variable, convert it to Fahrenheit, and display the result."
   ]
  },
  {
   "cell_type": "code",
   "execution_count": 3,
   "id": "8eb14d2c-3474-4924-83b6-010b44a05d6d",
   "metadata": {},
   "outputs": [
    {
     "name": "stdin",
     "output_type": "stream",
     "text": [
      "Enter the temp(Celsius) 100\n"
     ]
    },
    {
     "name": "stdout",
     "output_type": "stream",
     "text": [
      "Temperature in Fahrenhei is  212.0\n"
     ]
    }
   ],
   "source": [
    "# Formula to convert temperature from  Celsius to Fahrenheit is (32°F − 32) × 5/9 = 0°C\n",
    "#so fahrenheit = ((Celsius * 9/5) + 32)\n",
    "#input in Celsius\n",
    "cel = float(input('Enter the temp(Celsius)'))\n",
    "fahr  = ((cel * 9/5)  + 32)\n",
    "print('Temperature in Fahrenhei is ',fahr)"
   ]
  },
  {
   "cell_type": "markdown",
   "id": "920b39d3-9617-4639-bad3-93d9f2dd80e8",
   "metadata": {},
   "source": [
    "# String Based questions"
   ]
  },
  {
   "cell_type": "markdown",
   "id": "0ad7bc02-8d8c-48c3-a573-4f2036122b1f",
   "metadata": {},
   "source": [
    "1. Write a Python program that takes a string as input and prints the length of the string."
   ]
  },
  {
   "cell_type": "code",
   "execution_count": 4,
   "id": "c7ca7a68-1dfb-4eea-ac24-a559a4f8fef4",
   "metadata": {},
   "outputs": [
    {
     "name": "stdin",
     "output_type": "stream",
     "text": [
      "Enter the string Satyam Sharma\n"
     ]
    },
    {
     "name": "stdout",
     "output_type": "stream",
     "text": [
      "String contains 13 characters(including whitespaces)\n"
     ]
    }
   ],
   "source": [
    "string = str(input('Enter the string'))\n",
    "print('String contains {} characters(including whitespaces)'.format(len(string)))"
   ]
  },
  {
   "cell_type": "markdown",
   "id": "15d5602c-c1d9-481b-b690-84c5c2968f56",
   "metadata": {},
   "source": [
    "2. Create a program that takes a sentence from the user and counts the number of vowels (a, e, i, o, u) in the string."
   ]
  },
  {
   "cell_type": "code",
   "execution_count": 5,
   "id": "8392c9ae-8164-4203-8a37-5b65fa604c47",
   "metadata": {},
   "outputs": [
    {
     "name": "stdin",
     "output_type": "stream",
     "text": [
      "Type any Sentence Hello! My name is Satyam Sharma and I am a Data Scientist\n"
     ]
    },
    {
     "name": "stdout",
     "output_type": "stream",
     "text": [
      "number of vowels in your sentence is 18\n"
     ]
    }
   ],
   "source": [
    "sent = str(input('Type any Sentence'))\n",
    "count = 0\n",
    "for i in sent:\n",
    "    if i.lower() in ['a','e','i','o','u']:\n",
    "        count = count + 1\n",
    "print('number of vowels in your sentence is',count)\n",
    "        \n",
    "    \n",
    "# lower() function converts capital letter into small letter\n"
   ]
  },
  {
   "cell_type": "markdown",
   "id": "483c7208-69b2-41d2-add8-06780e37f8ad",
   "metadata": {},
   "source": [
    "*Method 2 - without using function * "
   ]
  },
  {
   "cell_type": "code",
   "execution_count": 23,
   "id": "d1345234-94a2-45d9-9ab6-1b96597b7deb",
   "metadata": {},
   "outputs": [
    {
     "name": "stdin",
     "output_type": "stream",
     "text": [
      "Type any Sentence Hello! My name is Satyam Sharma and I am a Data Scientist\n"
     ]
    },
    {
     "name": "stdout",
     "output_type": "stream",
     "text": [
      "number of vowels in your sentence is 18\n"
     ]
    }
   ],
   "source": [
    "sent = str(input('Type any Sentence'))\n",
    "\n",
    "#first convert into lower alphabet\n",
    "#logic use .replace to convert vowels into #(any char) and the count it\n",
    "#also remove whitespaces \n",
    "\n",
    "total_vowels = sent.lower().replace(\" \",\"\").replace('a',\"#\").replace('e',\"#\").replace('i',\"#\").replace('o',\"#\").replace('u',\"#\").count('#')\n",
    "print('number of vowels in your sentence is',total_vowels)"
   ]
  },
  {
   "cell_type": "markdown",
   "id": "34801fd9-dbff-4a1c-9c12-8bcfb2aeaa61",
   "metadata": {},
   "source": [
    "3. Given a string, reverse the order of characters using string slicing and print the reversed string."
   ]
  },
  {
   "cell_type": "code",
   "execution_count": 6,
   "id": "e73f3119-35d0-4fca-80bd-28ed7ff3cb6d",
   "metadata": {},
   "outputs": [
    {
     "name": "stdout",
     "output_type": "stream",
     "text": [
      "reversed name amrahs maytas\n"
     ]
    }
   ],
   "source": [
    "name = 'satyam sharma'\n",
    "reverse_name = name[::-1]\n",
    "print('reversed name',reverse_name)"
   ]
  },
  {
   "cell_type": "markdown",
   "id": "477f4945-847d-476a-a78d-4b091a308f06",
   "metadata": {},
   "source": [
    "4. Write a program that takes a string as input and checks if it is a palindrome (reads the same forwards and backwards)."
   ]
  },
  {
   "cell_type": "code",
   "execution_count": 7,
   "id": "406caccc-cec8-4d16-bc18-7723e45e44e5",
   "metadata": {},
   "outputs": [
    {
     "name": "stdin",
     "output_type": "stream",
     "text": [
      "Type a string racecar\n"
     ]
    },
    {
     "name": "stdout",
     "output_type": "stream",
     "text": [
      "Yes it is a palindrome\n"
     ]
    }
   ],
   "source": [
    "string = str(input('Type a string'))\n",
    "if string == string[::-1]:\n",
    "    print('Yes it is a palindrome')\n",
    "else:\n",
    "    print('No , It is not a palindrome')"
   ]
  },
  {
   "cell_type": "markdown",
   "id": "6b1f9834-d991-4d2a-9de4-a54541274611",
   "metadata": {},
   "source": [
    "5. Create a program that takes a string as input and removes all the spaces from it. Print the modified string without spaces."
   ]
  },
  {
   "cell_type": "code",
   "execution_count": 12,
   "id": "5fc8eda7-043b-48e6-9e4a-308febcfacec",
   "metadata": {},
   "outputs": [
    {
     "name": "stdin",
     "output_type": "stream",
     "text": [
      "Type your string satyam sharma\n"
     ]
    },
    {
     "name": "stdout",
     "output_type": "stream",
     "text": [
      "string without whitespaces satyamsharma\n"
     ]
    }
   ],
   "source": [
    "string = str(input('Type your string'))\n",
    "\n",
    "#split the string with spaces \n",
    "#use join function to joint the iterable with \"\"\n",
    "\n",
    "string_without_spaces=\"\".join(string.split())\n",
    "\n",
    "print('string without whitespaces',string_without_spaces)"
   ]
  }
 ],
 "metadata": {
  "kernelspec": {
   "display_name": "Python 3 (ipykernel)",
   "language": "python",
   "name": "python3"
  },
  "language_info": {
   "codemirror_mode": {
    "name": "ipython",
    "version": 3
   },
   "file_extension": ".py",
   "mimetype": "text/x-python",
   "name": "python",
   "nbconvert_exporter": "python",
   "pygments_lexer": "ipython3",
   "version": "3.10.8"
  }
 },
 "nbformat": 4,
 "nbformat_minor": 5
}
