{
 "cells": [
  {
   "cell_type": "markdown",
   "id": "a0aca553-5f6e-45a5-a3a0-1cf3f4184d15",
   "metadata": {},
   "source": [
    "# Sorting"
   ]
  },
  {
   "cell_type": "markdown",
   "id": "e5d6f9fc-17b8-421f-b914-4f5e82b6de8b",
   "metadata": {},
   "source": [
    "1. Given an array of n numbers, give an algorithm which gives the element appearing maximum number of times?"
   ]
  },
  {
   "cell_type": "code",
   "execution_count": 1,
   "id": "f4a34997-5bf5-4507-b38c-b07089147416",
   "metadata": {},
   "outputs": [],
   "source": [
    "def maximum_appearance(array):\n",
    "    storage = {}\n",
    "    for i in array:\n",
    "        if i in storage:\n",
    "            storage[i] +=1\n",
    "        else:\n",
    "            storage[i] = 1\n",
    "    \n",
    "    return sorted(storage.items(), key = lambda x : x[1], reverse=True)[0][0]"
   ]
  },
  {
   "cell_type": "code",
   "execution_count": 2,
   "id": "c3547f35-36c8-432c-ba79-ec94477329b5",
   "metadata": {},
   "outputs": [
    {
     "data": {
      "text/plain": [
       "4"
      ]
     },
     "execution_count": 2,
     "metadata": {},
     "output_type": "execute_result"
    }
   ],
   "source": [
    "maximum_appearance([3,5,4,7,5,8,9,4,5,4,7,4,9])"
   ]
  },
  {
   "cell_type": "markdown",
   "id": "acbd6a72-ba7a-4ec6-a52c-816feec662e1",
   "metadata": {},
   "source": [
    "2. We are given a list of n-1 integers and these integers are in the range of 1 to n . There are no duplicates in  the list. One of the integers is missing in the list. Give an algorithm to find that element Ex: [1,2,4,6,3,7,8] 5 is the missing num. "
   ]
  },
  {
   "cell_type": "markdown",
   "id": "5f51d0ce-0f3b-4a85-91e6-1f80e4d41fae",
   "metadata": {},
   "source": [
    "Remark - This question would take effort if the given array can also have repeated integers"
   ]
  },
  {
   "cell_type": "code",
   "execution_count": 3,
   "id": "e78d50df-f47e-4e94-b11e-d593d8e103cf",
   "metadata": {},
   "outputs": [],
   "source": [
    "def missing_number(nums):\n",
    "    n = len(nums)+1\n",
    "    expected_sum = int(n*(n+1)/2)\n",
    "    actual_sum = sum(nums)\n",
    "    return expected_sum - actual_sum"
   ]
  },
  {
   "cell_type": "code",
   "execution_count": 4,
   "id": "fdc4e0d0-b0a6-4773-b983-3e6166cb8b42",
   "metadata": {},
   "outputs": [
    {
     "data": {
      "text/plain": [
       "5"
      ]
     },
     "execution_count": 4,
     "metadata": {},
     "output_type": "execute_result"
    }
   ],
   "source": [
    "missing_number([1,2,4,6,3,7,8])"
   ]
  },
  {
   "cell_type": "markdown",
   "id": "390d4dc4-feee-4d92-b617-50abddcbecff",
   "metadata": {},
   "source": [
    "3. Given an array of n positive numbers. All numbers occurs even number of times except 1 which occurs odd number of times. Find that number in O(n) time and O(1) space. Ex: [1,2,3,2,3,1,3]. 3 is repeats odd\n",
    "times."
   ]
  },
  {
   "cell_type": "code",
   "execution_count": 5,
   "id": "a0a6b063-b176-4c81-8564-cd9383a35dc5",
   "metadata": {},
   "outputs": [],
   "source": [
    "# Normal approach\n",
    "def odd_number_times(array):\n",
    "    dic = {}\n",
    "    for i in array:\n",
    "        if i in dic:\n",
    "            dic[i] +=1\n",
    "        else:\n",
    "            dic[i] = 1\n",
    "    for key, value in dic.items():\n",
    "        if value %2 !=0:\n",
    "            return key\n",
    "    "
   ]
  },
  {
   "cell_type": "code",
   "execution_count": 6,
   "id": "4ad7c2c5-74cf-4353-a533-ad0c5dacc01b",
   "metadata": {},
   "outputs": [
    {
     "data": {
      "text/plain": [
       "3"
      ]
     },
     "execution_count": 6,
     "metadata": {},
     "output_type": "execute_result"
    }
   ],
   "source": [
    "odd_number_times([4,5,4,3,5,8,9,9,8])\n"
   ]
  },
  {
   "cell_type": "code",
   "execution_count": 7,
   "id": "dd5cbd74-b3c5-400d-ad7e-458ac7447d2b",
   "metadata": {},
   "outputs": [
    {
     "data": {
      "text/plain": [
       "3"
      ]
     },
     "execution_count": 7,
     "metadata": {},
     "output_type": "execute_result"
    }
   ],
   "source": [
    "# XOR approach\n",
    "result = 0\n",
    "m = [4,5,4,3,5,8,9,9,8]\n",
    "for i in m:\n",
    "    result = result ^ i\n",
    "    \n",
    "result"
   ]
  },
  {
   "cell_type": "markdown",
   "id": "143db075-6b9d-47d6-a641-e59e4715c6ec",
   "metadata": {},
   "source": [
    "4. Given an array of n elements. Find two elements in the array such that their sum is equal to given element K."
   ]
  },
  {
   "cell_type": "code",
   "execution_count": 8,
   "id": "8aed2a39-8af1-45fa-8e8f-48aa0d3d7cd9",
   "metadata": {},
   "outputs": [],
   "source": [
    "# Problem is solved by two poiters having time complexity O(nlogn)\n",
    "# [3,5,4,7,8,3,2,6,2,8]\n",
    "def sum_of_two(array,k):\n",
    "    array.sort()\n",
    "    i = 0\n",
    "    j = len(array)-1\n",
    "    while i < j:\n",
    "        if array[i] + array[j] == k:\n",
    "            return [array[i],array[j]]\n",
    "        elif array[i] + array[j] < k:\n",
    "            i+=1\n",
    "        else:\n",
    "            j-=1\n",
    "            "
   ]
  },
  {
   "cell_type": "code",
   "execution_count": 9,
   "id": "2eeb0833-699c-41be-ad3d-bf2a2aca6bb7",
   "metadata": {},
   "outputs": [
    {
     "data": {
      "text/plain": [
       "[7, 8]"
      ]
     },
     "execution_count": 9,
     "metadata": {},
     "output_type": "execute_result"
    }
   ],
   "source": [
    "sum_of_two([2,5,6,4,7,8],15)"
   ]
  },
  {
   "cell_type": "markdown",
   "id": "a83204de-84d0-481c-a539-00e64e7b87df",
   "metadata": {},
   "source": [
    "5. Given an array of both positive and negative numbers, find two numbers such that their sum is closest to 0. Ex: [ 1 ,60 ,-10, 70, -80,85]. Ans : -80,85."
   ]
  },
  {
   "cell_type": "code",
   "execution_count": 10,
   "id": "9dcefc0e-6382-479a-8925-3c382cf0488c",
   "metadata": {},
   "outputs": [],
   "source": [
    "# sort the array first and start with i = 0 and j = last element\n",
    "def close_to_zero(array):\n",
    "    array.sort()\n",
    "    close_to_zero =abs(array[0])\n",
    "    i =0\n",
    "    j = len(array)-1\n",
    "    while i<j:\n",
    "        summation = array[i] + array[j]\n",
    "        if summation == 0:\n",
    "            return [array[i],array[j]]\n",
    "        elif summation > 0:\n",
    "            j-=1            \n",
    "        else:\n",
    "            i+=1\n",
    "            \n",
    "        if abs(summation) < close_to_zero:\n",
    "                close_to_zero = summation\n",
    "        \n",
    "            \n",
    "    # second loop\n",
    "    i = 0\n",
    "    j = len(array)-1\n",
    "    while i<j:\n",
    "        if array[i] + array[j] == close_to_zero:\n",
    "            return [array[i] , array[j]]\n",
    "        elif array[i] + array[j] > close_to_zero:\n",
    "            j-=1\n",
    "        else:\n",
    "            i+=1\n",
    "            \n",
    "# Time complexity is nLOGN\n",
    "       "
   ]
  },
  {
   "cell_type": "code",
   "execution_count": 11,
   "id": "7ced4a8b-951f-4424-bd01-64c4659e9354",
   "metadata": {},
   "outputs": [
    {
     "data": {
      "text/plain": [
       "[0, 0]"
      ]
     },
     "execution_count": 11,
     "metadata": {},
     "output_type": "execute_result"
    }
   ],
   "source": [
    "close_to_zero([0, 0, 0, 0, 0])"
   ]
  },
  {
   "cell_type": "markdown",
   "id": "d4ac5fd1-66b4-4ce8-92a4-afad42d55918",
   "metadata": {},
   "source": [
    "6. Given an array of n elements . Find three elements such that their sum is equal to the given number."
   ]
  },
  {
   "cell_type": "code",
   "execution_count": 12,
   "id": "6bd4079e-10d9-480a-99dc-9566c94edd68",
   "metadata": {},
   "outputs": [],
   "source": [
    "# Two pointer approach\n",
    "# Time complexity is O(n + logn)\n",
    "# space complexity is constant\n",
    "\n",
    "def three_element_sum(array, k):\n",
    "    if len(array) < 3:\n",
    "        return 'Array length is less than 3'\n",
    "    array.sort()\n",
    "    result = []\n",
    "    def binary_search(sorted_array, element):\n",
    "        l = 0\n",
    "        r = len(sorted_array) - 1\n",
    "        while l <= r:\n",
    "            m = (r + l) // 2\n",
    "            if element == sorted_array[m]:\n",
    "                return m\n",
    "            elif element > sorted_array[m]:\n",
    "                l = m + 1\n",
    "            else:\n",
    "                r = m - 1\n",
    "        return None\n",
    "\n",
    "    i = 0\n",
    "    j = len(array) - 1\n",
    "    while i < j:\n",
    "        remaining = k - (array[i] + array[j])\n",
    "        temp = array[i+1:j]\n",
    "            \n",
    "        index = binary_search(temp, remaining)\n",
    "        if index is not None:\n",
    "            # check if it already present or not\n",
    "            result_set = set(map(tuple, result))\n",
    "            if (array[i], remaining, array[j]) not in result_set:\n",
    "                result.extend([[array[i], remaining, array[j]]])\n",
    "\n",
    "        if remaining <= 0:\n",
    "            j -= 1\n",
    "\n",
    "        else:\n",
    "            i += 1\n",
    "\n",
    "    return result\n"
   ]
  },
  {
   "cell_type": "code",
   "execution_count": 13,
   "id": "b9fba4df-c474-4b4e-9170-66d24583887e",
   "metadata": {},
   "outputs": [
    {
     "data": {
      "text/plain": [
       "[[0, 0, 0]]"
      ]
     },
     "execution_count": 13,
     "metadata": {},
     "output_type": "execute_result"
    }
   ],
   "source": [
    "three_element_sum([0, 0, 0, 0, 0, 0],0)"
   ]
  },
  {
   "cell_type": "markdown",
   "id": "148f17af-63f1-41f7-992f-7eb4b9dade87",
   "metadata": {},
   "source": [
    "7. Given an array of n elements . Find three elements i, j, k in the array such that i * i + j * j = k*k."
   ]
  },
  {
   "cell_type": "code",
   "execution_count": 23,
   "id": "fc7ebb98-3604-46ea-bde5-d68d303ceb5c",
   "metadata": {},
   "outputs": [],
   "source": [
    "# Two pointer approach\n",
    "# Time complexity O(N^2)\n",
    "def pythagorus_triplet(array):\n",
    "    array.sort()\n",
    "    for k in range(len(array)-1,1,-1):\n",
    "        hypo = array[k]**2\n",
    "        i = 0\n",
    "        j = k-1\n",
    "        while i<j:\n",
    "            if array[i]**2 + array[j]**2 == hypo:\n",
    "                return [array[i],array[j],array[k]]\n",
    "            elif array[i]**2 + array[j]**2 > hypo:\n",
    "                j-=1\n",
    "            else:\n",
    "                i+=1  "
   ]
  },
  {
   "cell_type": "code",
   "execution_count": 24,
   "id": "cb50aff7-55cc-49f6-8848-967106afbbf6",
   "metadata": {},
   "outputs": [
    {
     "data": {
      "text/plain": [
       "[3, 4, 5]"
      ]
     },
     "execution_count": 24,
     "metadata": {},
     "output_type": "execute_result"
    }
   ],
   "source": [
    "pythagorus_triplet([8,6,3,4,2,5])"
   ]
  },
  {
   "cell_type": "markdown",
   "id": "4da1a8d4-75e9-4c4e-8783-7715995b1bc0",
   "metadata": {},
   "source": [
    "8. An element is a majority if it appears more than n/2 times. Give an algorithm takes an array of n element as argument and identifies a majority (if it exists)."
   ]
  },
  {
   "cell_type": "code",
   "execution_count": 9,
   "id": "041cbca0-0485-40d7-ae49-3c4da674d7f5",
   "metadata": {},
   "outputs": [],
   "source": [
    "\"\"\"\n",
    "consider this array [3,5,3,3,3,6,8]\n",
    "n = 7\n",
    "n/2 = 3.5 \n",
    "means\n",
    "we are looking a integer repeated more than 3 times \n",
    "\n",
    "Approach hasing technique\n",
    "\"\"\"\n",
    "\n",
    "def majority(nums):\n",
    "    n = len(nums)/2\n",
    "    dic = {}\n",
    "    for ele in nums:\n",
    "        if ele in dic.keys():\n",
    "            dic[ele] +=1\n",
    "        else:\n",
    "            dic[ele] = 1\n",
    "    \n",
    "    for key, value in dic.items():\n",
    "        if value > n:\n",
    "            return key\n",
    "    return 'No one'"
   ]
  },
  {
   "cell_type": "code",
   "execution_count": 3,
   "id": "22d0fb0c-5649-4eb0-8cce-637328a72aa7",
   "metadata": {},
   "outputs": [
    {
     "data": {
      "text/plain": [
       "3"
      ]
     },
     "execution_count": 3,
     "metadata": {},
     "output_type": "execute_result"
    }
   ],
   "source": [
    "majority([3,5,3,3,3,6,8])"
   ]
  },
  {
   "cell_type": "code",
   "execution_count": 4,
   "id": "d4fbfa67-6366-486d-a5d1-ca3065c7aa59",
   "metadata": {},
   "outputs": [
    {
     "data": {
      "text/plain": [
       "'No one'"
      ]
     },
     "execution_count": 4,
     "metadata": {},
     "output_type": "execute_result"
    }
   ],
   "source": [
    "majority([3,5,3,3,4,6,8])"
   ]
  },
  {
   "cell_type": "code",
   "execution_count": 8,
   "id": "9809d98e-09c3-4438-a908-64209d178bfc",
   "metadata": {},
   "outputs": [
    {
     "data": {
      "text/plain": [
       "8"
      ]
     },
     "execution_count": 8,
     "metadata": {},
     "output_type": "execute_result"
    }
   ],
   "source": [
    "majority([3,5,3,3,4,8,8,8,8,3,8,8,8])"
   ]
  },
  {
   "cell_type": "markdown",
   "id": "fe1a78be-7592-4c6c-a9f7-e8b1b85b0330",
   "metadata": {},
   "source": [
    "9. Given n × n matrix, and in each row all 1’s are followed by 0’s. Find the row with the maximum number of 0’s."
   ]
  },
  {
   "cell_type": "code",
   "execution_count": 14,
   "id": "4610b088-e296-40f0-a0a6-33e1ed00a8f4",
   "metadata": {},
   "outputs": [],
   "source": [
    "\"\"\"\n",
    "array be like  [\n",
    "[1,1,0,0,0,0],\n",
    "[1,0,0,0,0,0],\n",
    "[1,1,1,0,0,0]]\n",
    "\"\"\"\n",
    "\n",
    "def maximum_0s(matrix):\n",
    "    summation = float('inf')\n",
    "    row = 0\n",
    "    for i, rows in enumerate(matrix):\n",
    "        if sum(rows) < summation:\n",
    "            summation = sum(rows)\n",
    "            row = i+1\n",
    "    return row\n",
    "        "
   ]
  },
  {
   "cell_type": "code",
   "execution_count": 15,
   "id": "a34e3540-e8d1-4459-b7e3-a3b97d3e1204",
   "metadata": {},
   "outputs": [
    {
     "data": {
      "text/plain": [
       "3"
      ]
     },
     "execution_count": 15,
     "metadata": {},
     "output_type": "execute_result"
    }
   ],
   "source": [
    "matrix = [\n",
    "[1,1,0,0,0,0],\n",
    "    [1,1,1,0,0,0],\n",
    "    [1,0,0,0,0,0],\n",
    "    [1,1,1,0,0,0]]\n",
    "maximum_0s(matrix)"
   ]
  },
  {
   "cell_type": "markdown",
   "id": "d92783a5-b666-4522-b61e-f495fdfb2e4e",
   "metadata": {},
   "source": [
    "10. Sort an array of 0’s, 1’s and 2’s [or R’s, G’s and B’s]: Given an array A[] consisting of 0’s, 1’s and 2’s, give an algorithm for sorting A[].The algorithm should put all 0’s first, then all 1’s and finally all 2’s at the end. Example Input = {0,1,1,0,1,2,1,2,0,0,0,1}, Output = {0,0,0,0,0,1,1,1,1,1,2,2}"
   ]
  },
  {
   "cell_type": "code",
   "execution_count": 18,
   "id": "e3c86f59-ef8a-4a65-aaf4-49ab20541173",
   "metadata": {},
   "outputs": [],
   "source": [
    "def sort_array(arr):\n",
    "    low = 0  # Pointer for 0s\n",
    "    high = len(arr) - 1  # Pointer for 2s\n",
    "    current = 0  # Current pointer\n",
    "\n",
    "    while current <= high:\n",
    "        if arr[current] == 0:\n",
    "            # Swap current element with the low pointer\n",
    "            arr[current], arr[low] = arr[low], arr[current]\n",
    "            current += 1\n",
    "            low += 1\n",
    "        elif arr[current] == 1:\n",
    "            # Move to the next element\n",
    "            current += 1\n",
    "        else:\n",
    "            # Swap current element with the high pointer\n",
    "            arr[current], arr[high] = arr[high], arr[current]\n",
    "            high -= 1\n",
    "    return arr"
   ]
  },
  {
   "cell_type": "code",
   "execution_count": 19,
   "id": "fef334c0-d95f-44c1-b9db-50e6a3b16531",
   "metadata": {},
   "outputs": [
    {
     "data": {
      "text/plain": [
       "[0, 0, 0, 0, 1, 1, 1, 2, 2]"
      ]
     },
     "execution_count": 19,
     "metadata": {},
     "output_type": "execute_result"
    }
   ],
   "source": [
    "sort_array([0,0,1,2,1,0,2,1,0])"
   ]
  },
  {
   "cell_type": "code",
   "execution_count": null,
   "id": "d17cf7fb-41d8-4764-8e18-599a585db171",
   "metadata": {},
   "outputs": [],
   "source": []
  }
 ],
 "metadata": {
  "kernelspec": {
   "display_name": "Python 3 (ipykernel)",
   "language": "python",
   "name": "python3"
  },
  "language_info": {
   "codemirror_mode": {
    "name": "ipython",
    "version": 3
   },
   "file_extension": ".py",
   "mimetype": "text/x-python",
   "name": "python",
   "nbconvert_exporter": "python",
   "pygments_lexer": "ipython3",
   "version": "3.10.8"
  }
 },
 "nbformat": 4,
 "nbformat_minor": 5
}
