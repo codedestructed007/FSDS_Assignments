{
 "cells": [
  {
   "cell_type": "markdown",
   "id": "0ada5b66-446e-4449-a9cf-743b0d338f96",
   "metadata": {},
   "source": [
    "Problem 1: Bank Account Create a class representing a bank account with attributes like account number, account holder name, and balance. Implement methods to deposit and withdraw money from the account."
   ]
  },
  {
   "cell_type": "code",
   "execution_count": 14,
   "id": "fc39dffa-d67a-4193-847e-bb5e1b1fa6e1",
   "metadata": {},
   "outputs": [],
   "source": [
    "class account:\n",
    "    def __init__(self, account_number , account_holder_name,balance):\n",
    "        self.account_num = account_number,\n",
    "        self.account_name = account_holder_name\n",
    "        self.balance = balance\n",
    "        \n",
    "    def __str__(self):\n",
    "        print(account_number,account_holder_name,balance)\n",
    "        \n",
    "    def deposit_the_amount(self,amount):\n",
    "        self.balance = self.balance + amount\n",
    "        print('Amount {} has been deposited in your bank account,\\nthnaks for using our service'.format(amount))\n",
    "    \n",
    "    def check_balance(self):\n",
    "        print(self.balance)\n",
    "        \n",
    "    def withdraw_the_amount(self,withdraw_amount):\n",
    "        self.balance = self.balance - withdraw_amount\n",
    "        print('Amount {} has been withdrawl'.format(withdraw_amount))"
   ]
  },
  {
   "cell_type": "code",
   "execution_count": 15,
   "id": "65d5c91f-2672-4852-ad63-8f58c8a91091",
   "metadata": {},
   "outputs": [],
   "source": [
    "mukesh = account(54354853485, 'Mukesh',50100)"
   ]
  },
  {
   "cell_type": "code",
   "execution_count": 16,
   "id": "383a2583-376c-46f2-9d9f-df95d6318c4f",
   "metadata": {},
   "outputs": [
    {
     "name": "stdout",
     "output_type": "stream",
     "text": [
      "Amount 4392 has been deposited in your bank account,\n",
      "thnaks for using our service\n"
     ]
    }
   ],
   "source": [
    "mukesh.deposit_the_amount(4392)"
   ]
  },
  {
   "cell_type": "code",
   "execution_count": 17,
   "id": "848f5650-fcec-44a6-bdd0-ef06286db1a8",
   "metadata": {},
   "outputs": [
    {
     "name": "stdout",
     "output_type": "stream",
     "text": [
      "54492\n"
     ]
    }
   ],
   "source": [
    "mukesh.check_balance()"
   ]
  },
  {
   "cell_type": "code",
   "execution_count": 18,
   "id": "1c7ef513-7d2f-4d63-b17c-1839d0cf0905",
   "metadata": {},
   "outputs": [
    {
     "name": "stdout",
     "output_type": "stream",
     "text": [
      "Amount 4392 has been withdrawl\n"
     ]
    }
   ],
   "source": [
    "mukesh.withdraw_the_amount(4392)"
   ]
  },
  {
   "cell_type": "markdown",
   "id": "17c205f9-bd3a-4714-8f81-3b6cb5a736ca",
   "metadata": {},
   "source": [
    "Problem 2: Employee Management Create a class representing an employee with attributes like employee ID, name, and salary. Implement methods to calculate the yearly bonus and display employee details."
   ]
  },
  {
   "cell_type": "code",
   "execution_count": 96,
   "id": "19cb0675-607c-4271-aaba-1badeb2bf9e9",
   "metadata": {},
   "outputs": [],
   "source": [
    "class Employee_management_group:\n",
    "    def __init__(self, employee_ID,name,salary):\n",
    "        self.ID = employee_ID\n",
    "        self.name = name\n",
    "        self.salary = salary\n",
    "    \n",
    "    def employee_details(self):\n",
    "        print('Name {}\\nID {}\\nSalary {}'.format(self.name,self.ID,self.salary))\n",
    "        \n",
    "    def bonus(self):\n",
    "        bonus = self.salary * 0.3\n",
    "        print('Your yearly bonus will be {}'.format(bonus))"
   ]
  },
  {
   "cell_type": "code",
   "execution_count": 97,
   "id": "ea78cdb5-71b5-48bd-ae0e-8c03544530e9",
   "metadata": {},
   "outputs": [],
   "source": [
    "emp = Employee_management_group(23434,'satyam',90000)"
   ]
  },
  {
   "cell_type": "code",
   "execution_count": 98,
   "id": "faa83faf-f1da-440f-977c-dc0c2ce4690a",
   "metadata": {},
   "outputs": [
    {
     "name": "stdout",
     "output_type": "stream",
     "text": [
      "Name satyam\n",
      "ID 23434\n",
      "Salary 90000\n"
     ]
    }
   ],
   "source": [
    "emp.employee_details()"
   ]
  },
  {
   "cell_type": "code",
   "execution_count": 99,
   "id": "229637ab-00c6-4653-9b59-f86498315dc1",
   "metadata": {},
   "outputs": [
    {
     "name": "stdout",
     "output_type": "stream",
     "text": [
      "Your yearly bonus will be 27000.0\n"
     ]
    }
   ],
   "source": [
    "satyam.bonus()"
   ]
  },
  {
   "cell_type": "markdown",
   "id": "c0b6351f-8c1e-4d58-8619-e425df1aeaa9",
   "metadata": {},
   "source": [
    "Problem 3: Vehicle Rental Create a class representing a vehicle rental system. Implement methods to rent a vehicle, return a vehicle, and display available vehicles."
   ]
  },
  {
   "cell_type": "code",
   "execution_count": 54,
   "id": "134a6595-5bae-4833-ae90-f626796db909",
   "metadata": {},
   "outputs": [],
   "source": [
    "class Vehicle_rental_system:\n",
    "    def __init__(self, *available):\n",
    "        self.available = list(available)\n",
    "        \n",
    "    def __str__(self):\n",
    "        return '\\n'.join(self.available)\n",
    "        \n",
    "    def rent_a_vehicle(self,vehicle):\n",
    "        if vehicle in self.available:\n",
    "            \n",
    "            print('You have been opted for {} for rent'.format(vehicle))\n",
    "            self.available.remove(vehicle)\n",
    "        else:\n",
    "            print('Sorry this {} is not available right now'.format(vehicle))\n",
    "        \n",
    "    def return_a_vehicle(self, returning_vehicle):\n",
    "        print('Thanks for returning the {}'.format(returning_vehicle))\n",
    "        self.available.append(returning_vehicle)\n",
    "        \n",
    "    def available_vehicles(self):\n",
    "        for i in self.available:\n",
    "            print(i)\n",
    "        "
   ]
  },
  {
   "cell_type": "code",
   "execution_count": 55,
   "id": "46a7f48f-8c5b-4a21-9f3f-a9159e3e975d",
   "metadata": {},
   "outputs": [
    {
     "name": "stdout",
     "output_type": "stream",
     "text": [
      "mercedes\n",
      "lamborghini\n",
      "bmw\n",
      "mclarean\n"
     ]
    }
   ],
   "source": [
    "obj1 = Vehicle_rental_system('mercedes','lamborghini','bmw','mclarean')\n",
    "print(obj1)\n"
   ]
  },
  {
   "cell_type": "code",
   "execution_count": 56,
   "id": "17582024-ea74-4081-a6ef-3d71f8f41d4d",
   "metadata": {},
   "outputs": [
    {
     "name": "stdout",
     "output_type": "stream",
     "text": [
      "mercedes\n",
      "lamborghini\n",
      "bmw\n",
      "mclarean\n"
     ]
    }
   ],
   "source": [
    "obj1.available_vehicles()"
   ]
  },
  {
   "cell_type": "code",
   "execution_count": 57,
   "id": "e2290fd0-58c2-4d41-9bc9-d10fc6ec29ab",
   "metadata": {},
   "outputs": [
    {
     "name": "stdout",
     "output_type": "stream",
     "text": [
      "Sorry this Bugati is not available right now\n"
     ]
    }
   ],
   "source": [
    "obj1.rent_a_vehicle('Bugati')"
   ]
  },
  {
   "cell_type": "code",
   "execution_count": 58,
   "id": "d4f2a6b5-38f9-4f5f-b8f8-ee85f61d4776",
   "metadata": {},
   "outputs": [
    {
     "name": "stdout",
     "output_type": "stream",
     "text": [
      "You have been opted for mercedes for rent\n"
     ]
    }
   ],
   "source": [
    "obj1.rent_a_vehicle('mercedes')"
   ]
  },
  {
   "cell_type": "code",
   "execution_count": 59,
   "id": "35d56563-ffdf-4649-93a2-f13f3171e13f",
   "metadata": {},
   "outputs": [
    {
     "name": "stdout",
     "output_type": "stream",
     "text": [
      "lamborghini\n",
      "bmw\n",
      "mclarean\n"
     ]
    }
   ],
   "source": [
    "obj1.available_vehicles()"
   ]
  },
  {
   "cell_type": "markdown",
   "id": "ecfac310-2312-4f46-a9e3-7df6b308cb9b",
   "metadata": {},
   "source": [
    "Problem 4: Library Catalog Create classes representing a library and a book. Implement methods to add books to the library, borrow books, and display available books."
   ]
  },
  {
   "cell_type": "code",
   "execution_count": 74,
   "id": "0ae13806-60f9-402e-9ebe-f36133065b9b",
   "metadata": {},
   "outputs": [],
   "source": [
    "class Library:\n",
    "    def __init__(self, *available_books):\n",
    "        self.available_books = list(available_books)\n",
    "        \n",
    "    def __str__(self):\n",
    "        return '\\n'.join(self.available_books)\n",
    "        \n",
    "    def book_added(self,book_name):\n",
    "        self.available_books.append(book_name)\n",
    "        print('{} has been added into stocks'.format(book_name))\n",
    "        \n",
    "    def borrow_book(self,book_name):\n",
    "        if book_name in self.available_books:\n",
    "            self.available_books.remove(book_name)\n",
    "            print('{} has been borrowed'.format(book_name))\n",
    "        else:\n",
    "            print('Sorry this book is not in stock')\n",
    "    def books_availability(self):\n",
    "        print('\\n'.join(self.available_books))"
   ]
  },
  {
   "cell_type": "code",
   "execution_count": 75,
   "id": "21dee458-78f1-4c59-950d-dc2f8679f8f2",
   "metadata": {},
   "outputs": [
    {
     "name": "stdout",
     "output_type": "stream",
     "text": [
      "Essentialism\n",
      "Just keep buying\n",
      "Steve jobs\n",
      "The Alchemist\n"
     ]
    }
   ],
   "source": [
    "obj = Library('Essentialism','Just keep buying','Steve jobs','The Alchemist')\n",
    "print(obj)"
   ]
  },
  {
   "cell_type": "code",
   "execution_count": 76,
   "id": "912f0f65-8fc1-4031-9633-c252a6a335ba",
   "metadata": {},
   "outputs": [
    {
     "name": "stdout",
     "output_type": "stream",
     "text": [
      "Essentialism has been borrowed\n"
     ]
    }
   ],
   "source": [
    "obj.borrow_book('Essentialism')"
   ]
  },
  {
   "cell_type": "code",
   "execution_count": 77,
   "id": "591866bf-3e65-44a0-835c-eee509a2a069",
   "metadata": {},
   "outputs": [
    {
     "name": "stdout",
     "output_type": "stream",
     "text": [
      "Just keep buying\n",
      "Steve jobs\n",
      "The Alchemist\n"
     ]
    }
   ],
   "source": [
    "obj.books_availability()"
   ]
  },
  {
   "cell_type": "markdown",
   "id": "9287e09f-e99c-4a70-8da1-a38cb93ed501",
   "metadata": {},
   "source": [
    "Problem 5: Product Inventory Create classes representing a product and an inventory system. Implement methods to add products to the inventory, update product quantity, and display available products."
   ]
  },
  {
   "cell_type": "code",
   "execution_count": 78,
   "id": "616bfd3c-5f04-42a0-a61a-3b641c4262b5",
   "metadata": {},
   "outputs": [],
   "source": [
    "class Product:\n",
    "    def __init__(self, product_id, name, price, quantity):\n",
    "        self.product_id = product_id\n",
    "        self.name = name\n",
    "        self.price = price\n",
    "        self.quantity = quantity\n",
    "\n",
    "    def __str__(self):\n",
    "        return f\"Product ID: {self.product_id}, Name: {self.name}, Price: ${self.price}, Quantity: {self.quantity}\"\n",
    "\n",
    "class Inventory:\n",
    "    def __init__(self):\n",
    "        self.products = []\n",
    "\n",
    "    def add_product(self, product):\n",
    "        self.products.append(product)\n",
    "\n",
    "    def update_quantity(self, product_id, new_quantity):\n",
    "        for product in self.products:\n",
    "            if product.product_id == product_id:\n",
    "                product.quantity = new_quantity\n",
    "                return True  # Product found and quantity updated\n",
    "        return False  # Product not found\n",
    "\n",
    "    def display_available_products(self):\n",
    "        print(\"Available Products:\")\n",
    "        for product in self.products:\n",
    "            if product.quantity > 0:\n",
    "                print(product)\n"
   ]
  },
  {
   "cell_type": "code",
   "execution_count": 79,
   "id": "d037c7d8-56bc-4b20-b18a-0e6cbfa2bab0",
   "metadata": {},
   "outputs": [],
   "source": [
    "\n",
    "inventory_system = Inventory()"
   ]
  },
  {
   "cell_type": "code",
   "execution_count": 81,
   "id": "12144aab-b5d4-424f-bf68-db787adfa693",
   "metadata": {},
   "outputs": [
    {
     "name": "stdout",
     "output_type": "stream",
     "text": [
      "Available Products:\n",
      "Product ID: 1, Name: Widget, Price: $10.99, Quantity: 50\n",
      "Product ID: 2, Name: Gadget, Price: $19.99, Quantity: 30\n"
     ]
    }
   ],
   "source": [
    "\n",
    "product1 = Product(1, \"Widget\", 10.99, 50)\n",
    "product2 = Product(2, \"Gadget\", 19.99, 30)\n",
    "\n",
    "inventory_system.add_product(product1)\n",
    "inventory_system.add_product(product2)\n",
    "\n",
    "inventory_system.display_available_products()\n",
    "\n"
   ]
  },
  {
   "cell_type": "markdown",
   "id": "52354d07-03f4-4933-89a8-484cbb9c7732",
   "metadata": {},
   "source": [
    "Problem 6: Shape Calculation Create a class representing a shape with attributes like length, width, and height. Implement methods to calculate the area and perimeter of the shape."
   ]
  },
  {
   "cell_type": "code",
   "execution_count": 86,
   "id": "8ad499ef-f7f9-4033-bb26-0693d92e34cd",
   "metadata": {},
   "outputs": [
    {
     "name": "stdout",
     "output_type": "stream",
     "text": [
      "Volume: 30\n",
      "Perimeter: 20\n"
     ]
    }
   ],
   "source": [
    "class Orientation:\n",
    "    def __init__(self, length: int, width: int, height: int):\n",
    "        self.length = length\n",
    "        self.width = width\n",
    "        self.height = height\n",
    "\n",
    "    def volume(self):\n",
    "        return self.length * self.width * self.height\n",
    "\n",
    "    def perimeter(self):\n",
    "        return 2 * (self.length + self.width + self.height)\n",
    "\n",
    "# Example usage:\n",
    "box = Orientation(5, 3, 2)\n",
    "print(\"Volume:\", box.volume())\n",
    "print(\"Perimeter:\", box.perimeter())\n",
    "\n"
   ]
  },
  {
   "cell_type": "markdown",
   "id": "8f7775e0-5fc5-41bf-89b4-c7923f390bbb",
   "metadata": {},
   "source": [
    "Problem 7: Student Management Create a class representing a student with attributes like student ID, name, and grades. Implement methods to calculate the average grade and display student details."
   ]
  },
  {
   "cell_type": "code",
   "execution_count": 92,
   "id": "f7c45a74-ab48-4831-b040-887d895c00bb",
   "metadata": {},
   "outputs": [],
   "source": [
    "class Student_grade_system:\n",
    "    def __init__(self,student_ID,name,*grades):\n",
    "        self.id = student_ID\n",
    "        self.name = name\n",
    "        self.grades = grades\n",
    "    \n",
    "    def average_score(self):\n",
    "        print(sum(self.grades) / len(self.grades))\n",
    "        \n",
    "    def student_details(self):\n",
    "        print(self.name,self.id,self.grades)\n",
    "    "
   ]
  },
  {
   "cell_type": "code",
   "execution_count": 93,
   "id": "78eeef6e-6456-4cce-aa35-f633dec13405",
   "metadata": {},
   "outputs": [],
   "source": [
    "std1 = Student_grade_system(102,'satyam',90,89,93,95,72)"
   ]
  },
  {
   "cell_type": "code",
   "execution_count": 94,
   "id": "c111cf37-c039-4c96-a62e-a9db573d5331",
   "metadata": {},
   "outputs": [
    {
     "name": "stdout",
     "output_type": "stream",
     "text": [
      "87.8\n"
     ]
    }
   ],
   "source": [
    "std1.average_score()"
   ]
  },
  {
   "cell_type": "code",
   "execution_count": 95,
   "id": "42031b8d-3cd1-43bf-97e2-17ea72fd662f",
   "metadata": {},
   "outputs": [
    {
     "name": "stdout",
     "output_type": "stream",
     "text": [
      "satyam 102 (90, 89, 93, 95, 72)\n"
     ]
    }
   ],
   "source": [
    "std1.student_details()"
   ]
  },
  {
   "cell_type": "markdown",
   "id": "dc6ad835-cb22-4e26-a280-699d32587068",
   "metadata": {},
   "source": [
    "Problem 8: Email Management Create a class representing an email with attributes like sender, recipient, and subject. Implement methods to send an email and display email details."
   ]
  },
  {
   "cell_type": "code",
   "execution_count": 124,
   "id": "c53177fb-9a14-49ec-a4e8-07a104899c41",
   "metadata": {},
   "outputs": [],
   "source": [
    "class Email_management:\n",
    "    def __init__(self,sender,recipient, subject):\n",
    "        self.sender = sender\n",
    "        self.recipient = recipient\n",
    "        self.subject = subject\n",
    "        \n",
    "    def send_email(self , message):\n",
    "        print('Sending your message - {}\\nmail to {}......'.format(message , self.recipient))\n",
    "        print('Message sent')\n",
    "    \n",
    "    def display_details(self):\n",
    "        print(self.sender,'\\n', self.recipient,'\\n',self.subject)"
   ]
  },
  {
   "cell_type": "code",
   "execution_count": 125,
   "id": "38a27248-1814-49b4-be61-09176d123058",
   "metadata": {},
   "outputs": [],
   "source": [
    "ob1 = Email_management('saytam','mukesh','Regarding the loan')"
   ]
  },
  {
   "cell_type": "code",
   "execution_count": 126,
   "id": "7c89599f-1304-4f1a-8917-2cb8e7d2e039",
   "metadata": {},
   "outputs": [
    {
     "name": "stdout",
     "output_type": "stream",
     "text": [
      "Sending your message - Heyy, How aer you doing\n",
      "mail to mukesh......\n",
      "Message sent\n"
     ]
    }
   ],
   "source": [
    "ob1.send_email('Heyy, How aer you doing')"
   ]
  },
  {
   "cell_type": "code",
   "execution_count": 127,
   "id": "6b3f79d0-7d16-4447-99c5-a95089547a47",
   "metadata": {},
   "outputs": [
    {
     "name": "stdout",
     "output_type": "stream",
     "text": [
      "saytam \n",
      " mukesh \n",
      " Regarding the loan\n"
     ]
    }
   ],
   "source": [
    "ob1.display_details()"
   ]
  },
  {
   "cell_type": "markdown",
   "id": "cf474838-1679-4221-9ceb-5efe9effcc93",
   "metadata": {},
   "source": [
    "Problem 9: Social Media Profile Create a class representing a social media profile with attributes like username and posts. Implement methods to add posts, display posts, and search for posts by keyword."
   ]
  },
  {
   "cell_type": "code",
   "execution_count": 132,
   "id": "976edfe6-cfd1-40f7-a283-634756fda3ed",
   "metadata": {},
   "outputs": [],
   "source": [
    "class Insta:\n",
    "    def __init__(self,username:str,post:str):\n",
    "        self.username = username\n",
    "        self.post = post\n",
    "        \n",
    "    def add_post(self,post):\n",
    "        self.post  = self.post +'\\n'+post\n",
    "        \n",
    "    def display_posts(self):\n",
    "        for number ,i in enumerate(self.post.split('\\n')):\n",
    "            print('Post number {} - {}'.format(number + 1 , i))\n",
    "        \n",
    "    def search_posts(self,item):\n",
    "        for number,  i in enumerate(self.post.split('\\n')):\n",
    "            if item in i.split():\n",
    "                print('Your searched post is found with {} keyword\\nAnd It is in your post number {}'.format(item,number+1))"
   ]
  },
  {
   "cell_type": "code",
   "execution_count": 133,
   "id": "ab830df3-5685-46a3-8086-c198b705a438",
   "metadata": {},
   "outputs": [],
   "source": [
    "user1 = Insta('satyam@434','Hello this is my first post on insta\\nTell me how are you doing guys')"
   ]
  },
  {
   "cell_type": "code",
   "execution_count": 134,
   "id": "3d7fe5b5-c8e5-4398-bd05-a0875dd0206e",
   "metadata": {},
   "outputs": [
    {
     "name": "stdout",
     "output_type": "stream",
     "text": [
      "Your searched post is found with post keyword\n",
      "And It is in your post number 1\n"
     ]
    }
   ],
   "source": [
    "user1.search_posts('post')"
   ]
  },
  {
   "cell_type": "code",
   "execution_count": 135,
   "id": "ab3877d3-2a4a-4755-81db-63aea53aa73b",
   "metadata": {},
   "outputs": [
    {
     "name": "stdout",
     "output_type": "stream",
     "text": [
      "Post number 1 - Hello this is my first post on insta\n",
      "Post number 2 - Tell me how are you doing guys\n"
     ]
    }
   ],
   "source": [
    "user1.display_posts()"
   ]
  },
  {
   "cell_type": "markdown",
   "id": "c6c124d5-44fd-4e2b-92b9-fafe03737ec0",
   "metadata": {},
   "source": [
    "Problem 10: ToDo List Create a class representing a ToDo list with attributes like tasks and due dates. Implement methods to add tasks, mark tasks as completed, and display pending tasks."
   ]
  },
  {
   "cell_type": "code",
   "execution_count": 137,
   "id": "70db76db-0c05-4ebd-9e93-ebd3598ada77",
   "metadata": {},
   "outputs": [
    {
     "name": "stdout",
     "output_type": "stream",
     "text": [
      "Task 1: Buy groceries\n",
      "Task 3: Go to the gym\n"
     ]
    }
   ],
   "source": [
    "class TO_DO_list:\n",
    "    def __init__(self, due_date):\n",
    "        self.task = {}  # Initialize an empty dictionary to store tasks\n",
    "        self.due_date = due_date\n",
    "        \n",
    "    def add_task(self, task, status=\"pending\"):\n",
    "        self.task[len(self.task) + 1] = {\"task\": task, \"status\": status}\n",
    "        \n",
    "    def mark_task(self, task_number):\n",
    "        if task_number in self.task:\n",
    "            self.task[task_number][\"status\"] = 'completed'\n",
    "        \n",
    "    def pending_tasks(self):\n",
    "        for number, task_info in self.task.items():\n",
    "            if task_info[\"status\"] == 'completed':\n",
    "                continue\n",
    "            print(f'Task {number}: {task_info[\"task\"]}')\n",
    "\n",
    "# Example usage:\n",
    "to_do = TO_DO_list(\"2023-10-15\")\n",
    "\n",
    "to_do.add_task(\"Buy groceries\")\n",
    "to_do.add_task(\"Finish the report\")\n",
    "to_do.add_task(\"Go to the gym\")\n",
    "\n",
    "to_do.mark_task(2)\n",
    "\n",
    "to_do.pending_tasks()\n"
   ]
  },
  {
   "cell_type": "code",
   "execution_count": null,
   "id": "5291f533-acf0-4468-b726-5cb23c5096ff",
   "metadata": {},
   "outputs": [],
   "source": []
  }
 ],
 "metadata": {
  "kernelspec": {
   "display_name": "Python 3 (ipykernel)",
   "language": "python",
   "name": "python3"
  },
  "language_info": {
   "codemirror_mode": {
    "name": "ipython",
    "version": 3
   },
   "file_extension": ".py",
   "mimetype": "text/x-python",
   "name": "python",
   "nbconvert_exporter": "python",
   "pygments_lexer": "ipython3",
   "version": "3.10.8"
  }
 },
 "nbformat": 4,
 "nbformat_minor": 5
}
