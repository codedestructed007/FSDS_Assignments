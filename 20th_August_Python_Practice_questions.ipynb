{
 "cells": [
  {
   "cell_type": "markdown",
   "id": "8de07c3a-b2bb-4d6c-b447-52ed1f69e7ae",
   "metadata": {},
   "source": [
    "## String Based Assignment Problem"
   ]
  },
  {
   "cell_type": "markdown",
   "id": "252cba39-10f1-4b34-927c-3ace4040f23a",
   "metadata": {},
   "source": [
    "1. Write a program to reverse a string"
   ]
  },
  {
   "cell_type": "raw",
   "id": "0ec28b08-e18d-4902-8ce5-c0dfecdee3d0",
   "metadata": {},
   "source": [
    "Fixing this input through the practice problems\n",
    "\n",
    "\"\"\"will only change when there is a specific demand that\n",
    "can not be fullfilled with this string\"\"\"\n",
    "\n",
    "name = 'satyam'"
   ]
  },
  {
   "cell_type": "code",
   "execution_count": 73,
   "id": "b11729dd-6087-40bc-80f1-56784f19c9b1",
   "metadata": {},
   "outputs": [
    {
     "name": "stdout",
     "output_type": "stream",
     "text": [
      "maytas\n"
     ]
    }
   ],
   "source": [
    "name = 'satyam'\n",
    "#reverse string\n",
    "print(name[::-1])"
   ]
  },
  {
   "cell_type": "markdown",
   "id": "1c064492-1ac6-4706-a2e2-57d3b74b4620",
   "metadata": {},
   "source": [
    "2. Check if a string is a palindrome."
   ]
  },
  {
   "cell_type": "code",
   "execution_count": 74,
   "id": "e53208c1-8743-4c0e-9a56-3ef10a5e1873",
   "metadata": {},
   "outputs": [
    {
     "name": "stdout",
     "output_type": "stream",
     "text": [
      "Yes! satyam is a palindrome \n"
     ]
    }
   ],
   "source": [
    "string = 'racecar'\n",
    "if string == string[::-1]:## ::-1 is for reverse strin\n",
    "    print('Yes! {} is a palindrome '.format(name))\n",
    "else:\n",
    "    print('No, It is not a palindrome')\n"
   ]
  },
  {
   "cell_type": "markdown",
   "id": "0941e7c6-6ff9-488b-bc10-c86b8686c70f",
   "metadata": {},
   "source": [
    "3. Convert a string to uppercase"
   ]
  },
  {
   "cell_type": "code",
   "execution_count": 75,
   "id": "cca8d0d1-1bf4-49c3-84df-ed66c9b24a93",
   "metadata": {},
   "outputs": [
    {
     "name": "stdout",
     "output_type": "stream",
     "text": [
      "satyam in UPPERCASE SATYAM\n"
     ]
    }
   ],
   "source": [
    "print('{} in UPPERCASE {}'.format(name,name.upper()))"
   ]
  },
  {
   "cell_type": "markdown",
   "id": "53426e01-bff1-43b1-b0c4-66781f1fdca3",
   "metadata": {},
   "source": [
    "4. Convert a string to lowercase"
   ]
  },
  {
   "cell_type": "code",
   "execution_count": 76,
   "id": "87ae02dc-83fe-4df4-b198-9e4615c62a6d",
   "metadata": {},
   "outputs": [
    {
     "name": "stdout",
     "output_type": "stream",
     "text": [
      "SATYAM in lowercase is satyam\n"
     ]
    }
   ],
   "source": [
    "string = 'SATYAM'\n",
    "print('{} in lowercase is {}'.format(string, string.lower()))"
   ]
  },
  {
   "cell_type": "markdown",
   "id": "16ed66eb-e373-4d1d-ba47-643e94aed9a0",
   "metadata": {},
   "source": [
    "5. Count the number of vowels in a string"
   ]
  },
  {
   "cell_type": "code",
   "execution_count": 77,
   "id": "cf16b580-f4cb-4b35-8e37-43c8b181d426",
   "metadata": {},
   "outputs": [
    {
     "data": {
      "text/plain": [
       "9"
      ]
     },
     "execution_count": 77,
     "metadata": {},
     "output_type": "execute_result"
    }
   ],
   "source": [
    "string = 'hello my name is satyam sharma'\n",
    "\n",
    "## relaced with a random string say'#'\n",
    "replaced_string = string.replace('a','#').replace('i','#').replace('e','#').replace('o','#').replace('u','#')\n",
    "replaced_string.count('#')\n"
   ]
  },
  {
   "cell_type": "markdown",
   "id": "3a05b9d8-6fc2-4cfe-9767-170a2bd6b105",
   "metadata": {},
   "source": [
    "6. Count the number of consonants in a string"
   ]
  },
  {
   "cell_type": "code",
   "execution_count": 78,
   "id": "b80f97e7-237c-4e33-ba27-6965443ca7f2",
   "metadata": {},
   "outputs": [
    {
     "name": "stdout",
     "output_type": "stream",
     "text": [
      "total consonants 16\n"
     ]
    }
   ],
   "source": [
    "## logic = total length - vowels\n",
    "## make sure to remove all the whitespaces\n",
    "\n",
    "without_space_string = string.replace(' ','')\n",
    "total_length = len(without_space_string)\n",
    "replaced_string = without_space_string.replace('a','#').replace('i','#').replace('e','#').replace('o','#').replace('u','#')\n",
    "\n",
    "vowels = replaced_string.count('#')\n",
    "print('total consonants', total_length-vowels)"
   ]
  },
  {
   "cell_type": "markdown",
   "id": "c5383fa9-fae8-4191-b043-37ddb6682c49",
   "metadata": {},
   "source": [
    "7. Remove all whitespaces from a string"
   ]
  },
  {
   "cell_type": "code",
   "execution_count": 79,
   "id": "7073fea0-be19-4bff-821a-a8ae1fc2a576",
   "metadata": {},
   "outputs": [
    {
     "data": {
      "text/plain": [
       "'HellomynameisSatyamsharma'"
      ]
     },
     "execution_count": 79,
     "metadata": {},
     "output_type": "execute_result"
    }
   ],
   "source": [
    "string = 'Hello my name is Satyam sharma'\n",
    "string.replace(' ','')"
   ]
  },
  {
   "cell_type": "markdown",
   "id": "095dcd4f-ed98-46af-a9c8-cf249a1bf586",
   "metadata": {},
   "source": [
    "8. Find the length of a string without using the 'len()' function"
   ]
  },
  {
   "cell_type": "code",
   "execution_count": 80,
   "id": "a570847f-18ba-4640-b644-e87efb05c09d",
   "metadata": {},
   "outputs": [
    {
     "name": "stdout",
     "output_type": "stream",
     "text": [
      "6\n"
     ]
    }
   ],
   "source": [
    "## Using for loop\n",
    "def custom_len(sequence):\n",
    "    count = 0\n",
    "    for element in sequence:\n",
    "        count += 1\n",
    "    return count\n",
    "\n",
    "\n",
    "print(custom_len('satyam'))\n"
   ]
  },
  {
   "cell_type": "markdown",
   "id": "6035f38d-8e2c-476a-bf30-e8a97daefb85",
   "metadata": {},
   "source": [
    "*Plese share the approach with me if there is any other way to do this problem..\n",
    "The only way I could do this problem is by the using function*"
   ]
  },
  {
   "cell_type": "markdown",
   "id": "2494f4ea-243d-4796-9b78-8686872ce93b",
   "metadata": {},
   "source": [
    "9. Check if a string contains a specific word."
   ]
  },
  {
   "cell_type": "code",
   "execution_count": 83,
   "id": "0f1ad43f-2aab-475f-8524-03291ab2ab88",
   "metadata": {},
   "outputs": [
    {
     "name": "stdout",
     "output_type": "stream",
     "text": [
      "yes 'is' is in the string [hello my name is satyam sharma]\n"
     ]
    }
   ],
   "source": [
    "name= 'is'\n",
    "sent='hello my name is satyam sharma'\n",
    "if name in sent:\n",
    "    print(\"yes '{}' is in the string [{}]\".format(name,sent))\n",
    "else:\n",
    "    print('No')"
   ]
  },
  {
   "cell_type": "markdown",
   "id": "6339f9ae-9dec-4c8f-9ec0-dc0f95c8742c",
   "metadata": {},
   "source": [
    "10. Replace a word in a string with another word"
   ]
  },
  {
   "cell_type": "code",
   "execution_count": 84,
   "id": "4bd91494-9ec9-482e-ae4c-29639c66f344",
   "metadata": {},
   "outputs": [
    {
     "data": {
      "text/plain": [
       "'hello my name james bond satyam sharma'"
      ]
     },
     "execution_count": 84,
     "metadata": {},
     "output_type": "execute_result"
    }
   ],
   "source": [
    "sent.replace(name,'james bond')"
   ]
  },
  {
   "cell_type": "markdown",
   "id": "93d78f64-52c8-43ef-abff-0868b2aa3641",
   "metadata": {},
   "source": [
    "11. Count the occurrences of a word in a string"
   ]
  },
  {
   "cell_type": "code",
   "execution_count": 85,
   "id": "29d3db90-90dd-46fb-8865-5c17afc7651b",
   "metadata": {},
   "outputs": [
    {
     "data": {
      "text/plain": [
       "5"
      ]
     },
     "execution_count": 85,
     "metadata": {},
     "output_type": "execute_result"
    }
   ],
   "source": [
    "sent.count('a')"
   ]
  },
  {
   "cell_type": "markdown",
   "id": "029b95d6-fa5c-4151-a440-c6f452a47bcc",
   "metadata": {
    "tags": []
   },
   "source": [
    "12. Find the first occurrence of a word in a string"
   ]
  },
  {
   "cell_type": "code",
   "execution_count": 86,
   "id": "86f1151f-b294-466c-b759-14afe696696c",
   "metadata": {},
   "outputs": [
    {
     "data": {
      "text/plain": [
       "1"
      ]
     },
     "execution_count": 86,
     "metadata": {},
     "output_type": "execute_result"
    }
   ],
   "source": [
    "name = 'satyam'\n",
    "name.find('a')"
   ]
  },
  {
   "cell_type": "markdown",
   "id": "14e7aa32-9aab-4f3c-9e5c-6e35ef30dc11",
   "metadata": {},
   "source": [
    "13. Find the last occurrence of a word in a string"
   ]
  },
  {
   "cell_type": "code",
   "execution_count": 87,
   "id": "bf849c5b-1666-4a25-98c8-f8e77b7264e4",
   "metadata": {},
   "outputs": [
    {
     "data": {
      "text/plain": [
       "4"
      ]
     },
     "execution_count": 87,
     "metadata": {},
     "output_type": "execute_result"
    }
   ],
   "source": [
    "name.rfind('a')"
   ]
  },
  {
   "cell_type": "markdown",
   "id": "76509675-b085-4bd3-b4a9-223bec11ebdc",
   "metadata": {},
   "source": [
    "14. Split a string into a list words"
   ]
  },
  {
   "cell_type": "code",
   "execution_count": 88,
   "id": "f7ed7471-0fa3-473a-89bb-1fea732ab356",
   "metadata": {},
   "outputs": [
    {
     "data": {
      "text/plain": [
       "['hello', 'my', 'name', 'is', 'satyam', 'sharma']"
      ]
     },
     "execution_count": 88,
     "metadata": {},
     "output_type": "execute_result"
    }
   ],
   "source": [
    "sent.split()"
   ]
  },
  {
   "cell_type": "markdown",
   "id": "719cffbe-c991-4c26-a42e-35cf0e05eb7a",
   "metadata": {},
   "source": [
    "15. Join a list of words into string"
   ]
  },
  {
   "cell_type": "code",
   "execution_count": 89,
   "id": "da28635d-0fdf-434c-929f-7f72426b8d05",
   "metadata": {},
   "outputs": [
    {
     "name": "stdout",
     "output_type": "stream",
     "text": [
      "['hello', 'my', 'name', 'is', 'satyam', 'sharma']\n"
     ]
    },
    {
     "data": {
      "text/plain": [
       "'hellomynameissatyamsharma'"
      ]
     },
     "execution_count": 89,
     "metadata": {},
     "output_type": "execute_result"
    }
   ],
   "source": [
    "list_sent = sent.split()\n",
    "print(list_sent)\n",
    "''.join(list_sent)"
   ]
  },
  {
   "cell_type": "markdown",
   "id": "870fd1e2-8500-41a8-aa18-a44464a31242",
   "metadata": {},
   "source": [
    "16. Convert a string where words are seperated by spaces to one where words are separeted by underscores"
   ]
  },
  {
   "cell_type": "code",
   "execution_count": 90,
   "id": "d521eebf-d856-4989-ab30-0ed7a1b9e83e",
   "metadata": {},
   "outputs": [
    {
     "name": "stdout",
     "output_type": "stream",
     "text": [
      "original sentence  - \n",
      " hello my name is satyam sharma\n",
      "Replaced sentence - \n",
      "\n"
     ]
    },
    {
     "data": {
      "text/plain": [
       "'hello_my_name_is_satyam_sharma'"
      ]
     },
     "execution_count": 90,
     "metadata": {},
     "output_type": "execute_result"
    }
   ],
   "source": [
    "print('original sentence  - \\n',sent)\n",
    "print('Replaced sentence - \\n')\n",
    "sent.replace(' ' ,'_')"
   ]
  },
  {
   "cell_type": "markdown",
   "id": "e16c51d5-5a0f-4fac-9b4d-45fa4f0e3a8c",
   "metadata": {},
   "source": [
    "17. Check if a string starts with a specific word or phase"
   ]
  },
  {
   "cell_type": "code",
   "execution_count": 91,
   "id": "2c601d8c-cec2-496b-8194-b3815fb2d051",
   "metadata": {},
   "outputs": [
    {
     "data": {
      "text/plain": [
       "True"
      ]
     },
     "execution_count": 91,
     "metadata": {},
     "output_type": "execute_result"
    }
   ],
   "source": [
    "name.startswith('s')"
   ]
  },
  {
   "cell_type": "markdown",
   "id": "1aeb7a8f-9cd3-434c-883c-be7cf991b20c",
   "metadata": {},
   "source": [
    "18. Check if a string ends with a specific word or phase"
   ]
  },
  {
   "cell_type": "code",
   "execution_count": 92,
   "id": "dfb3f867-fc33-4567-addd-f7599762e39b",
   "metadata": {},
   "outputs": [
    {
     "data": {
      "text/plain": [
       "True"
      ]
     },
     "execution_count": 92,
     "metadata": {},
     "output_type": "execute_result"
    }
   ],
   "source": [
    "name.endswith('m')"
   ]
  },
  {
   "cell_type": "markdown",
   "id": "a7d1c885-b20d-46ad-9ee5-34833520f85e",
   "metadata": {},
   "source": [
    "19. Convert a string to title case"
   ]
  },
  {
   "cell_type": "code",
   "execution_count": 93,
   "id": "951c31d7-7fba-43c5-8bab-f02ef886dde3",
   "metadata": {},
   "outputs": [
    {
     "name": "stdout",
     "output_type": "stream",
     "text": [
      "hello my name is satyam sharma\n"
     ]
    },
    {
     "data": {
      "text/plain": [
       "'Hello My Name Is Satyam Sharma'"
      ]
     },
     "execution_count": 93,
     "metadata": {},
     "output_type": "execute_result"
    }
   ],
   "source": [
    "print(sent)\n",
    "\n",
    "#converted into title case\n",
    "sent.title()"
   ]
  },
  {
   "cell_type": "markdown",
   "id": "fb78ee6d-9b8b-4051-9f37-28b950d88647",
   "metadata": {},
   "source": [
    "20. Find longest word in a string"
   ]
  },
  {
   "cell_type": "code",
   "execution_count": 94,
   "id": "eea25766-8cf0-4854-89b8-192d05e5bc57",
   "metadata": {},
   "outputs": [
    {
     "data": {
      "text/plain": [
       "'sharma'"
      ]
     },
     "execution_count": 94,
     "metadata": {},
     "output_type": "execute_result"
    }
   ],
   "source": [
    "list_sent = sent.split()\n",
    "max(list_sent)"
   ]
  },
  {
   "cell_type": "markdown",
   "id": "eae452de-d15e-41ae-bd0c-f3cbd588ec1b",
   "metadata": {},
   "source": [
    "21. Find the shortest word in string"
   ]
  },
  {
   "cell_type": "code",
   "execution_count": 95,
   "id": "50b6ff9c-fbd9-402a-b996-bdcdcac528ac",
   "metadata": {},
   "outputs": [
    {
     "data": {
      "text/plain": [
       "'hello'"
      ]
     },
     "execution_count": 95,
     "metadata": {},
     "output_type": "execute_result"
    }
   ],
   "source": [
    "min(list_sent)"
   ]
  },
  {
   "cell_type": "markdown",
   "id": "6be57038-be9a-4103-b76a-03bb514b9d1c",
   "metadata": {},
   "source": [
    "22. Reverse the order of words in a string "
   ]
  },
  {
   "cell_type": "code",
   "execution_count": 96,
   "id": "f86459ce-7142-4011-8e91-4439185564b7",
   "metadata": {},
   "outputs": [
    {
     "data": {
      "text/plain": [
       "'amrahs maytas si eman ym olleh'"
      ]
     },
     "execution_count": 96,
     "metadata": {},
     "output_type": "execute_result"
    }
   ],
   "source": [
    "sent[::-1]"
   ]
  },
  {
   "cell_type": "markdown",
   "id": "67540e9b-beb1-46db-9767-8ace67d51e5c",
   "metadata": {},
   "source": [
    "23. Check if a strnig is alphanumeric"
   ]
  },
  {
   "cell_type": "code",
   "execution_count": 97,
   "id": "dc1ee993-be21-49a3-a5e4-a7ecc768059d",
   "metadata": {},
   "outputs": [
    {
     "data": {
      "text/plain": [
       "True"
      ]
     },
     "execution_count": 97,
     "metadata": {},
     "output_type": "execute_result"
    }
   ],
   "source": [
    "name.isalnum()"
   ]
  },
  {
   "cell_type": "markdown",
   "id": "8d2c387f-c891-4ced-bed6-82aac3d49c18",
   "metadata": {},
   "source": [
    "24. Extract all digits from a string"
   ]
  },
  {
   "cell_type": "code",
   "execution_count": 98,
   "id": "4820de5f-652b-4928-8d82-d2e45df95748",
   "metadata": {},
   "outputs": [
    {
     "name": "stdout",
     "output_type": "stream",
     "text": [
      "007\n"
     ]
    }
   ],
   "source": [
    "## filter(function , iterable)\n",
    "## does not return direct ouput\n",
    "string = 'satyam007'\n",
    "digits = \"\".join(filter(str.isnumeric, string))\n",
    "print(digits)"
   ]
  },
  {
   "cell_type": "markdown",
   "id": "951c1928-46cc-4d31-8fb9-2ac46d8decf1",
   "metadata": {},
   "source": [
    "25. Extract all aphabets from a string"
   ]
  },
  {
   "cell_type": "code",
   "execution_count": 99,
   "id": "a61f37f9-1af6-4369-8d22-b9cf54c24574",
   "metadata": {},
   "outputs": [
    {
     "name": "stdout",
     "output_type": "stream",
     "text": [
      "satyam\n"
     ]
    }
   ],
   "source": [
    "string = 'satyam007'\n",
    "digits = \"\".join(filter(str.isalpha, string))\n",
    "print(digits)"
   ]
  },
  {
   "cell_type": "code",
   "execution_count": 100,
   "id": "6b5cbf23-1d86-445c-9e4d-fbfd9da227ae",
   "metadata": {},
   "outputs": [
    {
     "data": {
      "text/plain": [
       "['s', 'a', 't', 'y', 'a', 'm']"
      ]
     },
     "execution_count": 100,
     "metadata": {},
     "output_type": "execute_result"
    }
   ],
   "source": [
    "## We can also print the desired ouput in the form of list\n",
    "list(filter(lambda x : x if x.isalpha() else None , string))"
   ]
  },
  {
   "cell_type": "markdown",
   "id": "eb228489-fa87-4bb7-ab91-63d661c2fd02",
   "metadata": {},
   "source": [
    "26. Count the number of uppercase letters in a string"
   ]
  },
  {
   "cell_type": "code",
   "execution_count": 101,
   "id": "79661cee-a853-4461-8ed4-faf8d5ea5266",
   "metadata": {},
   "outputs": [
    {
     "name": "stdout",
     "output_type": "stream",
     "text": [
      "3\n"
     ]
    }
   ],
   "source": [
    "## Approach 1st\n",
    "\n",
    "string = 'satTYAm'\n",
    "uppercase = \"\".join(filter(str.isupper, string))\n",
    "print(len(uppercase))"
   ]
  },
  {
   "cell_type": "code",
   "execution_count": 102,
   "id": "1b2e7876-a0e0-4c23-aced-abb8f478e7e1",
   "metadata": {},
   "outputs": [
    {
     "name": "stdout",
     "output_type": "stream",
     "text": [
      "3\n"
     ]
    }
   ],
   "source": [
    "## Approach 2nd\n",
    "\n",
    "## remove uppercase letters and take the difference of the lengths\n",
    "## maketrans creates a mapping table\n",
    "\n",
    "#translate do that action\n",
    "##maketrans('string for replacement','string replacement with','string')\n",
    "import string\n",
    "string2 = 'saTYAm'\n",
    "mapping = str.maketrans('','',string.ascii_uppercase)\n",
    "removed_upper_letters=string2.translate(mapping)\n",
    "print(len(string2) - len(removed_upper_letters))\n"
   ]
  },
  {
   "cell_type": "markdown",
   "id": "12d21990-8653-4883-a09d-087b97c718ba",
   "metadata": {},
   "source": [
    "27. Count the number of lowercase letters in a string"
   ]
  },
  {
   "cell_type": "code",
   "execution_count": 103,
   "id": "ec5c0d40-8d87-45a3-8be7-6322468c602c",
   "metadata": {},
   "outputs": [
    {
     "data": {
      "text/plain": [
       "4"
      ]
     },
     "execution_count": 103,
     "metadata": {},
     "output_type": "execute_result"
    }
   ],
   "source": [
    "## will follow same 1st approach\n",
    "string = 'satyAM'\n",
    "len(\"\".join(filter(str.islower, string)))\n"
   ]
  },
  {
   "cell_type": "markdown",
   "id": "f571d397-9171-44f4-9f6d-479279a9f9d4",
   "metadata": {},
   "source": [
    "28. Swap the case of each character in a string"
   ]
  },
  {
   "cell_type": "code",
   "execution_count": 104,
   "id": "ae42013d-1b55-47d4-b480-d9fd84695168",
   "metadata": {},
   "outputs": [
    {
     "data": {
      "text/plain": [
       "'MY namE iS satyAM SHaRma'"
      ]
     },
     "execution_count": 104,
     "metadata": {},
     "output_type": "execute_result"
    }
   ],
   "source": [
    "string = 'my NAMe Is SATYam shArMA'\n",
    "string.swapcase()"
   ]
  },
  {
   "cell_type": "markdown",
   "id": "a0e5328d-f18c-4c10-8ade-1baf75dfb432",
   "metadata": {},
   "source": [
    "29. Remove a specific word from a string"
   ]
  },
  {
   "cell_type": "code",
   "execution_count": 105,
   "id": "a345f4fa-2b2c-4b50-98b2-4f89ee62d268",
   "metadata": {},
   "outputs": [
    {
     "data": {
      "text/plain": [
       "'atyam'"
      ]
     },
     "execution_count": 105,
     "metadata": {},
     "output_type": "execute_result"
    }
   ],
   "source": [
    "## Without string function use\n",
    "string = 'satyam'\n",
    "removing_word  = 's'\n",
    "mapping = str.maketrans('','',removing_word)\n",
    "string.translate(mapping)"
   ]
  },
  {
   "cell_type": "code",
   "execution_count": 106,
   "id": "a25a653b-812d-4942-a5d8-4e544cd1e3cf",
   "metadata": {},
   "outputs": [
    {
     "data": {
      "text/plain": [
       "'atyam'"
      ]
     },
     "execution_count": 106,
     "metadata": {},
     "output_type": "execute_result"
    }
   ],
   "source": [
    "## With string function - .replace()\n",
    "string.replace('s','')"
   ]
  },
  {
   "cell_type": "markdown",
   "id": "7b618e47-93e5-4411-a458-1f7a6a21c3a6",
   "metadata": {},
   "source": [
    "30. Check if a string is a valid email address"
   ]
  },
  {
   "cell_type": "markdown",
   "id": "29b043bb-6b05-49de-b393-4d4faa9da901",
   "metadata": {},
   "source": [
    "Before we jump into solving the problems-<br>\n",
    "some validations regarding emails are -<br>\n",
    "✅sdfsdgsd@xyz.{com}of{in}of{co}/any 2 or more character after '.'<br>\n",
    "❌.sdfsdfds@xyz.in (cant use '.' as a first charcater)<br>\n",
    "❌@gsdedfxyx.com ('@' cant be first charcater)<br>\n",
    "❌@sdfsdf sdlfds@gmail.com (Can't be whitespace anywhere in the email address)<br>\n",
    "✅3243-satya@gmail.com\n",
    " "
   ]
  },
  {
   "cell_type": "code",
   "execution_count": 107,
   "id": "191425c5-8c3f-4d94-a69a-743c5b502e20",
   "metadata": {},
   "outputs": [
    {
     "name": "stdin",
     "output_type": "stream",
     "text": [
      "Enter your email address satyamdelhi1230@gmail.com\n"
     ]
    },
    {
     "name": "stdout",
     "output_type": "stream",
     "text": [
      "Congrats, your email address is valid email adress\n"
     ]
    }
   ],
   "source": [
    "## Approach 1st with string operations\n",
    "x = input('Enter your email address')\n",
    "## Lets be straight forward with the approach\n",
    "\n",
    "def is_valid_email(email):\n",
    "    # Split the email into username and domain parts\n",
    "    if \"@\" not in email or email.count(\"@\") != 1:\n",
    "        return False\n",
    "\n",
    "    username, domain = email.split(\"@\")\n",
    "\n",
    "    # Check the username part\n",
    "    if not username:\n",
    "        return False\n",
    "\n",
    "    valid_chars = set(\n",
    "        \"abcdefghijklmnopqrstuvwxyzABCDEFGHIJKLMNOPQRSTUVWXYZ0123456789.-_+\"\n",
    "    )\n",
    "    if not all(char in valid_chars for char in username):\n",
    "        return False\n",
    "\n",
    "    # Check the domain part\n",
    "    if not domain:\n",
    "        return False\n",
    "\n",
    "    valid_domain_chars = set(\n",
    "        \"abcdefghijklmnopqrstuvwxyzABCDEFGHIJKLMNOPQRSTUVWXYZ0123456789.-\"\n",
    "    )\n",
    "    if not all(char in valid_domain_chars for char in domain):\n",
    "        return False\n",
    "\n",
    "    if domain.count(\".\") != 1:\n",
    "        return False\n",
    "\n",
    "    return True\n",
    "\n",
    "if is_valid_email(x):\n",
    "    print('Congrats, your email address is valid email adress')\n",
    "else:\n",
    "    print('Sorry , this email is not valid')\n",
    "\n"
   ]
  },
  {
   "cell_type": "markdown",
   "id": "2b3b23bb-cbc7-40c4-a2d6-a81718ad236f",
   "metadata": {},
   "source": [
    "\n",
    "**Conclusion-**<br>\n",
    "* Even applying a lot of restrictions in the form of if else, We can not be sure if this program is capable to validate a correct email address. \n",
    "* Also it will not be that much efficient.\n",
    "* So It would be preferable to go with Regex\n",
    "* Which makes the program efficient and can give 100% accuracy"
   ]
  },
  {
   "cell_type": "code",
   "execution_count": 108,
   "id": "ae988ff6-d43e-4904-b10b-781217ced2cd",
   "metadata": {},
   "outputs": [
    {
     "name": "stdout",
     "output_type": "stream",
     "text": [
      "codexisislonglastingnotfog@gmail.com\n",
      "Yes, A valid email address\n",
      "--------\n",
      "iamjamesbond-towith.com\n",
      "No, not a valid email address\n",
      "--------\n",
      "user@example.co.uk\n",
      "Yes, A valid email address\n",
      "--------\n",
      "@example.com\n",
      "No, not a valid email address\n",
      "--------\n",
      "user@.com\n",
      "No, not a valid email address\n",
      "--------\n"
     ]
    }
   ],
   "source": [
    "## Approach 2nd with Regex\n",
    "import re\n",
    "emails = [\n",
    "    'codexisislonglastingnotfog@gmail.com',\n",
    "    'iamjamesbond-towith.com',\n",
    "    'user@example.co.uk',\n",
    "    '@example.com',\n",
    "    'user@.com'\n",
    "]\n",
    "pattern = r'^[A-Za-z0-9.-]+@[A-Za-z0-9-]+\\.[a-zA-Z]{2,}(?:\\.[a-zA-Z]{2,})?$'\n",
    "for email in emails:\n",
    "    print(email)\n",
    "    if re.match(pattern,email):\n",
    "        print('Yes, A valid email address')\n",
    "    else:\n",
    "        print('No, not a valid email address')\n",
    "    print('--------')"
   ]
  },
  {
   "cell_type": "markdown",
   "id": "2dca3a07-e2af-48da-959d-eb2d0863e53b",
   "metadata": {},
   "source": [
    "31. Extract the username from an email adderss string"
   ]
  },
  {
   "cell_type": "markdown",
   "id": "d0c1d343-0143-4e50-b656-fae7baa3e879",
   "metadata": {},
   "source": [
    "*We are keeping this program on easier side. <br>\n",
    "Not going to check if a email is a valid or not<br>\n",
    "As we have done this above*\n"
   ]
  },
  {
   "cell_type": "code",
   "execution_count": 109,
   "id": "83ceed22-854e-458b-992f-b4c429b9ad95",
   "metadata": {},
   "outputs": [
    {
     "name": "stdin",
     "output_type": "stream",
     "text": [
      "Enter your email address pankaj-tripathi@gmail.com\n"
     ]
    },
    {
     "name": "stdout",
     "output_type": "stream",
     "text": [
      "Your username is  pankaj-tripathi\n"
     ]
    }
   ],
   "source": [
    "x = input('Enter your email address')\n",
    "print('Your username is ',x.split('@')[0])\n"
   ]
  },
  {
   "cell_type": "markdown",
   "id": "ce63797f-f9dc-430e-927b-f4d0d9cba569",
   "metadata": {},
   "source": [
    "32. Extract the domain name from an email address string"
   ]
  },
  {
   "cell_type": "code",
   "execution_count": 111,
   "id": "bed564c7-3f06-418a-a634-23de51e702e8",
   "metadata": {},
   "outputs": [
    {
     "name": "stdin",
     "output_type": "stream",
     "text": [
      "Enter email address codexistslonglastingnogfog@gmail.com\n"
     ]
    },
    {
     "name": "stdout",
     "output_type": "stream",
     "text": [
      "your domain name  gmail.com\n"
     ]
    }
   ],
   "source": [
    "x = input('Enter email address')\n",
    "print('your domain name ',x.split('@')[1])\n",
    "    "
   ]
  },
  {
   "cell_type": "markdown",
   "id": "5441ee2a-2c29-482a-a39b-80aa7835a97f",
   "metadata": {},
   "source": [
    "33. Replace multiple spaces in a string with a single space."
   ]
  },
  {
   "cell_type": "code",
   "execution_count": 112,
   "id": "f6839858-fdd2-4259-94b8-274ea8eb8752",
   "metadata": {},
   "outputs": [
    {
     "data": {
      "text/plain": [
       "'This string contains too much spaces'"
      ]
     },
     "execution_count": 112,
     "metadata": {},
     "output_type": "execute_result"
    }
   ],
   "source": [
    "## Approach 1st (string operations)\n",
    "string = 'This string contains     too much      spaces'\n",
    "\" \".join(string.split())"
   ]
  },
  {
   "cell_type": "code",
   "execution_count": 113,
   "id": "59acbe25-cac5-4f62-af24-2af744d5d997",
   "metadata": {},
   "outputs": [
    {
     "name": "stdout",
     "output_type": "stream",
     "text": [
      "Single spaced string-\n",
      " This string contains too much spaces\n"
     ]
    }
   ],
   "source": [
    "## Approach 2 ( Regex)\n",
    "\n",
    "def replace_multiple_spaces_with_single_space(input_string):\n",
    "    # Use a regular expression to replace multiple spaces with a single space\n",
    "    return re.sub(r'\\s+', ' ', input_string)\n",
    "print('Single spaced string-\\n',replace_multiple_spaces_with_single_space(string))"
   ]
  },
  {
   "cell_type": "markdown",
   "id": "7487a642-99cb-498f-beef-e3f16b4dd4e1",
   "metadata": {},
   "source": [
    "34. Check if a string is a valid URL"
   ]
  },
  {
   "cell_type": "code",
   "execution_count": 114,
   "id": "b605a7c9-4557-4990-aa36-c8bca78459cc",
   "metadata": {},
   "outputs": [
    {
     "name": "stdout",
     "output_type": "stream",
     "text": [
      "Yes, This is a valid URL\n"
     ]
    }
   ],
   "source": [
    "## start with creating a valid hostname function\n",
    "## will return true or false \n",
    "\n",
    "## will use it in our main function\n",
    "\n",
    "def is_valid_hostname(hostname):            \n",
    "    \n",
    "            # A valid hostname can only contain letters, digits, hyphens, and periods\n",
    "            valid_characters = set(\"abcdefghijklmnopqrstuvwxyzABCDEFGHIJKLMNOPQRSTUVWXYZ0123456789.-\")\n",
    "            if not all(char in valid_characters for char in hostname):\n",
    "                return False\n",
    "\n",
    "            # A valid hostname cannot start or end with a hyphen\n",
    "            if hostname[0] == '-' or hostname[-1] == '-':\n",
    "                return False\n",
    "\n",
    "            # A valid hostname cannot have consecutive periods (dots)\n",
    "            if \"..\" in hostname:\n",
    "                return False\n",
    "\n",
    "            # A valid hostname must have at least one period (dot)\n",
    "            if hostname.count('.') < 1:\n",
    "                return False\n",
    "\n",
    "            return True\n",
    "\n",
    "def is_valid_url(url):\n",
    "    # Check if the URL starts with a valid scheme (http, https, ftp, etc.)\n",
    "    valid_schemes = [\"http://\", \"https://\"]\n",
    "    ## START WITH valid_scheme as False (by default)\n",
    "    has_valid_scheme = False\n",
    "    for scheme in valid_schemes:\n",
    "        if url.startswith(scheme):\n",
    "            has_valid_scheme = True\n",
    "            break\n",
    "   ## stored True or False in 'has_valid_scheme' variable\n",
    "    \n",
    "    \n",
    "    ## If our basic condition is not matched return False\n",
    "    ## do not need to check further\n",
    "    \n",
    "    if not has_valid_scheme:\n",
    "        return False\n",
    "\n",
    "    ## If it has a valid scheme then \n",
    "    # Check if the URL contains a valid domain (hostname)\n",
    "    # hostname - www.google.com\n",
    "    url_without_scheme = url.split(\"://\", 1)[1]\n",
    "    parts = url_without_scheme.split(\"/\")\n",
    "    if not parts[0]:\n",
    "        return False\n",
    "    else:\n",
    "        ## same for checking the validation of hostname\n",
    "        is_valid_hostname(parts[0])            \n",
    "\n",
    "\n",
    "    return True\n",
    "url_link = \"https://mango-actor-avfua.pwskills.app/lab/tree/work/Assignments/20th_August_Practice_question_string.ipynb\"\n",
    "\n",
    "if is_valid_url(url_link):\n",
    "    print('Yes, This is a valid URL')\n",
    "else:\n",
    "    print('No, This is not a valid URL')\n",
    "\n"
   ]
  },
  {
   "cell_type": "markdown",
   "id": "5741cc21-85ac-47c4-a021-8ba30998164e",
   "metadata": {},
   "source": [
    "35. Extract the protocol(http or https) from the URL string"
   ]
  },
  {
   "cell_type": "code",
   "execution_count": 115,
   "id": "0f019833-fd31-4ca1-a3f5-20f76cc4eb40",
   "metadata": {},
   "outputs": [
    {
     "name": "stdout",
     "output_type": "stream",
     "text": [
      "https://mango-actor-avfua.pwskills.app/lab/tree/work/Assignments/20th_August_Practice_question_string.ipynb\n",
      "---\n",
      "Used protocol is https\n"
     ]
    }
   ],
   "source": [
    "print(url_link)\n",
    "print('---')\n",
    "print('Used protocol is',url_link.split('://')[0])"
   ]
  },
  {
   "cell_type": "markdown",
   "id": "e9ec3017-9383-41b9-827c-5834e16421ed",
   "metadata": {},
   "source": [
    "36. Find the frequency of each character in a string"
   ]
  },
  {
   "cell_type": "code",
   "execution_count": 116,
   "id": "a3c2546d-a09c-475e-9945-ae80d8ee570e",
   "metadata": {},
   "outputs": [
    {
     "name": "stdout",
     "output_type": "stream",
     "text": [
      "Original string- This string contians lots of repeatations let see if the program can count the frequency\n",
      "{'T': 1, 'h': 3, 'i': 5, 's': 6, ' ': 14, 't': 9, 'r': 5, 'n': 7, 'g': 2, 'c': 4, 'o': 6, 'a': 5, 'l': 2, 'f': 3, 'e': 9, 'p': 2, 'm': 1, 'u': 2, 'q': 1, 'y': 1}\n"
     ]
    }
   ],
   "source": [
    "string = 'This string contians lots of repeatations let see if the program can count the frequency'\n",
    "print('Original string-',string)\n",
    "dict = {}\n",
    "for char in string:\n",
    "    if char in dict.keys():\n",
    "        pass\n",
    "    else:        \n",
    "        dict[char] = string.count(char)\n",
    "print(dict)"
   ]
  },
  {
   "cell_type": "markdown",
   "id": "25a8aff1-502e-4b14-99c1-51043e035d77",
   "metadata": {},
   "source": [
    "37. Remove all punctuation from a string"
   ]
  },
  {
   "cell_type": "code",
   "execution_count": 117,
   "id": "edc505af-9532-4e2f-a1cc-82c44b99037f",
   "metadata": {},
   "outputs": [
    {
     "name": "stdout",
     "output_type": "stream",
     "text": [
      "Hello    punctuation \n"
     ]
    }
   ],
   "source": [
    "import string\n",
    "\n",
    "text = \"Hello, #%, &  punctuation #,\"\n",
    "punctuation_translation = str.maketrans('', '', string.punctuation)\n",
    "text_without_punctuation = text.translate(punctuation_translation)\n",
    "\n",
    "print(text_without_punctuation)\n"
   ]
  },
  {
   "cell_type": "code",
   "execution_count": 118,
   "id": "d3c0da93-80ef-448b-a9ca-3b2d222008b6",
   "metadata": {},
   "outputs": [
    {
     "data": {
      "text/plain": [
       "'Hello    punctuation '"
      ]
     },
     "execution_count": 118,
     "metadata": {},
     "output_type": "execute_result"
    }
   ],
   "source": [
    "## Approach 2nd\n",
    "remove_punctuation = lambda x : [x for x in text if x not in string.punctuation] \n",
    "\"\".join(remove_punctuation(text))"
   ]
  },
  {
   "cell_type": "markdown",
   "id": "75eee3ec-aafa-4fa0-b602-238afea57a06",
   "metadata": {},
   "source": [
    "38. Check if a string contains only digits"
   ]
  },
  {
   "cell_type": "code",
   "execution_count": 119,
   "id": "42f370d0-73b1-49d9-938e-ddd4e6dbf180",
   "metadata": {},
   "outputs": [
    {
     "name": "stdout",
     "output_type": "stream",
     "text": [
      "Yes, 345234234 contains only digit\n"
     ]
    }
   ],
   "source": [
    "test = '345234234'\n",
    "if test.isdigit():\n",
    "    print('Yes, {} contains only digit'.format(test))"
   ]
  },
  {
   "cell_type": "markdown",
   "id": "28c79763-69bb-4d2d-8510-133c71177497",
   "metadata": {},
   "source": [
    "39. Check if a string contains only alphabets"
   ]
  },
  {
   "cell_type": "code",
   "execution_count": 120,
   "id": "9a0af8df-8e20-4e45-ba12-f51573b6284b",
   "metadata": {},
   "outputs": [
    {
     "name": "stdout",
     "output_type": "stream",
     "text": [
      "Yes, satyamsharma contains only alphabets\n",
      "No, satyamsharma09  contains not only alphabets\n"
     ]
    }
   ],
   "source": [
    "test = ['satyamsharma', 'satyamsharma09']\n",
    "for i in test:\n",
    "    if i.isalpha():\n",
    "        print('Yes, {} contains only alphabets'.format(i))\n",
    "    else:\n",
    "         print('No, {}  contains not only alphabets'.format(i))"
   ]
  },
  {
   "cell_type": "markdown",
   "id": "4fc56ade-bff5-457f-9695-e3e1a9eaab06",
   "metadata": {},
   "source": [
    "40. Convert a string to a list of characters"
   ]
  },
  {
   "cell_type": "code",
   "execution_count": 121,
   "id": "988dfb3d-2365-48e0-bbc2-394b2732f022",
   "metadata": {},
   "outputs": [
    {
     "data": {
      "text/plain": [
       "['h', 'e', 'l', 'l', 'o', ' ', 'f', 'r', 'i', 'e', 'n', 'd']"
      ]
     },
     "execution_count": 121,
     "metadata": {},
     "output_type": "execute_result"
    }
   ],
   "source": [
    "text = 'hello friend'\n",
    "l = []\n",
    "for char in text:\n",
    "    l.append(char)\n",
    "l"
   ]
  },
  {
   "cell_type": "markdown",
   "id": "dde9d46e-638f-43ee-b741-896bc090f3de",
   "metadata": {},
   "source": [
    "41. Check if two strings are anagrams "
   ]
  },
  {
   "cell_type": "code",
   "execution_count": 122,
   "id": "a5e08e99-6f10-4010-a542-9cf1bc80ebb8",
   "metadata": {},
   "outputs": [
    {
     "name": "stdout",
     "output_type": "stream",
     "text": [
      "YES throw and worth are anagrams\n"
     ]
    }
   ],
   "source": [
    "## anagrams - word that can be made by transposing the characters of another words\n",
    "## Then they will be called anagrams\n",
    "\n",
    "## logic just make sure every charc of 1st word present in 2nd word\n",
    "\n",
    "word1 = 'throw'\n",
    "word2 = 'worth'\n",
    "result = True\n",
    "for char1 in word1:\n",
    "    if char1 not in word2:\n",
    "        result = False\n",
    "        break\n",
    "if result:    \n",
    "    print('YES {} and {} are anagrams'.format(word1, word2))\n",
    "else:\n",
    "    print('No, they are not anagrams')"
   ]
  },
  {
   "cell_type": "markdown",
   "id": "4df28b70-8daa-44de-bd7e-28d6458c2e48",
   "metadata": {},
   "source": [
    "42. Encode a string using a Caesar cipher"
   ]
  },
  {
   "cell_type": "markdown",
   "id": "7ace8dfe-fb88-4af4-8306-7b10f5b9e13a",
   "metadata": {},
   "source": [
    "43. Decode a Caesar cipher encoded string"
   ]
  },
  {
   "cell_type": "markdown",
   "id": "670ec35d-105d-4041-90ec-410cc80fc0ae",
   "metadata": {},
   "source": [
    "44. Find the most frequent word in a string"
   ]
  },
  {
   "cell_type": "code",
   "execution_count": 123,
   "id": "c49b3fe8-83ea-45cb-8a3f-ee58f29bd6e7",
   "metadata": {},
   "outputs": [
    {
     "name": "stdout",
     "output_type": "stream",
     "text": [
      "{'h': 5, 'e': 5, 'l': 3, 'o': 1, ' ': 11, 't': 9, 'i': 5, 's': 7, 'r': 1, 'n': 1, 'g': 1}\n"
     ]
    }
   ],
   "source": [
    "string = 'hello this  is the test string'\n",
    "freq_dic= {}\n",
    "\n",
    "for i in string:\n",
    "    i = i.lower()\n",
    "    if i in freq_dic.keys():\n",
    "        freq_dic[i] = freq_dic[i] + 1\n",
    "    else:    \n",
    "        freq_dic[i] = string.count(i)\n",
    "\n",
    "##dictioary has been created now getting the key of which value is maximum\n",
    "\"\"\"It is obvious that the secquence of the character would be same with\n",
    "the actual secquence of char in the string. So index can give us the maximum\n",
    "frequency's char\"\"\"\n",
    "print(freq_dic)"
   ]
  },
  {
   "cell_type": "markdown",
   "id": "50d2bc51-52d9-489c-8e12-7bb12e4710cb",
   "metadata": {},
   "source": [
    "* In above program, I will be required more time to build the logic how to get the maximum frequent word. \n",
    "* Till then I have created a dictionary which we can use to find the maximum frequent word in the string"
   ]
  },
  {
   "cell_type": "code",
   "execution_count": 124,
   "id": "50edd5d4-0ab3-489f-9bd0-b70dd78386c5",
   "metadata": {},
   "outputs": [
    {
     "name": "stdout",
     "output_type": "stream",
     "text": [
      "The most frequent word is ' ' with a frequency of 10.\n"
     ]
    }
   ],
   "source": [
    "## Approach 2nd - with the use of Counter\n",
    "\n",
    "from collections import Counter\n",
    "\n",
    "string = 'hello again, this string is to test the most frequent words'\n",
    "\n",
    "def most_frequent_word_without_regex(input_string):\n",
    "    # Split the string into words using whitespace as the delimiter\n",
    "    words = [char for char in string]\n",
    "    \n",
    "    # Count the frequency of each word\n",
    "    word_counts = Counter(words)\n",
    "    \n",
    "    # Find the word with the highest frequency\n",
    "    most_common_word, highest_frequency = word_counts.most_common(1)[0]\n",
    "    \n",
    "    return most_common_word, highest_frequency\n",
    "\n",
    "# Example usage\n",
    "most_common_word, highest_frequency = most_frequent_word_without_regex(string)\n",
    "\n",
    "print(f\"The most frequent word is '{most_common_word}' with a frequency of {highest_frequency}.\")\n"
   ]
  },
  {
   "cell_type": "markdown",
   "id": "41883fa4-9725-4326-987d-62bbe60854ba",
   "metadata": {},
   "source": [
    "45. Find all unique words in a string"
   ]
  },
  {
   "cell_type": "code",
   "execution_count": 125,
   "id": "911a612a-a3ca-4459-83a2-e564418ed694",
   "metadata": {},
   "outputs": [
    {
     "name": "stdout",
     "output_type": "stream",
     "text": [
      "Unique words are {'going', 'use', 'unique', 'and', 'this', 'words.yes', 'yes', 'the', 'it', 'is', 'true', 'hello', 'that', 'word', 'for', 'same', 'test', 'to', 'I', 'again', 'am'}\n",
      "Acutal string length - 24\n",
      "unique string lenght - 21\n"
     ]
    }
   ],
   "source": [
    "text = 'hello this is the test for unique words.yes it is true that I am going to use same word yes same again and again'\n",
    "text_list = text.split()\n",
    "unique_words = set(text_list)\n",
    "print('Unique words are', unique_words)\n",
    "print('Acutal string length -',len(text_list))\n",
    "print('unique string lenght -',len(unique_words))"
   ]
  },
  {
   "cell_type": "markdown",
   "id": "b638c634-76c0-412e-80de-b1e24e824a20",
   "metadata": {},
   "source": [
    "46. Count the number of syllables in a string"
   ]
  },
  {
   "cell_type": "code",
   "execution_count": 127,
   "id": "d6dc05d3-fff0-4fc0-b41a-2ff431ba4930",
   "metadata": {},
   "outputs": [
    {
     "name": "stdout",
     "output_type": "stream",
     "text": [
      "Collecting nltk\n",
      "  Downloading nltk-3.8.1-py3-none-any.whl (1.5 MB)\n",
      "\u001b[2K     \u001b[90m━━━━━━━━━━━━━━━━━━━━━━━━━━━━━━━━━━━━━━━━\u001b[0m \u001b[32m1.5/1.5 MB\u001b[0m \u001b[31m28.4 MB/s\u001b[0m eta \u001b[36m0:00:00\u001b[0ma \u001b[36m0:00:01\u001b[0m\n",
      "\u001b[?25hRequirement already satisfied: tqdm in /opt/conda/lib/python3.10/site-packages (from nltk) (4.64.1)\n",
      "Requirement already satisfied: click in /opt/conda/lib/python3.10/site-packages (from nltk) (8.1.3)\n",
      "Requirement already satisfied: joblib in /opt/conda/lib/python3.10/site-packages (from nltk) (1.2.0)\n",
      "Collecting regex>=2021.8.3\n",
      "  Downloading regex-2023.8.8-cp310-cp310-manylinux_2_17_x86_64.manylinux2014_x86_64.whl (771 kB)\n",
      "\u001b[2K     \u001b[90m━━━━━━━━━━━━━━━━━━━━━━━━━━━━━━━━━━━━━━\u001b[0m \u001b[32m771.9/771.9 kB\u001b[0m \u001b[31m57.0 MB/s\u001b[0m eta \u001b[36m0:00:00\u001b[0m\n",
      "\u001b[?25hInstalling collected packages: regex, nltk\n",
      "Successfully installed nltk-3.8.1 regex-2023.8.8\n"
     ]
    }
   ],
   "source": [
    "!pip install nltk"
   ]
  },
  {
   "cell_type": "code",
   "execution_count": 129,
   "id": "6ace6bdd-46a9-4437-867c-2bf1e882ac6e",
   "metadata": {},
   "outputs": [
    {
     "name": "stderr",
     "output_type": "stream",
     "text": [
      "[nltk_data] Downloading package cmudict to /home/jovyan/nltk_data...\n",
      "[nltk_data]   Package cmudict is already up-to-date!\n"
     ]
    },
    {
     "name": "stdout",
     "output_type": "stream",
     "text": [
      "Total syllables: 7\n"
     ]
    }
   ],
   "source": [
    "import nltk\n",
    "from nltk.corpus import cmudict\n",
    "\n",
    "nltk.download(\"cmudict\")\n",
    "\n",
    "def count_syllables(word):\n",
    "    d = cmudict.dict()\n",
    "    if word.lower() in d:\n",
    "        return [len(list(y for y in x if y[-1].isdigit())) for x in d[word.lower()]][0]\n",
    "    else:\n",
    "        return 0\n",
    "\n",
    "def count_syllables_in_text(text):\n",
    "    words = text.split()\n",
    "    total_syllables = 0\n",
    "    for word in words:\n",
    "        total_syllables += count_syllables(word)\n",
    "    return total_syllables\n",
    "\n",
    "\n",
    "text = \"Hello my name is styam sharma\"\n",
    "syllable_count = count_syllables_in_text(text)\n",
    "print(f\"Total syllables: {syllable_count}\")\n"
   ]
  },
  {
   "cell_type": "markdown",
   "id": "e1186ce2-089f-45aa-90db-d382735868c6",
   "metadata": {},
   "source": [
    "47. Check if a string contains any special characters."
   ]
  },
  {
   "cell_type": "code",
   "execution_count": 133,
   "id": "f095eba2-a2f3-4e51-bcbb-d901a6a9dffe",
   "metadata": {},
   "outputs": [
    {
     "name": "stdout",
     "output_type": "stream",
     "text": [
      "hello this string to test special characters#\n"
     ]
    },
    {
     "data": {
      "text/plain": [
       "'Yes, contains special characters'"
      ]
     },
     "execution_count": 133,
     "metadata": {},
     "output_type": "execute_result"
    }
   ],
   "source": [
    "def special_char(s):\n",
    "    if s.isalnum():\n",
    "        return 'No special characters'\n",
    "    else:\n",
    "        return 'Yes, contains special characters'\n",
    "\n",
    "s = 'hello this string to test special characters#'\n",
    "print(s)\n",
    "special_char(s)"
   ]
  },
  {
   "cell_type": "markdown",
   "id": "bda345da-be4e-4785-adb9-781978335791",
   "metadata": {},
   "source": [
    "48. Remove the nth word from a string."
   ]
  },
  {
   "cell_type": "code",
   "execution_count": 137,
   "id": "73615850-658d-49dd-937b-7c0a9173026d",
   "metadata": {},
   "outputs": [],
   "source": [
    "## s is string\n",
    "## n is the nth word\n",
    "def remove_n_th_word(s,n):\n",
    "    temp_list = s.split()\n",
    "    temp_list.pop(n-1)\n",
    "    return \" \".join(temp_list)"
   ]
  },
  {
   "cell_type": "code",
   "execution_count": 138,
   "id": "eaef7792-b1ad-4420-bb33-a95cfd380806",
   "metadata": {},
   "outputs": [
    {
     "name": "stdout",
     "output_type": "stream",
     "text": [
      "hello this string to test special characters#\n"
     ]
    },
    {
     "data": {
      "text/plain": [
       "'hello this to test special characters#'"
      ]
     },
     "execution_count": 138,
     "metadata": {},
     "output_type": "execute_result"
    }
   ],
   "source": [
    "print(s)\n",
    "\n",
    "# remove third element from the string\n",
    "remove_n_th_word(s,3)"
   ]
  },
  {
   "cell_type": "markdown",
   "id": "e95f26d5-d954-41f6-a186-b4a6c49482d4",
   "metadata": {},
   "source": [
    "49. Insert a word at the nth position in a string"
   ]
  },
  {
   "cell_type": "code",
   "execution_count": 146,
   "id": "c4d62972-8c7f-4e69-aceb-71135b6be91a",
   "metadata": {},
   "outputs": [],
   "source": [
    "def insert_n_position(s,w,n):\n",
    "    temp_list = s.split()\n",
    "    temp_list.insert(n-1,w)\n",
    "    return \" \".join(temp_list)"
   ]
  },
  {
   "cell_type": "code",
   "execution_count": 147,
   "id": "5854880f-c9b6-47cd-9e6a-0970cedd2084",
   "metadata": {},
   "outputs": [
    {
     "name": "stdout",
     "output_type": "stream",
     "text": [
      "hello this string to test special characters#\n"
     ]
    },
    {
     "data": {
      "text/plain": [
       "'hello this string to solitude test special characters#'"
      ]
     },
     "execution_count": 147,
     "metadata": {},
     "output_type": "execute_result"
    }
   ],
   "source": [
    "print(s)\n",
    "word  = 'solitude'\n",
    "n = 5\n",
    "insert_n_position(s,word,n)"
   ]
  },
  {
   "cell_type": "markdown",
   "id": "ec58a9e8-a504-428e-a97d-11dd0b1dde27",
   "metadata": {},
   "source": [
    "50. Convert a CSV string to a list of lists"
   ]
  },
  {
   "cell_type": "code",
   "execution_count": 154,
   "id": "a1cd118f-b4cb-4204-974e-db8253a991cc",
   "metadata": {},
   "outputs": [
    {
     "name": "stdout",
     "output_type": "stream",
     "text": [
      "[['This'], ['is'], ['comma'], ['sepearted'], ['string']]\n"
     ]
    }
   ],
   "source": [
    "s = \"This,is,comma,sepearted,string\"\n",
    "\n",
    "final_list = [[word] for word in s.split(\",\")]\n",
    "print(final_list)"
   ]
  },
  {
   "cell_type": "markdown",
   "id": "309feca7-a86b-42b6-b8ca-193ad1d88b7a",
   "metadata": {},
   "source": [
    "## List Based Practice Problem."
   ]
  },
  {
   "cell_type": "markdown",
   "id": "a82f1bf6-52fd-462f-9322-3e0daac9889f",
   "metadata": {},
   "source": [
    "1. Create a list with integers from 1 to 10"
   ]
  },
  {
   "cell_type": "code",
   "execution_count": 155,
   "id": "f04c22fb-cc7e-4a7c-bc23-b2c16afda9aa",
   "metadata": {},
   "outputs": [
    {
     "name": "stdout",
     "output_type": "stream",
     "text": [
      "<class 'list'>\n"
     ]
    }
   ],
   "source": [
    "integers = [1,2,3,4,5,6,7,8,9,10]\n",
    "print(type(integers))"
   ]
  },
  {
   "cell_type": "markdown",
   "id": "a8fbd3ab-4615-456f-a40f-74e9eb63d32b",
   "metadata": {},
   "source": [
    "2. Find the length of a list without using the len() function."
   ]
  },
  {
   "cell_type": "code",
   "execution_count": 156,
   "id": "249a6873-a465-4e22-baec-a151fd2cd507",
   "metadata": {},
   "outputs": [
    {
     "name": "stdout",
     "output_type": "stream",
     "text": [
      "[1, 2, 3, 4, 5, 6, 7, 8, 9, 10]\n",
      "length of list 10\n"
     ]
    }
   ],
   "source": [
    "## logic get the index of the last integer in the list\n",
    "print(integers)\n",
    "last_integer = integers.index(integers[-1])\n",
    "print('length of list' , last_integer + 1) ## because indexing starts with 0"
   ]
  },
  {
   "cell_type": "markdown",
   "id": "935d2036-5531-478f-9dc9-69110fc0d658",
   "metadata": {},
   "source": [
    "3. Append an element to the end of a list"
   ]
  },
  {
   "cell_type": "code",
   "execution_count": 157,
   "id": "b889f801-7b83-4694-bf1a-93b06f1603ac",
   "metadata": {},
   "outputs": [
    {
     "name": "stdout",
     "output_type": "stream",
     "text": [
      "[1, 2, 4, 42]\n",
      "[1, 2, 4, 42, -1]\n"
     ]
    }
   ],
   "source": [
    "temp = [1,2,4,42]\n",
    "print(temp)\n",
    "temp.append(-1)\n",
    "print(temp)"
   ]
  },
  {
   "cell_type": "markdown",
   "id": "1bf451ac-6dbb-4353-a388-9b2a42540b72",
   "metadata": {},
   "source": [
    "4. Insert an element at a specific index in a list"
   ]
  },
  {
   "cell_type": "code",
   "execution_count": 158,
   "id": "390042db-940e-4d14-b402-5ae8889c8d13",
   "metadata": {},
   "outputs": [
    {
     "name": "stdout",
     "output_type": "stream",
     "text": [
      "[1, 2, 'satyam', 4, 5, 34]\n"
     ]
    }
   ],
   "source": [
    "temp2 = [1,2,4,5,34]\n",
    "temp2.insert(2,'satyam')\n",
    "print(temp2)"
   ]
  },
  {
   "cell_type": "markdown",
   "id": "98d55922-ae62-4c37-8ff2-ef71c525aefe",
   "metadata": {},
   "source": [
    "5. Remove an element from a list by its value. "
   ]
  },
  {
   "cell_type": "code",
   "execution_count": 159,
   "id": "07f74ea9-35ec-4139-93e8-c24874086b0d",
   "metadata": {},
   "outputs": [
    {
     "name": "stdout",
     "output_type": "stream",
     "text": [
      "[1, 2, 'satyam', 4, 5, 34]\n",
      "[1, 'satyam', 4, 5, 34]\n"
     ]
    }
   ],
   "source": [
    "print(temp2)\n",
    "temp2.remove(2)\n",
    "## It removes the first occurence of the element in the list\n",
    "print(temp2)"
   ]
  },
  {
   "cell_type": "markdown",
   "id": "ac076cde-fd50-4ec0-be20-9eac615eab90",
   "metadata": {},
   "source": [
    "6. Remove an element from a list by its index"
   ]
  },
  {
   "cell_type": "code",
   "execution_count": 160,
   "id": "a12604d4-7449-4baf-b551-1e65693152c7",
   "metadata": {},
   "outputs": [
    {
     "name": "stdout",
     "output_type": "stream",
     "text": [
      "[1, 'satyam', 4, 5, 34]\n",
      "[1, 'satyam', 4, 34]\n"
     ]
    }
   ],
   "source": [
    "print(temp2)\n",
    "## remove element at index 3\n",
    "temp2.pop(3)\n",
    "print(temp2)"
   ]
  },
  {
   "cell_type": "markdown",
   "id": "61c2295b-63b3-44ac-bef0-4a6b4603e227",
   "metadata": {},
   "source": [
    "7. Check if an element exists in a list"
   ]
  },
  {
   "cell_type": "code",
   "execution_count": 161,
   "id": "642a58b0-7e91-40fb-a54d-35d4744b65c2",
   "metadata": {},
   "outputs": [
    {
     "name": "stdout",
     "output_type": "stream",
     "text": [
      "[1, 'satyam', 4, 34]\n",
      "yes, satyam is present in list at index 1\n"
     ]
    }
   ],
   "source": [
    "print(temp2)\n",
    "name = 'satyam'\n",
    "if name in temp2:\n",
    "    print('yes, {} is present in list at index {}'.format(name, temp2.index(name)))"
   ]
  },
  {
   "cell_type": "markdown",
   "id": "f2b58d10-d3c3-4d4a-a0cd-464b394ffcc1",
   "metadata": {},
   "source": [
    "8. Find the index of the first occurrence of an element in a list"
   ]
  },
  {
   "cell_type": "code",
   "execution_count": 162,
   "id": "9e396848-9807-4fc9-b9d2-cdfc7faaabb3",
   "metadata": {},
   "outputs": [
    {
     "data": {
      "text/plain": [
       "0"
      ]
     },
     "execution_count": 162,
     "metadata": {},
     "output_type": "execute_result"
    }
   ],
   "source": [
    "temp3 = [1,34,435,5467,345,45,1]\n",
    "## 1 is present at index 0 and at index -1\n",
    "temp3.index(1)"
   ]
  },
  {
   "cell_type": "markdown",
   "id": "d637e674-cc6a-4cd7-a0ee-9ca003ab7054",
   "metadata": {},
   "source": [
    "9. Count the occurrences of an element in a list"
   ]
  },
  {
   "cell_type": "code",
   "execution_count": 163,
   "id": "fb095467-6e40-4b87-b36b-bcceaad471a4",
   "metadata": {},
   "outputs": [
    {
     "name": "stdout",
     "output_type": "stream",
     "text": [
      "[1, 34, 435, 5467, 345, 45, 1]\n"
     ]
    },
    {
     "data": {
      "text/plain": [
       "2"
      ]
     },
     "execution_count": 163,
     "metadata": {},
     "output_type": "execute_result"
    }
   ],
   "source": [
    "## count function in list gives output the occurrence of the element in the list\n",
    "print(temp3)\n",
    "temp3.count(1)"
   ]
  },
  {
   "cell_type": "markdown",
   "id": "c3d13dbb-db91-430d-b128-cd3be8952703",
   "metadata": {},
   "source": [
    "10. Reverse the order of elements in a list"
   ]
  },
  {
   "cell_type": "code",
   "execution_count": 164,
   "id": "eb801bfa-bab9-4aba-a24d-086c069d8a7c",
   "metadata": {},
   "outputs": [
    {
     "name": "stdout",
     "output_type": "stream",
     "text": [
      "[1, 34, 435, 5467, 345, 45, 1]\n",
      "None\n"
     ]
    }
   ],
   "source": [
    "## reverse function is used to reverse the list \n",
    "print(temp3)\n",
    "temp3.reverse()\n",
    "print(temp3.reverse())"
   ]
  },
  {
   "cell_type": "markdown",
   "id": "5be5f226-eb5f-4870-8cd8-184710797512",
   "metadata": {},
   "source": [
    "11. Sort a list in ascending order"
   ]
  },
  {
   "cell_type": "code",
   "execution_count": 165,
   "id": "d236e607-a3b8-47eb-84e1-5b7ddf956915",
   "metadata": {},
   "outputs": [
    {
     "name": "stdout",
     "output_type": "stream",
     "text": [
      "Unsorted list [1, 2, 4, 42, -1]\n",
      "Sorted list\n"
     ]
    },
    {
     "data": {
      "text/plain": [
       "[-1, 1, 2, 4, 42]"
      ]
     },
     "execution_count": 165,
     "metadata": {},
     "output_type": "execute_result"
    }
   ],
   "source": [
    "print('Unsorted list',temp)\n",
    "print('Sorted list')\n",
    "sorted(temp)"
   ]
  },
  {
   "cell_type": "markdown",
   "id": "cd180f7a-27cf-4559-bd5d-6aa1e1cb1409",
   "metadata": {},
   "source": [
    "12. Sort a list in asceding order."
   ]
  },
  {
   "cell_type": "code",
   "execution_count": 166,
   "id": "7a1d8653-81b4-45e3-88b8-fddd356177c9",
   "metadata": {},
   "outputs": [
    {
     "name": "stdout",
     "output_type": "stream",
     "text": [
      "[1, 2, 4, 42, -1]\n"
     ]
    },
    {
     "data": {
      "text/plain": [
       "[42, 4, 2, 1, -1]"
      ]
     },
     "execution_count": 166,
     "metadata": {},
     "output_type": "execute_result"
    }
   ],
   "source": [
    "print(temp)\n",
    "sorted(temp,reverse=True)"
   ]
  },
  {
   "cell_type": "markdown",
   "id": "e723454f-63ef-4dee-88f8-caa821fd4def",
   "metadata": {},
   "source": [
    "13. Create a list of even numbers from 1 to 20"
   ]
  },
  {
   "cell_type": "code",
   "execution_count": 167,
   "id": "56e5399a-fddf-43e9-9cd1-daaf804d7e74",
   "metadata": {},
   "outputs": [
    {
     "data": {
      "text/plain": [
       "[0, 2, 4, 6, 8, 10, 12, 14, 16, 18, 20]"
      ]
     },
     "execution_count": 167,
     "metadata": {},
     "output_type": "execute_result"
    }
   ],
   "source": [
    "even_number_list = [x for x in range(21) if x%2==0]\n",
    "even_number_list"
   ]
  },
  {
   "cell_type": "markdown",
   "id": "3cff7eb0-9f35-41c0-966d-5c2b1597fcb9",
   "metadata": {},
   "source": [
    "14. Create a list of odd numbers from 1 to 20"
   ]
  },
  {
   "cell_type": "code",
   "execution_count": 168,
   "id": "0b6efacf-8229-4820-bac1-d809f8d7715f",
   "metadata": {},
   "outputs": [
    {
     "data": {
      "text/plain": [
       "[1, 3, 5, 7, 9, 11, 13, 15, 17, 19]"
      ]
     },
     "execution_count": 168,
     "metadata": {},
     "output_type": "execute_result"
    }
   ],
   "source": [
    "odd_number_list = [y for y in range(21) if y%2 != 0]\n",
    "odd_number_list"
   ]
  },
  {
   "cell_type": "markdown",
   "id": "2cc48f2b-13e1-427e-ad12-2e081761b8c0",
   "metadata": {},
   "source": [
    "15. Find the sum of all elements in a list"
   ]
  },
  {
   "cell_type": "code",
   "execution_count": 169,
   "id": "664b2f4e-636c-4623-a1b7-eb7ad91686d9",
   "metadata": {},
   "outputs": [
    {
     "name": "stdout",
     "output_type": "stream",
     "text": [
      "[1, 3, 5, 7, 9, 11, 13, 15, 17, 19]\n",
      "100\n"
     ]
    }
   ],
   "source": [
    "print(odd_number_list)\n",
    "print(sum(odd_number_list))"
   ]
  },
  {
   "cell_type": "markdown",
   "id": "a3e0c9c1-17fd-4a0e-85e9-19f621417188",
   "metadata": {},
   "source": [
    "16. Find the maximum value in a list"
   ]
  },
  {
   "cell_type": "code",
   "execution_count": 170,
   "id": "efb6a2df-1473-4d33-b157-5a8e5db5aaa3",
   "metadata": {},
   "outputs": [
    {
     "name": "stdout",
     "output_type": "stream",
     "text": [
      "[0, 2, 4, 6, 8, 10, 12, 14, 16, 18, 20]\n",
      "20\n"
     ]
    }
   ],
   "source": [
    "print(even_number_list)\n",
    "print(max(even_number_list))"
   ]
  },
  {
   "cell_type": "markdown",
   "id": "a82a2afc-f649-450b-b4d9-bb67e96ac501",
   "metadata": {},
   "source": [
    "17. Find the minimum value in a list"
   ]
  },
  {
   "cell_type": "code",
   "execution_count": 171,
   "id": "db699d6e-ef4a-4ea5-8d92-591f9491c51e",
   "metadata": {},
   "outputs": [
    {
     "name": "stdout",
     "output_type": "stream",
     "text": [
      "[1, 3, 5, 7, 9, 11, 13, 15, 17, 19]\n",
      "1\n"
     ]
    }
   ],
   "source": [
    "print(odd_number_list)\n",
    "print(min(odd_number_list))"
   ]
  },
  {
   "cell_type": "markdown",
   "id": "f0fed4b0-83b7-4792-856c-35cf3174f7d3",
   "metadata": {},
   "source": [
    "18. Create a list of squares of numbers from 1 to 10"
   ]
  },
  {
   "cell_type": "code",
   "execution_count": 172,
   "id": "ece9f2ab-b2ef-49cf-86a6-d6c22e94d8ab",
   "metadata": {},
   "outputs": [
    {
     "data": {
      "text/plain": [
       "[0, 1, 4, 9, 16, 25, 36, 49, 64, 81, 100]"
      ]
     },
     "execution_count": 172,
     "metadata": {},
     "output_type": "execute_result"
    }
   ],
   "source": [
    "squares_1_10 = [sqr**2 for sqr in range(11) ]\n",
    "squares_1_10"
   ]
  },
  {
   "cell_type": "markdown",
   "id": "0fc154ab-92c5-4470-a5c1-811ddadf757a",
   "metadata": {},
   "source": [
    "19. Create a list of random numbers"
   ]
  },
  {
   "cell_type": "code",
   "execution_count": 173,
   "id": "b40a2ad7-c482-476c-ba33-9683d144ed8a",
   "metadata": {},
   "outputs": [
    {
     "name": "stdout",
     "output_type": "stream",
     "text": [
      "[16, 22, 79, 41, 16, 77, 87, 6, 16, 46]\n"
     ]
    }
   ],
   "source": [
    "## Whenever we hear about random go with numpy\n",
    "import numpy as np\n",
    "\n",
    "## random.randint(low , high, length)\n",
    "random_numebers =list( np.random.randint(2, 100,10))\n",
    "\n",
    "print(random_numebers)"
   ]
  },
  {
   "cell_type": "markdown",
   "id": "a4db2899-5ff5-4783-8c00-c163a23b887d",
   "metadata": {},
   "source": [
    "20. Remove duplicates from a list.\n"
   ]
  },
  {
   "cell_type": "code",
   "execution_count": 174,
   "id": "fb9bf9f8-eff4-4575-9b73-e3f561daaa20",
   "metadata": {},
   "outputs": [
    {
     "data": {
      "text/plain": [
       "[2, 234, 42, 23, 24, 23423]"
      ]
     },
     "execution_count": 174,
     "metadata": {},
     "output_type": "execute_result"
    }
   ],
   "source": [
    "test_list = [24,234,23,234,23,42,23423,2]\n",
    "list(set(test_list))"
   ]
  },
  {
   "cell_type": "markdown",
   "id": "b80a6d23-a814-4feb-9b47-c9c390d5ac40",
   "metadata": {},
   "source": [
    "21. Find the common elements between two lists"
   ]
  },
  {
   "cell_type": "code",
   "execution_count": 175,
   "id": "eba4c0f9-5b35-47c7-9a6a-af07cfa65d51",
   "metadata": {},
   "outputs": [
    {
     "data": {
      "text/plain": [
       "[5, 6, 7, 8, 9]"
      ]
     },
     "execution_count": 175,
     "metadata": {},
     "output_type": "execute_result"
    }
   ],
   "source": [
    "l1 = list(x for x in range(10))\n",
    "l2  =list(x for x in range(5,15))\n",
    "\n",
    "## Approach 1st create set and then apply intersection operation\n",
    "## and then convert back into list\n",
    "list(set(l1).intersection(set(l2)))"
   ]
  },
  {
   "cell_type": "markdown",
   "id": "89835d19-8e5b-4e10-9985-0ac242cb8e1e",
   "metadata": {},
   "source": [
    "22. Find the difference between two lists "
   ]
  },
  {
   "cell_type": "code",
   "execution_count": 176,
   "id": "a9a9ec09-c1cf-4c01-9014-d9066ebcda0b",
   "metadata": {},
   "outputs": [
    {
     "name": "stdout",
     "output_type": "stream",
     "text": [
      "[52, 341, 512, -54, 689, -11, -541]\n"
     ]
    }
   ],
   "source": [
    "## There is no such operation like difference\n",
    "l1 = [1,4,34,56,67,34,543]\n",
    "l2 = [53,345,546,2,756,23,2]\n",
    "difference_l1_l2 = []\n",
    "for x,y in zip(l1,l2):\n",
    "    ## l2 - l1\n",
    "    difference_l1_l2.append(y-x)\n",
    "    \n",
    "print(difference_l1_l2)\n",
    "    \n"
   ]
  },
  {
   "cell_type": "markdown",
   "id": "9a4d43ba-b8c4-47f9-be40-f6a2f6b304b0",
   "metadata": {},
   "source": [
    "23. Merge two lists"
   ]
  },
  {
   "cell_type": "code",
   "execution_count": 177,
   "id": "377cce66-18a4-4bbc-b3c8-42f214a62591",
   "metadata": {},
   "outputs": [
    {
     "data": {
      "text/plain": [
       "[1, 4, 34, 56, 67, 34, 543, 53, 345, 546, 2, 756, 23, 2]"
      ]
     },
     "execution_count": 177,
     "metadata": {},
     "output_type": "execute_result"
    }
   ],
   "source": [
    "l1 + l2"
   ]
  },
  {
   "cell_type": "markdown",
   "id": "a5f18794-c062-41de-9d9c-6db705d947e1",
   "metadata": {},
   "source": [
    "24. Multiply all elements in a list by 2"
   ]
  },
  {
   "cell_type": "code",
   "execution_count": 178,
   "id": "639354f2-a7c6-4f9d-a0bd-eda63a669a2c",
   "metadata": {},
   "outputs": [
    {
     "name": "stdout",
     "output_type": "stream",
     "text": [
      "Original list\n",
      " [1, 4, 34, 56, 67, 34, 543]\n",
      "Resulted list\n",
      " [2, 8, 68, 112, 134, 68, 1086]\n"
     ]
    }
   ],
   "source": [
    "print('Original list\\n',l1)\n",
    "result_list = [num * 2 for num in l1]\n",
    "print('Resulted list\\n',result_list)"
   ]
  },
  {
   "cell_type": "markdown",
   "id": "7873156b-82c4-45b0-a383-b7485028922c",
   "metadata": {},
   "source": [
    "25. Filter out all even numbers from a list"
   ]
  },
  {
   "cell_type": "code",
   "execution_count": 179,
   "id": "32b9f201-f9bd-4a66-9f59-5d6b55cd31c6",
   "metadata": {},
   "outputs": [
    {
     "name": "stdout",
     "output_type": "stream",
     "text": [
      "[1, 4, 34, 56, 67, 34, 543]\n",
      "[1, 67, 543]\n"
     ]
    }
   ],
   "source": [
    "print(l1)\n",
    "even_filtered_list = [x for x in l1 if x%2!=0]\n",
    "print(even_filtered_list)"
   ]
  },
  {
   "cell_type": "markdown",
   "id": "bba07995-8611-433b-ae6f-fcc36185984a",
   "metadata": {},
   "source": [
    "26. Convert a list of strings to a list of integers"
   ]
  },
  {
   "cell_type": "code",
   "execution_count": 180,
   "id": "82b73ac7-fd0e-4435-bd90-0bd01ef5827c",
   "metadata": {},
   "outputs": [
    {
     "name": "stdout",
     "output_type": "stream",
     "text": [
      "['23', '23', '345', '23', '234']\n",
      "[23, 23, 345, 23, 234]\n"
     ]
    }
   ],
   "source": [
    "## list of strings\n",
    "string_list = ['23','23','345','23','234']\n",
    "print(string_list)\n",
    "int_list  = [int(x) for x in string_list]\n",
    "print(int_list)"
   ]
  },
  {
   "cell_type": "markdown",
   "id": "09ebc3b4-aaec-4e16-9a82-62a36709301c",
   "metadata": {},
   "source": [
    "27. Convert a list of integers to a list of strings"
   ]
  },
  {
   "cell_type": "code",
   "execution_count": 181,
   "id": "d0fa68a6-df79-4f1d-890d-3157059997ea",
   "metadata": {},
   "outputs": [
    {
     "name": "stdout",
     "output_type": "stream",
     "text": [
      "[23, 43, 4, 45, 56, 547, 578234, 214]\n",
      "['23', '43', '4', '45', '56', '547', '578234', '214']\n"
     ]
    }
   ],
   "source": [
    "integer_list = [23,43,4,45,56,547,578234,214]\n",
    "print(integer_list)\n",
    "string_list = [str(x) for x in integer_list]\n",
    "print(string_list)"
   ]
  },
  {
   "cell_type": "markdown",
   "id": "637b5819-f699-44d5-8ebe-6ce0dc2ce9c9",
   "metadata": {},
   "source": [
    "28. Flatten a nested list"
   ]
  },
  {
   "cell_type": "code",
   "execution_count": 182,
   "id": "b8f273a4-b35d-4f1c-a3d1-4bebf9eca917",
   "metadata": {},
   "outputs": [
    {
     "name": "stdout",
     "output_type": "stream",
     "text": [
      "nested_list\n",
      " [2452, 234234, [234, 2344, 234534, 6, 45, 345, 6, 23, 63, [5, 2, 234, 634, 34], 23], 98]\n",
      "[2452, 234234, 234, 2344, 234534, 6, 45, 345, 6, 23, 63, 5, 2, 234, 634, 34, 23, 98]\n"
     ]
    }
   ],
   "source": [
    "def flatten(multidimensional_list):\n",
    "    new_flatten_list = []\n",
    "\n",
    "    for item in multidimensional_list:\n",
    "        # Check if the item is a list\n",
    "        if isinstance(item, list):\n",
    "            # Recursively flatten the sublist and extend the result\n",
    "            new_flatten_list.extend(flatten(item))\n",
    "        else:\n",
    "            # If it's not a list, append it directly\n",
    "            new_flatten_list.append(item)\n",
    "\n",
    "    return new_flatten_list\n",
    "\n",
    "nested_list = [2452,234234,[234,2344,234534,6,45,345,6,23,63,[5,2,234,634,34],23],98]\n",
    "print('nested_list\\n',nested_list)\n",
    "flattened_list = flatten(nested_list)\n",
    "print(flattened_list)\n"
   ]
  },
  {
   "cell_type": "markdown",
   "id": "b1af3f27-aad7-46f5-86f6-191457cc6b0e",
   "metadata": {},
   "source": [
    "29. Create a list of first 10 Fibonacci numbers"
   ]
  },
  {
   "cell_type": "code",
   "execution_count": 183,
   "id": "f8eb7248-1f0d-4a0f-8ba0-b38ac7185514",
   "metadata": {},
   "outputs": [
    {
     "name": "stdout",
     "output_type": "stream",
     "text": [
      "1 1 2 3 5 8 13 21 34 55 "
     ]
    }
   ],
   "source": [
    "## here n is number of Fibonacci series\n",
    "## take 10 in this case\n",
    "def fib(n):\n",
    "    a, b = 0,1\n",
    "    for i in range(n):\n",
    "        a,b = b, a+b\n",
    "        yield a\n",
    "\n",
    "for series in fib(10):\n",
    "    print(series,end=' ')\n",
    "        "
   ]
  },
  {
   "cell_type": "markdown",
   "id": "2349403c-2223-45c2-9ceb-ed1e04b9314e",
   "metadata": {},
   "source": [
    "30. Check if a list is sorted"
   ]
  },
  {
   "cell_type": "code",
   "execution_count": 184,
   "id": "2f2fc7a9-c2a7-434e-9609-b183d7d9366c",
   "metadata": {},
   "outputs": [],
   "source": [
    "def test_for_sort(sort_test_list):\n",
    "    for ele in sort_test_list:\n",
    "        for next_ele in sort_test_list[sort_test_list.index(ele)+1:]:\n",
    "            if sort_test_list[0] < sort_test_list[1]:## may be it is a ascending order sorted, not sure yet\n",
    "                if ele > next_ele:\n",
    "                    return False\n",
    "\n",
    "            else: ## Now consider it as a descending order sorted list\n",
    "                if ele < next_ele:\n",
    "                    return False\n",
    "    ## If all conditions were satisfied then return True\n",
    "    return True"
   ]
  },
  {
   "cell_type": "code",
   "execution_count": 185,
   "id": "0ce20337-edf5-4112-88de-2e8acd6b746a",
   "metadata": {},
   "outputs": [
    {
     "data": {
      "text/plain": [
       "False"
      ]
     },
     "execution_count": 185,
     "metadata": {},
     "output_type": "execute_result"
    }
   ],
   "source": [
    "sort_test_list = [234,52,5,564,57,4,25,23]\n",
    "test_for_sort(sort_test_list)"
   ]
  },
  {
   "cell_type": "code",
   "execution_count": 186,
   "id": "cf1a3137-4130-41f4-8094-2d3308b7089b",
   "metadata": {},
   "outputs": [
    {
     "data": {
      "text/plain": [
       "True"
      ]
     },
     "execution_count": 186,
     "metadata": {},
     "output_type": "execute_result"
    }
   ],
   "source": [
    "## checking with list 2\n",
    "sort_test_list = [1,2,3,4,5,7,78,8345]\n",
    "test_for_sort(sort_test_list)"
   ]
  },
  {
   "cell_type": "markdown",
   "id": "f9084024-8758-4421-9318-bcfe00be4358",
   "metadata": {},
   "source": [
    "31. Rotate a list to the left and right by 'n' positions"
   ]
  },
  {
   "cell_type": "code",
   "execution_count": 187,
   "id": "9772ec0a-9cd9-4cee-b19f-021500f68fbc",
   "metadata": {},
   "outputs": [],
   "source": [
    "def left_rotation(l,n):\n",
    "    return  l[n:] + l[:n]\n",
    "\n",
    "## right rotation by 3\n",
    "def right_rotation(l,n):\n",
    "    return l[-n:] + l[:-n]\n",
    "    \n",
    "    "
   ]
  },
  {
   "cell_type": "code",
   "execution_count": 188,
   "id": "60b557a9-d8c0-485e-ab1f-2cf1f245d06e",
   "metadata": {},
   "outputs": [
    {
     "name": "stdout",
     "output_type": "stream",
     "text": [
      "Original list\n",
      "[4, 2, 5, 5, 35, 4, 5, 65, 7]\n",
      "Rotation to the left by 2\n",
      "[5, 5, 35, 4, 5, 65, 7, 4, 2]\n",
      "Rotation to the right by 2\n",
      "[65, 7, 4, 2, 5, 5, 35, 4, 5]\n"
     ]
    }
   ],
   "source": [
    "## calling functions\n",
    "\n",
    "list_to_be_rotated = [4,2,5,5,35,4,5,65,7]\n",
    "print('Original list')\n",
    "print(list_to_be_rotated)\n",
    "\n",
    "\n",
    "## rotation to the left by 2\n",
    "print('Rotation to the left by 2')\n",
    "print(left_rotation(list_to_be_rotated,2))\n",
    "\n",
    "## rotation to the right by 2\n",
    "print('Rotation to the right by 2')\n",
    "print(right_rotation(list_to_be_rotated,2))"
   ]
  },
  {
   "cell_type": "markdown",
   "id": "298b6bff-5158-4892-b9bb-1937784d91e7",
   "metadata": {},
   "source": [
    "33. Create a list of prime numbers up to 50"
   ]
  },
  {
   "cell_type": "code",
   "execution_count": 189,
   "id": "2045ede2-d780-4f84-b46e-51095dcae9db",
   "metadata": {},
   "outputs": [],
   "source": [
    "##High time complexity program\n",
    "\n",
    "\n",
    "## Prime numbers are those numbers which are divisible by only 1 and by itself\n",
    "\n",
    "## Creating function which takes user input to create a list of prime numbers\n",
    "def create_prime_numbers(total):\n",
    "    not_prime_numbers = []\n",
    "    numbers_to_check = list(range(2, total))\n",
    "    for prime in range(2,total):\n",
    "        ## apply condition of prime numbers\n",
    "        for number in range(2, prime):\n",
    "            if (prime%number ==0):\n",
    "                not_prime_numbers.append(prime)\n",
    "                break\n",
    "    \n",
    "    total_numbers = set(range(2, total))\n",
    "    return  list(total_numbers.difference(set(not_prime_numbers)))             \n",
    "         "
   ]
  },
  {
   "cell_type": "code",
   "execution_count": 190,
   "id": "0a75abb3-39af-46cf-8652-27bf0bbcf81f",
   "metadata": {},
   "outputs": [
    {
     "name": "stdout",
     "output_type": "stream",
     "text": [
      "Total prime numbers are\n",
      "[2, 3, 5, 37, 7, 41, 11, 43, 13, 47, 17, 19, 23, 29, 31]\n",
      "There are 15 prime numbers\n"
     ]
    }
   ],
   "source": [
    "## calling function\n",
    "print('Total prime numbers are')\n",
    "print(create_prime_numbers(50))\n",
    "print('There are {} prime numbers'.format(len(create_prime_numbers(50))))"
   ]
  },
  {
   "cell_type": "raw",
   "id": "2c027478-4c87-45ce-9485-4ea2aeab2b14",
   "metadata": {},
   "source": [
    "Program written above having high complexities.\n",
    "{*Not efficient *}"
   ]
  },
  {
   "cell_type": "markdown",
   "id": "7004fc57-156d-4514-86e7-8c3bec3771fa",
   "metadata": {},
   "source": [
    "34. Split a list into chuncks of size 'n'"
   ]
  },
  {
   "cell_type": "code",
   "execution_count": 191,
   "id": "e795c692-ac32-42a3-931c-57b680966a43",
   "metadata": {},
   "outputs": [
    {
     "name": "stdout",
     "output_type": "stream",
     "text": [
      "[1, 3, 4]\n",
      "[5, 34, 6]\n",
      "[45, 3, 646]\n",
      "[4]\n"
     ]
    }
   ],
   "source": [
    "def split_list(l,n):\n",
    "    for i in range(0,len(l),n):\n",
    "        \n",
    "        yield l[i:i+n]\n",
    "    \n",
    "l = [1,3,4,5,34,6,45,3,646,4]\n",
    "a = split_list(l,3)\n",
    "for i in a:\n",
    "    print(i)"
   ]
  },
  {
   "cell_type": "markdown",
   "id": "932f7561-6643-4f5c-ba01-57903f15a892",
   "metadata": {},
   "source": [
    "35. Find the second largest number in a list"
   ]
  },
  {
   "cell_type": "code",
   "execution_count": 192,
   "id": "e13ee239-ec2e-4f16-b6ca-ec12e9a6bd62",
   "metadata": {},
   "outputs": [
    {
     "name": "stdout",
     "output_type": "stream",
     "text": [
      "[1, 3, 4, 254, 35, 4, 6, 6, 45, 654]\n",
      "Second largest number 254\n"
     ]
    }
   ],
   "source": [
    "## \n",
    "l = [1,3,4,254,35,4,6,6,45,654]\n",
    "print(l)\n",
    "##sort the list ,by default it is sorted in ascending order\n",
    "l.sort()\n",
    "print('Second largest number',l[-2])"
   ]
  },
  {
   "cell_type": "markdown",
   "id": "373804fe-a2b9-474a-b5a9-3d5c7b0dee7a",
   "metadata": {},
   "source": [
    "36. Replace every element in a list with its square."
   ]
  },
  {
   "cell_type": "code",
   "execution_count": 193,
   "id": "af5074ee-30f8-42c3-9f6f-52f3dd4b3f62",
   "metadata": {},
   "outputs": [
    {
     "data": {
      "text/plain": [
       "[1, 4, 9, 16, 25, 36, 49]"
      ]
     },
     "execution_count": 193,
     "metadata": {},
     "output_type": "execute_result"
    }
   ],
   "source": [
    "import numpy as np\n",
    "n = [1,2,3,4,5,6,7]\n",
    "squares = lambda x : np.square(x)\n",
    "list(map(squares,n))"
   ]
  },
  {
   "cell_type": "markdown",
   "id": "0365a4c3-5bdb-4153-b32e-3c0ec40d6228",
   "metadata": {},
   "source": [
    "37. Convert a list to a dictioinary where list elements keys and their indices become values"
   ]
  },
  {
   "cell_type": "code",
   "execution_count": 194,
   "id": "1d84f77a-98b8-4450-8a24-97e4f71f36a9",
   "metadata": {},
   "outputs": [
    {
     "data": {
      "text/plain": [
       "{1: 0, 4: 1, 42: 2, 5: 3, 436: 4, 54: 5, 56: 6, 7: 7, 567: 8}"
      ]
     },
     "execution_count": 194,
     "metadata": {},
     "output_type": "execute_result"
    }
   ],
   "source": [
    "l = [1,4,42,5,436,54,56,7,567]\n",
    "dic = {}\n",
    "for element, index in zip(l,range(len(l))):\n",
    "    dic[element] = index\n",
    "    \n",
    "dic"
   ]
  },
  {
   "cell_type": "markdown",
   "id": "75a3bafa-77b2-4d40-9a2e-672dbb9e3b18",
   "metadata": {},
   "source": [
    "38. Shuffle the elements of a list randomly."
   ]
  },
  {
   "cell_type": "code",
   "execution_count": 195,
   "id": "268edbfb-2b60-4db7-b38c-871ecfd2811d",
   "metadata": {},
   "outputs": [
    {
     "name": "stdout",
     "output_type": "stream",
     "text": [
      "[5, 3, 2, 1, 4]\n"
     ]
    }
   ],
   "source": [
    "import random\n",
    "\n",
    "# Create a list of elements\n",
    "my_list = [1, 2, 3, 4, 5]\n",
    "\n",
    "# Shuffle the list randomly\n",
    "random.shuffle(my_list)\n",
    "\n",
    "# Print the shuffled list\n",
    "print(my_list)\n"
   ]
  },
  {
   "cell_type": "markdown",
   "id": "91d34f97-95fe-46ee-bce3-08db2711f337",
   "metadata": {},
   "source": [
    "39. Create a list of the first 10 factorial numbers"
   ]
  },
  {
   "cell_type": "code",
   "execution_count": 196,
   "id": "86bf0e8e-3e50-4ae8-b015-6d5510554e8e",
   "metadata": {},
   "outputs": [],
   "source": [
    "def factorial(n):\n",
    "    if n == 1 : \n",
    "        return 1\n",
    "    else:\n",
    "        fact = n * factorial(n-1)\n",
    "    return fact\n"
   ]
  },
  {
   "cell_type": "code",
   "execution_count": 197,
   "id": "8f23b9b9-285c-4cb7-a222-89943407c412",
   "metadata": {},
   "outputs": [
    {
     "data": {
      "text/plain": [
       "3628800"
      ]
     },
     "execution_count": 197,
     "metadata": {},
     "output_type": "execute_result"
    }
   ],
   "source": [
    "factorial(10)"
   ]
  },
  {
   "cell_type": "markdown",
   "id": "24b920a3-d851-4014-8d4a-b31f494199c4",
   "metadata": {},
   "source": [
    "40. Check if two lists have at least one element in common"
   ]
  },
  {
   "cell_type": "code",
   "execution_count": 198,
   "id": "f061f0a3-2b65-4ad0-8fca-dcf7026926fd",
   "metadata": {},
   "outputs": [
    {
     "data": {
      "text/plain": [
       "True"
      ]
     },
     "execution_count": 198,
     "metadata": {},
     "output_type": "execute_result"
    }
   ],
   "source": [
    "## Output in True or False\n",
    "\n",
    "l1 = [42,43,5,346,546,54,747]\n",
    "l2 = [34,534,6,545,4654,54,235]\n",
    "def common(l1,l2):\n",
    "    for i in l1:\n",
    "        if i in l2:\n",
    "            return True\n",
    "common(l1,l2)"
   ]
  },
  {
   "cell_type": "code",
   "execution_count": 199,
   "id": "222bd9df-0124-4f16-b841-bbb3e38d192c",
   "metadata": {},
   "outputs": [],
   "source": [
    "## output in yes or no\n",
    "\n",
    "def common(l1,l2):\n",
    "    c = 0\n",
    "    for i in l1:\n",
    "        if i in l2:\n",
    "            c = c +1\n",
    "            break\n",
    "    if c >0:\n",
    "        print('yes')\n",
    "    else:\n",
    "        print('no')\n",
    "    "
   ]
  },
  {
   "cell_type": "code",
   "execution_count": 200,
   "id": "3e9f45ae-1173-41c4-97a2-b8174d2bfc23",
   "metadata": {},
   "outputs": [
    {
     "name": "stdout",
     "output_type": "stream",
     "text": [
      "yes\n"
     ]
    }
   ],
   "source": [
    "common(l1,l2)"
   ]
  },
  {
   "cell_type": "markdown",
   "id": "85dabb90-dbcd-4c9b-93f7-eae361edb2e7",
   "metadata": {},
   "source": [
    "41. Remove all elements from a list"
   ]
  },
  {
   "cell_type": "code",
   "execution_count": 201,
   "id": "333eeab7-91d4-4dc5-aee8-421eb2a674a3",
   "metadata": {},
   "outputs": [],
   "source": [
    "l1 = [532,54,65,7,23,5,46]\n",
    "l1.clear()"
   ]
  },
  {
   "cell_type": "code",
   "execution_count": 202,
   "id": "4ee2a473-ba69-420f-abe6-c394085e46e2",
   "metadata": {},
   "outputs": [
    {
     "name": "stdout",
     "output_type": "stream",
     "text": [
      "[]\n"
     ]
    }
   ],
   "source": [
    "print(l1)"
   ]
  },
  {
   "cell_type": "markdown",
   "id": "8cb7f8f5-e110-4227-a9f1-2082a914599f",
   "metadata": {},
   "source": [
    "42. Replace negative numebers in a list with 0"
   ]
  },
  {
   "cell_type": "code",
   "execution_count": 203,
   "id": "7fd85c51-ebce-4984-9ca7-67f367b883df",
   "metadata": {},
   "outputs": [
    {
     "data": {
      "text/plain": [
       "[23, 423, 545, 0, 0, 0]"
      ]
     },
     "execution_count": 203,
     "metadata": {},
     "output_type": "execute_result"
    }
   ],
   "source": [
    "def replace_neg_with_0(l1):\n",
    "    for i in range(len(l1)):\n",
    "        if l1[i] <0:\n",
    "            l1[i] = 0\n",
    "    return l1\n",
    "replace_neg_with_0([23,423,545,-34,-786,-23])"
   ]
  },
  {
   "cell_type": "markdown",
   "id": "6a2589cd-8f3f-4ccb-8af5-7a505ce5ecaf",
   "metadata": {},
   "source": [
    "43. Convert a string into a list of words"
   ]
  },
  {
   "cell_type": "code",
   "execution_count": 204,
   "id": "eef4e51f-3774-4c53-acd1-3780136a9d33",
   "metadata": {},
   "outputs": [
    {
     "name": "stdout",
     "output_type": "stream",
     "text": [
      "['hello', 'my', 'name', 'is', 'satyam', 'sharma']\n"
     ]
    }
   ],
   "source": [
    "s  = 'hello my name is satyam sharma'\n",
    "list_of_words = s.split()\n",
    "print(list_of_words)"
   ]
  },
  {
   "cell_type": "markdown",
   "id": "f34fc929-37d8-471c-a477-29a8fb7a30a3",
   "metadata": {},
   "source": [
    "44. Convert a list of words into string"
   ]
  },
  {
   "cell_type": "code",
   "execution_count": 205,
   "id": "e21e5066-a673-488b-8667-ffd2639fb8bb",
   "metadata": {},
   "outputs": [
    {
     "name": "stdout",
     "output_type": "stream",
     "text": [
      "hello my name is satyam sharma\n"
     ]
    }
   ],
   "source": [
    "words_of_strnigs = \" \".join(list_of_words)\n",
    "print(words_of_strnigs)"
   ]
  },
  {
   "cell_type": "markdown",
   "id": "898870d9-8656-481e-aa4d-83050a88801c",
   "metadata": {},
   "source": [
    "45. Create a list of the first 'n' powers of 2"
   ]
  },
  {
   "cell_type": "code",
   "execution_count": 206,
   "id": "debb8bdd-a2c2-4dd2-b438-c5bd769ca57f",
   "metadata": {},
   "outputs": [],
   "source": [
    "def squares(n):\n",
    "    return [i**2 for i in range(1, n+1)]"
   ]
  },
  {
   "cell_type": "code",
   "execution_count": 207,
   "id": "3831e511-e105-4acf-9811-29c293b81329",
   "metadata": {},
   "outputs": [
    {
     "data": {
      "text/plain": [
       "[1, 4, 9, 16, 25, 36, 49, 64, 81, 100]"
      ]
     },
     "execution_count": 207,
     "metadata": {},
     "output_type": "execute_result"
    }
   ],
   "source": [
    "squares(10)"
   ]
  },
  {
   "cell_type": "markdown",
   "id": "998eeec7-904a-4ec5-8ccf-bb702cd35048",
   "metadata": {},
   "source": [
    "46. Find the longest string in a list of strings"
   ]
  },
  {
   "cell_type": "code",
   "execution_count": 208,
   "id": "5fa41d85-c3e9-414c-ac15-c9302e7a1c7c",
   "metadata": {},
   "outputs": [
    {
     "data": {
      "text/plain": [
       "'satyam'"
      ]
     },
     "execution_count": 208,
     "metadata": {},
     "output_type": "execute_result"
    }
   ],
   "source": [
    "## set initially first element as maximum  and compare with all remaining values in list\n",
    "def maximum_length(string_list):\n",
    "    max_length_string  = string_list[0]\n",
    "    for i in string_list:\n",
    "        if len(i) > len(max_length_string):\n",
    "            max_length_string = i\n",
    "            \n",
    "    return max_length_string\n",
    "\n",
    "maximum_length(list_of_words)"
   ]
  },
  {
   "cell_type": "markdown",
   "id": "4b3ba30d-d289-4acd-8402-8e5d179df0c7",
   "metadata": {},
   "source": [
    "47. Find the shortest string in a list of strings"
   ]
  },
  {
   "cell_type": "code",
   "execution_count": 209,
   "id": "72525eda-9083-44a8-becc-b4d5927b53e4",
   "metadata": {},
   "outputs": [
    {
     "data": {
      "text/plain": [
       "'my'"
      ]
     },
     "execution_count": 209,
     "metadata": {},
     "output_type": "execute_result"
    }
   ],
   "source": [
    "def minimum_length(string_list):\n",
    "    min_length_string  = string_list[0]\n",
    "    for i in string_list:\n",
    "        if len(i) < len(min_length_string):\n",
    "            min_length_string = i\n",
    "            \n",
    "    return min_length_string\n",
    "\n",
    "minimum_length(list_of_words)"
   ]
  },
  {
   "cell_type": "markdown",
   "id": "967ac61d-4687-4da6-bc99-e3c35a019812",
   "metadata": {},
   "source": [
    "48. Create a list of the first 'n' triangular numbers"
   ]
  },
  {
   "cell_type": "code",
   "execution_count": 210,
   "id": "6d98166b-a141-4abe-bb56-d4d15b8158c2",
   "metadata": {},
   "outputs": [],
   "source": [
    "## what is triangular number?\n",
    "## A figurative number that can be represented by equilateral triangle\n",
    "## In such a way that subsequent row contains an element more than the previous one\n",
    "## ex  1 3 6 10 \n",
    "## pattern add 2 then add 3 then add 4......\n",
    "\n",
    "\n",
    "## logic start with number 1 and keep adding a number(which is incremented by 1)\n",
    "def triangular_numbers(n):\n",
    "    count = 0\n",
    "    start = 1\n",
    "    increamenting_number = 2\n",
    "    while count < n:\n",
    "        yield start\n",
    "        start = start + increamenting_number\n",
    "        increamenting_number = increamenting_number + 1    \n",
    "        \n",
    "        count = count + 1\n",
    "    return start"
   ]
  },
  {
   "cell_type": "code",
   "execution_count": 211,
   "id": "1713d30f-5837-4f0e-a377-24f169ccf9e0",
   "metadata": {},
   "outputs": [],
   "source": [
    "## what is triangular number?\n",
    "## A figurative number that can be represented by equilateral triangle\n",
    "## In such a way that subsequent row contains an element more than the previous one\n",
    "## ex  1 3 6 10 \n",
    "## pattern add 2 then add 3 then add 4......\n",
    "\n",
    "\n",
    "## logic start with number 1 and keep adding a number(which is incremented by 1)\n",
    "def triangular_numbers(n):\n",
    "    count = 0\n",
    "    start = 1\n",
    "    increamenting_number = 2\n",
    "    while count < n:\n",
    "        yield start\n",
    "        start = start + increamenting_number\n",
    "        increamenting_number = increamenting_number + 1    \n",
    "        \n",
    "        count = count + 1\n",
    "    return start"
   ]
  },
  {
   "cell_type": "code",
   "execution_count": 212,
   "id": "c108cd52-f849-44ac-b028-94fa36de9790",
   "metadata": {},
   "outputs": [
    {
     "name": "stdout",
     "output_type": "stream",
     "text": [
      "Triangular numbers are\n",
      "1 3 6 10 15 21 28 36 45 55 "
     ]
    }
   ],
   "source": [
    "print('Triangular numbers are')\n",
    "for i in triangular_numbers(10):\n",
    "    print(i,end=' ')"
   ]
  },
  {
   "cell_type": "markdown",
   "id": "a3891eda-267e-4d02-ba54-6b91b89e2231",
   "metadata": {},
   "source": [
    "49. Check if a list contains another list as a subsequence"
   ]
  },
  {
   "cell_type": "raw",
   "id": "dc6700fd-54ab-41ff-83d0-d038e8381f0a",
   "metadata": {},
   "source": [
    "## logic search first element of sub in main\n",
    "## if it found it then slice the main list from that element index to the last element\n",
    "## again search for another elements\n",
    "## if any element not found return False\n",
    "\n",
    "\n",
    "def check_subsequence(sub, main):\n",
    "    result = True\n",
    "    while len(main) > 0:\n",
    "        for i in sub:\n",
    "            if i in main:\n",
    "                main = main[main.index(i):]\n",
    "            else:\n",
    "                result = False\n",
    "                break  # Exit the loop when a value is not found\n",
    "    return result\n",
    "\n",
    "main = [34, 23, 54, 23432, 6457, 56678]\n",
    "sub = [54, 23432, 56678]\n",
    "result = check_subsequence(sub, main)\n",
    "\n",
    "if result:\n",
    "    print(\"sub is a subsequence of main\")\n",
    "else:\n",
    "    print(\"sub is not a subsequence of main\")\n"
   ]
  },
  {
   "cell_type": "markdown",
   "id": "89387c48-d591-42bb-ba22-91205ef36d46",
   "metadata": {},
   "source": [
    "50. Swap two elements in a list by their indices"
   ]
  },
  {
   "cell_type": "code",
   "execution_count": 1,
   "id": "4f1ede7a-2c4e-4706-9ba8-1ddd1bf5bd65",
   "metadata": {},
   "outputs": [
    {
     "name": "stdout",
     "output_type": "stream",
     "text": [
      "Before Swapping [123, 43, 25, 346, 457, 56, 2, 341]\n",
      "After swapping [43, 123, 25, 346, 457, 56, 2, 341]\n"
     ]
    }
   ],
   "source": [
    "l = [123,43,25,346,457,56,2,341]\n",
    "print('Before Swapping', l)\n",
    "## swap zeroth and first index values\n",
    "l[0] , l[1]  = l[1], l[0]\n",
    "print('After swapping',l)"
   ]
  },
  {
   "cell_type": "markdown",
   "id": "1829f5f9-70bd-4562-98ff-f7568e94baaa",
   "metadata": {},
   "source": [
    "## Tuple based practice Problem:"
   ]
  },
  {
   "cell_type": "markdown",
   "id": "9ade78db-d3f5-4ae8-aa2c-7a92a1476918",
   "metadata": {},
   "source": [
    "1. Create a tuple with integers from 1 to 5"
   ]
  },
  {
   "cell_type": "code",
   "execution_count": 2,
   "id": "e0f60812-c85c-4f31-83e5-67cc3963faa9",
   "metadata": {},
   "outputs": [
    {
     "name": "stdout",
     "output_type": "stream",
     "text": [
      "(1, 2, 3, 4, 5)\n"
     ]
    },
    {
     "data": {
      "text/plain": [
       "tuple"
      ]
     },
     "execution_count": 2,
     "metadata": {},
     "output_type": "execute_result"
    }
   ],
   "source": [
    "t = tuple(range(1,6))\n",
    "print(t)\n",
    "type(t)"
   ]
  },
  {
   "cell_type": "markdown",
   "id": "4d11e75b-e435-4534-872f-4780eba45082",
   "metadata": {},
   "source": [
    "2. Access the third element of a tuple"
   ]
  },
  {
   "cell_type": "code",
   "execution_count": 3,
   "id": "9ff2aa2b-aaeb-41ca-8a86-1012ca223cf1",
   "metadata": {},
   "outputs": [
    {
     "data": {
      "text/plain": [
       "3"
      ]
     },
     "execution_count": 3,
     "metadata": {},
     "output_type": "execute_result"
    }
   ],
   "source": [
    "t[2]"
   ]
  },
  {
   "cell_type": "markdown",
   "id": "32085b41-96e4-41f4-8001-a0f35ee7f66a",
   "metadata": {},
   "source": [
    "3. Find the length of a tuple without using the len() function"
   ]
  },
  {
   "cell_type": "code",
   "execution_count": 4,
   "id": "d59d3582-852d-475d-95a3-1d3821ed2987",
   "metadata": {},
   "outputs": [
    {
     "name": "stdout",
     "output_type": "stream",
     "text": [
      "(1, 2, 3, 4, 5)\n",
      "Length of tuple t is \n",
      "5\n"
     ]
    }
   ],
   "source": [
    "print(t)\n",
    "print('Length of tuple t is ')\n",
    "print(t.index(t[-1]) + 1)\n",
    "\n",
    "## get the index of the last element and add 1"
   ]
  },
  {
   "cell_type": "markdown",
   "id": "f4c994ee-0a1c-4817-8a58-e756277669e8",
   "metadata": {},
   "source": [
    "4. Count the occurrences of an element in a tuple"
   ]
  },
  {
   "cell_type": "code",
   "execution_count": 5,
   "id": "fdcbd8e6-13ad-4a0f-a3f0-b665300066bb",
   "metadata": {},
   "outputs": [
    {
     "name": "stdout",
     "output_type": "stream",
     "text": [
      "(1, 2, 3, 4, 5)\n"
     ]
    },
    {
     "data": {
      "text/plain": [
       "1"
      ]
     },
     "execution_count": 5,
     "metadata": {},
     "output_type": "execute_result"
    }
   ],
   "source": [
    "print(t)\n",
    "t.count(3)"
   ]
  },
  {
   "cell_type": "markdown",
   "id": "3a4d9e0b-172a-4914-b201-d2369162e40a",
   "metadata": {},
   "source": [
    "5. Find the index of the first occurrence of an element in a tuple"
   ]
  },
  {
   "cell_type": "code",
   "execution_count": 6,
   "id": "7135500b-14fe-4e16-bd94-5113356ad0c3",
   "metadata": {},
   "outputs": [
    {
     "name": "stdout",
     "output_type": "stream",
     "text": [
      "(1, 2, 3, 4, 5, 2, 45)\n",
      "Index of the first occurrence of '2'\n"
     ]
    },
    {
     "data": {
      "text/plain": [
       "2"
      ]
     },
     "execution_count": 6,
     "metadata": {},
     "output_type": "execute_result"
    }
   ],
   "source": [
    "new_t  = (1,2,3,4,5,2,45)\n",
    "print(new_t)\n",
    "print(\"Index of the first occurrence of '2'\")\n",
    "new_t.count(2)\n",
    "\n",
    "## This count function gives first occurrence of the element"
   ]
  },
  {
   "cell_type": "markdown",
   "id": "3ee1818d-7a48-48ff-9fe7-c93ad523fdc3",
   "metadata": {},
   "source": [
    "6. Check if an element exists in a tuple"
   ]
  },
  {
   "cell_type": "code",
   "execution_count": 7,
   "id": "a0211344-72a4-431b-a405-0b7f7af16da0",
   "metadata": {},
   "outputs": [
    {
     "name": "stdout",
     "output_type": "stream",
     "text": [
      "(1, 2, 3, 4, 5, 2, 45)\n",
      "NO\n"
     ]
    }
   ],
   "source": [
    "print(new_t)\n",
    "if 6 in new_t:\n",
    "    print('Yes')\n",
    "else:\n",
    "    print('NO')"
   ]
  },
  {
   "cell_type": "markdown",
   "id": "fef42100-e3ac-4610-aaae-56c0d6e3a004",
   "metadata": {},
   "source": [
    "7. Convert a tuple to a list"
   ]
  },
  {
   "cell_type": "code",
   "execution_count": 8,
   "id": "db35dafb-4a0f-4b31-b7c2-3ee491df58c2",
   "metadata": {},
   "outputs": [
    {
     "name": "stdout",
     "output_type": "stream",
     "text": [
      "(1, 2, 3, 4, 5, 2, 45)\n",
      "[1, 2, 3, 4, 5, 2, 45]\n"
     ]
    }
   ],
   "source": [
    "print(new_t)\n",
    "print(list(new_t))"
   ]
  },
  {
   "cell_type": "markdown",
   "id": "13aed8c4-8031-485a-81a6-b51eb136c7c6",
   "metadata": {},
   "source": [
    "8. Convert a list into a tuple"
   ]
  },
  {
   "cell_type": "code",
   "execution_count": 9,
   "id": "53fe40d5-f0aa-46ab-9c5c-c961a93eb07c",
   "metadata": {},
   "outputs": [
    {
     "name": "stdout",
     "output_type": "stream",
     "text": [
      "List\n",
      "[43, 123, 25, 346, 457, 56, 2, 341]\n",
      "Tuple\n",
      "(43, 123, 25, 346, 457, 56, 2, 341)\n"
     ]
    }
   ],
   "source": [
    "print('List')\n",
    "print(l)\n",
    "print('Tuple')\n",
    "print(tuple(l))"
   ]
  },
  {
   "cell_type": "markdown",
   "id": "9d974b6d-c720-4c2b-80e9-ed0af3d87181",
   "metadata": {},
   "source": [
    "9. Unpack the elements of a tuple into variables"
   ]
  },
  {
   "cell_type": "code",
   "execution_count": 10,
   "id": "a4e3217e-285d-4355-a8a3-46bd1e462145",
   "metadata": {},
   "outputs": [
    {
     "name": "stdout",
     "output_type": "stream",
     "text": [
      "(1, 2, 3, 4, 5, 2, 45)\n",
      "1 2 3 "
     ]
    }
   ],
   "source": [
    "## Assigning the elements of the tuple to variabels is called as tuple unpacking\n",
    "\n",
    "print(new_t)\n",
    "\n",
    "## store first three elements of the tuple into variabels\n",
    "a,b,c = new_t[:3]\n",
    "print(a,b,c,end  =\" \")"
   ]
  },
  {
   "cell_type": "markdown",
   "id": "82f4ea13-ead1-4976-bf46-9fabbd533f26",
   "metadata": {},
   "source": [
    "10. Create a tuple of even numbers from 1 to 10"
   ]
  },
  {
   "cell_type": "code",
   "execution_count": 11,
   "id": "97a3996a-f6e2-4dd0-89c3-56f64d9c6587",
   "metadata": {},
   "outputs": [
    {
     "name": "stdout",
     "output_type": "stream",
     "text": [
      "(2, 4, 6, 8, 10)\n",
      "<class 'tuple'>\n"
     ]
    }
   ],
   "source": [
    "## even_tuple will be a generator \n",
    "\n",
    "even_tuple = [i for i in range(1, 11) if i % 2==0]\n",
    "print(tuple(even_tuple))\n",
    "print(type(tuple((even_tuple))))"
   ]
  },
  {
   "cell_type": "code",
   "execution_count": 12,
   "id": "38caa3b9-b7c4-48f2-80b1-5bf7459fe920",
   "metadata": {},
   "outputs": [
    {
     "name": "stdout",
     "output_type": "stream",
     "text": [
      "2 4 6 8 10 "
     ]
    }
   ],
   "source": [
    "## Another approach to access the elements of generator is iterattion\n",
    "\n",
    "even_tuple = (i for i in range(1, 11) if i % 2==0)\n",
    "for values in even_tuple:\n",
    "    print(values, end = \" \")\n"
   ]
  },
  {
   "cell_type": "markdown",
   "id": "67ce8cb4-0461-4c3d-9098-52065f4792d1",
   "metadata": {},
   "source": [
    "11. Create a tuple of odd numbers from 1 to 10"
   ]
  },
  {
   "cell_type": "code",
   "execution_count": 13,
   "id": "f0a7cb09-9aef-4e7f-ba1b-cc3f34f5a3e1",
   "metadata": {},
   "outputs": [
    {
     "name": "stdout",
     "output_type": "stream",
     "text": [
      "1 3 5 7 9 "
     ]
    }
   ],
   "source": [
    "odd_tuple = (i for i in range(1, 11) if i % 2 !=0)\n",
    "for values in odd_tuple:\n",
    "    print(values, end = \" \")"
   ]
  },
  {
   "cell_type": "markdown",
   "id": "49f44770-b6fd-4ec4-9614-1776bd11594f",
   "metadata": {},
   "source": [
    "12. Concatenate two tuples"
   ]
  },
  {
   "cell_type": "code",
   "execution_count": 14,
   "id": "ce307358-4523-455f-9422-1083d60c6640",
   "metadata": {},
   "outputs": [
    {
     "name": "stdout",
     "output_type": "stream",
     "text": [
      "(23, 34, 2, 534, 5654, 234, 234, 235, 345, 36)\n"
     ]
    }
   ],
   "source": [
    "t1 = (23,34,2,534,5654)\n",
    "t2 = (234,234,235,345,36)\n",
    "\n",
    "## concatenation of tuples (same as list)\n",
    "print(t1 + t2)"
   ]
  },
  {
   "cell_type": "markdown",
   "id": "405cd9b8-b25a-471d-8853-cc8635a9c289",
   "metadata": {},
   "source": [
    "13. Repeat a tuple three times"
   ]
  },
  {
   "cell_type": "code",
   "execution_count": 15,
   "id": "9206494d-eb0d-4d6f-b480-433e367110f0",
   "metadata": {},
   "outputs": [
    {
     "name": "stdout",
     "output_type": "stream",
     "text": [
      "(1, 2, 3, 4, 5)\n",
      "(1, 2, 3, 4, 5, 1, 2, 3, 4, 5, 1, 2, 3, 4, 5)\n"
     ]
    }
   ],
   "source": [
    "print(t)\n",
    "print(3 * t)"
   ]
  },
  {
   "cell_type": "markdown",
   "id": "0b48c35c-5b78-40ce-8f45-acdab40e2f39",
   "metadata": {},
   "source": [
    "14. Check if a tuple is empty"
   ]
  },
  {
   "cell_type": "code",
   "execution_count": 16,
   "id": "80f5506f-9667-4b9f-b226-3ad5aab476c2",
   "metadata": {},
   "outputs": [
    {
     "name": "stdout",
     "output_type": "stream",
     "text": [
      "(1, 2, 3, 4, 5)\n",
      "Non empty tuple\n"
     ]
    }
   ],
   "source": [
    "print(t)\n",
    "if len(t) == 0 :\n",
    "    print('An empty tuple')\n",
    "else:\n",
    "    print('Non empty tuple')"
   ]
  },
  {
   "cell_type": "markdown",
   "id": "0a8aa006-a783-4631-ae58-2ba9a1adb1d3",
   "metadata": {},
   "source": [
    "15. Create a nested tuple"
   ]
  },
  {
   "cell_type": "code",
   "execution_count": 17,
   "id": "22cd0006-bf47-4891-85c7-48a732e70842",
   "metadata": {},
   "outputs": [
    {
     "name": "stdout",
     "output_type": "stream",
     "text": [
      "(1, 42, 34, (543, 4, 25))\n"
     ]
    }
   ],
   "source": [
    "nested_tuple = (1,42,34,(543,4,25))\n",
    "print(nested_tuple)"
   ]
  },
  {
   "cell_type": "markdown",
   "id": "d959fc4e-293e-4fab-a2b3-1ba380f4bcaa",
   "metadata": {},
   "source": [
    "16. Access the first element of a nested tuple"
   ]
  },
  {
   "cell_type": "code",
   "execution_count": 18,
   "id": "0aecda69-07c1-449b-b5d7-cb90e1764d2f",
   "metadata": {},
   "outputs": [
    {
     "name": "stdout",
     "output_type": "stream",
     "text": [
      "FIRST ELEMENT OF NESTED TUPLE is  1\n"
     ]
    }
   ],
   "source": [
    "print('FIRST ELEMENT OF NESTED TUPLE is ',nested_tuple[0])"
   ]
  },
  {
   "cell_type": "markdown",
   "id": "1d329602-1c19-4262-b1db-b11ba8454219",
   "metadata": {},
   "source": [
    "17. Create a tuple with a single element"
   ]
  },
  {
   "cell_type": "code",
   "execution_count": 19,
   "id": "0d0e988e-f3ef-40f9-a4c1-35d9620dcef1",
   "metadata": {},
   "outputs": [
    {
     "name": "stdout",
     "output_type": "stream",
     "text": [
      "(1,)\n",
      "<class 'tuple'>\n"
     ]
    }
   ],
   "source": [
    "single_element_tuple = (1,)\n",
    "print(single_element_tuple)\n",
    "print(type(single_element_tuple))"
   ]
  },
  {
   "cell_type": "markdown",
   "id": "cd15e350-e2b8-4d30-8927-1d3f686ce8f9",
   "metadata": {},
   "source": [
    "18. Compare two tuples"
   ]
  },
  {
   "cell_type": "code",
   "execution_count": 20,
   "id": "8bb3ffd0-19a2-467b-90ec-aaacb5377f84",
   "metadata": {},
   "outputs": [
    {
     "name": "stdout",
     "output_type": "stream",
     "text": [
      "(23, 34, 2, 534, 5654)\n",
      "(234, 234, 235, 345, 36)\n",
      "False\n",
      "True\n",
      "False\n",
      "False\n",
      "True\n"
     ]
    }
   ],
   "source": [
    "print(t1)\n",
    "print(t2)\n",
    "\n",
    "print(t1 == t2)\n",
    "print(t1  < t2)\n",
    "print(t1 > t2)\n",
    "print(t1 >= t2)\n",
    "print(t1 <= t2)"
   ]
  },
  {
   "cell_type": "markdown",
   "id": "6ed22bb3-19f6-45e3-93a2-71bacce787e7",
   "metadata": {},
   "source": [
    "19. Delete a tuple"
   ]
  },
  {
   "cell_type": "code",
   "execution_count": 21,
   "id": "17ed21c0-117d-4d57-a5c5-d1d72c80abd5",
   "metadata": {},
   "outputs": [
    {
     "name": "stdout",
     "output_type": "stream",
     "text": [
      "(1, 2, 3)\n",
      "Error: name 't' is not defined\n"
     ]
    }
   ],
   "source": [
    "try:\n",
    "    t = (1, 2, 3)\n",
    "    print(t)\n",
    "    \n",
    "    del t\n",
    "    \n",
    "    # Attempt to print t after deleting it\n",
    "    print(t)\n",
    "except NameError as e:\n",
    "    print(f\"Error: {e}\")\n"
   ]
  },
  {
   "cell_type": "markdown",
   "id": "ec205b56-423b-4775-a79c-18b9d66709c9",
   "metadata": {},
   "source": [
    "20. Slice a tuple"
   ]
  },
  {
   "cell_type": "code",
   "execution_count": 22,
   "id": "8969d925-09c1-4a5f-9925-77a12da9fbea",
   "metadata": {},
   "outputs": [
    {
     "name": "stdout",
     "output_type": "stream",
     "text": [
      "(3, 5, 7, 9)\n"
     ]
    }
   ],
   "source": [
    "t = (1,3,5,7,9,23,45)\n",
    "\n",
    "## between 2 to 4th element of tuple\n",
    "print(t[1:5])"
   ]
  },
  {
   "cell_type": "markdown",
   "id": "272c5811-8435-40d8-b803-aa7f7597d7c0",
   "metadata": {},
   "source": [
    "21. Find the maximum value in a tuple\n"
   ]
  },
  {
   "cell_type": "code",
   "execution_count": 23,
   "id": "2366f5ae-fb6b-4b28-9607-2f78b26536db",
   "metadata": {},
   "outputs": [
    {
     "name": "stdout",
     "output_type": "stream",
     "text": [
      "(1, 3, 5, 7, 9, 23, 45)\n",
      "45\n"
     ]
    }
   ],
   "source": [
    "print(t)\n",
    "print(max(t))"
   ]
  },
  {
   "cell_type": "markdown",
   "id": "c93ab03c-b376-4526-9528-bc709cce54a4",
   "metadata": {},
   "source": [
    "22. Find the minimum value in a tuple"
   ]
  },
  {
   "cell_type": "code",
   "execution_count": 24,
   "id": "0df79de5-3aa7-4da2-8630-3e004ec51a72",
   "metadata": {},
   "outputs": [
    {
     "name": "stdout",
     "output_type": "stream",
     "text": [
      "(1, 3, 5, 7, 9, 23, 45)\n",
      "1\n"
     ]
    }
   ],
   "source": [
    "print(t)\n",
    "print(min(t))"
   ]
  },
  {
   "cell_type": "markdown",
   "id": "6e2cc691-64e6-4792-b409-b17fc443f097",
   "metadata": {},
   "source": [
    "23. Convert a string to a tuple of characters"
   ]
  },
  {
   "cell_type": "code",
   "execution_count": 25,
   "id": "50a370d6-dbcf-4769-902a-eda7e6cb8a17",
   "metadata": {},
   "outputs": [
    {
     "name": "stdout",
     "output_type": "stream",
     "text": [
      "('h', 'e', 'l', 'l', 'o', ' ', 't', 'h', 'e', 'r', 'e', ' ', 'i', ' ', 'a', 'm', ' ', 'e', 'a', 'g', 'e', 'r', ' ', 't', 'o', ' ', 'b', 'e', 'c', 'o', 'm', 'e', ' ', 'a', ' ', 'd', 'a', 't', 'a', ' ', 's', 'c', 'i', 'e', 'n', 't', 'i', 's', 't') "
     ]
    }
   ],
   "source": [
    "s = 'hello there i am eager to become a data scientist'\n",
    "tuple_char = tuple(char for char in s)\n",
    "print(tuple_char,end= \" \")"
   ]
  },
  {
   "cell_type": "markdown",
   "id": "46ff36c5-ac21-482f-92d8-871c1724ff38",
   "metadata": {},
   "source": [
    "24. Convert a tuple of characters to a string"
   ]
  },
  {
   "cell_type": "code",
   "execution_count": 26,
   "id": "8e82af6b-cef4-40cb-879f-32c2550941f2",
   "metadata": {},
   "outputs": [
    {
     "data": {
      "text/plain": [
       "'hello there i am eager to become a data scientist'"
      ]
     },
     "execution_count": 26,
     "metadata": {},
     "output_type": "execute_result"
    }
   ],
   "source": [
    "\"\".join(tuple_char)"
   ]
  },
  {
   "cell_type": "markdown",
   "id": "29cb448e-921a-4694-b472-51379c68484f",
   "metadata": {},
   "source": [
    "25. Create a tuple from multiple data types"
   ]
  },
  {
   "cell_type": "code",
   "execution_count": 27,
   "id": "623248d5-0df2-403e-aa1d-011b1912a648",
   "metadata": {},
   "outputs": [
    {
     "name": "stdout",
     "output_type": "stream",
     "text": [
      "string <class 'str'>\t23 <class 'int'>\tTrue <class 'bool'>\t2345.0 <class 'float'>\t"
     ]
    }
   ],
   "source": [
    "t = ('string',23,True,2345.0)\n",
    "for ele in t:\n",
    "    print(ele, type(ele),end = \"\\t\" )"
   ]
  },
  {
   "cell_type": "markdown",
   "id": "54dfdaf0-77d3-440a-aa8b-b01e2d84fcb8",
   "metadata": {},
   "source": [
    "26. Check if two tuples are identical"
   ]
  },
  {
   "cell_type": "code",
   "execution_count": 28,
   "id": "a9a37c7b-0785-4ce0-a716-415425502294",
   "metadata": {},
   "outputs": [
    {
     "name": "stdout",
     "output_type": "stream",
     "text": [
      "True\n"
     ]
    }
   ],
   "source": [
    "t1 = (1,2,3,4,5)\n",
    "t2 = (1,2,3,4,5)\n",
    "print(t1 == t2)"
   ]
  },
  {
   "cell_type": "markdown",
   "id": "6503fdb9-4cc9-463b-a332-4e94f49a480c",
   "metadata": {},
   "source": [
    "27. Sort the elements of a tuple"
   ]
  },
  {
   "cell_type": "code",
   "execution_count": 29,
   "id": "d76f9c22-d7f3-4dee-a2a0-6b950a513209",
   "metadata": {},
   "outputs": [
    {
     "name": "stdout",
     "output_type": "stream",
     "text": [
      "(4, 2, 34, 34, 5, 546)\n",
      "[2, 4, 5, 34, 34, 546]\n"
     ]
    }
   ],
   "source": [
    "t1 = (4,2,34,34,5,546)\n",
    "print(t1)\n",
    "print(sorted(t1))"
   ]
  },
  {
   "cell_type": "markdown",
   "id": "6c4ff21e-d798-4689-8bfa-4dab529bf7b3",
   "metadata": {},
   "source": [
    "28. Convert a tuple of integers to a tuple of strings"
   ]
  },
  {
   "cell_type": "code",
   "execution_count": 30,
   "id": "133adfe7-c5f0-43dc-a320-49d281eec951",
   "metadata": {},
   "outputs": [
    {
     "data": {
      "text/plain": [
       "('string', 23, True, 2345.0)"
      ]
     },
     "execution_count": 30,
     "metadata": {},
     "output_type": "execute_result"
    }
   ],
   "source": [
    "t"
   ]
  },
  {
   "cell_type": "code",
   "execution_count": 31,
   "id": "c1c9a383-a28a-4206-ae9f-cfbcd65e5d2b",
   "metadata": {},
   "outputs": [
    {
     "name": "stdout",
     "output_type": "stream",
     "text": [
      "('1', '2', '3', '4', '5')\n"
     ]
    }
   ],
   "source": [
    "# Original tuple of integers\n",
    "int_tuple = (1, 2, 3, 4, 5)\n",
    "\n",
    "# Using lambda function to convert to a tuple of strings\n",
    "str_tuple = tuple(map(lambda x: str(x), int_tuple))\n",
    "\n",
    "# Print the result\n",
    "print(str_tuple)\n"
   ]
  },
  {
   "cell_type": "markdown",
   "id": "e5aa30c3-9839-4cb5-b99f-44668d5e002c",
   "metadata": {},
   "source": [
    "29. Convert a tuple of strings to a tuple of integers"
   ]
  },
  {
   "cell_type": "code",
   "execution_count": 32,
   "id": "78c1af39-58bd-4f91-8d54-2e2725e0bc9d",
   "metadata": {},
   "outputs": [
    {
     "name": "stdout",
     "output_type": "stream",
     "text": [
      "('1', '2', '3', '4', '5')\n"
     ]
    },
    {
     "data": {
      "text/plain": [
       "(1, 2, 3, 4, 5)"
      ]
     },
     "execution_count": 32,
     "metadata": {},
     "output_type": "execute_result"
    }
   ],
   "source": [
    "print(str_tuple)\n",
    "\n",
    "tuple(map(lambda x : int(x) , str_tuple))\n"
   ]
  },
  {
   "cell_type": "markdown",
   "id": "fd96daee-f9bb-4d3b-bf5a-724bcd56188b",
   "metadata": {},
   "source": [
    "30. Merge two tuples"
   ]
  },
  {
   "cell_type": "code",
   "execution_count": 33,
   "id": "834f5027-4b98-418d-b255-cdfe7081764f",
   "metadata": {},
   "outputs": [
    {
     "name": "stdout",
     "output_type": "stream",
     "text": [
      "(1, 4, 54, 43, 534, 52, 56, 547, 4, 2)\n"
     ]
    }
   ],
   "source": [
    "t1 = (1,4,54,43,534)\n",
    "t2 = (52,56,547,4,2)\n",
    "\n",
    "## merge t1 and t2\n",
    "print(t1 + t2)"
   ]
  },
  {
   "cell_type": "markdown",
   "id": "bf88179a-0945-48c7-8154-3082a5375158",
   "metadata": {},
   "source": [
    "32. Create a tuple of the first 5 prime numbers"
   ]
  },
  {
   "cell_type": "code",
   "execution_count": 34,
   "id": "bb9a52f1-f9a8-4178-9fb1-e3757e07ffe1",
   "metadata": {},
   "outputs": [
    {
     "name": "stdout",
     "output_type": "stream",
     "text": [
      "Prime numbers till 5 are\n"
     ]
    },
    {
     "data": {
      "text/plain": [
       "{2, 3, 5}"
      ]
     },
     "execution_count": 34,
     "metadata": {},
     "output_type": "execute_result"
    }
   ],
   "source": [
    "num = 5\n",
    "full_numbers = list(range(2,6))\n",
    "not_prime_numbers = []\n",
    "for i in range(2, num + 1):\n",
    "    for j in range(2,i):\n",
    "        if i%j == 0:\n",
    "            not_prime_numbers.append(i)\n",
    "            break\n",
    "            \n",
    "print('Prime numbers till 5 are')\n",
    "set(full_numbers).difference(set(not_prime_numbers))\n",
    "        "
   ]
  },
  {
   "cell_type": "markdown",
   "id": "a6071aa5-a26b-40df-8a1d-c056ac3b809a",
   "metadata": {},
   "source": [
    "*Logic*<br>\n",
    "* For checking if number is prime or not , check if it is divisible by any number beween (1 to itsef) {keep both exclusive}\n",
    "* If it is divisible then put it in the non prime category\n",
    "* create full numbers from 2 to till the number of prime number we want\n",
    "* finally, take difference of them\n",
    "* fortunately set provides the difference function use it to get the other numbers(which are our prime numbers)"
   ]
  },
  {
   "cell_type": "markdown",
   "id": "a52fb599-5fe2-4eda-9844-c6ffa214745c",
   "metadata": {},
   "source": [
    "31. Flatten a nested tuple"
   ]
  },
  {
   "cell_type": "code",
   "execution_count": 35,
   "id": "b6332976-810a-498d-95de-6d6a89fd6b14",
   "metadata": {},
   "outputs": [],
   "source": [
    "## take a help of recursive function as we did in list\n",
    "def flatten_a_tuple(t):\n",
    "    flatten_list  = []\n",
    "    for item in t:\n",
    "        if isinstance(item, tuple):\n",
    "            flatten_list.extend(flatten_a_tuple(item))\n",
    "        else:\n",
    "            flatten_list.append(item)\n",
    "            \n",
    "    return tuple(flatten_list)"
   ]
  },
  {
   "cell_type": "code",
   "execution_count": 36,
   "id": "2b96fa3f-7bdc-4490-809d-e38fcb790558",
   "metadata": {},
   "outputs": [
    {
     "data": {
      "text/plain": [
       "(2, 6, 3, 3, 6, 56, 52, 5, 63, 234, 4, 23, 32)"
      ]
     },
     "execution_count": 36,
     "metadata": {},
     "output_type": "execute_result"
    }
   ],
   "source": [
    "## function calling\n",
    "flatten_a_tuple((2,6,3,3,6,56,(52,5,63,(234,4),23),32))"
   ]
  },
  {
   "cell_type": "markdown",
   "id": "d986c9a3-2c4d-40ca-b96b-d982af168acf",
   "metadata": {},
   "source": [
    "33. Check if a tuple is a palindrome"
   ]
  },
  {
   "cell_type": "code",
   "execution_count": 37,
   "id": "99831701-238b-4161-a1e0-bf557907aa1a",
   "metadata": {},
   "outputs": [
    {
     "name": "stdout",
     "output_type": "stream",
     "text": [
      "(1, 3, 4, 5, 6, 5, 4, 3, 1)\n",
      "(1, 3, 4, 5, 6, 5, 4, 3, 1)\n"
     ]
    }
   ],
   "source": [
    "## tuples are palindrome when ex- (1,2,3,2,1)\n",
    "## reversing the tuple should be same with the normal tuple\n",
    "palindrome_tuple = (1,3,4,5,6,5,4,3,1)\n",
    "print(palindrome_tuple)\n",
    "print(palindrome_tuple[::-1])"
   ]
  },
  {
   "cell_type": "markdown",
   "id": "9638f105-5dcc-4229-837d-aad0dec03f42",
   "metadata": {},
   "source": [
    "34. Create a tuple of squares of numbers from 1 to 5"
   ]
  },
  {
   "cell_type": "code",
   "execution_count": 38,
   "id": "f9251bdc-67a3-45d3-a044-dfb791b80916",
   "metadata": {},
   "outputs": [
    {
     "data": {
      "text/plain": [
       "(1, 4, 9, 16, 25, 36)"
      ]
     },
     "execution_count": 38,
     "metadata": {},
     "output_type": "execute_result"
    }
   ],
   "source": [
    "squares = lambda x : x**2\n",
    "tuple(map(squares, (1,2,3,4,5,6)))"
   ]
  },
  {
   "cell_type": "markdown",
   "id": "2a21c1b3-455c-43e1-979c-98965020103d",
   "metadata": {},
   "source": [
    "35. Filter out all even numbers from a tuple"
   ]
  },
  {
   "cell_type": "code",
   "execution_count": 39,
   "id": "58271fc5-8f96-4f06-99f5-e9dcaedc36a6",
   "metadata": {},
   "outputs": [
    {
     "name": "stdout",
     "output_type": "stream",
     "text": [
      "(2, 4, 6, 6, 756, 6)\n"
     ]
    }
   ],
   "source": [
    "tup = (1,2,3,4,5,6,6,756,75,6,3)\n",
    "extracted_even_numbers = tuple([x for x in tup if x % 2==0])\n",
    "print(extracted_even_numbers)"
   ]
  },
  {
   "cell_type": "markdown",
   "id": "5ce64b81-4885-450c-900f-a919f85b85b2",
   "metadata": {},
   "source": [
    "36. Multiply all elemetns in a tuple by 2"
   ]
  },
  {
   "cell_type": "code",
   "execution_count": 40,
   "id": "19400883-6ef5-4eef-acd0-8c908da0b7c7",
   "metadata": {},
   "outputs": [
    {
     "data": {
      "text/plain": [
       "(2, 4, 6, 8, 10, 692)"
      ]
     },
     "execution_count": 40,
     "metadata": {},
     "output_type": "execute_result"
    }
   ],
   "source": [
    "## lets do this in one line wiht map function\n",
    "tuple(map(lambda x : x*2 , (1,2,3,4,5,346)))"
   ]
  },
  {
   "cell_type": "markdown",
   "id": "a8cd6063-a6e2-4d1f-97c7-0506c46681a8",
   "metadata": {},
   "source": [
    "37. Create a tuple of random numbers"
   ]
  },
  {
   "cell_type": "code",
   "execution_count": 41,
   "id": "6e5294da-2e2b-42d8-b7cc-8043591c4957",
   "metadata": {},
   "outputs": [
    {
     "name": "stdout",
     "output_type": "stream",
     "text": [
      "(16, 18, 59, 100, 2)\n"
     ]
    }
   ],
   "source": [
    "import random\n",
    "num = 5\n",
    "random_tuple = tuple(random.randint(1,100) for i in range(num))\n",
    "print(random_tuple)"
   ]
  },
  {
   "cell_type": "markdown",
   "id": "7b8d581b-2ab5-42ff-a12d-0eed34604e52",
   "metadata": {},
   "source": [
    "38. Check if a tuple is sorted"
   ]
  },
  {
   "cell_type": "code",
   "execution_count": 42,
   "id": "e107daff-c2e4-4795-8ad0-aa8a19b5c1c2",
   "metadata": {},
   "outputs": [],
   "source": [
    "## sorting can be ascending as well as descending\n",
    "## we wil have check for both the cases\n",
    "def check_sorted(t):\n",
    "    # check if the tuple is sorted in ascending order\n",
    "    if all(t[i] <= t[i+1] for i in range(len(t) - 1)):\n",
    "        return 'Ascending'\n",
    "    \n",
    "    ## Check if the tuple is sorted in descending order\n",
    "    if all(t[i] >= t[i+1] for i in range(len(t) -1)):\n",
    "        return 'Descending'\n",
    "    \n",
    "    return 'Not Sorted'"
   ]
  },
  {
   "cell_type": "code",
   "execution_count": 43,
   "id": "9b5f99df-f538-418a-93be-0935c15d0487",
   "metadata": {},
   "outputs": [
    {
     "name": "stdout",
     "output_type": "stream",
     "text": [
      "Ascending\n",
      "Descending\n",
      "Not Sorted\n"
     ]
    }
   ],
   "source": [
    "## calling function\n",
    "print(check_sorted((1,2,3,4,5,6)))\n",
    "print(check_sorted((6,5,4,3,2,1)))\n",
    "print(check_sorted((1,4,24,23,543,5)))"
   ]
  },
  {
   "cell_type": "markdown",
   "id": "a0ac4a28-a389-45f2-9918-46a509b76364",
   "metadata": {},
   "source": [
    "39 40. Rotate a tuple to the left by 'n' position"
   ]
  },
  {
   "cell_type": "code",
   "execution_count": 44,
   "id": "449df332-7dae-4f88-a8fa-f67705d63558",
   "metadata": {},
   "outputs": [],
   "source": [
    "def rotate_tuple(t,n,rotate_left = False, rotate_right= False):\n",
    "    if rotate_left == True:\n",
    "        return t[n:] + t[:n]\n",
    "    \n",
    "    if rotate_right == True:\n",
    "        return t[-n:] + t[:-n]\n",
    "    "
   ]
  },
  {
   "cell_type": "code",
   "execution_count": 45,
   "id": "6024bbfe-3fe6-4e4f-b1c8-d7d5d60e13a8",
   "metadata": {},
   "outputs": [
    {
     "data": {
      "text/plain": [
       "(5, 35, 2, 35, 1, 2, 3)"
      ]
     },
     "execution_count": 45,
     "metadata": {},
     "output_type": "execute_result"
    }
   ],
   "source": [
    "rotate_tuple((1,2,3,5,35,2,35),3,rotate_left=True)"
   ]
  },
  {
   "cell_type": "code",
   "execution_count": 46,
   "id": "aeeea9cb-9ad5-4930-a814-7627bf7e5bcb",
   "metadata": {},
   "outputs": [
    {
     "data": {
      "text/plain": [
       "(35, 2, 35, 1, 2, 3, 4)"
      ]
     },
     "execution_count": 46,
     "metadata": {},
     "output_type": "execute_result"
    }
   ],
   "source": [
    "rotate_tuple((1,2,3,4,35,2,35),3,rotate_right=True)"
   ]
  },
  {
   "cell_type": "markdown",
   "id": "62dc29ba-3bf5-418c-bf9c-1b1ad29b5360",
   "metadata": {},
   "source": [
    "41. Create a tuple of the first 5 fibonacci numbers"
   ]
  },
  {
   "cell_type": "code",
   "execution_count": 47,
   "id": "ef1b4623-2fe5-4b55-9cd9-1ff89eb7fd55",
   "metadata": {},
   "outputs": [],
   "source": [
    "## Fibonacci series starting with 1\n",
    "n = 5\n",
    "def fibonacci(n):\n",
    "    a , b = 0,1\n",
    "    for i in range(n):        \n",
    "        a , b = b , a+b\n",
    "        yield a"
   ]
  },
  {
   "cell_type": "code",
   "execution_count": 48,
   "id": "fec8d501-6d21-48f5-acd0-9f674f54ce90",
   "metadata": {},
   "outputs": [
    {
     "name": "stdout",
     "output_type": "stream",
     "text": [
      "1 1 2 3 5 "
     ]
    }
   ],
   "source": [
    "for i in fibonacci(5):\n",
    "    print(i,end= ' ')"
   ]
  },
  {
   "cell_type": "markdown",
   "id": "de82f4c2-449a-48b8-a55c-b862c213e04c",
   "metadata": {},
   "source": [
    "42. Create a tuple from user input"
   ]
  },
  {
   "cell_type": "code",
   "execution_count": 1,
   "id": "8225be10-3c45-441b-b2bf-9d98fe40c83e",
   "metadata": {},
   "outputs": [
    {
     "name": "stdin",
     "output_type": "stream",
     "text": [
      "Enter the elements 2\n",
      "Enter the elements 4\n",
      "Enter the elements 5\n",
      "Enter the elements done\n"
     ]
    },
    {
     "name": "stdout",
     "output_type": "stream",
     "text": [
      "('2', '4', '5')\n"
     ]
    }
   ],
   "source": [
    "#### total_length = input('Enter the length of tuple')\n",
    "elements = []\n",
    "while True: \n",
    "    x = input('Enter the elements')\n",
    "    if x == 'done':\n",
    "        break\n",
    "    elements.append(x)\n",
    "    \n",
    "print(tuple(elements))"
   ]
  },
  {
   "cell_type": "markdown",
   "id": "530929af-1614-469f-8ae2-ecf2588344af",
   "metadata": {},
   "source": [
    "43. Swap two elements in a tuple"
   ]
  },
  {
   "cell_type": "code",
   "execution_count": 2,
   "id": "54f91f84-0fe4-4d5d-a63e-1307143710bf",
   "metadata": {},
   "outputs": [
    {
     "name": "stdout",
     "output_type": "stream",
     "text": [
      "(1, 4, 5, 35, 4, 5)\n",
      "After swapping first and last element\n",
      "(5, 4, 5, 35, 4, 1)\n"
     ]
    }
   ],
   "source": [
    "## make sure that tuple immutable\n",
    "## so first convert it into a list and then do swapping\n",
    "\n",
    "tup = (1,4,5,35,4,5)\n",
    "print(tup)\n",
    "tup = list(tup)\n",
    "\n",
    "## swapping first with last\n",
    "tup[0],tup[-1] = tup[-1], tup[0]\n",
    "print('After swapping first and last element')\n",
    "##converting back\n",
    "tup = tuple(tup)\n",
    "print(tup)"
   ]
  },
  {
   "cell_type": "markdown",
   "id": "9770ad96-fe03-4ead-968e-9dffd6d6a172",
   "metadata": {},
   "source": [
    "44. Reverse the elements of a tuple"
   ]
  },
  {
   "cell_type": "code",
   "execution_count": 3,
   "id": "d6cad8b6-d7b7-487a-b09d-df106fd495b3",
   "metadata": {},
   "outputs": [
    {
     "name": "stdout",
     "output_type": "stream",
     "text": [
      "(5, 4, 5, 35, 4, 1)\n",
      "(1, 4, 35, 5, 4, 5)\n"
     ]
    }
   ],
   "source": [
    "print(tup)\n",
    "print(tup[::-1])"
   ]
  },
  {
   "cell_type": "markdown",
   "id": "e4910c40-a5e8-4b21-9671-65aa3de27013",
   "metadata": {},
   "source": [
    "45. Create a tuple of the first 'n' powers of 2"
   ]
  },
  {
   "cell_type": "code",
   "execution_count": 4,
   "id": "1cc03d77-18b2-4163-8002-a73624f914b0",
   "metadata": {},
   "outputs": [
    {
     "name": "stdout",
     "output_type": "stream",
     "text": [
      "(5, 4, 5, 35, 4, 1)\n"
     ]
    },
    {
     "data": {
      "text/plain": [
       "(25, 16, 25, 1225, 16, 1)"
      ]
     },
     "execution_count": 4,
     "metadata": {},
     "output_type": "execute_result"
    }
   ],
   "source": [
    "print(tup)\n",
    "tuple(map(lambda x : x**2 , tup))"
   ]
  },
  {
   "cell_type": "markdown",
   "id": "5e46635e-4c65-489b-9618-3fcbd128bba8",
   "metadata": {},
   "source": [
    "46. Find the longest string in a tuple of strings"
   ]
  },
  {
   "cell_type": "code",
   "execution_count": 5,
   "id": "f909cb3d-851c-48be-b99a-f5fe0dac98f3",
   "metadata": {},
   "outputs": [
    {
     "name": "stdout",
     "output_type": "stream",
     "text": [
      "('hELLO', 'brother', 'reality', 'obnoxious', 'punctuality')\n",
      "punctuality\n",
      "11\n"
     ]
    }
   ],
   "source": [
    "tup_string = ('hELLO','brother','reality','obnoxious','punctuality')\n",
    "print(tup_string)\n",
    "## converting string into \n",
    "base = tup_string[0]\n",
    "for item in tup_string:\n",
    "    if len(item)> len(base):\n",
    "        base = item\n",
    "print(base)\n",
    "print(len(base))"
   ]
  },
  {
   "cell_type": "markdown",
   "id": "0b731569-ba65-4b49-ad61-099812c46976",
   "metadata": {},
   "source": [
    "47. Find the shortest string in a tuple of strings"
   ]
  },
  {
   "cell_type": "code",
   "execution_count": 6,
   "id": "6e4ab64a-f26d-4307-a0d0-fd09bb6c5510",
   "metadata": {},
   "outputs": [
    {
     "name": "stdout",
     "output_type": "stream",
     "text": [
      "('hELLO', 'brother', 'reality', 'obnoxious', 'punctuality')\n",
      "hELLO\n",
      "5\n"
     ]
    }
   ],
   "source": [
    "tup_string = ('hELLO','brother','reality','obnoxious','punctuality')\n",
    "print(tup_string)\n",
    "## converting string into \n",
    "base = tup_string[0]\n",
    "for item in tup_string:\n",
    "    if len(item)< len(base):\n",
    "        base = item\n",
    "print(base)\n",
    "print(len(base))"
   ]
  },
  {
   "cell_type": "markdown",
   "id": "c9d00cd0-9618-4100-b3c9-8c4bd0bacdca",
   "metadata": {},
   "source": [
    "48. Create a tuple of the first  'n' triangular numbers"
   ]
  },
  {
   "cell_type": "code",
   "execution_count": 7,
   "id": "4b711a5d-1409-4908-98a5-5b8dad8bde0b",
   "metadata": {},
   "outputs": [],
   "source": [
    "## basic concept is same as we did in list\n",
    "## 1 3 6 10 so on...\n",
    "## numbers are increamented by 2 , 3, 4,so on....\n",
    "\n",
    "def triangular_numbers(n):\n",
    "    increamented_number = 2\n",
    "    number = 1\n",
    "    while n > 0 : \n",
    "        yield number\n",
    "        number = number + increamented_number\n",
    "        increamented_number = increamented_number + 1       \n",
    "        n = n-1\n",
    "        \n",
    "    return number"
   ]
  },
  {
   "cell_type": "code",
   "execution_count": 8,
   "id": "625cfb50-1bfa-4f49-82a4-c0e5e18c219b",
   "metadata": {},
   "outputs": [
    {
     "data": {
      "text/plain": [
       "(1, 3, 6, 10, 15, 21, 28, 36, 45, 55)"
      ]
     },
     "execution_count": 8,
     "metadata": {},
     "output_type": "execute_result"
    }
   ],
   "source": [
    "tuple(triangular_numbers(10))"
   ]
  },
  {
   "cell_type": "markdown",
   "id": "6dea0c75-e874-4fe0-8813-8a5c4ba2dd89",
   "metadata": {},
   "source": [
    "49. Check if a tuple contains another tuple as a subsequence"
   ]
  },
  {
   "cell_type": "code",
   "execution_count": 9,
   "id": "69f8d049-bd50-4a7a-84d2-64fe071d125d",
   "metadata": {},
   "outputs": [],
   "source": [
    "\n",
    "\n",
    "## to check whether a tuple contains anothe tuple as a subsequence\n",
    "## check if all the elements of sub matches in main\n",
    "\n",
    "def check_subsequence(sub, main):\n",
    "    count = 0\n",
    "    for ele in sub:\n",
    "        if ele in main :\n",
    "            index_at_ele_found = main.index(ele)\n",
    "            main = main[index_at_ele_found:]\n",
    "            count = count + 1\n",
    "    if count == len(sub):\n",
    "        return 'Yes'\n",
    "    else:\n",
    "        return 'No'"
   ]
  },
  {
   "cell_type": "code",
   "execution_count": 10,
   "id": "c945b174-4131-48ad-a8ac-c4ef5542dfaa",
   "metadata": {},
   "outputs": [
    {
     "data": {
      "text/plain": [
       "'Yes'"
      ]
     },
     "execution_count": 10,
     "metadata": {},
     "output_type": "execute_result"
    }
   ],
   "source": [
    "## Test 1\n",
    "sub = (1,3,4)\n",
    "main = (2,7,768,5,1,5,2,3,4)\n",
    "check_subsequence(sub, main)"
   ]
  },
  {
   "cell_type": "code",
   "execution_count": 11,
   "id": "780360af-0414-4ff6-999b-8b191fcd3869",
   "metadata": {},
   "outputs": [
    {
     "data": {
      "text/plain": [
       "'No'"
      ]
     },
     "execution_count": 11,
     "metadata": {},
     "output_type": "execute_result"
    }
   ],
   "source": [
    "## Test 2\n",
    "sub = (1,3,4,5)\n",
    "main = (2,7,768,5,1,5,2,3,4)\n",
    "check_subsequence(sub, main)"
   ]
  },
  {
   "cell_type": "markdown",
   "id": "cf7a5ba5-4fd8-447a-beba-5700bcd8789e",
   "metadata": {},
   "source": [
    "50. Create a tuple of alternating 1s and 0s of length 'n'"
   ]
  },
  {
   "cell_type": "code",
   "execution_count": 15,
   "id": "d222679c-25c5-44fc-8670-6d6d00691c41",
   "metadata": {},
   "outputs": [
    {
     "name": "stdout",
     "output_type": "stream",
     "text": [
      "(1, 0, 1, 0, 1, 0, 1, 0, 1, 0)\n"
     ]
    }
   ],
   "source": [
    "n = 10\n",
    "alternating_tuple = tuple([1 if i % 2==0 else 0 for i in range(n)])\n",
    "print(alternating_tuple)"
   ]
  },
  {
   "cell_type": "markdown",
   "id": "b1eaa26b-0df5-46d8-8bdf-c237430fd60f",
   "metadata": {},
   "source": [
    "## Set Based Practice Problem"
   ]
  },
  {
   "cell_type": "markdown",
   "id": "b22ceaac-467f-4ce1-a038-7e7b996e0562",
   "metadata": {},
   "source": [
    "1. Create a set with integers from 1 to 5"
   ]
  },
  {
   "cell_type": "code",
   "execution_count": 16,
   "id": "37bb20f0-5aad-41aa-bfb4-197baa616661",
   "metadata": {},
   "outputs": [
    {
     "name": "stdout",
     "output_type": "stream",
     "text": [
      "<class 'set'>\n"
     ]
    }
   ],
   "source": [
    "s = {1,2,3,4,5}\n",
    "print(type(s))"
   ]
  },
  {
   "cell_type": "markdown",
   "id": "12763f33-62d0-4d9a-89a4-99594369c85b",
   "metadata": {},
   "source": [
    "2. Add an element to a set"
   ]
  },
  {
   "cell_type": "code",
   "execution_count": 17,
   "id": "ac4da610-0c58-4ed4-b987-184cdc79028b",
   "metadata": {},
   "outputs": [
    {
     "name": "stdout",
     "output_type": "stream",
     "text": [
      "{1, 2, 3, 4, 5}\n",
      "{1, 2, 3, 4, 5, 'new_element'}\n"
     ]
    }
   ],
   "source": [
    "print(s)\n",
    "s.add('new_element')\n",
    "print(s)"
   ]
  },
  {
   "cell_type": "markdown",
   "id": "66a60c00-92d4-4401-9132-4adb84cd7cb7",
   "metadata": {},
   "source": [
    "3. Remove an element from a set"
   ]
  },
  {
   "cell_type": "code",
   "execution_count": 18,
   "id": "04e8a7ec-7d9d-4c19-adbb-2b855322a7db",
   "metadata": {},
   "outputs": [
    {
     "name": "stdout",
     "output_type": "stream",
     "text": [
      "{1, 2, 3, 4, 5, 'new_element'}\n",
      "{2, 3, 4, 5, 'new_element'}\n"
     ]
    }
   ],
   "source": [
    "print(s)\n",
    "s.discard(1)\n",
    "print(s)"
   ]
  },
  {
   "cell_type": "markdown",
   "id": "3d9749f9-ce9d-40ea-a750-e6acdf92acae",
   "metadata": {},
   "source": [
    "4. Check if an element exists in a set"
   ]
  },
  {
   "cell_type": "code",
   "execution_count": 19,
   "id": "b01bd0a0-f3d3-40fd-b9bd-c37eea3b604f",
   "metadata": {},
   "outputs": [
    {
     "name": "stdout",
     "output_type": "stream",
     "text": [
      "{2, 3, 4, 5, 'new_element'}\n",
      "Yes\n"
     ]
    }
   ],
   "source": [
    "print(s)\n",
    "if 'new_element' in s:\n",
    "    print('Yes')\n"
   ]
  },
  {
   "cell_type": "markdown",
   "id": "1567bf9e-f24d-4ad5-b834-2a2352cc016a",
   "metadata": {},
   "source": [
    "5. Find the length of a set without using the len() function"
   ]
  },
  {
   "cell_type": "code",
   "execution_count": 20,
   "id": "098959bf-d108-4ee7-9e59-8a0b26abbb44",
   "metadata": {},
   "outputs": [
    {
     "name": "stdout",
     "output_type": "stream",
     "text": [
      "{2, 3, 4, 5, 'new_element'}\n",
      "5\n"
     ]
    }
   ],
   "source": [
    "print(s)\n",
    "\n",
    "## convert into list to apply .index function\n",
    "s = list(s)\n",
    "\n",
    "print(s.index(s[-1]) + 1)\n",
    "\n",
    "## convert back into set\n",
    "s = set(s)"
   ]
  },
  {
   "cell_type": "markdown",
   "id": "add11e23-eac4-4470-a15c-45b8520e88ad",
   "metadata": {},
   "source": [
    "6. Clear all elements from a set"
   ]
  },
  {
   "cell_type": "code",
   "execution_count": 21,
   "id": "4df552dc-82dd-46ae-b829-172f94c1dea0",
   "metadata": {},
   "outputs": [
    {
     "name": "stdout",
     "output_type": "stream",
     "text": [
      "{2, 3, 4, 5, 'new_element'}\n",
      "set()\n"
     ]
    }
   ],
   "source": [
    "empty_s = s.copy()\n",
    "print(empty_s)\n",
    "empty_s.clear()\n",
    "print(empty_s)"
   ]
  },
  {
   "cell_type": "markdown",
   "id": "fa1b59a1-1b42-4d89-8911-51d292574336",
   "metadata": {},
   "source": [
    "7. Create a set of even numbers from 1 to 10"
   ]
  },
  {
   "cell_type": "code",
   "execution_count": 22,
   "id": "ab3a4273-6487-4d39-94be-ba25a5f9a5d9",
   "metadata": {},
   "outputs": [
    {
     "name": "stdout",
     "output_type": "stream",
     "text": [
      "{2, 4, 6, 8, 10}\n"
     ]
    }
   ],
   "source": [
    "set_even = (x for x in range(1,11) if x % 2 == 0)\n",
    "print(set(set_even))"
   ]
  },
  {
   "cell_type": "markdown",
   "id": "dc98b218-9043-43c6-ad09-c44ba58bffe4",
   "metadata": {},
   "source": [
    "8. Create a set of odd numbers from 1 to 10"
   ]
  },
  {
   "cell_type": "code",
   "execution_count": 23,
   "id": "a5590132-1432-46c7-826f-f648c5de6e91",
   "metadata": {},
   "outputs": [
    {
     "name": "stdout",
     "output_type": "stream",
     "text": [
      "{1, 3, 5, 7, 9}\n"
     ]
    }
   ],
   "source": [
    "set_odd = (x for x in range(1,11) if x % 2 != 0)\n",
    "print(set(set_odd))"
   ]
  },
  {
   "cell_type": "markdown",
   "id": "e03741b8-480e-46e7-a164-f19c7d0d9adc",
   "metadata": {},
   "source": [
    "9. Find the union of two sets"
   ]
  },
  {
   "cell_type": "code",
   "execution_count": 24,
   "id": "2c4e5bd7-eb2a-4935-8363-b861ca572c27",
   "metadata": {},
   "outputs": [
    {
     "data": {
      "text/plain": [
       "{1, 2, 3, 4, 5, 6, 7, 8}"
      ]
     },
     "execution_count": 24,
     "metadata": {},
     "output_type": "execute_result"
    }
   ],
   "source": [
    "s1 = set((1,2,3,4,5,6))\n",
    "s2 = set((4,5,6,7,8,7))\n",
    "\n",
    "## union\n",
    "s1.union(s2)"
   ]
  },
  {
   "cell_type": "markdown",
   "id": "4337855d-eae9-42be-b1cc-7cefdfd3025a",
   "metadata": {},
   "source": [
    "10. Find the intersection of two sets"
   ]
  },
  {
   "cell_type": "code",
   "execution_count": 25,
   "id": "0b9919f4-b733-4762-82f1-b7bce456c997",
   "metadata": {},
   "outputs": [
    {
     "name": "stdout",
     "output_type": "stream",
     "text": [
      "{1, 2, 3, 4, 5, 6}\n",
      "{4, 5, 6, 7, 8}\n"
     ]
    },
    {
     "data": {
      "text/plain": [
       "{4, 5, 6}"
      ]
     },
     "execution_count": 25,
     "metadata": {},
     "output_type": "execute_result"
    }
   ],
   "source": [
    "print(s1)\n",
    "print(s2)\n",
    "\n",
    "## intersection of two sets\n",
    "s1.intersection(s2)"
   ]
  },
  {
   "cell_type": "markdown",
   "id": "4f1cdf1e-451e-483f-9ee2-d9ca9d5315df",
   "metadata": {},
   "source": [
    "11. Find the difference of two sets"
   ]
  },
  {
   "cell_type": "code",
   "execution_count": 26,
   "id": "fd7e2346-844b-4cb3-9ac7-425967b1ed6c",
   "metadata": {},
   "outputs": [
    {
     "name": "stdout",
     "output_type": "stream",
     "text": [
      "{1, 2, 3, 4, 5, 6}\n",
      "{4, 5, 6, 7, 8}\n"
     ]
    },
    {
     "data": {
      "text/plain": [
       "{1, 2, 3}"
      ]
     },
     "execution_count": 26,
     "metadata": {},
     "output_type": "execute_result"
    }
   ],
   "source": [
    "print(s1)\n",
    "print(s2)\n",
    "\n",
    "## difference in sets\n",
    "s1.difference(s2)"
   ]
  },
  {
   "cell_type": "markdown",
   "id": "71492ed7-d85e-4fb8-a36e-d44258b692c0",
   "metadata": {},
   "source": [
    "12. Check if a set is a subset of another set"
   ]
  },
  {
   "cell_type": "code",
   "execution_count": 27,
   "id": "3121e4cc-c240-44f5-a37d-3d680a7f66a5",
   "metadata": {},
   "outputs": [
    {
     "name": "stdout",
     "output_type": "stream",
     "text": [
      "{1, 2, 3, 4, 5, 6}\n",
      "{4, 5, 6, 7, 8}\n",
      "Check if s2 is the subset of s1\n"
     ]
    },
    {
     "data": {
      "text/plain": [
       "False"
      ]
     },
     "execution_count": 27,
     "metadata": {},
     "output_type": "execute_result"
    }
   ],
   "source": [
    "print(s1)\n",
    "print(s2)\n",
    "\n",
    "## subset \n",
    "print('Check if s2 is the subset of s1')\n",
    "s2.issubset(s1)"
   ]
  },
  {
   "cell_type": "markdown",
   "id": "84ec82fe-0333-49eb-94e5-654725e2f6d0",
   "metadata": {},
   "source": [
    "13. Check if a set is a superset of another set"
   ]
  },
  {
   "cell_type": "code",
   "execution_count": 28,
   "id": "18716d61-a151-4f53-a3a8-0a57f2732b9f",
   "metadata": {},
   "outputs": [
    {
     "name": "stdout",
     "output_type": "stream",
     "text": [
      "{1, 2, 3, 4, 5, 6}\n",
      "{4, 5, 6, 7, 8}\n"
     ]
    },
    {
     "data": {
      "text/plain": [
       "False"
      ]
     },
     "execution_count": 28,
     "metadata": {},
     "output_type": "execute_result"
    }
   ],
   "source": [
    "print(s1)\n",
    "print(s2)\n",
    "\n",
    "## superset\n",
    "s1.issuperset(s2)"
   ]
  },
  {
   "cell_type": "code",
   "execution_count": 29,
   "id": "80923b72-95c9-475f-9068-672c22d280fb",
   "metadata": {},
   "outputs": [
    {
     "data": {
      "text/plain": [
       "True"
      ]
     },
     "execution_count": 29,
     "metadata": {},
     "output_type": "execute_result"
    }
   ],
   "source": [
    "## checking with another example\n",
    "{1,2,3,4,5}.issuperset({2,3})"
   ]
  },
  {
   "cell_type": "markdown",
   "id": "b47257bf-1efa-4a9c-9956-f4504a42ca48",
   "metadata": {},
   "source": [
    "14. Create a set from a list"
   ]
  },
  {
   "cell_type": "code",
   "execution_count": 30,
   "id": "9a100126-5b11-459b-ba98-d443cb00f02f",
   "metadata": {},
   "outputs": [
    {
     "name": "stdout",
     "output_type": "stream",
     "text": [
      "{False, 'True', 'not_al_all', 23, 'hy'}\n",
      "<class 'set'>\n"
     ]
    }
   ],
   "source": [
    "l = ['hy', 23,'True',False,'not_al_all']\n",
    "list_to_set = set(l)\n",
    "## convert list into set\n",
    "print(list_to_set)\n",
    "print(type(list_to_set))"
   ]
  },
  {
   "cell_type": "markdown",
   "id": "d4b79bf1-ea2e-413f-96bc-b2d4b5ace617",
   "metadata": {},
   "source": [
    "15. Convert a set to a list"
   ]
  },
  {
   "cell_type": "code",
   "execution_count": 31,
   "id": "0b80d361-568b-4ab1-a6e0-95ed0e9cc5f4",
   "metadata": {},
   "outputs": [
    {
     "name": "stdout",
     "output_type": "stream",
     "text": [
      "[False, 'True', 'not_al_all', 23, 'hy']\n",
      "<class 'list'>\n"
     ]
    }
   ],
   "source": [
    "set_to_list = list(list_to_set)\n",
    "print(set_to_list)\n",
    "print(type(set_to_list))"
   ]
  },
  {
   "cell_type": "markdown",
   "id": "07e735fa-b4e3-41b2-af4d-0e14158dbccd",
   "metadata": {},
   "source": [
    "16. Remove a random element from a set"
   ]
  },
  {
   "cell_type": "code",
   "execution_count": 32,
   "id": "2d139a91-0119-4b88-928d-7103c3844fb6",
   "metadata": {},
   "outputs": [
    {
     "name": "stdout",
     "output_type": "stream",
     "text": [
      "{2, 3, 4, 5, 'new_element'}\n",
      "{3, 4, 5, 'new_element'}\n"
     ]
    }
   ],
   "source": [
    "import random\n",
    "print(s)\n",
    "\n",
    "set_elements = list(s)\n",
    "\n",
    "## generating random indeces for accessing elements from set_elements\n",
    "random_indeces = random.randrange(0,len(set_elements),1)\n",
    "\n",
    "\n",
    "## removing random elements from set\n",
    "s.remove(set_elements[random_indeces])\n",
    "\n",
    "##set after element has been poped out\n",
    "print(s)"
   ]
  },
  {
   "cell_type": "markdown",
   "id": "3df69698-2309-4346-8f64-6121ca34923c",
   "metadata": {},
   "source": [
    "17. Pop an element from a set"
   ]
  },
  {
   "cell_type": "code",
   "execution_count": 33,
   "id": "3c9f6af7-f612-45c9-b306-b13bd702cb2c",
   "metadata": {},
   "outputs": [
    {
     "name": "stdout",
     "output_type": "stream",
     "text": [
      "{3, 4, 5, 'new_element'}\n",
      "{4, 5, 'new_element'}\n"
     ]
    }
   ],
   "source": [
    "print(s)\n",
    "\n",
    "## popping out element from the set\n",
    "s.pop()\n",
    "print(s)"
   ]
  },
  {
   "cell_type": "markdown",
   "id": "bf1694cb-6b75-4945-aef9-7f290d40dcf4",
   "metadata": {},
   "source": [
    "18. Check if two sets have no elements in common"
   ]
  },
  {
   "cell_type": "code",
   "execution_count": 34,
   "id": "c25468f9-e76c-4f42-85d1-6cec2cc5291b",
   "metadata": {},
   "outputs": [
    {
     "name": "stdout",
     "output_type": "stream",
     "text": [
      "yes have some common elements\n"
     ]
    }
   ],
   "source": [
    "s1 = {1,4,5,35,3}\n",
    "s2 = {4,53,23,35}\n",
    "\n",
    "if s1.intersection(s2):\n",
    "    print('yes have some common elements')\n"
   ]
  },
  {
   "cell_type": "markdown",
   "id": "255fd1f7-4b3c-420f-bce8-4f3cf3f0094f",
   "metadata": {},
   "source": [
    "19. Find the symmetric difference between two sets"
   ]
  },
  {
   "cell_type": "code",
   "execution_count": 35,
   "id": "2d45b920-e2ea-4111-9d34-e0ea2a04d9a3",
   "metadata": {},
   "outputs": [
    {
     "name": "stdout",
     "output_type": "stream",
     "text": [
      "{1, 3, 4, 5, 35}\n",
      "{35, 4, 53, 23}\n"
     ]
    },
    {
     "data": {
      "text/plain": [
       "{1, 3, 5, 23, 53}"
      ]
     },
     "execution_count": 35,
     "metadata": {},
     "output_type": "execute_result"
    }
   ],
   "source": [
    "## Symmetic difference between two sets A and set B includes all elements of A and B without the common elements\n",
    "\n",
    "print(s1)\n",
    "print(s2)\n",
    "\n",
    "## symmetic difference\n",
    "s1.symmetric_difference(s2)"
   ]
  },
  {
   "cell_type": "markdown",
   "id": "72e6894e-2336-43e7-8fb6-d00c68798c16",
   "metadata": {},
   "source": [
    "20. Update a set with elements from another set"
   ]
  },
  {
   "cell_type": "code",
   "execution_count": 36,
   "id": "68204dc3-a215-4a6c-9dc8-29be91761b74",
   "metadata": {},
   "outputs": [
    {
     "name": "stdout",
     "output_type": "stream",
     "text": [
      "{1, 3, 4, 5, 35}\n",
      "{35, 4, 53, 23}\n",
      "After updation\n",
      "{1, 3, 4, 5, 35, 53, 23}\n"
     ]
    }
   ],
   "source": [
    "print(s1)\n",
    "print(s2)\n",
    "\n",
    "## update s1 with s2\n",
    "s1.update(s2)\n",
    "print('After updation')\n",
    "print(s1)"
   ]
  },
  {
   "cell_type": "markdown",
   "id": "694ac48f-bdfd-48b0-9ff5-c7d05c90cf2d",
   "metadata": {},
   "source": [
    "21. Create a set of the first 5 prime numbers"
   ]
  },
  {
   "cell_type": "code",
   "execution_count": 37,
   "id": "a8b93c5d-aed6-43e4-bc87-92893b2648c8",
   "metadata": {},
   "outputs": [],
   "source": [
    "def create_prime_numbers(total):\n",
    "    not_prime_numbers = []\n",
    "    numbers_to_check = list(range(2, total))\n",
    "    for prime in range(2,total):\n",
    "        ## apply condition of prime numbers\n",
    "        for number in range(2, prime):\n",
    "            if (prime%number ==0):\n",
    "                not_prime_numbers.append(prime)\n",
    "                break\n",
    "    \n",
    "    total_numbers = set(range(2, total))\n",
    "    return  total_numbers.difference(set(not_prime_numbers))\n",
    "         "
   ]
  },
  {
   "cell_type": "code",
   "execution_count": 38,
   "id": "735f7279-da73-4a28-9cbc-39722b076c83",
   "metadata": {},
   "outputs": [
    {
     "data": {
      "text/plain": [
       "{2, 3}"
      ]
     },
     "execution_count": 38,
     "metadata": {},
     "output_type": "execute_result"
    }
   ],
   "source": [
    "create_prime_numbers(5)"
   ]
  },
  {
   "cell_type": "markdown",
   "id": "f4273cee-54d3-4c0f-b58d-ff4adc11a8d9",
   "metadata": {},
   "source": [
    "22. Check if two sets are identical"
   ]
  },
  {
   "cell_type": "code",
   "execution_count": 39,
   "id": "26175366-314b-4d97-b7cc-1e8b4da601a0",
   "metadata": {},
   "outputs": [
    {
     "name": "stdout",
     "output_type": "stream",
     "text": [
      "{1, 3, 4, 5, 35, 53, 23}\n",
      "{35, 4, 53, 23}\n"
     ]
    },
    {
     "data": {
      "text/plain": [
       "False"
      ]
     },
     "execution_count": 39,
     "metadata": {},
     "output_type": "execute_result"
    }
   ],
   "source": [
    "print(s1)\n",
    "print(s2)\n",
    "\n",
    "## check if they are identical or not\n",
    "s1 == s2"
   ]
  },
  {
   "cell_type": "markdown",
   "id": "bd8622bf-9c11-4ad7-a06e-b60b2bef5a8b",
   "metadata": {},
   "source": [
    "23. Craete a frozen set"
   ]
  },
  {
   "cell_type": "code",
   "execution_count": 40,
   "id": "0dd767aa-a251-41dc-af54-a44716b14380",
   "metadata": {},
   "outputs": [
    {
     "name": "stdout",
     "output_type": "stream",
     "text": [
      "frozenset({'Apple', 'Orange', 'Banana'})\n"
     ]
    }
   ],
   "source": [
    "## Frozenset are immutable in nature\n",
    "\n",
    "fruits = frozenset(['Apple','Banana','Orange'])\n",
    "print(fruits)\n"
   ]
  },
  {
   "cell_type": "markdown",
   "id": "db176d9c-5546-4624-8eda-1860b06a96e1",
   "metadata": {},
   "source": [
    "24. Check if a set is disjoint with another set"
   ]
  },
  {
   "cell_type": "code",
   "execution_count": 41,
   "id": "ae8dc46a-7985-4caa-87a3-286872200d16",
   "metadata": {},
   "outputs": [
    {
     "name": "stdout",
     "output_type": "stream",
     "text": [
      "{1, 3, 4, 5, 35, 53, 23}\n",
      "{35, 4, 53, 23}\n"
     ]
    },
    {
     "data": {
      "text/plain": [
       "False"
      ]
     },
     "execution_count": 41,
     "metadata": {},
     "output_type": "execute_result"
    }
   ],
   "source": [
    "print(s1)\n",
    "print(s2)\n",
    "\n",
    "## Checking for disjoint\n",
    "s1.isdisjoint(s2)"
   ]
  },
  {
   "cell_type": "markdown",
   "id": "ee90c087-40f5-476f-83ea-3814de5e5926",
   "metadata": {},
   "source": [
    "*As we can se that 4 is common is both the elements*"
   ]
  },
  {
   "cell_type": "markdown",
   "id": "54003c5a-1c75-4594-85c5-af81fdc1b16a",
   "metadata": {},
   "source": [
    "25. Create  a set of squares of numbers from 1 to 5"
   ]
  },
  {
   "cell_type": "code",
   "execution_count": 42,
   "id": "843623bf-f73e-4c3a-91b7-5f1617263590",
   "metadata": {},
   "outputs": [
    {
     "name": "stdout",
     "output_type": "stream",
     "text": [
      "{1, 4, 9, 16, 25}\n"
     ]
    }
   ],
   "source": [
    "squares = (x**2 for x in range(1,6))\n",
    "print(set(squares))"
   ]
  },
  {
   "cell_type": "markdown",
   "id": "bb591932-d0aa-4647-bd08-7a7175512677",
   "metadata": {},
   "source": [
    "26. Filter out all even numbers from a set"
   ]
  },
  {
   "cell_type": "code",
   "execution_count": 43,
   "id": "57478600-1204-47e5-a7a8-d388e6041f20",
   "metadata": {},
   "outputs": [
    {
     "name": "stdout",
     "output_type": "stream",
     "text": [
      "{1, 3, 4, 5, 35, 53, 23}\n"
     ]
    },
    {
     "data": {
      "text/plain": [
       "{4}"
      ]
     },
     "execution_count": 43,
     "metadata": {},
     "output_type": "execute_result"
    }
   ],
   "source": [
    "print(s1)\n",
    "\n",
    "## filtering out even numbers in set s1\n",
    "set(x for x in s1 if x % 2 == 0)"
   ]
  },
  {
   "cell_type": "markdown",
   "id": "8b540215-9cd4-4d39-b8a7-547ebb8612f8",
   "metadata": {},
   "source": [
    "27. Multiply all elements in a set by 2"
   ]
  },
  {
   "cell_type": "code",
   "execution_count": 44,
   "id": "bd65eb3a-ca7c-4aa8-a877-3ed8acd1ccc6",
   "metadata": {},
   "outputs": [
    {
     "name": "stdout",
     "output_type": "stream",
     "text": [
      "{1, 3, 4, 5, 35, 53, 23}\n"
     ]
    },
    {
     "data": {
      "text/plain": [
       "{2, 6, 8, 10, 46, 70, 106}"
      ]
     },
     "execution_count": 44,
     "metadata": {},
     "output_type": "execute_result"
    }
   ],
   "source": [
    "print(s1)\n",
    "\n",
    "## multiply by 2 in set s1\n",
    "\n",
    "## can not directly multiply by 2 in set (this option only available in list or say tuple)\n",
    "\n",
    "## create lambda function to do this job\n",
    "## and then map it using map function\n",
    "\n",
    "multiplied_2 = lambda x : 2*x\n",
    "set(map(multiplied_2, s1))"
   ]
  },
  {
   "cell_type": "markdown",
   "id": "3b49fc6d-a204-4be0-9af4-2c97cf43b849",
   "metadata": {},
   "source": [
    "28. Create a set of random numbers"
   ]
  },
  {
   "cell_type": "code",
   "execution_count": 45,
   "id": "b4dffae3-25eb-4e8c-b146-d71416ad8ccb",
   "metadata": {},
   "outputs": [
    {
     "name": "stdout",
     "output_type": "stream",
     "text": [
      "{78, 47, 18, 58, 92}\n"
     ]
    }
   ],
   "source": [
    "## whenever you heard about random just import random or numpy.random\n",
    "import random\n",
    "\n",
    "## creata a 5 random number set b/w 1 to 100\n",
    "random_set = set(random.randint(1, 100) for _ in range(5))\n",
    "print(random_set)"
   ]
  },
  {
   "cell_type": "markdown",
   "id": "dd45cd1c-89c3-4ae6-8b1a-47d649614fe1",
   "metadata": {},
   "source": [
    "29. Check if a set is empty"
   ]
  },
  {
   "cell_type": "code",
   "execution_count": 46,
   "id": "d6970b0a-b3ce-41be-9c8a-9038eb4c3782",
   "metadata": {},
   "outputs": [
    {
     "name": "stdout",
     "output_type": "stream",
     "text": [
      "{1, 3, 4, 5, 35, 53, 23}\n",
      "Not an empty set\n"
     ]
    }
   ],
   "source": [
    "print(s1)\n",
    "if s1:\n",
    "    print('Not an empty set')\n",
    "else:\n",
    "    print('Yes, It is an empty set')"
   ]
  },
  {
   "cell_type": "markdown",
   "id": "d0bc9766-66cf-40f0-8bde-e522af7db339",
   "metadata": {},
   "source": [
    "30. Create a nested set"
   ]
  },
  {
   "cell_type": "code",
   "execution_count": 47,
   "id": "2da3d16e-c830-4c20-b684-417b1dd88f5e",
   "metadata": {},
   "outputs": [
    {
     "name": "stdout",
     "output_type": "stream",
     "text": [
      "frozenset({'banana', 'pineapple', 'apple', frozenset({'almonds', 'cashew', 'raisins'}), 'grapes'})\n"
     ]
    }
   ],
   "source": [
    "fruits = frozenset({'apple','banana','grapes',frozenset({'cashew','almonds','raisins'}),'pineapple'})\n",
    "print(fruits)                "
   ]
  },
  {
   "cell_type": "markdown",
   "id": "e3a6afa0-03ab-4d91-abe7-b778be221f53",
   "metadata": {},
   "source": [
    "31. Remove an element from a set using the discard method"
   ]
  },
  {
   "cell_type": "code",
   "execution_count": 48,
   "id": "0ea05a7e-7d2e-48c8-a09e-84c50c6fa2f5",
   "metadata": {},
   "outputs": [
    {
     "name": "stdout",
     "output_type": "stream",
     "text": [
      "{1, 3, 4, 5, 35, 53, 23}\n",
      "{1, 4, 5, 35, 53, 23}\n"
     ]
    }
   ],
   "source": [
    "print(s1)\n",
    "s1.discard(3)\n",
    "print(s1)"
   ]
  },
  {
   "cell_type": "markdown",
   "id": "c5b1dc50-5f31-4175-9560-21fedffa8bf5",
   "metadata": {},
   "source": [
    "32. Compare two sets"
   ]
  },
  {
   "cell_type": "code",
   "execution_count": 49,
   "id": "7a1f02af-5040-4d4a-a8a8-d712ef458ba9",
   "metadata": {},
   "outputs": [
    {
     "name": "stdout",
     "output_type": "stream",
     "text": [
      "{1, 4, 5, 35, 53, 23}\n",
      "{35, 4, 53, 23}\n",
      "False\n",
      "True\n",
      "False\n"
     ]
    }
   ],
   "source": [
    "print(s1)\n",
    "print(s2)\n",
    "\n",
    "## check if s1 and s2 are equal(not in lenght )\n",
    "## all elements should be same\n",
    "print(s1 == s2)\n",
    "\n",
    "## check if s1 is superset of s2\n",
    "print(s1 > s2)\n",
    "## check if s2 is superset of s1\n",
    "print(s1 < s2)"
   ]
  },
  {
   "cell_type": "markdown",
   "id": "b001ac52-7db6-47f9-b5e1-ee18716ff655",
   "metadata": {},
   "source": [
    "33. Create a set from a string"
   ]
  },
  {
   "cell_type": "code",
   "execution_count": 50,
   "id": "6e82ca1c-8c98-471f-b218-81c87ac16635",
   "metadata": {},
   "outputs": [
    {
     "name": "stdout",
     "output_type": "stream",
     "text": [
      "{'SHARMA', 'SATYAM', 'my', 'Hello', 'name', 'is'}\n"
     ]
    }
   ],
   "source": [
    "st = 'Hello my name is SATYAM SHARMA'\n",
    "st_set = set(st.split())\n",
    "print(st_set)"
   ]
  },
  {
   "cell_type": "markdown",
   "id": "1002f5c6-ee14-45cd-91be-417e84e732e0",
   "metadata": {},
   "source": [
    "34. Convert a set of strings to a set of integers"
   ]
  },
  {
   "cell_type": "code",
   "execution_count": 51,
   "id": "516284d0-dbf8-4f4e-8c9c-0b9fe6c23eb5",
   "metadata": {},
   "outputs": [
    {
     "name": "stdout",
     "output_type": "stream",
     "text": [
      "{1, 3, 5, 87, 23}\n"
     ]
    }
   ],
   "source": [
    "int_set  = {'1','5','3','87','23'}\n",
    "string_set = set(map( lambda x : int(x) , int_set))\n",
    "print(string_set)"
   ]
  },
  {
   "cell_type": "markdown",
   "id": "97f14aa8-5d43-418d-853e-0fc27984585f",
   "metadata": {},
   "source": [
    "35. Convert a set of integers to a set of strings"
   ]
  },
  {
   "cell_type": "code",
   "execution_count": 52,
   "id": "a9fd381f-f64f-4743-8953-5e7b5b74d122",
   "metadata": {},
   "outputs": [
    {
     "name": "stdout",
     "output_type": "stream",
     "text": [
      "{'1', '3', '5', '87', '23'}\n"
     ]
    }
   ],
   "source": [
    "int_set = set(map( lambda x : str(x) , string_set))\n",
    "print(int_set)"
   ]
  },
  {
   "cell_type": "markdown",
   "id": "7594e5be-fb98-4430-b90c-b18e657e3efa",
   "metadata": {},
   "source": [
    "36. Create a set from a tuple"
   ]
  },
  {
   "cell_type": "code",
   "execution_count": 53,
   "id": "196ad0a4-bad9-49bf-9c42-e9f49af38e3c",
   "metadata": {},
   "outputs": [
    {
     "name": "stdout",
     "output_type": "stream",
     "text": [
      "{6754, 5, 7, 5423, 54, 346, 542}\n"
     ]
    }
   ],
   "source": [
    "t = (542,5423,5,346,54,6754,7,54)\n",
    "print(set(t))"
   ]
  },
  {
   "cell_type": "markdown",
   "id": "a83a7520-be2a-4888-b5af-92bc995b678c",
   "metadata": {},
   "source": [
    "37. Convert a set to a tuple"
   ]
  },
  {
   "cell_type": "code",
   "execution_count": 54,
   "id": "43ed202c-be93-4af1-a3e0-84cf07d2ee6f",
   "metadata": {},
   "outputs": [
    {
     "name": "stdout",
     "output_type": "stream",
     "text": [
      "(33, 'yours', 34, 23, 'hello')\n"
     ]
    }
   ],
   "source": [
    "s = {'hello','yours',34,33,23}\n",
    "print(tuple(s))"
   ]
  },
  {
   "cell_type": "markdown",
   "id": "b92a4868-71e0-411d-ada7-689ddf74b42d",
   "metadata": {},
   "source": [
    "38. Find the maximum value in a set"
   ]
  },
  {
   "cell_type": "code",
   "execution_count": 55,
   "id": "dc521bf1-6003-4314-beb6-cc41b8c93b1c",
   "metadata": {},
   "outputs": [
    {
     "name": "stdout",
     "output_type": "stream",
     "text": [
      "{1, 2, 34, 546, 4, 6, 7, 562, 534}\n"
     ]
    },
    {
     "data": {
      "text/plain": [
       "562"
      ]
     },
     "execution_count": 55,
     "metadata": {},
     "output_type": "execute_result"
    }
   ],
   "source": [
    "## Incorrect method\n",
    "s = {1,4,2,534,6,546,546,7,562,34,2}\n",
    "print(s)\n",
    "\n",
    "## maximum value in set\n",
    "max(s)"
   ]
  },
  {
   "cell_type": "raw",
   "id": "d93d874c-8ece-4d39-9756-130da567b44a",
   "metadata": {},
   "source": [
    "note - Above used max() function is not built for sets,\n",
    "It is only built for list or tuples"
   ]
  },
  {
   "cell_type": "code",
   "execution_count": 56,
   "id": "d45360b6-a1ad-4133-a250-29ca581f20c6",
   "metadata": {},
   "outputs": [
    {
     "name": "stdout",
     "output_type": "stream",
     "text": [
      "{1, 2, 34, 546, 4, 6, 7, 562, 534}\n"
     ]
    },
    {
     "data": {
      "text/plain": [
       "562"
      ]
     },
     "execution_count": 56,
     "metadata": {},
     "output_type": "execute_result"
    }
   ],
   "source": [
    "##  Correct approach\n",
    "print(s)\n",
    "\n",
    "max(list(s))"
   ]
  },
  {
   "cell_type": "markdown",
   "id": "bd62d2df-512f-4e8e-a553-0a28258e14ce",
   "metadata": {},
   "source": [
    "39. Find the minimum value in a set"
   ]
  },
  {
   "cell_type": "code",
   "execution_count": 57,
   "id": "0cba5d27-9250-455c-b7cd-52132fccc42e",
   "metadata": {},
   "outputs": [
    {
     "name": "stdout",
     "output_type": "stream",
     "text": [
      "{1, 2, 34, 546, 4, 6, 7, 562, 534}\n",
      "Minimum element in the set -\n"
     ]
    },
    {
     "data": {
      "text/plain": [
       "1"
      ]
     },
     "execution_count": 57,
     "metadata": {},
     "output_type": "execute_result"
    }
   ],
   "source": [
    "print(s)\n",
    "print('Minimum element in the set -')\n",
    "min(list(s))"
   ]
  },
  {
   "cell_type": "markdown",
   "id": "12d5e1a0-eff3-43c2-90ed-debab4089c4b",
   "metadata": {},
   "source": [
    "40. Create a set from user input"
   ]
  },
  {
   "cell_type": "code",
   "execution_count": 58,
   "id": "0be4e6d4-d653-4589-aba4-c8b1856ee6f6",
   "metadata": {},
   "outputs": [
    {
     "name": "stdin",
     "output_type": "stream",
     "text": [
      "Eeer elements for set (or enter 'done' to finish 1\n",
      "Eeer elements for set (or enter 'done' to finish 3\n",
      "Eeer elements for set (or enter 'done' to finish done\n"
     ]
    },
    {
     "name": "stdout",
     "output_type": "stream",
     "text": [
      "The set you created {'1', '3'}\n"
     ]
    }
   ],
   "source": [
    "my_set = set()\n",
    "while True:\n",
    "    user_input = input(\"Eeer elements for set (or enter 'done' to finish\")\n",
    "    if user_input.lower() == 'done':\n",
    "        break \n",
    "    my_set.add(user_input)\n",
    "print('The set you created' , my_set)\n",
    "    "
   ]
  },
  {
   "cell_type": "markdown",
   "id": "b3b5c2c2-edfd-47cf-b82c-f7bc2227e877",
   "metadata": {},
   "source": [
    "41. Check if the intersection of two sets is empty"
   ]
  },
  {
   "cell_type": "code",
   "execution_count": 59,
   "id": "14a902dc-f3aa-4355-8074-ff419c0e0204",
   "metadata": {},
   "outputs": [
    {
     "data": {
      "text/plain": [
       "set()"
      ]
     },
     "execution_count": 59,
     "metadata": {},
     "output_type": "execute_result"
    }
   ],
   "source": [
    "s1 = {1,4,34,345,5,6}\n",
    "s2 = {2,7,8,9,10}\n",
    "(s1.intersection(s2))    "
   ]
  },
  {
   "cell_type": "markdown",
   "id": "90e46d5d-3e58-4434-aa2f-d571f9beb694",
   "metadata": {},
   "source": [
    "42. Create a set of the first 5 Fibonacci numbers"
   ]
  },
  {
   "cell_type": "code",
   "execution_count": 60,
   "id": "d5f3c023-6e73-4601-9a8a-ab54989689d9",
   "metadata": {},
   "outputs": [
    {
     "name": "stdout",
     "output_type": "stream",
     "text": [
      "{0, 1, 2, 3, 5}\n"
     ]
    }
   ],
   "source": [
    "def fibonacci(n):\n",
    "    a, b = 0, 1\n",
    "    fibonacci_set = set()\n",
    "    while len(fibonacci_set) < n:\n",
    "        fibonacci_set.add(a)\n",
    "        a, b = b, a + b\n",
    "    return fibonacci_set\n",
    "\n",
    "first_5_fibonacci = fibonacci(5)\n",
    "print(first_5_fibonacci)\n"
   ]
  },
  {
   "cell_type": "markdown",
   "id": "f9b9f358-06a0-402f-a64a-504c40c9e4be",
   "metadata": {},
   "source": [
    "*note-*<br>\n",
    "* It is impossible to create a set of fibonacci seires.\n",
    "* Reason is that fibonacci series contains two '1' .\n",
    "* And set does not contains duplicate numbers\n",
    "* So resulted seires would be {0, 1, 2, 3, 5}"
   ]
  },
  {
   "cell_type": "markdown",
   "id": "e7813d6f-4818-4edf-9a1f-fcec2ec09128",
   "metadata": {},
   "source": [
    "43. Remove duplicates from a list using sets"
   ]
  },
  {
   "cell_type": "code",
   "execution_count": 61,
   "id": "af183dfe-a025-424e-8af7-43ea2a3b7cfd",
   "metadata": {},
   "outputs": [
    {
     "name": "stdout",
     "output_type": "stream",
     "text": [
      "[34, 23, 5434, 5, 36, 5467, 54, 634, 54, 35, 346, 54, 654]\n",
      "Total length with duplicates- 13\n",
      "Total length withou duplicates- 11\n"
     ]
    }
   ],
   "source": [
    "l = [34,23,5434,5,36,5467,54,634,54,35,346,54,654]\n",
    "print(l)\n",
    "print('Total length with duplicates-', len(l))\n",
    "print('Total length withou duplicates-',len(set(l)))\n"
   ]
  },
  {
   "cell_type": "markdown",
   "id": "bd4c1ffb-79d6-4c9c-8b96-0e5f52555b69",
   "metadata": {},
   "source": [
    "44. Check if two sets have the same elements, regardless of their count"
   ]
  },
  {
   "cell_type": "code",
   "execution_count": 62,
   "id": "0542c293-95c8-4fc2-99da-fa587153c932",
   "metadata": {},
   "outputs": [
    {
     "data": {
      "text/plain": [
       "True"
      ]
     },
     "execution_count": 62,
     "metadata": {},
     "output_type": "execute_result"
    }
   ],
   "source": [
    "s1 = {1,1,4,5,3,65,678,8,34,4,3,5}\n",
    "s2 = {1,4,5,4,65,678,8,34,3}\n",
    "\n",
    "s1 == s2"
   ]
  },
  {
   "cell_type": "markdown",
   "id": "9312a8af-d788-4615-a2bc-2f27d4a18f73",
   "metadata": {},
   "source": [
    "45. Create a set of the first 'n' powers of 2"
   ]
  },
  {
   "cell_type": "code",
   "execution_count": 63,
   "id": "0335a9c8-faef-4150-865e-6644ebddbaea",
   "metadata": {},
   "outputs": [
    {
     "data": {
      "text/plain": [
       "{0, 1, 4, 9, 16}"
      ]
     },
     "execution_count": 63,
     "metadata": {},
     "output_type": "execute_result"
    }
   ],
   "source": [
    "def set_squares(n):\n",
    "    return set((x**2 for x in range(n)))\n",
    "               \n",
    "## calling function\n",
    "set_squares(5)"
   ]
  },
  {
   "cell_type": "markdown",
   "id": "e6508dcd-69e5-43cc-b315-36c3f32e09c3",
   "metadata": {},
   "source": [
    "46. Find the common elements between a set and list"
   ]
  },
  {
   "cell_type": "code",
   "execution_count": 64,
   "id": "c258f785-cd49-43f7-bd6e-a98bb3f2b7a9",
   "metadata": {},
   "outputs": [
    {
     "name": "stdout",
     "output_type": "stream",
     "text": [
      "[16, 1, 4, 8, 10]\n"
     ]
    }
   ],
   "source": [
    "c_s = {1,4,6,8,10,16}\n",
    "c_l = [1,4,8,10,15,16]\n",
    "common = []\n",
    "for i in c_s:\n",
    "    if i in c_l:\n",
    "        common.append(i)\n",
    "        \n",
    "print(common)"
   ]
  },
  {
   "cell_type": "markdown",
   "id": "5f8e6fa1-d603-4cea-b31b-3e13b640a063",
   "metadata": {},
   "source": [
    "47. Create a set of the first 'n' triangular numbers"
   ]
  },
  {
   "cell_type": "code",
   "execution_count": 65,
   "id": "870ad20e-51c4-4e88-96db-fb2c4a56d457",
   "metadata": {},
   "outputs": [
    {
     "data": {
      "text/plain": [
       "{1, 3, 6, 10, 15, 21, 28, 36, 45, 55}"
      ]
     },
     "execution_count": 65,
     "metadata": {},
     "output_type": "execute_result"
    }
   ],
   "source": [
    "def triangular_numbers(n):\n",
    "    count = 0\n",
    "    start = 1\n",
    "    increamenting_number = 2\n",
    "    while count < n:\n",
    "        yield start\n",
    "        start = start + increamenting_number\n",
    "        increamenting_number = increamenting_number + 1    \n",
    "        \n",
    "        count = count + 1\n",
    "    return start\n",
    "\n",
    "set(triangular_numbers(10))"
   ]
  },
  {
   "cell_type": "markdown",
   "id": "39a099ba-0be8-4f6d-9609-cd1adc1283c0",
   "metadata": {},
   "source": [
    "48. Check if a set contains another set as a subset"
   ]
  },
  {
   "cell_type": "code",
   "execution_count": 66,
   "id": "aa65fba2-f339-4114-8adf-a9ff9969cc27",
   "metadata": {},
   "outputs": [
    {
     "data": {
      "text/plain": [
       "True"
      ]
     },
     "execution_count": 66,
     "metadata": {},
     "output_type": "execute_result"
    }
   ],
   "source": [
    "def subset_check(sub , main):\n",
    "    if sub.issubset(main):\n",
    "        return True\n",
    "    return False\n",
    "\n",
    "subset_check({1,2,3,4}, {1,2,4,5,3,7})"
   ]
  },
  {
   "cell_type": "markdown",
   "id": "4db8b03a-f4fa-4653-8912-fe68d2654147",
   "metadata": {},
   "source": [
    "49. Create a set of alternating 1s and 0s of length 'n'."
   ]
  },
  {
   "cell_type": "code",
   "execution_count": 67,
   "id": "0d2e5f94-fe9e-4eff-9670-57afaa7d8ee0",
   "metadata": {},
   "outputs": [
    {
     "name": "stdout",
     "output_type": "stream",
     "text": [
      "{0, 1}\n"
     ]
    }
   ],
   "source": [
    "def alternating_ones_and_zeros(n):\n",
    "    alternating_set = set()\n",
    "    for i in range(n):\n",
    "        alternating_set.add(i % 2)\n",
    "    return alternating_set\n",
    "\n",
    "n = 10 \n",
    "alternating_set = alternating_ones_and_zeros(n)\n",
    "print(alternating_set)\n"
   ]
  },
  {
   "cell_type": "markdown",
   "id": "27fe2998-11dc-42e2-a761-b53cc6acc131",
   "metadata": {},
   "source": [
    "50. Merge multiple sets into one."
   ]
  },
  {
   "cell_type": "code",
   "execution_count": 68,
   "id": "1f88e20b-022b-4a1d-bab1-1cbe37b85c43",
   "metadata": {},
   "outputs": [
    {
     "data": {
      "text/plain": [
       "{1, 2, 3, 4, 5, 6, 7, 23, 24, 34, 54, 65, 74, 346, 532, 534}"
      ]
     },
     "execution_count": 68,
     "metadata": {},
     "output_type": "execute_result"
    }
   ],
   "source": [
    "s1 = {1,3,5,4,6,54,74,6}\n",
    "s2 = {6,54,74,7,3,2,34}\n",
    "s3 = {532,5,346,54,54,24,23,534,65}\n",
    "s1.union(s2,s3)"
   ]
  },
  {
   "cell_type": "markdown",
   "id": "e28fd445-4c3a-42f8-afc4-0a53e2be86c1",
   "metadata": {},
   "source": [
    "**Declaration-**<br>\n",
    "* Allmost all the questions are finished by myself.\n",
    "* It really gave me confidence that I needed\n",
    "* Please keep giving us  such amount of questions also from differnt topic as well\n",
    "* Also, I opened your solutions provided by you only when I did not get what exactly question want me to build logic\n",
    "* And some questions may be written differently mainly because of two reasons, Either I did not get the question or I did not how to build the logic for them"
   ]
  },
  {
   "cell_type": "markdown",
   "id": "368b68d6-759b-4460-a65d-417ced177d96",
   "metadata": {},
   "source": [
    "**Thank you**"
   ]
  },
  {
   "cell_type": "code",
   "execution_count": null,
   "id": "3d56b83d-6772-4908-8ff1-dd5805a8f4f0",
   "metadata": {},
   "outputs": [],
   "source": []
  }
 ],
 "metadata": {
  "kernelspec": {
   "display_name": "Python 3 (ipykernel)",
   "language": "python",
   "name": "python3"
  },
  "language_info": {
   "codemirror_mode": {
    "name": "ipython",
    "version": 3
   },
   "file_extension": ".py",
   "mimetype": "text/x-python",
   "name": "python",
   "nbconvert_exporter": "python",
   "pygments_lexer": "ipython3",
   "version": "3.10.8"
  }
 },
 "nbformat": 4,
 "nbformat_minor": 5
}
