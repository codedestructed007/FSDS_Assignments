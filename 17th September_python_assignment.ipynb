{
 "cells": [
  {
   "cell_type": "markdown",
   "id": "49281e82-6f9e-48df-8f18-28473f8a5bac",
   "metadata": {},
   "source": [
    "### For loop"
   ]
  },
  {
   "cell_type": "markdown",
   "id": "40a0d892-10c6-4c73-b50f-0f2c6c48c6e6",
   "metadata": {},
   "source": [
    "1. Write a Python program to print numbers from 1 to 10 using for loop."
   ]
  },
  {
   "cell_type": "code",
   "execution_count": 1,
   "id": "9eea4f3b-de35-47e9-96ce-2a97d6e0bde9",
   "metadata": {},
   "outputs": [
    {
     "name": "stdout",
     "output_type": "stream",
     "text": [
      "1\n",
      "2\n",
      "3\n",
      "4\n",
      "5\n",
      "6\n",
      "7\n",
      "8\n",
      "9\n",
      "10\n"
     ]
    }
   ],
   "source": [
    "for i in range(1,11):\n",
    "    print(i)"
   ]
  },
  {
   "cell_type": "markdown",
   "id": "1a62a980-1d50-4b3c-ae76-8401594852bd",
   "metadata": {},
   "source": [
    "2. Explain the difference between a for loop and while loop in Python."
   ]
  },
  {
   "cell_type": "markdown",
   "id": "c36e8aeb-e75f-42fc-9131-f78e9362cc3d",
   "metadata": {},
   "source": [
    "For loop runs the fixed number of loops/iteration, while in  While loop there is no fix number of iterations. It can be infinite loop also"
   ]
  },
  {
   "cell_type": "markdown",
   "id": "863c59d9-8282-4e92-bcf5-fe14e35acc50",
   "metadata": {},
   "source": [
    "3. Write a python program to calculate the sum of all numbers from 1 to 100 using a for loop"
   ]
  },
  {
   "cell_type": "code",
   "execution_count": 2,
   "id": "e15d9642-1bd0-4093-9dae-9e7cad1cc7af",
   "metadata": {},
   "outputs": [
    {
     "name": "stdout",
     "output_type": "stream",
     "text": [
      "5050\n"
     ]
    }
   ],
   "source": [
    "add = 0\n",
    "for i in range(1,101):\n",
    "    add = add + i\n",
    "print(add)"
   ]
  },
  {
   "cell_type": "markdown",
   "id": "63645c73-4614-44b1-a38d-7046d7ded55a",
   "metadata": {},
   "source": [
    "4. How do you iterate through a list using a for loop in python?\n"
   ]
  },
  {
   "cell_type": "markdown",
   "id": "5d6dbe27-c409-48ab-973b-b56f051fe1da",
   "metadata": {},
   "source": [
    "The for loop in list allows you to go through each element in the list one by one. here is the code-"
   ]
  },
  {
   "cell_type": "code",
   "execution_count": 3,
   "id": "7b865d1f-7d90-4eaf-a62a-160665c787c2",
   "metadata": {},
   "outputs": [
    {
     "name": "stdout",
     "output_type": "stream",
     "text": [
      "1\n",
      "2\n",
      "4\n",
      "42\n",
      "4\n",
      "23\n"
     ]
    }
   ],
   "source": [
    "l = [ 1,2,4,42,4,23]\n",
    "for item in l:\n",
    "    print(item)"
   ]
  },
  {
   "cell_type": "markdown",
   "id": "90395c20-4f3c-4ccd-b54d-8d933046a386",
   "metadata": {},
   "source": [
    "5. Write a python program to find the product of all elements in a list using a for loop."
   ]
  },
  {
   "cell_type": "code",
   "execution_count": 4,
   "id": "09f5ca68-aca3-4cc3-9fad-84820f9fcca0",
   "metadata": {},
   "outputs": [
    {
     "name": "stdout",
     "output_type": "stream",
     "text": [
      "3381166152000\n"
     ]
    }
   ],
   "source": [
    "product = 1\n",
    "l = [42,3324,325,23,5,324,2]\n",
    "for i in l:\n",
    "    product = product * i\n",
    "print(product)"
   ]
  },
  {
   "cell_type": "markdown",
   "id": "7793f19a-da70-40e6-b4d0-5aa3bac7376e",
   "metadata": {},
   "source": [
    "6. Create a python program that prints all even numbers from 1 to 20 using for loop"
   ]
  },
  {
   "cell_type": "code",
   "execution_count": 5,
   "id": "ddb853a6-11ce-4b71-baa9-c9b152dd64a3",
   "metadata": {},
   "outputs": [
    {
     "name": "stdout",
     "output_type": "stream",
     "text": [
      "2\n",
      "4\n",
      "6\n",
      "8\n",
      "10\n",
      "12\n",
      "14\n",
      "16\n",
      "18\n",
      "20\n"
     ]
    }
   ],
   "source": [
    "for i in range(1,21):\n",
    "    if i % 2 == 0:\n",
    "        print(i)"
   ]
  },
  {
   "cell_type": "markdown",
   "id": "63dc655b-4ee5-4344-8f38-8cf2fce82e0c",
   "metadata": {},
   "source": [
    "7. Write a python program that calculates the factorial of a number using a for loop"
   ]
  },
  {
   "cell_type": "code",
   "execution_count": 6,
   "id": "1715ab37-c15d-4aba-8784-8e8dd59a2989",
   "metadata": {},
   "outputs": [
    {
     "name": "stdout",
     "output_type": "stream",
     "text": [
      "24\n"
     ]
    }
   ],
   "source": [
    "n = 4\n",
    "factorial = 1\n",
    "for i in range(1,5):\n",
    "    factorial = factorial * i\n",
    "    \n",
    "print(factorial)"
   ]
  },
  {
   "cell_type": "markdown",
   "id": "034ed899-d828-4c33-bb2c-6668fb4da99a",
   "metadata": {},
   "source": [
    "8. How can you iterate through the characters of a string using a for loop in python"
   ]
  },
  {
   "cell_type": "code",
   "execution_count": 7,
   "id": "f97324e7-8754-4560-a59c-06fd0d673429",
   "metadata": {},
   "outputs": [
    {
     "name": "stdout",
     "output_type": "stream",
     "text": [
      "hello dear"
     ]
    }
   ],
   "source": [
    "char = 'hello dear'\n",
    "for i in char:\n",
    "    print(i, end='')"
   ]
  },
  {
   "cell_type": "markdown",
   "id": "850a3e34-cea5-4085-9501-ea40357a538e",
   "metadata": {},
   "source": [
    "9. Write a python program to find the largest number in a list using a for loop"
   ]
  },
  {
   "cell_type": "code",
   "execution_count": 8,
   "id": "efd9b82d-0267-41bb-8ce9-1d510d6eca5d",
   "metadata": {},
   "outputs": [
    {
     "name": "stdout",
     "output_type": "stream",
     "text": [
      "4324\n"
     ]
    }
   ],
   "source": [
    "l = [4324,235,3,32,42,5,25,345]\n",
    "maximum = 0\n",
    "for i in l:\n",
    "    if i > maximum:\n",
    "        maximum = i\n",
    "print(maximum)"
   ]
  },
  {
   "cell_type": "markdown",
   "id": "e2318385-4286-4903-a13d-1ccb98d80af1",
   "metadata": {},
   "source": [
    "10. Create a python program that prints the Fibonacci sequence up to a specified limit using for loop."
   ]
  },
  {
   "cell_type": "code",
   "execution_count": 9,
   "id": "644c16a8-2121-424d-8f8c-20c3560efa17",
   "metadata": {},
   "outputs": [
    {
     "name": "stdout",
     "output_type": "stream",
     "text": [
      "0\n",
      "1\n",
      "1\n",
      "2\n",
      "3\n",
      "5\n",
      "8\n",
      "13\n",
      "21\n",
      "34\n"
     ]
    }
   ],
   "source": [
    "def fib(n):\n",
    "    a , b = 0 , 1\n",
    "    for i in range(n):\n",
    "        yield a \n",
    "        a , b = b , a + b\n",
    "for i in fib(10):\n",
    "    print(i)"
   ]
  },
  {
   "cell_type": "markdown",
   "id": "e4d34a57-838a-4726-9341-9998c11f2f20",
   "metadata": {},
   "source": [
    "11. Write a python program to count the number of vowels in a givne string using for loop"
   ]
  },
  {
   "cell_type": "code",
   "execution_count": 10,
   "id": "59a032e7-d388-4d66-a19a-5340d431b1ed",
   "metadata": {},
   "outputs": [
    {
     "name": "stdout",
     "output_type": "stream",
     "text": [
      "11\n"
     ]
    }
   ],
   "source": [
    "st = 'hello dear tell me the vowels count'\n",
    "count = 0\n",
    "for i in st:\n",
    "    if i in list('aeiou'):\n",
    "        count +=1\n",
    "print(count)"
   ]
  },
  {
   "cell_type": "markdown",
   "id": "59dbe130-f8dc-4e72-94be-218dcb7e71c2",
   "metadata": {},
   "source": [
    "12. Create a python program that generates a multiplication table for a given number using for loop"
   ]
  },
  {
   "cell_type": "code",
   "execution_count": 11,
   "id": "664c5558-d5e6-4561-994f-0493a6768e4c",
   "metadata": {},
   "outputs": [
    {
     "name": "stdout",
     "output_type": "stream",
     "text": [
      "9 * 1 = 9\n",
      "9 * 2 = 18\n",
      "9 * 3 = 27\n",
      "9 * 4 = 36\n",
      "9 * 5 = 45\n",
      "9 * 6 = 54\n",
      "9 * 7 = 63\n",
      "9 * 8 = 72\n",
      "9 * 9 = 81\n",
      "9 * 10 = 90\n"
     ]
    }
   ],
   "source": [
    "def multiplication_table(n):\n",
    "    for i in range(10):\n",
    "        print(\"{} * {} = {}\".format(n,i+1,n*(i+1)))\n",
    "        \n",
    "multiplication_table(9)\n",
    "        "
   ]
  },
  {
   "cell_type": "markdown",
   "id": "5dca44cf-f3d4-42f2-9b65-67a617dd6a09",
   "metadata": {},
   "source": [
    "13. Write a python program to reverse a list using a for loop"
   ]
  },
  {
   "cell_type": "code",
   "execution_count": 12,
   "id": "e9f2b11d-8667-46f9-82e1-87082898014c",
   "metadata": {},
   "outputs": [
    {
     "name": "stdout",
     "output_type": "stream",
     "text": [
      "[64, 46, 45, 5, 32, 35, 232, 34]\n"
     ]
    }
   ],
   "source": [
    "l = [34, 232, 35, 32, 5, 45, 46, 64]\n",
    "n = len(l)\n",
    "for i in range(n // 2):\n",
    "\n",
    "    l[i], l[n - i - 1] = l[n - i - 1], l[i]\n",
    "print(l)\n"
   ]
  },
  {
   "cell_type": "markdown",
   "id": "6c155cd1-d588-4fa5-84f8-548bb7f8fe04",
   "metadata": {},
   "source": [
    "14. Write a python program to find the common elements b/w two lists using a for loop"
   ]
  },
  {
   "cell_type": "code",
   "execution_count": 13,
   "id": "2808512d-04a6-4e45-8727-68de85eca2c5",
   "metadata": {},
   "outputs": [
    {
     "name": "stdout",
     "output_type": "stream",
     "text": [
      "[234, 5, 2]\n"
     ]
    }
   ],
   "source": [
    "l1 = [234,3,5,3,53,24,2,3421,3]\n",
    "l2 = [5,6,43,6,6,3467,234,6544,23,2]\n",
    "common_ele = []\n",
    "for i in l1:\n",
    "    if i in l2:\n",
    "        common_ele.append(i)\n",
    "print(common_ele)"
   ]
  },
  {
   "cell_type": "markdown",
   "id": "1f9c10fa-e7f5-4dde-a377-9e54b384a28f",
   "metadata": {},
   "source": [
    "15. Explain how to use a for loop to iterate through the keys and values of a dictionary in Python"
   ]
  },
  {
   "cell_type": "code",
   "execution_count": 14,
   "id": "5f3efad8-2548-47c0-b579-d110408e51f7",
   "metadata": {},
   "outputs": [
    {
     "name": "stdout",
     "output_type": "stream",
     "text": [
      "name satyam\n",
      "age 24\n",
      "personality Athlete\n"
     ]
    }
   ],
   "source": [
    "dic = {'name' : 'satyam', 'age' : 24, 'personality' : 'Athlete'}\n",
    "for key, values in dic.items():\n",
    "    print(key, values)"
   ]
  },
  {
   "cell_type": "markdown",
   "id": "e9acb4a5-8e32-42dc-b4ae-1132db96c533",
   "metadata": {},
   "source": [
    "16. Write a python program to find the GCD(Greatest Common Divisior) of two numbers using a for loop"
   ]
  },
  {
   "cell_type": "code",
   "execution_count": 15,
   "id": "cdb84d29-6ae6-4fd0-b26a-c83f5b620562",
   "metadata": {},
   "outputs": [
    {
     "name": "stdin",
     "output_type": "stream",
     "text": [
      "Enter the first number:  34\n",
      "Enter the second number:  8\n"
     ]
    },
    {
     "name": "stdout",
     "output_type": "stream",
     "text": [
      "The GCD of 34 and 8 is 2\n"
     ]
    }
   ],
   "source": [
    "def gcd_euclidean(a, b):\n",
    "    while b:\n",
    "        a, b = b, a % b\n",
    "    return a\n",
    "\n",
    "# Input two numbers from the user\n",
    "num1 = int(input(\"Enter the first number: \"))\n",
    "num2 = int(input(\"Enter the second number: \"))\n",
    "\n",
    "# Calculate the GCD using the Euclidean algorithm\n",
    "gcd = gcd_euclidean(num1, num2)\n",
    "\n",
    "# Print the result\n",
    "print(f\"The GCD of {num1} and {num2} is {gcd}\")\n"
   ]
  },
  {
   "cell_type": "markdown",
   "id": "1bf6689d-e5a6-4bd8-a5ea-4758c55148a3",
   "metadata": {},
   "source": [
    "17. Create a Python program that checks if a string is a palindrome using a for loop"
   ]
  },
  {
   "cell_type": "code",
   "execution_count": 16,
   "id": "a63902d6-4ae4-4914-9090-4b4cd3270fcd",
   "metadata": {},
   "outputs": [
    {
     "data": {
      "text/plain": [
       "'yES , It is a palindrome'"
      ]
     },
     "execution_count": 16,
     "metadata": {},
     "output_type": "execute_result"
    }
   ],
   "source": [
    "st = 'racar'\n",
    "def palindrome(st:str):\n",
    "    for i in range(len(st)):\n",
    "        if st[i] != st[-(i+1)]:\n",
    "            return ('Not a palindrome')\n",
    "    return ('yES , It is a palindrome')\n",
    "palindrome('racar')"
   ]
  },
  {
   "cell_type": "markdown",
   "id": "dd8271c5-468c-4c89-be8a-031902b58635",
   "metadata": {},
   "source": [
    "18. Write a python program to remove duplicates from a list usign for loop"
   ]
  },
  {
   "cell_type": "code",
   "execution_count": 17,
   "id": "03720ae8-ce03-4407-8c48-bee95fb0dcc7",
   "metadata": {},
   "outputs": [
    {
     "name": "stdout",
     "output_type": "stream",
     "text": [
      "[1, 2, 3, 4, 5, 6]\n"
     ]
    }
   ],
   "source": [
    "original_list = [1, 2, 2, 3, 4, 4, 5, 6, 6]\n",
    "\n",
    "# Create an empty list to store unique elements\n",
    "unique_list = []\n",
    "\n",
    "for item in original_list:\n",
    "    if item not in unique_list:\n",
    "        unique_list.append(item)\n",
    "\n",
    "print(unique_list)"
   ]
  },
  {
   "cell_type": "markdown",
   "id": "45d4bcbb-8256-4521-90a0-5de1cfc43d44",
   "metadata": {},
   "source": [
    "19. Create a Python program that counts the number of words in a sentence using a for loop"
   ]
  },
  {
   "cell_type": "code",
   "execution_count": 18,
   "id": "05431c4d-034c-4b3e-91f9-922048d9ca71",
   "metadata": {},
   "outputs": [
    {
     "name": "stdout",
     "output_type": "stream",
     "text": [
      "7\n"
     ]
    }
   ],
   "source": [
    "sentence = 'Hello dear, my name is satyam sharma'\n",
    "count = 0\n",
    "for i in sentence:\n",
    "    if i == \" \":\n",
    "        count +=1\n",
    "        \n",
    "print(count+1)"
   ]
  },
  {
   "cell_type": "markdown",
   "id": "d10267e8-aedd-47c3-af99-5ce551cb73a5",
   "metadata": {},
   "source": [
    "20. Write a python program to find the sum of all odd numbers from 1 to 50 usnig a for loop"
   ]
  },
  {
   "cell_type": "code",
   "execution_count": 19,
   "id": "e30372a8-bfdf-4ca7-a0e8-64fc2a230a3a",
   "metadata": {},
   "outputs": [
    {
     "name": "stdout",
     "output_type": "stream",
     "text": [
      "625\n"
     ]
    }
   ],
   "source": [
    "count = 0\n",
    "for i in range(1,51):\n",
    "    if i % 2 != 0:\n",
    "        count +=i\n",
    "print(count)"
   ]
  },
  {
   "cell_type": "markdown",
   "id": "3ba88f47-ccc8-47c7-8efd-2133d6f2d2ed",
   "metadata": {},
   "source": [
    "21. Write a Python program that checks if a given year is a leap year using a for loop"
   ]
  },
  {
   "cell_type": "code",
   "execution_count": 20,
   "id": "0e3da7c2-01d1-4aa9-9853-3901e2c41943",
   "metadata": {},
   "outputs": [
    {
     "data": {
      "text/plain": [
       "'Leap year'"
      ]
     },
     "execution_count": 20,
     "metadata": {},
     "output_type": "execute_result"
    }
   ],
   "source": [
    "def leap_year(year:int):\n",
    "    if year % 400 == 0 or (year % 4 == 0 and year % 100 != 0):\n",
    "        return 'Leap year'\n",
    "    else:\n",
    "        return 'Not a leap year'\n",
    "leap_year(2024)"
   ]
  },
  {
   "cell_type": "markdown",
   "id": "30ff1450-478a-42f6-ad19-890f66dd0f98",
   "metadata": {},
   "source": [
    "22. Create a Python program that calculates the square root of a number using a for loop"
   ]
  },
  {
   "cell_type": "code",
   "execution_count": 21,
   "id": "dd7ec21b-cc02-453f-9df9-0225efbb95c5",
   "metadata": {},
   "outputs": [
    {
     "name": "stdin",
     "output_type": "stream",
     "text": [
      "Enter a number:  9\n"
     ]
    },
    {
     "name": "stdout",
     "output_type": "stream",
     "text": [
      "The square root of 9.0 is approximately 3.000000\n"
     ]
    }
   ],
   "source": [
    "def calculate_square_root(number, iterations=100):\n",
    "    # Initialize an approximate square root\n",
    "    approximation = number / 2.0\n",
    "\n",
    "    # Use a for loop to refine the approximation\n",
    "    for _ in range(iterations):\n",
    "        approximation = 0.5 * (approximation + number / approximation)\n",
    "\n",
    "    return approximation\n",
    "\n",
    "# Input the number for which you want to calculate the square root\n",
    "number = float(input(\"Enter a number: \"))\n",
    "\n",
    "# Calculate the square root\n",
    "result = calculate_square_root(number)\n",
    "\n",
    "# Print the result\n",
    "print(f\"The square root of {number} is approximately {result:.6f}\")\n"
   ]
  },
  {
   "cell_type": "markdown",
   "id": "ff92d2b8-8294-4e4d-93c2-d7443086196b",
   "metadata": {},
   "source": [
    "23. Write a Python program to find the LCM (Least Common Multiple) of two numbers using a for loop."
   ]
  },
  {
   "cell_type": "code",
   "execution_count": 22,
   "id": "d4902639-be01-4d58-b829-0b42a43e2c6b",
   "metadata": {},
   "outputs": [
    {
     "name": "stdin",
     "output_type": "stream",
     "text": [
      "Enter the first number:  8\n",
      "Enter the second number:  2\n"
     ]
    },
    {
     "name": "stdout",
     "output_type": "stream",
     "text": [
      "The LCM of 8 and 2 is 8\n"
     ]
    }
   ],
   "source": [
    "# Function to find the GCD (Greatest Common Divisor) of two numbers\n",
    "def gcd(a, b):\n",
    "    while b:\n",
    "        a, b = b, a % b\n",
    "    return a\n",
    "\n",
    "# Function to find the LCM of two numbers\n",
    "def lcm(a, b):\n",
    "    return (a * b) // gcd(a, b)\n",
    "\n",
    "# Input two numbers from the user\n",
    "num1 = int(input(\"Enter the first number: \"))\n",
    "num2 = int(input(\"Enter the second number: \"))\n",
    "\n",
    "# Calculate and display the LCM\n",
    "result = lcm(num1, num2)\n",
    "print(f\"The LCM of {num1} and {num2} is {result}\")\n"
   ]
  },
  {
   "cell_type": "markdown",
   "id": "1c29054a-9121-4aa5-8582-64ebba08cf5e",
   "metadata": {},
   "source": [
    "### If else"
   ]
  },
  {
   "cell_type": "markdown",
   "id": "9017f783-2774-4005-b0b5-f09ad39e21e5",
   "metadata": {},
   "source": [
    "1. Write a Python program to check if a number is positive, negative, or zero using an if-else statement."
   ]
  },
  {
   "cell_type": "code",
   "execution_count": 23,
   "id": "3b95843b-200c-491c-bb85-33045605ff6b",
   "metadata": {},
   "outputs": [
    {
     "name": "stdout",
     "output_type": "stream",
     "text": [
      "Positive\n",
      "Negative\n",
      "ZERO\n"
     ]
    }
   ],
   "source": [
    "def check_number(num:int):\n",
    "    if num > 0 :\n",
    "        return 'Positive'\n",
    "    else:\n",
    "        if num < 0:\n",
    "            return 'Negative'\n",
    "        else:\n",
    "            return 'ZERO'\n",
    "print(check_number(23))\n",
    "print(check_number(-12))\n",
    "print(check_number(0))"
   ]
  },
  {
   "cell_type": "markdown",
   "id": "5e31c057-4748-4bef-a7bc-c569f3b3b32a",
   "metadata": {},
   "source": [
    "2. Create a Python program that checks if a given number is even or odd using an if-else statem\n"
   ]
  },
  {
   "cell_type": "code",
   "execution_count": 24,
   "id": "b0687f43-9952-49c8-b876-ebee350edfe4",
   "metadata": {},
   "outputs": [
    {
     "name": "stdout",
     "output_type": "stream",
     "text": [
      "Odd\n",
      "Even\n",
      "Odd\n"
     ]
    }
   ],
   "source": [
    "def even_or_odd(num:int):\n",
    "    if num % 2 == 0:\n",
    "        return 'Even'\n",
    "    else:\n",
    "        return 'Odd'\n",
    "print(even_or_odd(421))\n",
    "print(even_or_odd(30))\n",
    "print(even_or_odd(23))"
   ]
  },
  {
   "cell_type": "markdown",
   "id": "b7a0ded6-95f9-43f5-b355-95c33c1bf383",
   "metadata": {},
   "source": [
    "3. How can you use nested if-else statements in Python, and provide an example?"
   ]
  },
  {
   "cell_type": "code",
   "execution_count": 25,
   "id": "37e30819-bba8-48a6-8297-41d1bed6d80e",
   "metadata": {},
   "outputs": [
    {
     "name": "stdin",
     "output_type": "stream",
     "text": [
      "enter any number 20\n"
     ]
    },
    {
     "name": "stdout",
     "output_type": "stream",
     "text": [
      "In b/w 10 to 20\n"
     ]
    }
   ],
   "source": [
    "num = int(input('enter any number'))\n",
    "if num < 10 :\n",
    "    print('SMALLER THAN 10')\n",
    "else:\n",
    "    if num > 20 :\n",
    "        print('GREATER THAN 20')\n",
    "    else:\n",
    "        print('In b/w 10 to 20')"
   ]
  },
  {
   "cell_type": "markdown",
   "id": "4489029c-2361-41fd-ac6a-387b07807322",
   "metadata": {},
   "source": [
    "4. Write a Python program to determine the largest of three numbers using if-else."
   ]
  },
  {
   "cell_type": "code",
   "execution_count": 32,
   "id": "ea553e71-85a6-44e0-904d-a5804d898076",
   "metadata": {},
   "outputs": [
    {
     "name": "stdout",
     "output_type": "stream",
     "text": [
      "54 is the largest\n"
     ]
    }
   ],
   "source": [
    "def largest(num1, num2, num3):\n",
    "    largest_num = None\n",
    "    \n",
    "    if num1 > num2:\n",
    "        if num1 > num3:\n",
    "            largest_num = num1\n",
    "    else:\n",
    "            largest_num = num2\n",
    "\n",
    "    if largest_num is None:\n",
    "        largest_num = num3\n",
    "    \n",
    "    return \"{} is the largest\".format(largest_num)\n",
    "\n",
    "result = largest(23, 4, 54)\n",
    "print(result)\n"
   ]
  },
  {
   "cell_type": "markdown",
   "id": "e43d9902-20f4-496d-a2e1-2e9eff5d4820",
   "metadata": {},
   "source": [
    "5. Write a python program that calculates the absolute values of a number using if-else"
   ]
  },
  {
   "cell_type": "code",
   "execution_count": 33,
   "id": "c9b259d7-4ee8-4a49-bee2-3b40398d6474",
   "metadata": {},
   "outputs": [
    {
     "data": {
      "text/plain": [
       "234"
      ]
     },
     "execution_count": 33,
     "metadata": {},
     "output_type": "execute_result"
    }
   ],
   "source": [
    "def absolute_(num:int):\n",
    "    return int(str(num)[1:len(str(num))])\n",
    "absolute_(-234)"
   ]
  },
  {
   "cell_type": "markdown",
   "id": "5ac3df0b-c318-45c5-9385-1bc76dc31012",
   "metadata": {},
   "source": [
    "6. Create a Python program that checks if a given character is a vowel or consonant using if-else"
   ]
  },
  {
   "cell_type": "code",
   "execution_count": 34,
   "id": "9dd85fc4-756a-4478-9860-de0f6caed60c",
   "metadata": {},
   "outputs": [
    {
     "name": "stdout",
     "output_type": "stream",
     "text": [
      "Vowel\n",
      "Consonants\n"
     ]
    }
   ],
   "source": [
    "def vowel_or_consonants(st:str):\n",
    "    if st in list('aeiou'):\n",
    "        return 'Vowel'\n",
    "    else:\n",
    "        return 'Consonants'\n",
    "print(vowel_or_consonants('a'))\n",
    "print(vowel_or_consonants('t'))"
   ]
  },
  {
   "cell_type": "markdown",
   "id": "8873ec9a-e2a7-46c6-849e-643b46147578",
   "metadata": {},
   "source": [
    "7. Write a Python program to determine if a user is eligible to vote based on their age using if-else."
   ]
  },
  {
   "cell_type": "code",
   "execution_count": 35,
   "id": "347716a3-c249-4a9a-a638-cf22dfeaa0fc",
   "metadata": {},
   "outputs": [
    {
     "data": {
      "text/plain": [
       "'You are eligible'"
      ]
     },
     "execution_count": 35,
     "metadata": {},
     "output_type": "execute_result"
    }
   ],
   "source": [
    "def check_eligibility(age:int):\n",
    "    if age > 18 :\n",
    "        return 'You are eligible'\n",
    "    else:\n",
    "        return 'You are not eligible'\n",
    "check_eligibility(19)"
   ]
  },
  {
   "cell_type": "markdown",
   "id": "0db1bd89-2865-434e-acdb-ec8d04aaa340",
   "metadata": {},
   "source": [
    "8. Create a Python program that calculates the discount amount based on the purchase amount using if-else."
   ]
  },
  {
   "cell_type": "code",
   "execution_count": 36,
   "id": "f707bdd3-f335-4e84-a784-6dcd6d478b36",
   "metadata": {},
   "outputs": [
    {
     "name": "stdout",
     "output_type": "stream",
     "text": [
      "Yay, you got rs 20 off\n",
      "Sorry, No discount\n",
      "Yay , you got rs50 off\n"
     ]
    }
   ],
   "source": [
    "# put cost of the object\n",
    "## will return the discount offered on that product\n",
    "def discount_machine(cost:int):\n",
    "    if cost < 150 :\n",
    "        return 'Sorry, No discount'\n",
    "    elif  150 < cost <= 200 :\n",
    "        return 'Yay, you got rs 20 off'\n",
    "    elif 200 < cost  :\n",
    "        return 'Yay , you got rs50 off'\n",
    "\n",
    "print(discount_machine(200))\n",
    "print(discount_machine(140))\n",
    "print(discount_machine(580))"
   ]
  },
  {
   "cell_type": "markdown",
   "id": "b815d995-ec65-4e96-bb04-e519f7f2452b",
   "metadata": {},
   "source": [
    "9. Write a Python program to check if a number is within a specified range using if-else."
   ]
  },
  {
   "cell_type": "code",
   "execution_count": 37,
   "id": "ca0950c0-5e88-4195-b81c-29fd653d388b",
   "metadata": {},
   "outputs": [
    {
     "data": {
      "text/plain": [
       "'Class A'"
      ]
     },
     "execution_count": 37,
     "metadata": {},
     "output_type": "execute_result"
    }
   ],
   "source": [
    "def check_if_in_range(n):\n",
    "    if 10 < n < 30 :\n",
    "        return 'Class D'\n",
    "    else:\n",
    "        if n < 10 :\n",
    "            return 'Class B'\n",
    "        else:\n",
    "            if n > 30 :\n",
    "                return 'Class A'\n",
    "            elif n > 50 :\n",
    "                return 'Class A+'\n",
    "            \n",
    "check_if_in_range(31)"
   ]
  },
  {
   "cell_type": "markdown",
   "id": "58adaa37-b5e5-4713-bd67-09a28a144e5a",
   "metadata": {},
   "source": [
    "10. Create a Python program that determines the grade of a student based on their score using if-else."
   ]
  },
  {
   "cell_type": "code",
   "execution_count": 38,
   "id": "126c7f66-938d-4e8e-9983-b35756ca623a",
   "metadata": {},
   "outputs": [
    {
     "name": "stdout",
     "output_type": "stream",
     "text": [
      "C\n",
      "B\n",
      "Fail\n",
      "A\n"
     ]
    }
   ],
   "source": [
    "def grade(num:int):\n",
    "    if num < 40:\n",
    "        return 'Fail'\n",
    "    elif 40 <= num < 60 :\n",
    "        return 'C'\n",
    "    elif 60 <= num < 80:\n",
    "        return 'B'\n",
    "    elif 80 <=num <100:\n",
    "        return 'A'\n",
    "print(grade(40))\n",
    "print(grade(61))\n",
    "print(grade(35))\n",
    "print(grade(91))"
   ]
  },
  {
   "cell_type": "markdown",
   "id": "4e31d323-69cb-493d-a43e-b0b31c448cc3",
   "metadata": {},
   "source": [
    "11. Write a Python program to check if a string is empty or not using if-else"
   ]
  },
  {
   "cell_type": "code",
   "execution_count": 42,
   "id": "4d2fe0c9-d18f-4ba4-ae51-f066e48a2320",
   "metadata": {},
   "outputs": [
    {
     "name": "stdout",
     "output_type": "stream",
     "text": [
      "Emtpy string\n",
      "Not an empty string\n"
     ]
    }
   ],
   "source": [
    "st1 = 'hello'\n",
    "st2 = ''\n",
    "def check_string(st:str):\n",
    "    if len(st) > 0:\n",
    "        return 'Not an empty string'\n",
    "    return 'Emtpy string'\n",
    "print(check_string(st2))\n",
    "print(check_string(st1))"
   ]
  },
  {
   "cell_type": "markdown",
   "id": "2965d44d-3f5a-4575-adfa-8e0594a27fcd",
   "metadata": {},
   "source": [
    "12. Create a Python program that identifies the type of a triangle (e.g., equilateral, isosceles, or scalene) based on input values using if-else"
   ]
  },
  {
   "cell_type": "code",
   "execution_count": 43,
   "id": "f147d461-1b59-4965-9ca7-69a831c772e7",
   "metadata": {},
   "outputs": [
    {
     "name": "stdout",
     "output_type": "stream",
     "text": [
      "Isosceles\n",
      "Scalene\n",
      "Equilateral\n"
     ]
    }
   ],
   "source": [
    "def type_of_triangle(side1,side2,side3):\n",
    "    if side1 == side2 == side3 :\n",
    "        return 'Equilateral'\n",
    "    else:\n",
    "        if side1 == side2 or side1 == side3 or side2 == side3:\n",
    "            return 'Isosceles'\n",
    "        else:\n",
    "            return 'Scalene'\n",
    "print(type_of_triangle(34,654,34))\n",
    "print(type_of_triangle(12,43,87))\n",
    "print(type_of_triangle(12,12,12))"
   ]
  },
  {
   "cell_type": "markdown",
   "id": "798a9cbd-da29-47e1-93ba-0c7fde25c023",
   "metadata": {},
   "source": [
    "13. Write a Python program to determine the day of the week based on a user-provided number using if-else."
   ]
  },
  {
   "cell_type": "code",
   "execution_count": 44,
   "id": "8dacd207-7cf9-40d0-bdca-eeaeed40d180",
   "metadata": {},
   "outputs": [
    {
     "name": "stdout",
     "output_type": "stream",
     "text": [
      "Thru\n",
      "Fri\n"
     ]
    }
   ],
   "source": [
    "def day_of_week(num:int):\n",
    "    week_day = {1 : 'Mon',2: 'Tue',3: 'Wed',4: 'Thru',5: 'Fri',6:'Sat',7:'Sun'}\n",
    "    if num > 7:\n",
    "        num = num //7\n",
    "        return week_day[num]\n",
    "    else:\n",
    "        return week_day[num]\n",
    "\n",
    "print(day_of_week(4))\n",
    "print(day_of_week((35)))"
   ]
  },
  {
   "cell_type": "markdown",
   "id": "7e59a2e8-8bfb-49ca-8c6e-0e599ece4b19",
   "metadata": {},
   "source": [
    "14. Create a Python program that checks if a given year is a leap year using both if-else and a function."
   ]
  },
  {
   "cell_type": "code",
   "execution_count": 47,
   "id": "ed347ae4-b02a-4ab0-9521-c9dbf945d042",
   "metadata": {},
   "outputs": [
    {
     "name": "stdout",
     "output_type": "stream",
     "text": [
      "not a leap year\n",
      "Leap year\n"
     ]
    },
    {
     "data": {
      "text/plain": [
       "'logic is , A particular year will be a leap year if that year is century year(ends with double zeros)\\n then it should be divisible by 400 and if not then it should be divisible by 4'"
      ]
     },
     "execution_count": 47,
     "metadata": {},
     "output_type": "execute_result"
    }
   ],
   "source": [
    "def leap_year(year:int):\n",
    "    if year % 400 == 0 or year % 4 == 0 and year % 100 != 0:\n",
    "        return 'Leap year'\n",
    "    return 'not a leap year'\n",
    "\n",
    "print(leap_year(2023))\n",
    "print(leap_year(2020))\n",
    "\"\"\"logic is , A particular year will be a leap year if that year is century year(ends with double zeros)\n",
    " then it should be divisible by 400 and if not then it should be divisible by 4\"\"\""
   ]
  },
  {
   "cell_type": "markdown",
   "id": "61a840ae-7fb7-454b-9539-7213c0721ead",
   "metadata": {},
   "source": [
    "15. How do you use the \"assert\" statement in Python to add debugging checks within if-else blocks?"
   ]
  },
  {
   "cell_type": "markdown",
   "id": "1d42023c-449c-471b-baa0-16aabe8a95eb",
   "metadata": {},
   "source": [
    "what is assert - \n",
    "Assertion in programming language is basically a statement which takes a input a boolean type and if it returns true then the code will be executed without any break but if it returns false(or if the condition is false) it will break and throw an error..\n",
    "We as a programmer believes the assertion to be true so any breakdown or when condition is not met then it stops the program immediately.."
   ]
  },
  {
   "cell_type": "code",
   "execution_count": 50,
   "id": "29f4ec7a-4e25-4dd6-80cd-34680fe52318",
   "metadata": {},
   "outputs": [
    {
     "ename": "AssertionError",
     "evalue": "Zero division error",
     "output_type": "error",
     "traceback": [
      "\u001b[0;31m---------------------------------------------------------------------------\u001b[0m",
      "\u001b[0;31mAssertionError\u001b[0m                            Traceback (most recent call last)",
      "Cell \u001b[0;32mIn[50], line 6\u001b[0m\n\u001b[1;32m      3\u001b[0m a \u001b[38;5;241m=\u001b[39m \u001b[38;5;241m4\u001b[39m\n\u001b[1;32m      4\u001b[0m b \u001b[38;5;241m=\u001b[39m \u001b[38;5;241m0\u001b[39m\n\u001b[0;32m----> 6\u001b[0m \u001b[38;5;28;01massert\u001b[39;00m b\u001b[38;5;241m!=\u001b[39m \u001b[38;5;241m0\u001b[39m ,\u001b[38;5;124m'\u001b[39m\u001b[38;5;124mZero division error\u001b[39m\u001b[38;5;124m'\u001b[39m\n\u001b[1;32m      7\u001b[0m \u001b[38;5;28mprint\u001b[39m(a\u001b[38;5;241m/\u001b[39mb)\n",
      "\u001b[0;31mAssertionError\u001b[0m: Zero division error"
     ]
    }
   ],
   "source": [
    "#here how you can use assertion\n",
    "#case 1\n",
    "a = 4\n",
    "b = 0\n",
    "\n",
    "assert b!= 0 ,'Zero division error'\n",
    "print(a/b)"
   ]
  },
  {
   "cell_type": "code",
   "execution_count": 51,
   "id": "9c1ba3e1-2448-49f5-b3d3-2af16f8d55fa",
   "metadata": {},
   "outputs": [
    {
     "name": "stdout",
     "output_type": "stream",
     "text": [
      "2.0\n"
     ]
    }
   ],
   "source": [
    "#here how you can use assertion\n",
    "#case 2\n",
    "a = 4\n",
    "b = 2\n",
    "\n",
    "assert b!= 0 ,'Zero division error'\n",
    "print(a/b)"
   ]
  },
  {
   "cell_type": "markdown",
   "id": "74579510-84a5-4e1f-a701-e2fc72e60d04",
   "metadata": {},
   "source": [
    "16. Create a Python program that determines the eligibility of a person for a senior citizen discount based on age using if-else."
   ]
  },
  {
   "cell_type": "code",
   "execution_count": 53,
   "id": "97d84d16-2a80-412f-981b-db0b8c0fe839",
   "metadata": {},
   "outputs": [
    {
     "name": "stdout",
     "output_type": "stream",
     "text": [
      "Sorry sir this discount service only for people above age 60\n",
      "Yes you are a valid candidate for a discount\n",
      "Sorry, Sir kindly bring a valid proof of your age\n"
     ]
    }
   ],
   "source": [
    "def sinior_citizen_discount(age:int , proof = False):\n",
    "    if age > 60 :\n",
    "        if proof:\n",
    "            return 'Yes you are a valid candidate for a discount'\n",
    "        else:\n",
    "            return 'Sorry, Sir kindly bring a valid proof of your age'\n",
    "    else:\n",
    "        return 'Sorry sir this discount service only for people above age 60'\n",
    "    \n",
    "print(sinior_citizen_discount(59, proof=True))\n",
    "print(sinior_citizen_discount(65,proof=True))\n",
    "print(sinior_citizen_discount(62))"
   ]
  },
  {
   "cell_type": "markdown",
   "id": "6d6dd4d7-f43c-49a5-8915-f60ec7129903",
   "metadata": {},
   "source": [
    "17. Write a python program to categorize a given character as uppercase, lowercase or neither using if-else"
   ]
  },
  {
   "cell_type": "code",
   "execution_count": 54,
   "id": "b9a5533a-e5e6-4bcd-9140-c75150a44a8f",
   "metadata": {},
   "outputs": [
    {
     "name": "stdout",
     "output_type": "stream",
     "text": [
      "In lowercase\n",
      "In uppercase\n",
      "Contains both upper or lower cases\n"
     ]
    }
   ],
   "source": [
    "def is_alphabetic(st:str):\n",
    "    if st.islower():\n",
    "        return 'In lowercase'\n",
    "    elif st.isupper():\n",
    "        return 'In uppercase'\n",
    "    else:\n",
    "        return 'Contains both upper or lower cases'\n",
    "print(is_alphabetic('satyam'))\n",
    "print(is_alphabetic('SATYAM'))\n",
    "print(is_alphabetic('saTYAm'))"
   ]
  },
  {
   "cell_type": "markdown",
   "id": "fb13bffa-cef9-4dc9-9fc3-be003c913465",
   "metadata": {},
   "source": [
    "18. Write a Python program to determine the roots of a quadratic equation using if-else."
   ]
  },
  {
   "cell_type": "code",
   "execution_count": 55,
   "id": "f9480401-89c7-4e67-b7aa-e09222335aa9",
   "metadata": {},
   "outputs": [
    {
     "name": "stdout",
     "output_type": "stream",
     "text": [
      "Root 1: (-1.125+2.6896793489187516j)\n",
      "Root 2: (-1.125-2.6896793489187516j)\n"
     ]
    }
   ],
   "source": [
    "import math\n",
    "\n",
    "def calculate_quadratic_roots(a, b, c):\n",
    "    # Calculate discriminant\n",
    "    D = b**2 - 4*a*c\n",
    "\n",
    "    # Check discriminant and calculate roots\n",
    "    if D > 0:\n",
    "        # Two real and distinct roots\n",
    "        root1 = (-b + math.sqrt(D)) / (2*a)\n",
    "        root2 = (-b - math.sqrt(D)) / (2*a)\n",
    "        return root1, root2\n",
    "    elif D == 0:\n",
    "        # One real root (repeated root)\n",
    "        root1 = -b / (2*a)\n",
    "        return root1\n",
    "    else:\n",
    "        # No real roots (complex roots)\n",
    "        real_part = -b / (2*a)\n",
    "        imaginary_part = math.sqrt(abs(D)) / (2*a)\n",
    "        root1 = complex(real_part, imaginary_part)\n",
    "        root2 = complex(real_part, -imaginary_part)\n",
    "        return root1, root2\n",
    "\n",
    "\n",
    "\n",
    "# Calculate and print roots\n",
    "roots = calculate_quadratic_roots(4, 9, 34)\n",
    "if isinstance(roots, tuple):\n",
    "    print(f\"Root 1: {roots[0]}\")\n",
    "    print(f\"Root 2: {roots[1]}\")\n",
    "else:\n",
    "    print(f\"Root: {roots}\")\n"
   ]
  },
  {
   "cell_type": "markdown",
   "id": "3a5b60c7-99fc-4608-86df-1576184e4ac2",
   "metadata": {},
   "source": [
    "19. Create a Python program that checks if a given year is a century year or not using if-else."
   ]
  },
  {
   "cell_type": "code",
   "execution_count": 57,
   "id": "d7d7934c-9eb2-4b3b-9e42-c59f8eb46716",
   "metadata": {},
   "outputs": [
    {
     "data": {
      "text/plain": [
       "True"
      ]
     },
     "execution_count": 57,
     "metadata": {},
     "output_type": "execute_result"
    }
   ],
   "source": [
    "def check_centuary_year(year:int):\n",
    "    if year % 100 == 0:\n",
    "        return True\n",
    "    else:\n",
    "        return False\n",
    "    \n",
    "check_centuary_year(2000)"
   ]
  },
  {
   "cell_type": "markdown",
   "id": "92e59fef-c080-4fcc-8c7a-73e0e1852afe",
   "metadata": {},
   "source": [
    "20. Write a python program to determine if a given number is a perfect square using if-else"
   ]
  },
  {
   "cell_type": "code",
   "execution_count": 63,
   "id": "b0662530-3eb5-46c0-9f5e-af886c8645bf",
   "metadata": {},
   "outputs": [
    {
     "name": "stdout",
     "output_type": "stream",
     "text": [
      "False\n"
     ]
    }
   ],
   "source": [
    "def perfect_square(num: int):\n",
    "    if num < 0:\n",
    "        return False  # Negative numbers cannot be perfect squares\n",
    "\n",
    "    sqrt_num = int(num ** 0.5)  # Calculate the integer square root\n",
    "\n",
    "    return sqrt_num * sqrt_num == num  # Check if the square of the integer square root is equal to the original number\n",
    "\n",
    "result = perfect_square(26)\n",
    "print(result)  # This will correctly return True for 25\n"
   ]
  },
  {
   "cell_type": "markdown",
   "id": "229fd686-9ea4-4885-8df6-167dd15c49c9",
   "metadata": {},
   "source": [
    "21. Explain the purpose of the \"continue\" and \"break\" statements within if-else loops."
   ]
  },
  {
   "cell_type": "markdown",
   "id": "f072ab80-bfdc-49dc-8385-2dbc29c996bf",
   "metadata": {},
   "source": [
    "Continue keyword is used if at any iteration we do not want any operation or condition checking then we use continue to pass that itereation and it will jump for that value in the iteration wheareas in break keyword it is used to terminat the iteration(or loop ) a particular condition is met."
   ]
  },
  {
   "cell_type": "code",
   "execution_count": 64,
   "id": "25af6275-1cd7-4102-bdb4-d90cbe3fb868",
   "metadata": {},
   "outputs": [
    {
     "name": "stdout",
     "output_type": "stream",
     "text": [
      "0\n",
      "1\n",
      "2\n",
      "4\n",
      "5\n",
      "6\n",
      "7\n",
      "8\n",
      "9\n"
     ]
    }
   ],
   "source": [
    "## Here 3 will be skipped by program\n",
    "n = 10 \n",
    "for i in range(n):\n",
    "    if i == 3:\n",
    "        continue\n",
    "    else:\n",
    "        print(i)"
   ]
  },
  {
   "cell_type": "code",
   "execution_count": 67,
   "id": "7c48ea89-57f6-4f0f-8ad1-946937d3b522",
   "metadata": {},
   "outputs": [
    {
     "name": "stdout",
     "output_type": "stream",
     "text": [
      "0\n",
      "1\n",
      "2\n",
      "3\n"
     ]
    }
   ],
   "source": [
    "## Here program will be terminated if i is equals to 3\n",
    "n = 10 \n",
    "for i in range(n):\n",
    "    print(i)\n",
    "    if i == 3:\n",
    "        break"
   ]
  },
  {
   "cell_type": "markdown",
   "id": "e277187d-5fcf-4545-9a8d-7aec17294b91",
   "metadata": {},
   "source": [
    "22. Create a Python program that calculates the BMI (Body Mass Index) of a person based on their weight and height using if-else."
   ]
  },
  {
   "cell_type": "code",
   "execution_count": 68,
   "id": "d6f976a6-1d78-41cd-80ed-c9412742cd46",
   "metadata": {},
   "outputs": [
    {
     "name": "stdout",
     "output_type": "stream",
     "text": [
      "Normal Weight\n",
      "Overweight\n",
      "Underweight\n"
     ]
    }
   ],
   "source": [
    "def Bmi_category(bmi:int):\n",
    "    if bmi < 18.5 :\n",
    "        return 'Underweight'\n",
    "    elif  18.5 <= bmi <= 24.9:\n",
    "        return 'Normal Weight'\n",
    "    else:\n",
    "        return 'Overweight'\n",
    "    \n",
    "print(Bmi_category(20))\n",
    "print(Bmi_category(26))\n",
    "print(Bmi_category(17))\n"
   ]
  },
  {
   "cell_type": "markdown",
   "id": "0ae60fff-c658-41b3-a604-45f11bc07e3b",
   "metadata": {},
   "source": [
    "23. How can you use the \"filter()\" function with if-else statements to filter elements from a list?"
   ]
  },
  {
   "cell_type": "code",
   "execution_count": 74,
   "id": "3069c417-1d7c-49f1-a508-06556f2294e3",
   "metadata": {},
   "outputs": [
    {
     "name": "stdout",
     "output_type": "stream",
     "text": [
      "superior\n"
     ]
    }
   ],
   "source": [
    "l1 = ['SAYTAM','SCHOOL','PERFECTION','superior']\n",
    "x = filter(lambda x : x.islower() , l1)\n",
    "for i in x:\n",
    "    print(i)"
   ]
  },
  {
   "cell_type": "markdown",
   "id": "2510c073-12b4-4ce6-a1c3-e98b2246af0c",
   "metadata": {},
   "source": [
    "or"
   ]
  },
  {
   "cell_type": "code",
   "execution_count": 75,
   "id": "f57c801d-4226-4ad6-b2d7-12b98b66b7ef",
   "metadata": {},
   "outputs": [
    {
     "data": {
      "text/plain": [
       "['superior']"
      ]
     },
     "execution_count": 75,
     "metadata": {},
     "output_type": "execute_result"
    }
   ],
   "source": [
    "l1 = ['SAYTAM','SCHOOL','PERFECTION','superior']\n",
    "list(filter(lambda x : x.islower() , l1))\n"
   ]
  },
  {
   "cell_type": "markdown",
   "id": "7cfbae73-ec49-4520-a6db-ccb326831415",
   "metadata": {},
   "source": [
    "24. Write a Python program to determine if a given number is prime or not using if-else."
   ]
  },
  {
   "cell_type": "code",
   "execution_count": 76,
   "id": "1b13969e-b17b-456b-9ed1-67771b297a17",
   "metadata": {},
   "outputs": [
    {
     "name": "stdout",
     "output_type": "stream",
     "text": [
      "Prime\n",
      "Prime\n",
      "Not a prime\n"
     ]
    }
   ],
   "source": [
    "def is_prime(n:int):\n",
    "    for i in range(2,n):\n",
    "        if n % i == 0:\n",
    "            return 'Not a prime'\n",
    "    return 'Prime'\n",
    "print(is_prime(17))\n",
    "print(is_prime(19))\n",
    "print(is_prime(40))"
   ]
  },
  {
   "cell_type": "markdown",
   "id": "a12b207f-0779-45f9-a390-0d80014cfa49",
   "metadata": {},
   "source": [
    "### Map"
   ]
  },
  {
   "cell_type": "markdown",
   "id": "2f465cbf-c525-484e-bcd8-471aa29d0359",
   "metadata": {},
   "source": [
    "1. Explain the purpose of the map() function in python and provide an example of how it can be used to apply a function to each element of an iterable"
   ]
  },
  {
   "cell_type": "code",
   "execution_count": 80,
   "id": "1859eaa2-cad9-4374-a8ac-a7d42f0a14b7",
   "metadata": {},
   "outputs": [
    {
     "data": {
      "text/plain": [
       "[True, False, True, False, False, True, True, False, False]"
      ]
     },
     "execution_count": 80,
     "metadata": {},
     "output_type": "execute_result"
    }
   ],
   "source": [
    "#Iterable \n",
    "l1 = [234,5,32,523,5,46,54,67,47]\n",
    "list(map(lambda x : x % 2 == 0, l1))\n",
    "\n",
    "# it converts into the output of the funciton passed in the map fuction"
   ]
  },
  {
   "cell_type": "code",
   "execution_count": 81,
   "id": "b3b03b10-54e4-46cb-8d4c-b813681e9b9a",
   "metadata": {},
   "outputs": [
    {
     "data": {
      "text/plain": [
       "[234, 32, 46, 54]"
      ]
     },
     "execution_count": 81,
     "metadata": {},
     "output_type": "execute_result"
    }
   ],
   "source": [
    "## but in filter it actually filter the elements if condition is met with the particular element in list\n",
    "#Iterable \n",
    "l1 = [234,5,32,523,5,46,54,67,47]\n",
    "list(filter(lambda x : x % 2 == 0, l1))\n"
   ]
  },
  {
   "cell_type": "markdown",
   "id": "495a073e-e68f-4812-9626-161132b64631",
   "metadata": {},
   "source": [
    " This is the difference in b/w map() and filter() function"
   ]
  },
  {
   "cell_type": "code",
   "execution_count": 83,
   "id": "a5c3ef90-f536-4017-85df-6427b5651269",
   "metadata": {},
   "outputs": [
    {
     "data": {
      "text/plain": [
       "[234, None, 32, None, None, 46, 54, None, None]"
      ]
     },
     "execution_count": 83,
     "metadata": {},
     "output_type": "execute_result"
    }
   ],
   "source": [
    "#Iterable \n",
    "\n",
    "## another example of map function\n",
    "l1 = [234,5,32,523,5,46,54,67,47]\n",
    "list(map(lambda x :x if x % 2 ==0 else None, l1))"
   ]
  },
  {
   "cell_type": "markdown",
   "id": "a5495d0c-4530-42dd-b7e8-c78f81830607",
   "metadata": {},
   "source": [
    "2. Write a Python program that uses the `map()` function to square each element of a list of numbers."
   ]
  },
  {
   "cell_type": "code",
   "execution_count": 85,
   "id": "3337fb02-8e07-4749-82da-f6a920b78074",
   "metadata": {},
   "outputs": [
    {
     "data": {
      "text/plain": [
       "[1, 16, 25, 529, 25, 25]"
      ]
     },
     "execution_count": 85,
     "metadata": {},
     "output_type": "execute_result"
    }
   ],
   "source": [
    "list(map(lambda x : x**2 , [1,4,5,23,5,5]))"
   ]
  },
  {
   "cell_type": "markdown",
   "id": "43a4da7f-a909-43d7-8d66-acc4f60165db",
   "metadata": {},
   "source": [
    "3. How does the `map()` function differ from a list comprehension in Python, and when would you choose one over the other?"
   ]
  },
  {
   "cell_type": "markdown",
   "id": "153d2536-2798-42ea-8c9e-2da94eb9ce2e",
   "metadata": {},
   "source": [
    "map() function - It applies a specified funtino to each item of an iterable and returns an iterator.\n",
    "List comprehension : It constructs a new list by applying an expression to each item in an iterable and optionally filtering items based on a condition.\n",
    "\n",
    "List comprehension is more consise and is often considered more pythonic .However, the choise b/w map()and list() comprehension dep"
   ]
  },
  {
   "cell_type": "markdown",
   "id": "299bde15-952e-4498-b80d-07a1c0b293c0",
   "metadata": {},
   "source": [
    "4. Create a Python program that uses the `map()` function to convert a list of names to uppercase."
   ]
  },
  {
   "cell_type": "code",
   "execution_count": 87,
   "id": "1d1d0e36-537f-4154-869e-6c21640b17c1",
   "metadata": {},
   "outputs": [
    {
     "data": {
      "text/plain": [
       "['SATYAM', 'HELLO']"
      ]
     },
     "execution_count": 87,
     "metadata": {},
     "output_type": "execute_result"
    }
   ],
   "source": [
    "list(map(lambda x : x.upper() , ['satyam','hello']))"
   ]
  },
  {
   "cell_type": "markdown",
   "id": "f9dccf5c-3da0-43e9-a0a8-4416a2a840ad",
   "metadata": {},
   "source": [
    "5. Write a Python program that usees the map() function to calculate the length of each word in a list of strings"
   ]
  },
  {
   "cell_type": "code",
   "execution_count": 88,
   "id": "8c843c66-e2cf-4186-97b0-d8f02d32829c",
   "metadata": {},
   "outputs": [
    {
     "data": {
      "text/plain": [
       "[6, 12, 5]"
      ]
     },
     "execution_count": 88,
     "metadata": {},
     "output_type": "execute_result"
    }
   ],
   "source": [
    "list(map(lambda x : len(x) , ['satyam','htllfsdfsdfs','sgsdf']))"
   ]
  },
  {
   "cell_type": "markdown",
   "id": "135dd761-4dec-46e5-8b18-8f85e7549fd7",
   "metadata": {},
   "source": [
    "6. How can you use the `map()` function to apply a custom function to elements of multiple lists simultaneously in Python?"
   ]
  },
  {
   "cell_type": "code",
   "execution_count": 94,
   "id": "5b77061f-f98e-4bcb-a897-4a11609cfd1c",
   "metadata": {},
   "outputs": [
    {
     "name": "stdout",
     "output_type": "stream",
     "text": [
      "[[1024, 55225, 4, 529, 16, 529, 16], [2704, 36, 1156, 451584, 4, 16, 529]]\n"
     ]
    }
   ],
   "source": [
    "l1 = [32, 235, 2, 23, 4, 23, 4]\n",
    "l2 = [52, 6, 34, 672, 2, 4, 23]\n",
    "all_list = [l1, l2]\n",
    "\n",
    "# Use map and a lambda function to square each element in the sublists\n",
    "result = [list(map(lambda x: x**2, sublist)) for sublist in all_list]\n",
    "\n",
    "print(result)\n"
   ]
  },
  {
   "cell_type": "markdown",
   "id": "da3eff8c-595c-40d8-8890-fc567f1fa009",
   "metadata": {},
   "source": [
    "7. Create a Python program that uses `map()` to convert a list of temperatures from Celsius to Fahrenheit."
   ]
  },
  {
   "cell_type": "code",
   "execution_count": 95,
   "id": "506a3c38-d7c2-4387-a8ae-6413bd851daf",
   "metadata": {},
   "outputs": [
    {
     "data": {
      "text/plain": [
       "[125.60000000000001, 129.2, 455.0, 73.4, 42.8, 114.8, 93.2, 35.6, 53.6]"
      ]
     },
     "execution_count": 95,
     "metadata": {},
     "output_type": "execute_result"
    }
   ],
   "source": [
    "celsius_temps = [52,54,235,23,6,46,34,2,12]\n",
    "list(map(lambda x : 9/5 * x + 32 , celsius_temps))"
   ]
  },
  {
   "cell_type": "markdown",
   "id": "0ae7b935-51e1-4d0c-ba71-c6105dc0613f",
   "metadata": {},
   "source": [
    "8. Write a Python program that uses the `map()` function to round each element of a list of floating-point numbers to the nearest integer."
   ]
  },
  {
   "cell_type": "code",
   "execution_count": 96,
   "id": "146fcfa9-e262-4bee-b8a2-244f790cd5cc",
   "metadata": {},
   "outputs": [
    {
     "data": {
      "text/plain": [
       "[54235.54, 63.23, 747568.23, 74564.23]"
      ]
     },
     "execution_count": 96,
     "metadata": {},
     "output_type": "execute_result"
    }
   ],
   "source": [
    "list(map(lambda x : round(x,2), [54235.5432,63.2342,747568.2342,74564.2343]))"
   ]
  },
  {
   "cell_type": "markdown",
   "id": "79d06879-08ca-464d-a8fa-c15abf33cfc3",
   "metadata": {},
   "source": [
    "### Reduce"
   ]
  },
  {
   "cell_type": "markdown",
   "id": "461a606b-fe5b-47c3-b46e-25ae53feab85",
   "metadata": {},
   "source": [
    "Reduce function - It is used to apply a particular function passed in its argument to all of the list elements mentioned in the sequence passed along.\n",
    "how it works and why it is called that it is a particular function for particular purpose -\n",
    "1. At first , the first two elements are picked and result is obtainted <br>\n",
    "2. Next step is to apply the same funtion on the result attained previously and just the next succeeding element of the sequence\n",
    "3. This process continues till no more elements left in the list\n",
    "4. The final return reuslt is reuturned and printed on console"
   ]
  },
  {
   "cell_type": "code",
   "execution_count": 98,
   "id": "e33371b0-ab95-481c-94ff-135d4189e5ca",
   "metadata": {},
   "outputs": [
    {
     "data": {
      "text/plain": [
       "24345"
      ]
     },
     "execution_count": 98,
     "metadata": {},
     "output_type": "execute_result"
    }
   ],
   "source": [
    "# Program to find the maximum element in the list\n",
    "from functools import reduce\n",
    "reduce(lambda a, b : a if a > b else b, [24345,3,46,34,643,6346,23525,634])"
   ]
  },
  {
   "cell_type": "markdown",
   "id": "51d5ee0c-6463-4b78-8053-3ac5debaef56",
   "metadata": {},
   "source": [
    "2. Write a Python program that uses the `reduce()` function to find the product of all elements in a list."
   ]
  },
  {
   "cell_type": "code",
   "execution_count": 99,
   "id": "e77f9f13-8301-43a9-8aa3-c003b510bab2",
   "metadata": {},
   "outputs": [
    {
     "data": {
      "text/plain": [
       "1345885632000"
      ]
     },
     "execution_count": 99,
     "metadata": {},
     "output_type": "execute_result"
    }
   ],
   "source": [
    "reduce(lambda a ,b : a*b , [234,32,5,25,634,6,3,63,2])"
   ]
  },
  {
   "cell_type": "markdown",
   "id": "2533ca1d-09f5-436f-82b8-aee547943a9a",
   "metadata": {},
   "source": [
    "3. Create a Python program that uses `reduce()` to find the maximum element in a list of number"
   ]
  },
  {
   "cell_type": "code",
   "execution_count": 100,
   "id": "966b56b8-b66c-47d7-a141-76b80e897634",
   "metadata": {},
   "outputs": [
    {
     "data": {
      "text/plain": [
       "24345"
      ]
     },
     "execution_count": 100,
     "metadata": {},
     "output_type": "execute_result"
    }
   ],
   "source": [
    "# Program to find the maximum element in the list\n",
    "from functools import reduce\n",
    "reduce(lambda a, b : a if a > b else b, [24345,3,46,34,643,6346,23525,634])"
   ]
  },
  {
   "cell_type": "markdown",
   "id": "6226bbdd-aaec-4bc0-aaa1-a7d202ad13f0",
   "metadata": {},
   "source": [
    "4. How can you use the `reduce()` function to concatenate a list of strings into a single string?"
   ]
  },
  {
   "cell_type": "code",
   "execution_count": 101,
   "id": "d730ed74-8c18-4268-9f04-45d35379b9c5",
   "metadata": {},
   "outputs": [
    {
     "data": {
      "text/plain": [
       "'satyamdata_scientistperfectionalist'"
      ]
     },
     "execution_count": 101,
     "metadata": {},
     "output_type": "execute_result"
    }
   ],
   "source": [
    "reduce(lambda a,b : a + b , ['satyam','data_scientist', 'perfectionalist'])"
   ]
  },
  {
   "cell_type": "markdown",
   "id": "1e8a2443-c164-4495-9046-16388b91e73d",
   "metadata": {},
   "source": [
    "5. Write a Python program that calculates the factorial of a number using the `reduce()` function"
   ]
  },
  {
   "cell_type": "code",
   "execution_count": 2,
   "id": "3c459282-d9bb-47a6-8a38-5a13908c4838",
   "metadata": {},
   "outputs": [
    {
     "name": "stdin",
     "output_type": "stream",
     "text": [
      "Enter a number:  12\n"
     ]
    },
    {
     "name": "stdout",
     "output_type": "stream",
     "text": [
      "The factorial of 12 is 479001600\n"
     ]
    }
   ],
   "source": [
    "from functools import reduce\n",
    "\n",
    "# Define a function to calculate the factorial\n",
    "def factorial(n, m):\n",
    "    return n * m\n",
    "\n",
    "# Input the number for which you want to calculate the factorial\n",
    "number = int(input(\"Enter a number: \"))\n",
    "\n",
    "# Create a list from 1 to the input number\n",
    "numbers = list(range(1, number + 1))\n",
    "\n",
    "# Calculate the factorial using reduce\n",
    "result = reduce(factorial, numbers)\n",
    "\n",
    "print(f\"The factorial of {number} is {result}\")\n"
   ]
  },
  {
   "cell_type": "markdown",
   "id": "a60b51b0-0b35-48d5-8a1e-4367d2ec73c3",
   "metadata": {},
   "source": [
    "6. Create a Python program that uses `reduce()` to find the GCD (Greatest Common Divisor) of a list of numbers."
   ]
  },
  {
   "cell_type": "code",
   "execution_count": 4,
   "id": "f73d7e3f-7427-4739-ab02-065ec983a0a5",
   "metadata": {},
   "outputs": [
    {
     "name": "stdout",
     "output_type": "stream",
     "text": [
      "2\n"
     ]
    }
   ],
   "source": [
    "def gcd_euclidean(a, b):\n",
    "    while b:\n",
    "        a, b = b, a % b\n",
    "    return a\n",
    "\n",
    "a = reduce(gcd_euclidean, [34,8])\n",
    "print(a)"
   ]
  },
  {
   "cell_type": "code",
   "execution_count": null,
   "id": "98046695-22c5-4059-95a3-a638363bcbb6",
   "metadata": {},
   "outputs": [],
   "source": []
  },
  {
   "cell_type": "markdown",
   "id": "c795b903-278f-4032-aeec-3121063ab88e",
   "metadata": {},
   "source": [
    "7. Write a Python program that uses the `reduce()` function to find the sum of the digits of a given number."
   ]
  },
  {
   "cell_type": "code",
   "execution_count": 13,
   "id": "adbb8208-3100-4f6a-ba1a-adfd8366a97f",
   "metadata": {},
   "outputs": [
    {
     "name": "stdout",
     "output_type": "stream",
     "text": [
      "[14, 3, 5, 13, 2, 30, 22, 9, 6]\n"
     ]
    }
   ],
   "source": [
    "## logic .. reduce function works on two elements .. it is not like other functions\n",
    "\n",
    "# so\n",
    "def sum(a,b):\n",
    "    return a+b\n",
    "\n",
    "a = []\n",
    "l = [2354,3,23,634,2,4234213542,36346,54,6]\n",
    "for num in l:\n",
    "    \n",
    "\n",
    "## now calculate the sum of digits of the elements in this list\n",
    "    a.append(reduce(sum , [int(ele) for ele in str(num)]))\n",
    "print(a)"
   ]
  },
  {
   "cell_type": "markdown",
   "id": "cf440abf-e4c1-4722-ba9e-6d21e107317c",
   "metadata": {},
   "source": [
    "### Filter"
   ]
  },
  {
   "cell_type": "markdown",
   "id": "cad5027f-358f-4b77-8f0d-56c4aff5d535",
   "metadata": {},
   "source": [
    "1. Explain the purpose of the filter() function in python and provide an example of how it can be used to filter elements from an iterable"
   ]
  },
  {
   "cell_type": "markdown",
   "id": "c04aaf23-3ae7-46b1-8283-5c07ea547979",
   "metadata": {},
   "source": [
    "filter() function - <br>\n",
    "1. It is used to filter out the elements in the list ,<br>\n",
    "2. filter takes first argument as the function which outputs in the boolen data type and second argument is iterable\n",
    "3. The output we get after applying filter function is an object, either we can convert into list/tuple or any iteration of we can apply loop to access the values inside that object"
   ]
  },
  {
   "cell_type": "code",
   "execution_count": 21,
   "id": "1da82df0-904a-4794-8b57-cb55d7b5b345",
   "metadata": {},
   "outputs": [
    {
     "data": {
      "text/plain": [
       "[423, 53, 6, 36, 3]"
      ]
     },
     "execution_count": 21,
     "metadata": {},
     "output_type": "execute_result"
    }
   ],
   "source": [
    "## program to filter out only integers\n",
    "list(filter(lambda x : type(x) == int , ['satyam','yes','234',423,'234',53,6,36,3]))"
   ]
  },
  {
   "cell_type": "markdown",
   "id": "79fb69f0-c2fa-4c2f-8c09-897732d66962",
   "metadata": {},
   "source": [
    "2. Write a Python program that uses the `filter()` function to select even numbers from a list of integers."
   ]
  },
  {
   "cell_type": "code",
   "execution_count": 22,
   "id": "ed232466-87f3-4752-926f-36eaa99ef834",
   "metadata": {},
   "outputs": [
    {
     "data": {
      "text/plain": [
       "[4, 32, 24, 412, 346, 54]"
      ]
     },
     "execution_count": 22,
     "metadata": {},
     "output_type": "execute_result"
    }
   ],
   "source": [
    "list(filter(lambda x : x % 2 == 0 , [4,32,523,5,24,23,412,5,346,54,67,57]))"
   ]
  },
  {
   "cell_type": "markdown",
   "id": "eeb5c617-6498-4e5d-b76c-300af2bfbb58",
   "metadata": {},
   "source": [
    "3. Create a Python program that uses the `filter()` function to select names that start with a specific letter from a list of strings."
   ]
  },
  {
   "cell_type": "code",
   "execution_count": 23,
   "id": "a9e21f85-8cac-4769-ba64-8fe364a418f6",
   "metadata": {},
   "outputs": [
    {
     "data": {
      "text/plain": [
       "['satyam', 'super', 'simplify']"
      ]
     },
     "execution_count": 23,
     "metadata": {},
     "output_type": "execute_result"
    }
   ],
   "source": [
    "list(filter(lambda x : x.startswith('s'),['satyam','plus','not','super','simplify']))"
   ]
  },
  {
   "cell_type": "markdown",
   "id": "63606760-91d7-4290-85dc-08e3d1cc4042",
   "metadata": {},
   "source": [
    "4. Write a Python program that uses the `filter()` function to select prime numbers from a list of integers."
   ]
  },
  {
   "cell_type": "code",
   "execution_count": 27,
   "id": "ae811829-dc70-495e-959c-56d60a3c45a7",
   "metadata": {},
   "outputs": [
    {
     "data": {
      "text/plain": [
       "[2, 23, 11, 1, 17, 19]"
      ]
     },
     "execution_count": 27,
     "metadata": {},
     "output_type": "execute_result"
    }
   ],
   "source": [
    "def is_it_prime(n:int):\n",
    "    for i in range(2,n):\n",
    "        if n % i == 0:\n",
    "            return False\n",
    "    return True\n",
    "list(filter(lambda x : is_it_prime(x) , [2,35,235,23,534,6,54,654,9,11,1,21,17,19]))"
   ]
  },
  {
   "cell_type": "markdown",
   "id": "a5542e5a-2b6e-414b-938a-f046fed7f915",
   "metadata": {},
   "source": [
    "5. How can you use the `filter()` function to remove None values from a list in Python?"
   ]
  },
  {
   "cell_type": "code",
   "execution_count": 28,
   "id": "80a9dfac-daf4-435a-9f51-17b1da04e744",
   "metadata": {},
   "outputs": [
    {
     "data": {
      "text/plain": [
       "[5, 235, 23, 5, 'saytam']"
      ]
     },
     "execution_count": 28,
     "metadata": {},
     "output_type": "execute_result"
    }
   ],
   "source": [
    "list(filter(lambda x : x is not None , [None, 5,235,23,5,None,'saytam']))"
   ]
  },
  {
   "cell_type": "markdown",
   "id": "06786fb9-05b2-4b0e-a0b5-cb668ae6b65c",
   "metadata": {},
   "source": [
    "6. Create a Python program that uses `filter()` to select words longer than a certain length from a list of strings"
   ]
  },
  {
   "cell_type": "code",
   "execution_count": 29,
   "id": "b95e72cf-8b69-46d1-a0f5-131a92a4f000",
   "metadata": {},
   "outputs": [
    {
     "data": {
      "text/plain": [
       "['satyam', 'sharma']"
      ]
     },
     "execution_count": 29,
     "metadata": {},
     "output_type": "execute_result"
    }
   ],
   "source": [
    "list(filter(lambda x : len(x) > 5 , ['my', 'name','is','satyam','sharma']))"
   ]
  },
  {
   "cell_type": "markdown",
   "id": "b9a54743-a166-41a4-a4c4-14e3a714b7f7",
   "metadata": {},
   "source": [
    "7. Write a Python program that uses the `filter()` function to select elements greater than a specified threshold from a list of values."
   ]
  },
  {
   "cell_type": "code",
   "execution_count": 31,
   "id": "5bbc2a82-1504-449d-8de6-aa1fbe955b35",
   "metadata": {},
   "outputs": [
    {
     "data": {
      "text/plain": [
       "(235, 23, 43, 34, 26, 346)"
      ]
     },
     "execution_count": 31,
     "metadata": {},
     "output_type": "execute_result"
    }
   ],
   "source": [
    "tuple(filter(lambda x : x > 20 , [235,5,23,6,43,34,26,346]))"
   ]
  },
  {
   "cell_type": "markdown",
   "id": "092f25b2-ddad-4ca7-a476-0a5bb9f6902d",
   "metadata": {},
   "source": [
    "### Recursion -"
   ]
  },
  {
   "cell_type": "markdown",
   "id": "0e5ee5ae-cc38-4522-add3-3e393d6bf33f",
   "metadata": {},
   "source": [
    "1. Explain the concept of recursion in Python. How does it differ from iteration?"
   ]
  },
  {
   "cell_type": "markdown",
   "id": "fb952bbe-45fe-4b92-9e3d-7332b81d4810",
   "metadata": {},
   "source": [
    "Recursion is a technique to call the function many times in a program So that It can keep calling the funtion till the base condtion is satisfied wheareas in Iteration, It is a programming technique that uses loops (e.g., for, while) to repeat a block of code until a certain condition is met."
   ]
  },
  {
   "cell_type": "code",
   "execution_count": 1,
   "id": "c484f58b-c4d3-4eed-b2d1-99ad54b5e039",
   "metadata": {},
   "outputs": [
    {
     "data": {
      "text/plain": [
       "6"
      ]
     },
     "execution_count": 1,
     "metadata": {},
     "output_type": "execute_result"
    }
   ],
   "source": [
    "# recursion example of factorial\n",
    "def factorial(n):\n",
    "    #base condition\n",
    "    if n == 1 or n == 0 :\n",
    "        return 1\n",
    "    else:\n",
    "        return n * factorial(n-1)\n",
    "factorial(3)"
   ]
  },
  {
   "cell_type": "markdown",
   "id": "3e08ed33-108d-42d2-99aa-c6ba8c11faf5",
   "metadata": {},
   "source": [
    "2. Write a Python program to calculate the factorial of a number using recursion"
   ]
  },
  {
   "cell_type": "code",
   "execution_count": 3,
   "id": "3d17e952-e149-4135-be6e-65056f2bf250",
   "metadata": {},
   "outputs": [
    {
     "data": {
      "text/plain": [
       "479001600"
      ]
     },
     "execution_count": 3,
     "metadata": {},
     "output_type": "execute_result"
    }
   ],
   "source": [
    "def factorial(n):\n",
    "    #base condition\n",
    "    if n == 1 or n == 0 :\n",
    "        return 1\n",
    "    else:\n",
    "        return n * factorial(n-1)\n",
    "factorial(12)"
   ]
  },
  {
   "cell_type": "markdown",
   "id": "b63bf403-d46f-4391-a9f0-c040467affa0",
   "metadata": {},
   "source": [
    "3. Create a recursive Python function to find the nth Fibonacci number"
   ]
  },
  {
   "cell_type": "code",
   "execution_count": 4,
   "id": "17580eb0-2847-4aec-9c50-e77061cc2f96",
   "metadata": {},
   "outputs": [
    {
     "name": "stdout",
     "output_type": "stream",
     "text": [
      "The 8th term of the Fibonacci sequence is: 21\n"
     ]
    }
   ],
   "source": [
    "def fibonacci(fibonacci_length):\n",
    "    fib = {}\n",
    "    a, b = 0, 1\n",
    "    for i in range(fibonacci_length):\n",
    "        fib[i] = a\n",
    "        a, b = b, a + b\n",
    "    return fib\n",
    "\n",
    "def ith_term_fibonacci(fibonacci_length, n):\n",
    "    fib_sequence = fibonacci(fibonacci_length)\n",
    "    if n in fib_sequence:\n",
    "        return fib_sequence[n]\n",
    "    else:\n",
    "        return None  # Handle the case where n is out of range\n",
    "n = 8\n",
    "result = ith_term_fibonacci(10, n)\n",
    "if result is not None:\n",
    "    print(f\"The {n}th term of the Fibonacci sequence is: {result}\")\n",
    "else:\n",
    "    print(\"The requested term is out of range.\")\n"
   ]
  },
  {
   "cell_type": "markdown",
   "id": "98a67370-f1e9-49ab-aff9-9e5751001371",
   "metadata": {},
   "source": [
    "4. Write a recursive Python function to calculate the sum of all elements in a list."
   ]
  },
  {
   "cell_type": "code",
   "execution_count": 7,
   "id": "76f9114a-9114-47b1-8ffe-ac7e8301dfdd",
   "metadata": {},
   "outputs": [
    {
     "data": {
      "text/plain": [
       "7733"
      ]
     },
     "execution_count": 7,
     "metadata": {},
     "output_type": "execute_result"
    }
   ],
   "source": [
    "def summation(l):\n",
    "    if not l:\n",
    "        return 0\n",
    "    else:\n",
    "        return l[0] + summation(l[1:])\n",
    "summation([2,523,54,346,54,6754,])"
   ]
  },
  {
   "cell_type": "markdown",
   "id": "2b5ec65a-767e-4a19-8831-d8aa01ddcb78",
   "metadata": {},
   "source": [
    "5. How can you prevent a recursive function from running indefinitely, causing a stack overflow error?"
   ]
  },
  {
   "cell_type": "markdown",
   "id": "1466b32d-e916-47e4-8a00-c28e2d4755fc",
   "metadata": {},
   "source": [
    "For creating a base condition, we can stop the recursive function at the end. So It will not give a stack overflow error."
   ]
  },
  {
   "cell_type": "markdown",
   "id": "411e8160-1cbb-400c-8fcd-e8e17ab862a5",
   "metadata": {},
   "source": [
    "6. Create a recursive Python function to find the greatest common divisor (GCD) of two numbers using the Euclidean algorithm. "
   ]
  },
  {
   "cell_type": "code",
   "execution_count": 9,
   "id": "6d3da051-c736-4fdb-a881-30f0a3713965",
   "metadata": {},
   "outputs": [
    {
     "data": {
      "text/plain": [
       "2"
      ]
     },
     "execution_count": 9,
     "metadata": {},
     "output_type": "execute_result"
    }
   ],
   "source": [
    "def gcd_euclidean(a,b):\n",
    "    if b == 0:\n",
    "        return a\n",
    "    else:\n",
    "        return gcd_euclidean(b, a %b)\n",
    "gcd_euclidean(34,8)"
   ]
  },
  {
   "cell_type": "markdown",
   "id": "2f2a0dc8-3538-418d-a81e-9f675ad89c7c",
   "metadata": {},
   "source": [
    "7. Write a recursive Python function to reverse a string."
   ]
  },
  {
   "cell_type": "code",
   "execution_count": 19,
   "id": "5bb684c6-56df-4ffc-8ccb-4bc89960628a",
   "metadata": {},
   "outputs": [
    {
     "data": {
      "text/plain": [
       "'maytas'"
      ]
     },
     "execution_count": 19,
     "metadata": {},
     "output_type": "execute_result"
    }
   ],
   "source": [
    "def reverse_string(st:str):\n",
    "    if not st:\n",
    "        return \"\"\n",
    "    else: \n",
    "        \n",
    "        return st[-1] + reverse_string(st[:-1])\n",
    "reverse_string('satyam')"
   ]
  },
  {
   "cell_type": "markdown",
   "id": "c1d4524d-d865-420d-b4f5-4b5711982775",
   "metadata": {},
   "source": [
    "8. Create a recursive Python function to calculate the power of a number (x^n)."
   ]
  },
  {
   "cell_type": "code",
   "execution_count": 28,
   "id": "b8d4c92a-ff01-4d0e-b299-ccc09ca3999b",
   "metadata": {},
   "outputs": [
    {
     "name": "stdout",
     "output_type": "stream",
     "text": [
      "Result: 3\n"
     ]
    }
   ],
   "source": [
    "import math\n",
    "\n",
    "def divisible_by(n):\n",
    "    for i in range(2, int(math.sqrt(n)) + 1):\n",
    "        if n % i == 0:\n",
    "            return i\n",
    "    return n  # Return n if it's a prime number\n",
    "\n",
    "def power_of_number(n: int):\n",
    "    if n == 1:\n",
    "        return 0\n",
    "    else:\n",
    "        return 1 + power_of_number(n // divisible_by(n))\n",
    "\n",
    "result = power_of_number(27)\n",
    "print(\"Result:\", result)\n"
   ]
  },
  {
   "cell_type": "markdown",
   "id": "0c0d3527-a7d1-4c01-8c89-c083693da07e",
   "metadata": {},
   "source": [
    "9. Write a recursive Python function to find all permutations of a given string."
   ]
  },
  {
   "cell_type": "code",
   "execution_count": 3,
   "id": "2573a823-b1f3-45ac-9f74-0c0df1bba417",
   "metadata": {},
   "outputs": [
    {
     "name": "stdout",
     "output_type": "stream",
     "text": [
      "Permutations of 'abc' are:\n",
      "abc\n",
      "acb\n",
      "bac\n",
      "bca\n",
      "cab\n",
      "cba\n"
     ]
    }
   ],
   "source": [
    "def find_permutations(string):\n",
    "    # Base case: If the string has only one character or is empty, return it as a single permutation.\n",
    "    if len(string) <= 1:\n",
    "        return [string]\n",
    "\n",
    "    permutations = []  # To store the permutations\n",
    "\n",
    "    for char in string:\n",
    "        # For each character in the string, create a smaller string without that character.\n",
    "        remaining_chars = string.replace(char, '', 1)\n",
    "\n",
    "        # Recursively find permutations of the remaining characters.\n",
    "        smaller_permutations = find_permutations(remaining_chars)\n",
    "\n",
    "        # Append the current character to each permutation of the remaining characters.\n",
    "        for perm in smaller_permutations:\n",
    "            permutations.append(char + perm)\n",
    "\n",
    "    return permutations\n",
    "\n",
    "# Example usage:\n",
    "input_string = \"abc\"\n",
    "result = find_permutations(input_string)\n",
    "print(\"Permutations of '{}' are:\".format(input_string))\n",
    "for perm in result:\n",
    "    print(perm)\n"
   ]
  },
  {
   "cell_type": "markdown",
   "id": "af34d511-cd01-4a06-a9d8-332672338529",
   "metadata": {},
   "source": [
    "10. Write a recursive Python function to check if a string is a palindrome"
   ]
  },
  {
   "cell_type": "code",
   "execution_count": 4,
   "id": "d7be9644-65dc-4fe9-9fcd-2edd35f6dbd5",
   "metadata": {},
   "outputs": [
    {
     "name": "stdout",
     "output_type": "stream",
     "text": [
      "'racecar' is a palindrome.\n"
     ]
    }
   ],
   "source": [
    "def is_palindrome(s):\n",
    "    # Base case: If the string has 0 or 1 character, it's a palindrome.\n",
    "    if len(s) <= 1:\n",
    "        return True\n",
    "    \n",
    "    # Compare the first and last characters.\n",
    "    if s[0] == s[-1]:\n",
    "        # If they match, recursively check the substring without the first and last characters.\n",
    "        return is_palindrome(s[1:-1])\n",
    "    else:\n",
    "        # If they don't match, it's not a palindrome.\n",
    "        return False\n",
    "\n",
    "# Example usage:\n",
    "input_string = \"racecar\"\n",
    "result = is_palindrome(input_string)\n",
    "if result:\n",
    "    print(f\"'{input_string}' is a palindrome.\")\n",
    "else:\n",
    "    print(f\"'{input_string}' is not a palindrome.\")\n"
   ]
  },
  {
   "cell_type": "markdown",
   "id": "ac4341f4-e3e9-4b19-bcf4-c3f1b1a37747",
   "metadata": {},
   "source": [
    "11. Create a recursive Python function to generate all possible combinations of a list of elements."
   ]
  },
  {
   "cell_type": "code",
   "execution_count": 5,
   "id": "e8e0b1be-1075-4ea4-b870-df09479a8986",
   "metadata": {},
   "outputs": [
    {
     "name": "stdout",
     "output_type": "stream",
     "text": [
      "Combinations: [[1, 2, 3], [1, 2], [1, 3], [1], [2, 3], [2], [3], []]\n"
     ]
    }
   ],
   "source": [
    "def generate_combinations(elements):\n",
    "    def helper(current_combination, remaining_elements):\n",
    "        if not remaining_elements:\n",
    "            # When there are no remaining elements, add the current_combination to the results.\n",
    "            combinations.append(current_combination)\n",
    "        else:\n",
    "            # Include the first remaining element in the current_combination and recurse.\n",
    "            helper(current_combination + [remaining_elements[0]], remaining_elements[1:])\n",
    "            # Exclude the first remaining element and recurse.\n",
    "            helper(current_combination, remaining_elements[1:])\n",
    "\n",
    "    combinations = []  # To store the generated combinations\n",
    "    helper([], elements)  # Start with an empty current_combination\n",
    "    return combinations\n",
    "\n",
    "# Example usage:\n",
    "input_elements = [1, 2, 3]\n",
    "result = generate_combinations(input_elements)\n",
    "print(\"Combinations:\", result)\n"
   ]
  },
  {
   "cell_type": "markdown",
   "id": "a31625a4-f537-4e45-8f95-3f67f5f0d840",
   "metadata": {},
   "source": [
    "### Basics of Functions"
   ]
  },
  {
   "cell_type": "markdown",
   "id": "3af90994-8b6a-4d2c-b93e-44e67f233ac6",
   "metadata": {},
   "source": [
    "1. What is a function in python , and why it is used?"
   ]
  },
  {
   "cell_type": "markdown",
   "id": "acb2cfa9-de9e-4d77-8c35-b93a8747172a",
   "metadata": {},
   "source": [
    "While we are working on a big project there may be situation where we going to need to use program again and again, at that point writing those couple of lines of code will increase the memory consumption as well as increase time complexity.\n",
    "Aprart from this main issue, the Collaborators of the project will find difficuly in understanding the program.\n",
    "That's why we use function to overcome all of the problems mentioned above.\n",
    "A funtion in python is a block of code which we can use again and again. By just defining it one timem we can use it anywhere in our project\n"
   ]
  },
  {
   "cell_type": "markdown",
   "id": "39a850b0-6348-4d3c-adba-efbdebd8a163",
   "metadata": {},
   "source": [
    "2. How do you define a function in Python? Provide an example."
   ]
  },
  {
   "cell_type": "markdown",
   "id": "d4cae885-cea1-4020-8632-ac444cd965ae",
   "metadata": {},
   "source": [
    "Function is defined by def keyword, \n",
    "format is -<br> def *function_name*(parameters[optional]):"
   ]
  },
  {
   "cell_type": "code",
   "execution_count": 6,
   "id": "e268ac15-8335-4bbe-a339-988aa22deeb9",
   "metadata": {},
   "outputs": [
    {
     "data": {
      "text/plain": [
       "165"
      ]
     },
     "execution_count": 6,
     "metadata": {},
     "output_type": "execute_result"
    }
   ],
   "source": [
    "# Defining a function\n",
    "def summation(a,b):\n",
    "    return a+b\n",
    "# Calling a funtion\n",
    "summation(123,42)"
   ]
  },
  {
   "cell_type": "markdown",
   "id": "cdb6dfee-346f-4df2-930b-af346f2c9633",
   "metadata": {},
   "source": [
    "3. Explain the difference between a function definition and a function call"
   ]
  },
  {
   "cell_type": "markdown",
   "id": "60392d04-5349-4c90-92ab-683f08b63956",
   "metadata": {},
   "source": [
    "A function definition specifies what a function does, while a function call executes that defined functionality with specific inputs."
   ]
  },
  {
   "cell_type": "markdown",
   "id": "c4addbe7-6526-4c75-ae25-e90a2c1c2e13",
   "metadata": {},
   "source": [
    "4. Write a Python program that defines a function to calculate the sum of two numbers and then calls the function."
   ]
  },
  {
   "cell_type": "code",
   "execution_count": 7,
   "id": "049db1cd-2e89-4446-a553-353e04266025",
   "metadata": {},
   "outputs": [
    {
     "data": {
      "text/plain": [
       "165"
      ]
     },
     "execution_count": 7,
     "metadata": {},
     "output_type": "execute_result"
    }
   ],
   "source": [
    "# Defining a function\n",
    "def summation(a,b):\n",
    "    return a+b\n",
    "# Calling a funtion\n",
    "summation(123,42)"
   ]
  },
  {
   "cell_type": "markdown",
   "id": "dc98781c-7269-4fe4-b98c-1ed48123e391",
   "metadata": {},
   "source": [
    "5. What is a function signature, and what information does it typically include"
   ]
  },
  {
   "cell_type": "markdown",
   "id": "15ce75df-3ef8-42b4-ae70-57f93401755c",
   "metadata": {},
   "source": [
    "A function signature is a concise description of a function's essential information, typically including the function's name, return type, and parameter types. It serves as a quick reference to understand how to use the function correctly."
   ]
  },
  {
   "cell_type": "markdown",
   "id": "05879478-22cf-40ec-813a-9cc458710a5b",
   "metadata": {},
   "source": [
    "6. Create a Python functino that takes two argument and returns their product"
   ]
  },
  {
   "cell_type": "code",
   "execution_count": 9,
   "id": "2e5701ef-adf4-49d3-aa56-7316d051a21c",
   "metadata": {},
   "outputs": [
    {
     "data": {
      "text/plain": [
       "126"
      ]
     },
     "execution_count": 9,
     "metadata": {},
     "output_type": "execute_result"
    }
   ],
   "source": [
    "def product(a,b):\n",
    "    return a*b\n",
    "product(3,42)"
   ]
  },
  {
   "cell_type": "markdown",
   "id": "fca4519e-61dc-465b-8d7e-73a51c3b40c2",
   "metadata": {},
   "source": [
    "### Function Parameters and Arguments"
   ]
  },
  {
   "cell_type": "markdown",
   "id": "0d7f34ea-aa41-4a6c-833c-c1366a5209c0",
   "metadata": {},
   "source": [
    "1. Explain the concepts of formal parameters and actual arguments in Python functions."
   ]
  },
  {
   "cell_type": "markdown",
   "id": "8007161d-9736-439f-a22d-6cc43106cc2a",
   "metadata": {},
   "source": [
    "Formal parameters -\n",
    "Parameters those are defined while defining the function.\n",
    "<br>\n",
    "Actual parameters - \n",
    "Parameters those are specified during calling the function - "
   ]
  },
  {
   "cell_type": "markdown",
   "id": "28526b8a-10ce-4da7-ae85-452ed950893b",
   "metadata": {},
   "source": [
    "2. Write a Python program that defines a function with default argument values."
   ]
  },
  {
   "cell_type": "code",
   "execution_count": 10,
   "id": "2c0772b9-b2f2-4fff-89cb-447543ab211c",
   "metadata": {},
   "outputs": [
    {
     "data": {
      "text/plain": [
       "65"
      ]
     },
     "execution_count": 10,
     "metadata": {},
     "output_type": "execute_result"
    }
   ],
   "source": [
    "def add_sub(a,b, add = True):\n",
    "    if add:\n",
    "        return a+b\n",
    "    else:\n",
    "        return abs(a-b)\n",
    "add_sub(23,42,add=True)"
   ]
  },
  {
   "cell_type": "markdown",
   "id": "9e01f846-e259-4c3f-be55-11408e7d069b",
   "metadata": {},
   "source": [
    "3. How do you use keyword arguments in Python function calls? Provide an example."
   ]
  },
  {
   "cell_type": "code",
   "execution_count": 12,
   "id": "afd888ba-82a1-4e22-a49f-566a3f0ae805",
   "metadata": {},
   "outputs": [
    {
     "data": {
      "text/plain": [
       "'Multiplication of 343 and -23 is -7889'"
      ]
     },
     "execution_count": 12,
     "metadata": {},
     "output_type": "execute_result"
    }
   ],
   "source": [
    "def multiply(a,b):\n",
    "    return 'Multiplication of {} and {} is {}'.format(a,b,a*b)\n",
    "multiply(a = 343,b =-23)"
   ]
  },
  {
   "cell_type": "markdown",
   "id": "9bcd161a-1059-4b54-9830-d42138db0b81",
   "metadata": {},
   "source": [
    "4. Create a Python function that accepts a variable number of arguments and calculates their sum."
   ]
  },
  {
   "cell_type": "code",
   "execution_count": 14,
   "id": "c4caef08-2ba7-413d-8751-f685ee03b122",
   "metadata": {},
   "outputs": [
    {
     "data": {
      "text/plain": [
       "17"
      ]
     },
     "execution_count": 14,
     "metadata": {},
     "output_type": "execute_result"
    }
   ],
   "source": [
    "def calculate_sum(*args):\n",
    "    total = 0\n",
    "    for num in args:\n",
    "        total += num\n",
    "    return total\n",
    "\n",
    "calculate_sum(2, 3, 5, 7)\n",
    "\n"
   ]
  },
  {
   "cell_type": "markdown",
   "id": "41a44fa5-63ba-4430-9160-1de6e9f7a543",
   "metadata": {},
   "source": [
    "5. What is the purpose of the `*args` and `**kwargs` syntax in function parameter lists?"
   ]
  },
  {
   "cell_type": "markdown",
   "id": "063c80fd-9257-4b35-aff0-ab292f944f0d",
   "metadata": {},
   "source": [
    "*args - These are the variable length arguments. They are defined while creating the function , because sometimes the developer may not have an idea that how many values this function might need in future, So we give the flexibility in the number of arguments, and *args stores them in tuple.\n",
    "*kwargs - The is a keyward variable argument represents a dictionary object. The values that are passed in kwards while calling the funtion in that way - name = 'saytam','age' = 24. Function will take it as {'name' = 'satyam','age' = 24'}"
   ]
  },
  {
   "cell_type": "markdown",
   "id": "7e9450ef-1162-46ba-8441-001c1219b47c",
   "metadata": {},
   "source": [
    "### Returns values and scoping"
   ]
  },
  {
   "cell_type": "markdown",
   "id": "6172798e-b2f9-4252-bd0f-0fc11f96fe98",
   "metadata": {},
   "source": [
    "1. Describe the role of the `return` statement"
   ]
  },
  {
   "cell_type": "markdown",
   "id": "1b4ef3bb-7882-4703-8a46-3bc93bedc6fd",
   "metadata": {},
   "source": [
    "return keyword is used to return the values by funtion. It is used to throw the value by function.\n",
    "Function does not execute after return , if the return statement is excecuted then function ends there."
   ]
  },
  {
   "cell_type": "code",
   "execution_count": 16,
   "id": "021687f1-0ecf-45cc-8b43-248aea8ab726",
   "metadata": {},
   "outputs": [
    {
     "data": {
      "text/plain": [
       "'SATYAM How are you'"
      ]
     },
     "execution_count": 16,
     "metadata": {},
     "output_type": "execute_result"
    }
   ],
   "source": [
    "# example\n",
    "def display(name):\n",
    "    return '{} How are you'.format(name)\n",
    "\n",
    "display('SATYAM')"
   ]
  },
  {
   "cell_type": "markdown",
   "id": "73507676-c606-4d62-91f5-4e2e3a47423b",
   "metadata": {},
   "source": [
    "2. Explain the concept of variable scope in Python, including local and global variables."
   ]
  },
  {
   "cell_type": "markdown",
   "id": "fefef85e-d646-4279-b400-f1dedf71124c",
   "metadata": {},
   "source": [
    "Local variables are those variables that are created inside the function and can only be accessed inside the function. \n",
    "One the other hand , globar variable are those variabels that can be accessed by anywhere in the program and they are created outside the function"
   ]
  },
  {
   "cell_type": "markdown",
   "id": "d05c7033-c74a-4fb5-aec4-6f3354171095",
   "metadata": {},
   "source": [
    "3. Write a Python program that demonstrates the use of global variables within functions."
   ]
  },
  {
   "cell_type": "code",
   "execution_count": 18,
   "id": "b88c1549-1e33-45e3-8065-e3e6657897ba",
   "metadata": {},
   "outputs": [
    {
     "name": "stdout",
     "output_type": "stream",
     "text": [
      "This is a global variable\n"
     ]
    }
   ],
   "source": [
    "s = 'This is a global variable'\n",
    "def check_global_variable():\n",
    "    print(s)\n",
    "check_global_variable()"
   ]
  },
  {
   "cell_type": "markdown",
   "id": "0645f1e7-4f36-45b2-af43-72f1d93cd8d5",
   "metadata": {},
   "source": [
    "4. Create a python function that calculates the factorial of a number and returns it"
   ]
  },
  {
   "cell_type": "code",
   "execution_count": 20,
   "id": "d8746796-5710-45e4-9be7-2c5f19243a77",
   "metadata": {},
   "outputs": [
    {
     "data": {
      "text/plain": [
       "6"
      ]
     },
     "execution_count": 20,
     "metadata": {},
     "output_type": "execute_result"
    }
   ],
   "source": [
    "def factorial(n):\n",
    "    #base condition\n",
    "    if n == 1 or n == 0 :\n",
    "        return 1\n",
    "    else:\n",
    "        return n * factorial(n-1)\n",
    "factorial(3)"
   ]
  },
  {
   "cell_type": "markdown",
   "id": "2f34e4c0-1c3e-4315-846f-7bad53c2e398",
   "metadata": {},
   "source": [
    "5. How can you access variables defined outside a function from within the function?"
   ]
  },
  {
   "cell_type": "code",
   "execution_count": 21,
   "id": "b3f70690-e44d-4584-bf1d-6bd6d91661d6",
   "metadata": {},
   "outputs": [
    {
     "name": "stdout",
     "output_type": "stream",
     "text": [
      "42\n"
     ]
    }
   ],
   "source": [
    "global_var = 42\n",
    "\n",
    "def access_global():\n",
    "    print(global_var)\n",
    "\n",
    "access_global()  # This will print 42\n"
   ]
  },
  {
   "cell_type": "markdown",
   "id": "647ccb28-1607-44cf-99da-708cb4fc3b0d",
   "metadata": {},
   "source": [
    "### Lambda Functions and Higher-Order Functions"
   ]
  },
  {
   "cell_type": "markdown",
   "id": "026c53c3-3c6a-4379-8c33-f23daa6c9242",
   "metadata": {},
   "source": [
    "1. What are lambda functions in Python , and when are they typically used?"
   ]
  },
  {
   "cell_type": "markdown",
   "id": "1fef1ba5-ec5d-4c0b-8980-61624521d5bb",
   "metadata": {},
   "source": [
    "Lambda functions are one line way to create a function instead of following the conventioanal way of creting the function using `def`.They are particularly handy in situations where you need a small, throwaway function for a specific purpose "
   ]
  },
  {
   "cell_type": "markdown",
   "id": "4c05d5d4-3191-4f42-831a-7e4dee45ecc3",
   "metadata": {},
   "source": [
    "2. Write a Python program that uses lambda functions to sort a list of tuples based on the second element."
   ]
  },
  {
   "cell_type": "code",
   "execution_count": 22,
   "id": "ee93edc0-84ab-44ab-914c-3f12b66c6d54",
   "metadata": {},
   "outputs": [
    {
     "name": "stdout",
     "output_type": "stream",
     "text": [
      "(4, 1)\n",
      "(3, 2)\n",
      "(1, 5)\n",
      "(2, 8)\n"
     ]
    }
   ],
   "source": [
    "# List of tuples\n",
    "data = [(1, 5), (3, 2), (2, 8), (4, 1)]\n",
    "\n",
    "sorted_data = sorted(data, key=lambda x: x[1])\n",
    "\n",
    "for item in sorted_data:\n",
    "    print(item)\n"
   ]
  },
  {
   "cell_type": "markdown",
   "id": "36044b07-5078-42d8-88af-9cded27dd451",
   "metadata": {},
   "source": [
    "3. Explain the concept of higher-order functions in python and provide an example"
   ]
  },
  {
   "cell_type": "markdown",
   "id": "9cd99cbc-6e85-4718-ba55-fd00ff3423a2",
   "metadata": {},
   "source": [
    "Higher order functions are those functions that takes function as input and use the output of that function as input and then finallly gives output"
   ]
  },
  {
   "cell_type": "code",
   "execution_count": 30,
   "id": "b2db05f2-f8f3-4095-abd1-8d6de8185edc",
   "metadata": {},
   "outputs": [
    {
     "data": {
      "text/plain": [
       "[1156, 25, 36, 49, 64]"
      ]
     },
     "execution_count": 30,
     "metadata": {},
     "output_type": "execute_result"
    }
   ],
   "source": [
    "def square(n):\n",
    "    return n*n\n",
    "## here map is a higher order function \n",
    "## which takes input as the square function\n",
    "## and square functions output will be used as map's input\n",
    "\n",
    "list(map(square, [34,5,6,7,8]))"
   ]
  },
  {
   "cell_type": "markdown",
   "id": "ff21e770-37a1-4361-b79e-6fc8ddd2b810",
   "metadata": {},
   "source": [
    "4. Create a Python function that takes a list of numbers and a function as arguments, applying the function to each element in the list."
   ]
  },
  {
   "cell_type": "code",
   "execution_count": 35,
   "id": "d3179d1b-c4f3-4c50-946b-3cacbc60567b",
   "metadata": {},
   "outputs": [
    {
     "data": {
      "text/plain": [
       "[12812904, 15625, 64, 216, 41421736, 8]"
      ]
     },
     "execution_count": 35,
     "metadata": {},
     "output_type": "execute_result"
    }
   ],
   "source": [
    "def cube(n):\n",
    "    return n**3\n",
    "\n",
    "def func_inside_func(l:list, function):\n",
    "    return list(map(function,l))\n",
    "    \n",
    "func_inside_func([234,25,4,6,346,2],cube)\n"
   ]
  },
  {
   "cell_type": "markdown",
   "id": "5ec0f58f-325b-4e68-8c17-4fcbae992eab",
   "metadata": {},
   "source": [
    "### Built-in-Functions"
   ]
  },
  {
   "cell_type": "markdown",
   "id": "48a3bf08-d0ac-4316-8684-a5155596a2a8",
   "metadata": {},
   "source": [
    "1. Describe the role of build-in functions like len(), max() etc "
   ]
  },
  {
   "cell_type": "markdown",
   "id": "f5eda020-0ab5-4058-814c-8961a887d747",
   "metadata": {},
   "source": [
    "Built in functions are the functions which are alreay being created, developers already have created such functions becuase of frequent use of these functions.\n",
    "If we have to calculate the length of a list , we would prefer to use len() function instead of tying such function :\n",
    "<br>\n",
    "def lenght(l:list):<br>\n",
    "    count = 0<br>\n",
    "    for i in l:<br>\n",
    "        count +=1<br>"
   ]
  },
  {
   "cell_type": "markdown",
   "id": "6de900a2-cac5-452f-9406-9faf88e0204b",
   "metadata": {},
   "source": [
    "2. Write a Python program that uses the `map()` function to apply a function to each element of a list."
   ]
  },
  {
   "cell_type": "code",
   "execution_count": 1,
   "id": "77a89ee5-37ec-4b16-b34a-15cf2516365b",
   "metadata": {},
   "outputs": [
    {
     "data": {
      "text/plain": [
       "['SATYAM', 'SHARMA', 'DATASCIENTIST']"
      ]
     },
     "execution_count": 1,
     "metadata": {},
     "output_type": "execute_result"
    }
   ],
   "source": [
    "list(map(lambda x : x.upper() , ['satyam','sharma','datascientist']))"
   ]
  },
  {
   "cell_type": "markdown",
   "id": "b3527edd-0ee3-4f3a-91ba-763cf28378b7",
   "metadata": {},
   "source": [
    "3. How does the `filter()` function work in Python, and when would you use it?"
   ]
  },
  {
   "cell_type": "markdown",
   "id": "56a8abc5-01bb-4905-88bb-56fe13fcb9ad",
   "metadata": {},
   "source": [
    "filter function is used to filter out the elements in list.. filter function takes function which returns True or False and if it returns True of that element than it will be accepted else will be filtered.\n",
    "filtered functions are too handy, If we want some filteration in list or any iterables , we can do that in one line.. we do not have to write code seperately for that."
   ]
  },
  {
   "cell_type": "markdown",
   "id": "abcfb18d-ac3f-40a2-94e2-1e42db6f5373",
   "metadata": {},
   "source": [
    "4. Create a Python program that uses the `reduce()` function to find the product of all elements in a list."
   ]
  },
  {
   "cell_type": "code",
   "execution_count": 5,
   "id": "765caf23-0f02-48e5-b3c1-9790b696c9c9",
   "metadata": {},
   "outputs": [
    {
     "data": {
      "text/plain": [
       "46640826000"
      ]
     },
     "execution_count": 5,
     "metadata": {},
     "output_type": "execute_result"
    }
   ],
   "source": [
    "from functools import reduce\n",
    "reduce(lambda a,b : a * b, [1,24,23,423,5,235,34,5])"
   ]
  },
  {
   "cell_type": "markdown",
   "id": "7bf65e18-00ea-4f3b-b90b-f88002e536cf",
   "metadata": {},
   "source": [
    "### Function Documentation and Best Practices:"
   ]
  },
  {
   "cell_type": "markdown",
   "id": "d705625a-6ff2-4160-912f-5c86a88046b1",
   "metadata": {},
   "source": [
    "1. Explain the purpose of docstrings in Python functions and how to write them"
   ]
  },
  {
   "cell_type": "markdown",
   "id": "1a77e452-1d2e-4f65-ad79-b2004fe8f3c1",
   "metadata": {},
   "source": [
    "Docstring plays a important role in documentation in program.Python documentation strings (or docstrings) provide a convenient way of associating documentation with Python modules, functions, classes, and methods.The docstring can be used by triple single quotes(''' ''') or triple double quote(\"\"\" \"\"\")"
   ]
  },
  {
   "cell_type": "markdown",
   "id": "cc8bc960-3a6f-44c1-bea4-ce0d57e993be",
   "metadata": {},
   "source": [
    "2. Describe some best practices for naming functions and variables in Python, including naming conventions and guideline"
   ]
  },
  {
   "cell_type": "markdown",
   "id": "3ba2cd2a-63e5-466d-8b74-23f962a63295",
   "metadata": {},
   "source": [
    "Use Descriptive Names : that convey the purpose of the function or variable.<br>\n",
    "Use snake case : use underscores to separate the words in function names.<br>\n",
    "Avoid Single-Letter name: except for simple loop counters, avoid single-letter variable names.<br>\n",
    "Be consistent: maintain consistency in naming across your codebase to make it easier for others"
   ]
  },
  {
   "cell_type": "code",
   "execution_count": null,
   "id": "78953a5c-c908-486a-a7a3-948cbfad2811",
   "metadata": {},
   "outputs": [],
   "source": []
  }
 ],
 "metadata": {
  "kernelspec": {
   "display_name": "Python 3 (ipykernel)",
   "language": "python",
   "name": "python3"
  },
  "language_info": {
   "codemirror_mode": {
    "name": "ipython",
    "version": 3
   },
   "file_extension": ".py",
   "mimetype": "text/x-python",
   "name": "python",
   "nbconvert_exporter": "python",
   "pygments_lexer": "ipython3",
   "version": "3.10.8"
  }
 },
 "nbformat": 4,
 "nbformat_minor": 5
}
