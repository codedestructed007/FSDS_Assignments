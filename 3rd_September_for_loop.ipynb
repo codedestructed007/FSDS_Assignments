{
 "cells": [
  {
   "cell_type": "markdown",
   "id": "fa72550a-3b57-4531-9253-c89b9f59ac88",
   "metadata": {},
   "source": [
    "# For loop"
   ]
  },
  {
   "cell_type": "markdown",
   "id": "c2186431-f18c-4fda-9b02-40df0439e57d",
   "metadata": {},
   "source": [
    "## Basic level"
   ]
  },
  {
   "cell_type": "markdown",
   "id": "16c15c1e-512d-4e0e-b8a9-fe8bb50abcee",
   "metadata": {},
   "source": [
    "1. Write a python program to print the numbers from 1 to 10 using a for loop"
   ]
  },
  {
   "cell_type": "code",
   "execution_count": 1,
   "id": "f81ab703-8cb3-43b3-b012-814a3dbee8ba",
   "metadata": {},
   "outputs": [
    {
     "name": "stdout",
     "output_type": "stream",
     "text": [
      "1\n",
      "2\n",
      "3\n",
      "4\n",
      "5\n",
      "6\n",
      "7\n",
      "8\n",
      "9\n",
      "10\n"
     ]
    }
   ],
   "source": [
    "for i in range(1,11):\n",
    "    print(i)"
   ]
  },
  {
   "cell_type": "markdown",
   "id": "80d9b75e-2fa6-4623-9255-8e9d2d4ddd11",
   "metadata": {},
   "source": [
    "2. Create a program that calculates the sum of all numbers in a list using a for loop"
   ]
  },
  {
   "cell_type": "code",
   "execution_count": 2,
   "id": "6c1ab173-d8bd-4c38-b24a-c280f45ab81c",
   "metadata": {},
   "outputs": [
    {
     "name": "stdout",
     "output_type": "stream",
     "text": [
      "1879\n"
     ]
    }
   ],
   "source": [
    "def sum_elements_in_list(l):\n",
    "    add = 0\n",
    "    for i in l:\n",
    "        add = add + i\n",
    "    print(add)\n",
    "l = [234,2,543,6,547,457,4,34,52]\n",
    "sum_elements_in_list(l)"
   ]
  },
  {
   "cell_type": "markdown",
   "id": "a9c59996-52eb-49ec-9125-0950f061e2b3",
   "metadata": {},
   "source": [
    "3. Write a program to print the characters of a string in reverse order using a for loop"
   ]
  },
  {
   "cell_type": "code",
   "execution_count": 3,
   "id": "3468ae93-8ed6-485b-a13b-cda1c672bb98",
   "metadata": {},
   "outputs": [
    {
     "name": "stdout",
     "output_type": "stream",
     "text": [
      "maytas si eman ym olle"
     ]
    }
   ],
   "source": [
    "s = 'hello my name is satyam'\n",
    "for i in range(len(s)-1,0,-1):\n",
    "    print(s[i],end = \"\") "
   ]
  },
  {
   "cell_type": "markdown",
   "id": "54793f00-df1b-403a-b49b-e4bf6d5727f0",
   "metadata": {},
   "source": [
    "4. Develop a program that finds the factorial of a given number using a for loop"
   ]
  },
  {
   "cell_type": "code",
   "execution_count": 4,
   "id": "d7708e49-477b-48a4-89ea-d7f54edd8b48",
   "metadata": {},
   "outputs": [],
   "source": [
    "def factorial(n):\n",
    "    result = 1\n",
    "    for i in range(1,n+1):\n",
    "        result = result * i\n",
    "        \n",
    "    return result"
   ]
  },
  {
   "cell_type": "code",
   "execution_count": 5,
   "id": "20f00cc6-3cd3-4f25-af63-fd01f5e28268",
   "metadata": {},
   "outputs": [
    {
     "data": {
      "text/plain": [
       "3628800"
      ]
     },
     "execution_count": 5,
     "metadata": {},
     "output_type": "execute_result"
    }
   ],
   "source": [
    "factorial(10)"
   ]
  },
  {
   "cell_type": "markdown",
   "id": "79194fa4-e277-48a4-a831-0b0d67d0f26a",
   "metadata": {},
   "source": [
    "5. Create a program to print the multiplication table of a given number using a for loop"
   ]
  },
  {
   "cell_type": "code",
   "execution_count": 6,
   "id": "376aab30-6cd1-4080-b0b0-ebb35eefa339",
   "metadata": {},
   "outputs": [
    {
     "name": "stdout",
     "output_type": "stream",
     "text": [
      "42 X 1 = 42\n",
      "42 X 2 = 84\n",
      "42 X 3 = 126\n",
      "42 X 4 = 168\n",
      "42 X 5 = 210\n",
      "42 X 6 = 252\n",
      "42 X 7 = 294\n",
      "42 X 8 = 336\n",
      "42 X 9 = 378\n",
      "42 X 10 = 420\n"
     ]
    }
   ],
   "source": [
    "def table(n):\n",
    "    for i in range(1,11):        \n",
    "        print('{} X {} = {}'.format(n,i,n*i))\n",
    "table(42)"
   ]
  },
  {
   "cell_type": "markdown",
   "id": "07f1c505-528c-4e04-9919-80e474531cf3",
   "metadata": {},
   "source": [
    "6. Write a program that counts the number of even and odd numbers in a list using a for loop"
   ]
  },
  {
   "cell_type": "code",
   "execution_count": 7,
   "id": "a441918c-9454-4a46-9fce-7d6d017bfa72",
   "metadata": {},
   "outputs": [
    {
     "name": "stdout",
     "output_type": "stream",
     "text": [
      "6\n",
      "7\n"
     ]
    }
   ],
   "source": [
    "l = [23,423,1,235,3456,3,235,34,22,4,6,54,7]\n",
    "even = 0\n",
    "odd = 0\n",
    "for i in l:\n",
    "    if i % 2 == 0 :\n",
    "        even = even + 1\n",
    "    else:\n",
    "        odd = odd + 1\n",
    "print(even)\n",
    "print(odd)"
   ]
  },
  {
   "cell_type": "markdown",
   "id": "93c34514-7a1e-4463-bc0d-b4dc761fbf5d",
   "metadata": {},
   "source": [
    "7. Develop a program that prints the squares of numbers from 1 to 5 using a for loop"
   ]
  },
  {
   "cell_type": "code",
   "execution_count": 8,
   "id": "3a2776c3-bcc2-4b5b-9623-fe8b4c4f55fd",
   "metadata": {},
   "outputs": [
    {
     "data": {
      "text/plain": [
       "[1, 4, 9, 16, 25]"
      ]
     },
     "execution_count": 8,
     "metadata": {},
     "output_type": "execute_result"
    }
   ],
   "source": [
    "[x**2 for x in range(1,6)]"
   ]
  },
  {
   "cell_type": "markdown",
   "id": "3e341645-b3e4-489d-adfc-1afd95be554c",
   "metadata": {},
   "source": [
    "8. Create a program to find the length of a string without using the len() function"
   ]
  },
  {
   "cell_type": "code",
   "execution_count": 9,
   "id": "82800846-7ed1-4b41-8c88-47f4dda254e1",
   "metadata": {},
   "outputs": [
    {
     "name": "stdout",
     "output_type": "stream",
     "text": [
      "hello my name is satyam\n",
      "len 23\n"
     ]
    }
   ],
   "source": [
    "print(s)\n",
    "print('len',s.rfind(s[-1])+1)"
   ]
  },
  {
   "cell_type": "markdown",
   "id": "08b2d016-2e44-4db6-ae9d-1f9f29a83e8b",
   "metadata": {},
   "source": [
    "9. Write a program that calculates the average of a list of numbers using a for loop"
   ]
  },
  {
   "cell_type": "code",
   "execution_count": 10,
   "id": "88be372f-7b24-4587-9991-5dc74bdd104e",
   "metadata": {},
   "outputs": [
    {
     "name": "stdout",
     "output_type": "stream",
     "text": [
      "Average is 29328.0\n"
     ]
    }
   ],
   "source": [
    "l = [234124,23,54,346,2,35,34,6]\n",
    "length = len(l)\n",
    "add = 0\n",
    "for i in l:\n",
    "    add = add + i\n",
    "    \n",
    "print(\"Average is {}\".format(add/length))"
   ]
  },
  {
   "cell_type": "markdown",
   "id": "4ce96b9c-39c0-4233-99b2-d2b369c5da9a",
   "metadata": {},
   "source": [
    "10. Develop a program that prints the first 'n' Fibonacci numbers using a 'for' loop"
   ]
  },
  {
   "cell_type": "code",
   "execution_count": 11,
   "id": "7729e3a2-951a-4581-b0b2-93a10f1b2000",
   "metadata": {},
   "outputs": [],
   "source": [
    "def fibonacci_with_loop(n):\n",
    "    a , b  = 0 , 1\n",
    "    for i in range(n):\n",
    "        yield a\n",
    "        a , b = b , a + b\n",
    "        \n",
    "    return a"
   ]
  },
  {
   "cell_type": "code",
   "execution_count": 12,
   "id": "7994b7a0-7326-4a0b-8f77-2adb51a07d78",
   "metadata": {},
   "outputs": [
    {
     "data": {
      "text/plain": [
       "[0, 1, 1, 2, 3, 5, 8, 13, 21, 34]"
      ]
     },
     "execution_count": 12,
     "metadata": {},
     "output_type": "execute_result"
    }
   ],
   "source": [
    "list(fibonacci_with_loop(10))"
   ]
  },
  {
   "cell_type": "markdown",
   "id": "910a2936-b31f-48b2-820a-83728039e722",
   "metadata": {},
   "source": [
    "## Intermediate level:"
   ]
  },
  {
   "cell_type": "markdown",
   "id": "b57b2621-73c8-48d1-86c5-b95fc9487023",
   "metadata": {},
   "source": [
    "11. Write a program to check if a given list contains any duplicates using a for loop"
   ]
  },
  {
   "cell_type": "code",
   "execution_count": 13,
   "id": "a9085b69-fc53-4dbc-bac1-f7967671236c",
   "metadata": {},
   "outputs": [],
   "source": [
    "l = [1,2,2,42,5,4,62,3,34,34]\n",
    "def duplicate_checker(l):\n",
    "    for i in range(len(l)):\n",
    "        for j in range(i,len(l)):\n",
    "            if i == j:\n",
    "                return 'Yes, contains duplicates'\n",
    "    return 'No duplicates'\n",
    "            "
   ]
  },
  {
   "cell_type": "code",
   "execution_count": 14,
   "id": "12c6c292-0823-4a13-8ce1-dcd02af8c316",
   "metadata": {},
   "outputs": [
    {
     "data": {
      "text/plain": [
       "'Yes, contains duplicates'"
      ]
     },
     "execution_count": 14,
     "metadata": {},
     "output_type": "execute_result"
    }
   ],
   "source": [
    "duplicate_checker(l)"
   ]
  },
  {
   "cell_type": "markdown",
   "id": "1e3793ea-6f26-4604-894f-20b04715bea6",
   "metadata": {},
   "source": [
    "12. Create a program that prints the prime numbers in a given range using  a for loop"
   ]
  },
  {
   "cell_type": "code",
   "execution_count": 15,
   "id": "7c042836-a075-4aa3-8e5d-8ea49844332d",
   "metadata": {},
   "outputs": [],
   "source": [
    "## print prime numbers till 100\n",
    "n = 100\n",
    "def prime(n):\n",
    "    not_prime  = set()\n",
    "    for prime in range(2,n+1):\n",
    "        for check in range(2,prime):\n",
    "            if prime%check == 0 :\n",
    "                not_prime.add(prime)\n",
    "                \n",
    "    all_numbers = set(range(2,n+1))\n",
    "    return list(all_numbers.difference(not_prime))\n",
    "        \n",
    "        \n",
    "        \n",
    "        "
   ]
  },
  {
   "cell_type": "code",
   "execution_count": 16,
   "id": "1647e696-4917-42e2-b358-eb60679c0811",
   "metadata": {},
   "outputs": [
    {
     "name": "stdout",
     "output_type": "stream",
     "text": [
      "All prime numbers less than 100\n"
     ]
    },
    {
     "data": {
      "text/plain": [
       "[2,\n",
       " 3,\n",
       " 5,\n",
       " 7,\n",
       " 11,\n",
       " 13,\n",
       " 17,\n",
       " 19,\n",
       " 23,\n",
       " 29,\n",
       " 31,\n",
       " 37,\n",
       " 41,\n",
       " 43,\n",
       " 47,\n",
       " 53,\n",
       " 59,\n",
       " 61,\n",
       " 67,\n",
       " 71,\n",
       " 73,\n",
       " 79,\n",
       " 83,\n",
       " 89,\n",
       " 97]"
      ]
     },
     "execution_count": 16,
     "metadata": {},
     "output_type": "execute_result"
    }
   ],
   "source": [
    "print('All prime numbers less than 100')\n",
    "prime(100)"
   ]
  },
  {
   "cell_type": "markdown",
   "id": "14ec03d3-582a-491c-a801-4303f628349a",
   "metadata": {},
   "source": [
    "13. Develop a program that counts the number of vowels in a string using a for loop"
   ]
  },
  {
   "cell_type": "code",
   "execution_count": 17,
   "id": "5c674946-3ba7-4bf4-a37f-3a10d09e2f3f",
   "metadata": {},
   "outputs": [
    {
     "name": "stdout",
     "output_type": "stream",
     "text": [
      "9\n"
     ]
    }
   ],
   "source": [
    "st = 'hello, My name is satyam sharma'\n",
    "vowels  = ['a','e','i','o','u']\n",
    "count = 0\n",
    "for i in st:\n",
    "    if i in vowels:\n",
    "        count = count + 1\n",
    "        \n",
    "print(count)\n",
    "        "
   ]
  },
  {
   "cell_type": "markdown",
   "id": "a13f20e0-4b4b-4e3e-b7cd-6e25ba5afa10",
   "metadata": {},
   "source": [
    "14. Write a program to find  the maximum element in a 2D list using a nested for loop"
   ]
  },
  {
   "cell_type": "code",
   "execution_count": 18,
   "id": "d1287240-ed00-4148-bd14-2084672c5cfc",
   "metadata": {},
   "outputs": [
    {
     "name": "stdout",
     "output_type": "stream",
     "text": [
      "2354\n"
     ]
    }
   ],
   "source": [
    "l = [34,2354,2345,[234,5,23,45,246,[2345,23,867],234],92]\n",
    "## convert list into 1 d\n",
    "def flatten_list(l):\n",
    "    flat_list = []\n",
    "    for i in l:\n",
    "        if isinstance(i,list):\n",
    "            flat_list.extend(flatten_list(i))\n",
    "        else:\n",
    "            flat_list.append(i)\n",
    "    return flat_list\n",
    "\n",
    "print(max(flatten_list(l)))\n",
    "\n"
   ]
  },
  {
   "cell_type": "markdown",
   "id": "0af45730-db7e-4f8d-9f06-060d3a63fbcd",
   "metadata": {},
   "source": [
    "15. Create a program that removes all occurrences of a specific element from a list using for loop"
   ]
  },
  {
   "cell_type": "code",
   "execution_count": 19,
   "id": "d419d0db-c6f0-4714-abba-e32e649f084d",
   "metadata": {},
   "outputs": [
    {
     "name": "stdout",
     "output_type": "stream",
     "text": [
      "[23, 5423, 5234, 6, 23, 53, 6, 23, 346547, 54, 568, 7]\n"
     ]
    }
   ],
   "source": [
    "l = [23, 5423, 5234, 6, 23, 53, 6, 23, 2, 2, 2, 346547, 54, 568, 7, 2]\n",
    "l = [x for x in l if x != 2]\n",
    "print(l)\n"
   ]
  },
  {
   "cell_type": "markdown",
   "id": "0f1db312-a500-4ea6-9556-a52d1adbf795",
   "metadata": {},
   "source": [
    "16. Develop a program that generates a multiplication table for numbers from 1 to 5 using a nested for loop"
   ]
  },
  {
   "cell_type": "code",
   "execution_count": 20,
   "id": "1ca790ce-9c1a-4066-965d-ee226e18da05",
   "metadata": {},
   "outputs": [
    {
     "name": "stdout",
     "output_type": "stream",
     "text": [
      "Multiplication table for 1:\n",
      "1 x 1 = 1\n",
      "1 x 2 = 2\n",
      "1 x 3 = 3\n",
      "1 x 4 = 4\n",
      "1 x 5 = 5\n",
      "1 x 6 = 6\n",
      "1 x 7 = 7\n",
      "1 x 8 = 8\n",
      "1 x 9 = 9\n",
      "1 x 10 = 10\n",
      "\n",
      "Multiplication table for 2:\n",
      "2 x 1 = 2\n",
      "2 x 2 = 4\n",
      "2 x 3 = 6\n",
      "2 x 4 = 8\n",
      "2 x 5 = 10\n",
      "2 x 6 = 12\n",
      "2 x 7 = 14\n",
      "2 x 8 = 16\n",
      "2 x 9 = 18\n",
      "2 x 10 = 20\n",
      "\n",
      "Multiplication table for 3:\n",
      "3 x 1 = 3\n",
      "3 x 2 = 6\n",
      "3 x 3 = 9\n",
      "3 x 4 = 12\n",
      "3 x 5 = 15\n",
      "3 x 6 = 18\n",
      "3 x 7 = 21\n",
      "3 x 8 = 24\n",
      "3 x 9 = 27\n",
      "3 x 10 = 30\n",
      "\n",
      "Multiplication table for 4:\n",
      "4 x 1 = 4\n",
      "4 x 2 = 8\n",
      "4 x 3 = 12\n",
      "4 x 4 = 16\n",
      "4 x 5 = 20\n",
      "4 x 6 = 24\n",
      "4 x 7 = 28\n",
      "4 x 8 = 32\n",
      "4 x 9 = 36\n",
      "4 x 10 = 40\n",
      "\n",
      "Multiplication table for 5:\n",
      "5 x 1 = 5\n",
      "5 x 2 = 10\n",
      "5 x 3 = 15\n",
      "5 x 4 = 20\n",
      "5 x 5 = 25\n",
      "5 x 6 = 30\n",
      "5 x 7 = 35\n",
      "5 x 8 = 40\n",
      "5 x 9 = 45\n",
      "5 x 10 = 50\n",
      "\n"
     ]
    }
   ],
   "source": [
    "# Define the range of numbers for the multiplication table\n",
    "start = 1\n",
    "end = 5\n",
    "\n",
    "# Iterate through the range of numbers\n",
    "for i in range(start, end + 1):\n",
    "    # Print the header for the current number\n",
    "    print(f\"Multiplication table for {i}:\")\n",
    "\n",
    "    # Nested loop to calculate and print the multiplication table\n",
    "    for j in range(1, 11):  # You can change the range to adjust the table size\n",
    "        product = i * j\n",
    "        print(f\"{i} x {j} = {product}\")\n",
    "\n",
    "    # Add a blank line between tables for different numbers\n",
    "    print()\n"
   ]
  },
  {
   "cell_type": "markdown",
   "id": "f5237280-6353-4a3b-9be4-ec78161b5352",
   "metadata": {},
   "source": [
    "17. Write a program that converts a list of Fahrenheit tempertatures to Celsius using a for loop"
   ]
  },
  {
   "cell_type": "code",
   "execution_count": 21,
   "id": "7cbf7c80-33ea-4de2-9ded-381fc6e0b10d",
   "metadata": {},
   "outputs": [
    {
     "data": {
      "text/plain": [
       "[37.78, 729.44, -14.44, 12.22, 162.22, -15.0, 174.44, 1.11, 112.22, -3.89]"
      ]
     },
     "execution_count": 21,
     "metadata": {},
     "output_type": "execute_result"
    }
   ],
   "source": [
    "fahrenheit = [100,1345,6,54,324,5,346,34,234,25]\n",
    "celsius = []\n",
    "for i in fahrenheit:\n",
    "    celsius.append(round((i-32)*5/9,2))\n",
    "    \n",
    "celsius"
   ]
  },
  {
   "cell_type": "markdown",
   "id": "5b7904c5-333f-448a-987f-847d10e71cf9",
   "metadata": {},
   "source": [
    "18. Create a program to print the common elements from two lists usnig a 'for' loop"
   ]
  },
  {
   "cell_type": "code",
   "execution_count": 22,
   "id": "e69ddd87-8e1c-4229-9fdb-8f8cb07ce205",
   "metadata": {},
   "outputs": [
    {
     "name": "stdout",
     "output_type": "stream",
     "text": [
      "[24, 35, 46, 235, 34]\n"
     ]
    }
   ],
   "source": [
    "l1 = [24,35,3,46,345,235,34,634]\n",
    "l2 = [24, 35,34,46,234,5,235]\n",
    "common_elements = []\n",
    "for i in l1:\n",
    "    if i in l2:\n",
    "        common_elements.append(i)\n",
    "\n",
    "print(common_elements)"
   ]
  },
  {
   "cell_type": "markdown",
   "id": "759ea334-a317-4959-94ab-2d09ab6b506f",
   "metadata": {},
   "source": [
    "19. Develop a program that prints the pattern of right-angled triangles using a for. use '*' to draw a pattern"
   ]
  },
  {
   "cell_type": "code",
   "execution_count": 23,
   "id": "526e53aa-f56f-4843-a4c5-9f1c2335122e",
   "metadata": {},
   "outputs": [
    {
     "name": "stdout",
     "output_type": "stream",
     "text": [
      "*\n",
      "**\n",
      "***\n",
      "****\n",
      "*****\n",
      "******\n",
      "*******\n",
      "********\n",
      "*********\n",
      "**********\n"
     ]
    }
   ],
   "source": [
    "def right_angled_triangle(n):\n",
    "    count = 1\n",
    "    while count-1 < n:\n",
    "        print(count * '*')        \n",
    "        count = count + 1\n",
    "right_angled_triangle(10)"
   ]
  },
  {
   "cell_type": "markdown",
   "id": "bce210e5-43ea-4e7d-a823-15f0ca6d9d03",
   "metadata": {},
   "source": [
    "20. Write a program to find the greatest common divisor (GCD) of two numbers using a for loop"
   ]
  },
  {
   "cell_type": "code",
   "execution_count": 24,
   "id": "285d83c2-c2ee-46c6-9221-d60ac79a4c79",
   "metadata": {},
   "outputs": [
    {
     "name": "stdin",
     "output_type": "stream",
     "text": [
      "Enter the first number:  34\n",
      "Enter the second number:  8\n"
     ]
    },
    {
     "name": "stdout",
     "output_type": "stream",
     "text": [
      "GCD: 2\n"
     ]
    }
   ],
   "source": [
    "def find_gcd(num1, num2):\n",
    "    while num2:\n",
    "        num1, num2 = num2, num1 % num2\n",
    "    return num1\n",
    "\n",
    "# Input two numbers\n",
    "num1 = int(input(\"Enter the first number: \"))\n",
    "num2 = int(input(\"Enter the second number: \"))\n",
    "\n",
    "# Calculate and print the GCD\n",
    "gcd = find_gcd(num1, num2)\n",
    "print(\"GCD:\", gcd)\n"
   ]
  },
  {
   "cell_type": "markdown",
   "id": "6c7fda88-b321-4bf0-bb60-e6e17e672ebd",
   "metadata": {},
   "source": [
    "## Advanced level"
   ]
  },
  {
   "cell_type": "markdown",
   "id": "068bbdb5-9bcc-46c4-9839-abeaa7a0c7de",
   "metadata": {},
   "source": [
    "21. Create a program that calculates the sum of the digits of numbers in a list using a list comprehension"
   ]
  },
  {
   "cell_type": "code",
   "execution_count": 57,
   "id": "953c739c-0103-47b3-9df0-f158be9007c8",
   "metadata": {},
   "outputs": [],
   "source": [
    "def digit_sum(numbers):\n",
    "    sum_of_digits = []\n",
    "    for num in numbers:\n",
    "        sum_of_digits.append(sum([int(i) for i in str(num)]))\n",
    "    sum_of_digits\n",
    "numbers = [24,35,23,523,5,2346,34,34,23,52,345,34523423423,64]"
   ]
  },
  {
   "cell_type": "code",
   "execution_count": 58,
   "id": "d27e550d-fea0-4fb6-b9f3-12534f4e521c",
   "metadata": {},
   "outputs": [],
   "source": [
    "digit_sum(numbers)"
   ]
  },
  {
   "cell_type": "markdown",
   "id": "c95efd4a-6656-464b-9743-1a08291e5513",
   "metadata": {},
   "source": [
    "22. Write a program to find the prime factors of a given number usng a for loop"
   ]
  },
  {
   "cell_type": "code",
   "execution_count": 59,
   "id": "759a6cea-ffa8-438b-b709-2ecd04a1a2fc",
   "metadata": {},
   "outputs": [
    {
     "name": "stdout",
     "output_type": "stream",
     "text": [
      "[2, 2, 2, 2, 7]\n"
     ]
    }
   ],
   "source": [
    "def is_prime(n):\n",
    "    if n <= 1:\n",
    "        return False\n",
    "    for i in range(2, int(n**0.5) + 1):\n",
    "        if n % i == 0:\n",
    "            return False\n",
    "    return True\n",
    "\n",
    "def prime_factors(n):\n",
    "    temp_list = []\n",
    "    i = 2\n",
    "    while n !=1:\n",
    "        if (is_prime(i)) and (n % i == 0):\n",
    "            temp_list.append(i)\n",
    "            n = n // i\n",
    "            i = 2\n",
    "        else:\n",
    "            i = i + 1\n",
    "  \n",
    "    return temp_list\n",
    "\n",
    "# Test the prime_factors function\n",
    "n = 112\n",
    "print(prime_factors(n))  # Output: [2, 2, 3, 5]\n"
   ]
  },
  {
   "cell_type": "markdown",
   "id": "c884edee-5647-4440-abd1-be1fb8e4e8f0",
   "metadata": {},
   "source": [
    "23. Develop a program that extracts unique elements from a list and stores them in a new list using a list comprehension"
   ]
  },
  {
   "cell_type": "code",
   "execution_count": 60,
   "id": "f0d4df10-39aa-46db-bb20-56f31eac8816",
   "metadata": {},
   "outputs": [],
   "source": [
    "l = [42,3,5,53,46,46, 3,2,5]\n",
    "new_list = []\n",
    "new_unique_list = [new_list.append(i) for i in l if i not in new_list]"
   ]
  },
  {
   "cell_type": "code",
   "execution_count": 61,
   "id": "ab2094aa-d8db-4581-b8ec-19da6226aa12",
   "metadata": {},
   "outputs": [
    {
     "name": "stdout",
     "output_type": "stream",
     "text": [
      "[42, 3, 5, 53, 46, 2]\n"
     ]
    }
   ],
   "source": [
    "print(new_list)"
   ]
  },
  {
   "cell_type": "markdown",
   "id": "943e8468-6c9f-4e4e-90ca-f599f9a8f02f",
   "metadata": {},
   "source": [
    "24. Create a program that generates a list of all palindrome numbers up to a specified limit using a list comprehension"
   ]
  },
  {
   "cell_type": "code",
   "execution_count": 62,
   "id": "ae783c67-cf0a-438f-9555-758acbc969ad",
   "metadata": {},
   "outputs": [],
   "source": [
    "def generate_palindromes(n):\n",
    "    palindromes=[x for x in range(n) if str(x) == str(x)[::-1]]\n",
    "    return palindromes "
   ]
  },
  {
   "cell_type": "code",
   "execution_count": 63,
   "id": "ba6b5c24-c104-43b5-a408-1a869918b317",
   "metadata": {},
   "outputs": [
    {
     "data": {
      "text/plain": [
       "[0, 1, 2, 3, 4, 5, 6, 7, 8, 9, 11, 22, 33, 44, 55, 66, 77, 88, 99]"
      ]
     },
     "execution_count": 63,
     "metadata": {},
     "output_type": "execute_result"
    }
   ],
   "source": [
    "generate_palindromes(100)"
   ]
  },
  {
   "cell_type": "markdown",
   "id": "067aed8c-db95-4385-9909-9ba6c6bd205b",
   "metadata": {},
   "source": [
    "25. Write a program to flatten a nested list using list comprehension"
   ]
  },
  {
   "cell_type": "code",
   "execution_count": 64,
   "id": "f2eb54ee-37b4-4052-9bb4-37125311b24d",
   "metadata": {},
   "outputs": [
    {
     "name": "stdout",
     "output_type": "stream",
     "text": [
      "[4, 4, 5, 23, 542, 356, 346, 34, 23423, 235, 23, 2, 34, 25, 23, 542, 2532, 3, 234, 234, 64567]\n"
     ]
    }
   ],
   "source": [
    "def flatten_list(nested_list):\n",
    "    final = [item for lst in nested_list for item in (flatten_list(lst) if isinstance(lst, list) else [lst])]\n",
    "    return final\n",
    "\n",
    "nested_list = [4, 4, 5, 23, 542, 356, 346, 34, [23423, 235, 23, [2, 34, 25, 23, 542, [2532, 3], 234], 234], 64567]\n",
    "flattened = flatten_list(nested_list)\n",
    "print(flattened)\n"
   ]
  },
  {
   "cell_type": "markdown",
   "id": "ea05bfe5-bafc-4b8e-99af-ce3c75e5ad4a",
   "metadata": {},
   "source": [
    "26. Develop a program that computes the sum of even and odd numbers in a list seperately using list comprehension."
   ]
  },
  {
   "cell_type": "code",
   "execution_count": 65,
   "id": "06e36208-d8e3-4a1c-b33e-65fc51908ab2",
   "metadata": {},
   "outputs": [
    {
     "name": "stdout",
     "output_type": "stream",
     "text": [
      "Even numbers: [324, 4, 214, 12, 2456]\n",
      "Odd numbers: [21, 3, 25, 3, 1, 325, 235]\n"
     ]
    }
   ],
   "source": [
    "l = [324, 21, 4, 214, 3, 25, 12, 3, 1, 325, 235, 2456]\n",
    "even_l = [i for i in l if i % 2 == 0]\n",
    "odd_l = [i for i in l if i % 2 != 0]\n",
    "\n",
    "print(\"Even numbers:\", even_l)\n",
    "print(\"Odd numbers:\", odd_l)\n"
   ]
  },
  {
   "cell_type": "markdown",
   "id": "fdea3e40-ac9d-4eda-a556-02492caa87f5",
   "metadata": {},
   "source": [
    "27. Create a program that generates a list of squares of odd numbers between l and 10 using list comprehension"
   ]
  },
  {
   "cell_type": "code",
   "execution_count": 66,
   "id": "7c1c7f04-6bcf-487a-89d9-f549d2777243",
   "metadata": {},
   "outputs": [
    {
     "data": {
      "text/plain": [
       "[4, 16, 36, 64, 100]"
      ]
     },
     "execution_count": 66,
     "metadata": {},
     "output_type": "execute_result"
    }
   ],
   "source": [
    "[x**2 for x in range(1,11) if x %2 == 0 ]"
   ]
  },
  {
   "cell_type": "markdown",
   "id": "c633087c-fe9a-47a8-b5b1-a7899a9cc70f",
   "metadata": {},
   "source": [
    "28. Write a program that combines two lists into a dictionary using list comprehension"
   ]
  },
  {
   "cell_type": "code",
   "execution_count": 67,
   "id": "a407b068-cb92-4df0-8345-c9ed7c969bd5",
   "metadata": {},
   "outputs": [
    {
     "name": "stdout",
     "output_type": "stream",
     "text": [
      "{32: 6, 34: 6, 235: 7, 23: 3, 4: 2, 1: 3, 42: 42}\n"
     ]
    }
   ],
   "source": [
    "l1 = [32,34,235,23,4,1,42]\n",
    "l2 = [6,6,7,3,2,3,42,42,902]\n",
    "## combine two list one is a key and other one is a value\n",
    "dic = {key : value for key, value in zip(l1,l2)}\n",
    "print(dic)\n",
    "\n",
    "    "
   ]
  },
  {
   "cell_type": "markdown",
   "id": "0b65f3e1-f1f3-4ed4-88c8-a4e0c355c10f",
   "metadata": {},
   "source": [
    "29. Develop a program that extracts the vowels from a string and stores them in a list using list comprehension"
   ]
  },
  {
   "cell_type": "code",
   "execution_count": 68,
   "id": "5ea27659-b182-442c-a704-5cc2d605b316",
   "metadata": {},
   "outputs": [
    {
     "data": {
      "text/plain": [
       "['a', 'a', 'a', 'a']"
      ]
     },
     "execution_count": 68,
     "metadata": {},
     "output_type": "execute_result"
    }
   ],
   "source": [
    "st = 'saytam sharma'\n",
    "vowels = ['a','e','i','o','u']\n",
    "[x for x in st if x in vowels]"
   ]
  },
  {
   "cell_type": "markdown",
   "id": "8271c99a-7ddc-42f3-ab06-2a9fc8e3fe19",
   "metadata": {},
   "source": [
    "30. Create a program that removes all non-numeric characters from a list of strnigs using list comprehension"
   ]
  },
  {
   "cell_type": "code",
   "execution_count": 69,
   "id": "08864916-00a0-4043-9f8e-9aaac81b53c6",
   "metadata": {},
   "outputs": [
    {
     "data": {
      "text/plain": [
       "['hello', 'definite', 'satyam', '', 'yes']"
      ]
     },
     "execution_count": 69,
     "metadata": {},
     "output_type": "execute_result"
    }
   ],
   "source": [
    "l = ['hello23','definite23','satyam23','234','yes234']\n",
    "[\"\".join(filter(str.isalpha, ele)) for ele in l]"
   ]
  },
  {
   "cell_type": "markdown",
   "id": "43c6e5fe-4072-44f7-9d9c-f8016242601c",
   "metadata": {},
   "source": [
    "31. Write a program to generate a list of prime numbers using the Sieve of Eratosthenes algo and list comprehension"
   ]
  },
  {
   "cell_type": "code",
   "execution_count": 70,
   "id": "b57507e1-7478-4c95-b7a3-5da6f6ebb1e3",
   "metadata": {},
   "outputs": [
    {
     "name": "stdout",
     "output_type": "stream",
     "text": [
      "[2, 3, 5, 7, 11, 13]\n"
     ]
    }
   ],
   "source": [
    "n = 15\n",
    "\n",
    "# Create a list of numbers from 2 to n\n",
    "numbers = list(range(2, n + 1))\n",
    "\n",
    "# Use list comprehension to filter prime numbers\n",
    "prime_numbers = [num for num in numbers if all(num % div != 0 for div in range(2, int(num**0.5) + 1))]\n",
    "\n",
    "print(prime_numbers)\n"
   ]
  },
  {
   "cell_type": "markdown",
   "id": "95b5e032-2a5f-4648-a886-0ad9a7b24697",
   "metadata": {},
   "source": [
    "32. Crate a program that generates a list of all Pythagorean triples up to a specified limit using list comprehension"
   ]
  },
  {
   "cell_type": "code",
   "execution_count": 71,
   "id": "03a39bf1-5cd4-42b4-855a-32a73cfe23e8",
   "metadata": {},
   "outputs": [],
   "source": [
    "def pythagorean_triplets(smallest_triplet):\n",
    "    if smallest_triplet % 2 == 0:\n",
    "        middle, largest = int(((smallest_triplet // 2) ** 2) - 1), int(((smallest_triplet / 2) ** 2) + 1)\n",
    "    elif smallest_triplet % 2 != 0:\n",
    "        middle, largest = int(smallest_triplet ** 2 / 2), int((smallest_triplet ** 2 / 2) + 1)\n",
    "    \n",
    "    return [smallest_triplet, middle, largest] if ((smallest_triplet ** 2 + middle ** 2 == largest ** 2) or (smallest_triplet ** 2 + largest ** 2 == middle ** 2)) and (smallest_triplet + middle > largest) else \"There is no triplet of this number\"\n",
    "\n"
   ]
  },
  {
   "cell_type": "code",
   "execution_count": 72,
   "id": "7a9ce26f-ef9e-4506-8f5b-a5f861ee24e6",
   "metadata": {},
   "outputs": [
    {
     "name": "stdout",
     "output_type": "stream",
     "text": [
      "There is no triplet of this number\n"
     ]
    }
   ],
   "source": [
    "# test case1\n",
    "triplet = pythagorean_triplets(2)\n",
    "print(triplet) \n"
   ]
  },
  {
   "cell_type": "code",
   "execution_count": 73,
   "id": "028a29ec-a3ef-44db-a3bc-36ed1dd4aa31",
   "metadata": {},
   "outputs": [
    {
     "name": "stdout",
     "output_type": "stream",
     "text": [
      "[9, 40, 41]\n"
     ]
    }
   ],
   "source": [
    "# test case2\n",
    "triplet = pythagorean_triplets(9)\n",
    "print(triplet) "
   ]
  },
  {
   "cell_type": "markdown",
   "id": "3477c581-8666-4e04-bde2-abeafb580285",
   "metadata": {},
   "source": [
    "33. Develop a program that generates a list of all possible combinations of two list using list comprehension"
   ]
  },
  {
   "cell_type": "code",
   "execution_count": 74,
   "id": "36d68b9b-a873-492c-9c26-aed060decf3e",
   "metadata": {},
   "outputs": [],
   "source": [
    "def all_combinations(l1, l2):\n",
    "    combinations = [(x, y) for x in l1 for y in l2]\n",
    "\n",
    "    return (combinations)\n",
    "\n",
    "        "
   ]
  },
  {
   "cell_type": "code",
   "execution_count": 75,
   "id": "f133ed08-1efa-48bc-a00a-4554b288fa59",
   "metadata": {},
   "outputs": [
    {
     "data": {
      "text/plain": [
       "[(3, 'x'),\n",
       " (3, 'y'),\n",
       " (3, 'a'),\n",
       " (2, 'x'),\n",
       " (2, 'y'),\n",
       " (2, 'a'),\n",
       " (4, 'x'),\n",
       " (4, 'y'),\n",
       " (4, 'a')]"
      ]
     },
     "execution_count": 75,
     "metadata": {},
     "output_type": "execute_result"
    }
   ],
   "source": [
    "all_combinations([3,2,4],['x','y','a'])"
   ]
  },
  {
   "cell_type": "markdown",
   "id": "b07a3786-1b87-4da1-a067-8730d92a6a9d",
   "metadata": {},
   "source": [
    "34. Write a program that calculates the mean, median , and mode of a lsit of numbers using list comprehension"
   ]
  },
  {
   "cell_type": "code",
   "execution_count": 76,
   "id": "d647bfc5-5790-4f98-a77b-452a4bb1b84b",
   "metadata": {},
   "outputs": [
    {
     "data": {
      "text/plain": [
       "[4.7, 5, 5.0]"
      ]
     },
     "execution_count": 76,
     "metadata": {},
     "output_type": "execute_result"
    }
   ],
   "source": [
    "def mode(l1):\n",
    "    frequency_dict = {}\n",
    "    for i in l1:\n",
    "        if i in frequency_dict.keys():\n",
    "            frequency_dict[i] = frequency_dict[i] + 1\n",
    "        else:\n",
    "            frequency_dict[i] = 1\n",
    "            \n",
    "    \n",
    "    max_freq = max(frequency_dict.values())\n",
    "\n",
    "    # Find the mode(s) by iterating through the dictionary\n",
    "    mode = [key for key, value in frequency_dict.items() if value == max_freq]\n",
    "\n",
    "    return mode[0]\n",
    "\n",
    "# median\n",
    "def median(l1):\n",
    "    sorted_list = sorted(l1)\n",
    "    n = len(l1)\n",
    "    if n %2 == 0: # even\n",
    "        first = l1[n // 2 - 1]\n",
    "        second = l1[(n//2)]\n",
    "        return (first + second) / 2\n",
    "    else:\n",
    "        return l1[n//2]\n",
    "    \n",
    "def stat_with_list(l1):\n",
    "    mean = sum(l1)/len(l1)\n",
    "    mode_ = mode(l1)\n",
    "    median_ = median(l1)\n",
    "    return [mean , mode_, median_]\n",
    "stat_with_list([3,4,5,6,7,3,4,5,5,5])\n",
    "    "
   ]
  },
  {
   "cell_type": "markdown",
   "id": "e9720a63-9a12-46f7-82bb-2bc9b202c994",
   "metadata": {},
   "source": [
    "35. Create a program that generates Pascal's triangle up to a specified number of rows using list comprehension"
   ]
  },
  {
   "cell_type": "code",
   "execution_count": 77,
   "id": "084fff75-5d68-4643-9436-9d8ee080c899",
   "metadata": {},
   "outputs": [],
   "source": [
    "def generate_pascals_triangle(num_rows):\n",
    "    if num_rows <= 0:\n",
    "        return []\n",
    "\n",
    "    triangle = [[1]]\n",
    "    \n",
    "    for _ in range(1, num_rows):\n",
    "        # Generate the next row of Pascal's triangle using list comprehension\n",
    "        previous_row = triangle[-1]\n",
    "        new_row = [1] + [previous_row[i] + previous_row[i + 1] for i in range(len(previous_row) - 1)] + [1]\n",
    "        triangle.append(new_row)\n",
    "    \n",
    "    for row in triangle:\n",
    "        print(\" \".join(map(str, row)))\n",
    "\n"
   ]
  },
  {
   "cell_type": "code",
   "execution_count": 78,
   "id": "fe3f674f-3b47-4ccb-b593-cd60b14188ba",
   "metadata": {},
   "outputs": [
    {
     "name": "stdout",
     "output_type": "stream",
     "text": [
      "1\n",
      "1 1\n",
      "1 2 1\n",
      "1 3 3 1\n"
     ]
    }
   ],
   "source": [
    "generate_pascals_triangle(4)"
   ]
  },
  {
   "cell_type": "markdown",
   "id": "6772aee4-08c9-48d6-9a4c-5c9c48a74385",
   "metadata": {},
   "source": [
    "36. Develop a program that calculates the sum of the digits of a factorial of numbers from 1 to 5 using list comprehension."
   ]
  },
  {
   "cell_type": "code",
   "execution_count": 79,
   "id": "31cc2f5c-c604-4eb5-a1b3-13a36967bbde",
   "metadata": {},
   "outputs": [],
   "source": [
    "def factorial(num):\n",
    "    if num == 0  or num == 1:\n",
    "        return 1\n",
    "    else:\n",
    "        return num * factorial(num-1)"
   ]
  },
  {
   "cell_type": "code",
   "execution_count": 80,
   "id": "aab05151-7aa7-4746-8009-25507be78113",
   "metadata": {},
   "outputs": [
    {
     "data": {
      "text/plain": [
       "[1, 2, 6, 6, 3]"
      ]
     },
     "execution_count": 80,
     "metadata": {},
     "output_type": "execute_result"
    }
   ],
   "source": [
    "num_list = list(range(1,6))\n",
    "factorials = [factorial(num) for num in num_list]\n",
    "sum_of_digits = []\n",
    "for num in factorials:\n",
    "    sum_of_digits.append(sum([int(i) for i in str(num)]))\n",
    "sum_of_digits"
   ]
  },
  {
   "cell_type": "markdown",
   "id": "a467837f-24a6-4d30-a445-1e4b433922a0",
   "metadata": {},
   "source": [
    "37. Write a program that finds the longest word in a sentence using list comprehension."
   ]
  },
  {
   "cell_type": "code",
   "execution_count": 81,
   "id": "a4582598-36b7-4b91-b71e-d8eadcad40fd",
   "metadata": {},
   "outputs": [
    {
     "name": "stdout",
     "output_type": "stream",
     "text": [
      "scientist 9\n"
     ]
    }
   ],
   "source": [
    "sentence = 'hello dear my name is satyam sharma, and I am going to become a data scientist'\n",
    "list_sent = sentence.split()\n",
    "\n",
    "# Use a list comprehension to create a list of (word, length) pairs\n",
    "temp = [(word, len(word)) for word in list_sent]\n",
    "\n",
    "# Find the word with the maximum length using max() and a lambda function\n",
    "name, size = max(temp, key=lambda x: x[1])\n",
    "\n",
    "print(name, size)\n"
   ]
  },
  {
   "cell_type": "markdown",
   "id": "5e02630f-53de-4591-8f59-dabd8b29c1d3",
   "metadata": {},
   "source": [
    "38. Create a program that filters a list of strings to include only those with more than three vowels using list comprehension."
   ]
  },
  {
   "cell_type": "code",
   "execution_count": 82,
   "id": "7167264a-aed1-4e9f-8b01-85eecf245973",
   "metadata": {},
   "outputs": [],
   "source": [
    "l = ['satyam','scientist','obnoxious','amazing','kind','rude','generous']"
   ]
  },
  {
   "cell_type": "code",
   "execution_count": 83,
   "id": "6efa2b20-f776-4693-a8b9-0321b1c86230",
   "metadata": {},
   "outputs": [],
   "source": [
    "def count_vowels(s: str):\n",
    "    count = 0\n",
    "    for i in s:\n",
    "        if i in list('aeiou'):\n",
    "            count +=1\n",
    "    return count\n",
    "        "
   ]
  },
  {
   "cell_type": "code",
   "execution_count": 84,
   "id": "d2e57cd4-4f5c-47f0-9784-90241084f811",
   "metadata": {},
   "outputs": [
    {
     "data": {
      "text/plain": [
       "['obnoxious', 'generous']"
      ]
     },
     "execution_count": 84,
     "metadata": {},
     "output_type": "execute_result"
    }
   ],
   "source": [
    "[name for name in l if count_vowels(name)> 3]"
   ]
  },
  {
   "cell_type": "markdown",
   "id": "32e5d2c4-a7f9-4c49-b34d-772b381fff5a",
   "metadata": {},
   "source": [
    "39. Develop a program that calculates the sum of the digits of number sfrom 1 to 1000 using list comprehension"
   ]
  },
  {
   "cell_type": "code",
   "execution_count": 85,
   "id": "059ebea7-bc0d-465f-a318-56506377b71e",
   "metadata": {},
   "outputs": [
    {
     "name": "stdout",
     "output_type": "stream",
     "text": [
      "1 2 6 6 3 1 2 3 4 5 6 7 8 9 1 2 3 4 5 6 7 8 9 10 2 3 4 5 6 7 8 9 10 11 3 4 5 6 7 8 9 10 11 12 4 5 6 7 8 9 10 11 12 13 5 6 7 8 9 10 11 12 13 14 6 7 8 9 10 11 12 13 14 15 7 8 9 10 11 12 13 14 15 16 8 9 10 11 12 13 14 15 16 17 9 10 11 12 13 14 15 16 17 18 1 2 3 4 5 6 7 8 9 10 2 3 4 5 6 7 8 9 10 11 3 4 5 6 7 8 9 10 11 12 4 5 6 7 8 9 10 11 12 13 5 6 7 8 9 10 11 12 13 14 6 7 8 9 10 11 12 13 14 15 7 8 9 10 11 12 13 14 15 16 8 9 10 11 12 13 14 15 16 17 9 10 11 12 13 14 15 16 17 18 10 11 12 13 14 15 16 17 18 19 2 3 4 5 6 7 8 9 10 11 3 4 5 6 7 8 9 10 11 12 4 5 6 7 8 9 10 11 12 13 5 6 7 8 9 10 11 12 13 14 6 7 8 9 10 11 12 13 14 15 7 8 9 10 11 12 13 14 15 16 8 9 10 11 12 13 14 15 16 17 9 10 11 12 13 14 15 16 17 18 10 11 12 13 14 15 16 17 18 19 11 12 13 14 15 16 17 18 19 20 3 4 5 6 7 8 9 10 11 12 4 5 6 7 8 9 10 11 12 13 5 6 7 8 9 10 11 12 13 14 6 7 8 9 10 11 12 13 14 15 7 8 9 10 11 12 13 14 15 16 8 9 10 11 12 13 14 15 16 17 9 10 11 12 13 14 15 16 17 18 10 11 12 13 14 15 16 17 18 19 11 12 13 14 15 16 17 18 19 20 12 13 14 15 16 17 18 19 20 21 4 5 6 7 8 9 10 11 12 13 5 6 7 8 9 10 11 12 13 14 6 7 8 9 10 11 12 13 14 15 7 8 9 10 11 12 13 14 15 16 8 9 10 11 12 13 14 15 16 17 9 10 11 12 13 14 15 16 17 18 10 11 12 13 14 15 16 17 18 19 11 12 13 14 15 16 17 18 19 20 12 13 14 15 16 17 18 19 20 21 13 14 15 16 17 18 19 20 21 22 5 6 7 8 9 10 11 12 13 14 6 7 8 9 10 11 12 13 14 15 7 8 9 10 11 12 13 14 15 16 8 9 10 11 12 13 14 15 16 17 9 10 11 12 13 14 15 16 17 18 10 11 12 13 14 15 16 17 18 19 11 12 13 14 15 16 17 18 19 20 12 13 14 15 16 17 18 19 20 21 13 14 15 16 17 18 19 20 21 22 14 15 16 17 18 19 20 21 22 23 6 7 8 9 10 11 12 13 14 15 7 8 9 10 11 12 13 14 15 16 8 9 10 11 12 13 14 15 16 17 9 10 11 12 13 14 15 16 17 18 10 11 12 13 14 15 16 17 18 19 11 12 13 14 15 16 17 18 19 20 12 13 14 15 16 17 18 19 20 21 13 14 15 16 17 18 19 20 21 22 14 15 16 17 18 19 20 21 22 23 15 16 17 18 19 20 21 22 23 24 7 8 9 10 11 12 13 14 15 16 8 9 10 11 12 13 14 15 16 17 9 10 11 12 13 14 15 16 17 18 10 11 12 13 14 15 16 17 18 19 11 12 13 14 15 16 17 18 19 20 12 13 14 15 16 17 18 19 20 21 13 14 15 16 17 18 19 20 21 22 14 15 16 17 18 19 20 21 22 23 15 16 17 18 19 20 21 22 23 24 16 17 18 19 20 21 22 23 24 25 8 9 10 11 12 13 14 15 16 17 9 10 11 12 13 14 15 16 17 18 10 11 12 13 14 15 16 17 18 19 11 12 13 14 15 16 17 18 19 20 12 13 14 15 16 17 18 19 20 21 13 14 15 16 17 18 19 20 21 22 14 15 16 17 18 19 20 21 22 23 15 16 17 18 19 20 21 22 23 24 16 17 18 19 20 21 22 23 24 25 17 18 19 20 21 22 23 24 25 26 9 10 11 12 13 14 15 16 17 18 10 11 12 13 14 15 16 17 18 19 11 12 13 14 15 16 17 18 19 20 12 13 14 15 16 17 18 19 20 21 13 14 15 16 17 18 19 20 21 22 14 15 16 17 18 19 20 21 22 23 15 16 17 18 19 20 21 22 23 24 16 17 18 19 20 21 22 23 24 25 17 18 19 20 21 22 23 24 25 26 18 19 20 21 22 23 24 25 26 27 1 "
     ]
    }
   ],
   "source": [
    "nums = list(range(1,1001))\n",
    "digit_sum = []\n",
    "for num in nums:\n",
    "    sum_of_digits.append(sum([int(i) for i in str(num)]))\n",
    "for i in sum_of_digits:\n",
    "    print(i , end = \" \" )"
   ]
  },
  {
   "cell_type": "markdown",
   "id": "6af05dde-7791-423a-abe6-8a5e9b291a6a",
   "metadata": {},
   "source": [
    "40. Write a program that generates a list of prime palindrome numbers using list comprehension"
   ]
  },
  {
   "cell_type": "code",
   "execution_count": 86,
   "id": "2aeecf6a-2620-4021-a7f8-d2ad82a730ad",
   "metadata": {},
   "outputs": [],
   "source": [
    "## checking numbers till 100\n",
    "n = 100\n",
    "\n",
    "# Create a list of numbers from 2 to n\n",
    "numbers = list(range(2, n + 1))\n",
    "\n",
    "# Use list comprehension to filter prime numbers\n",
    "prime_numbers = [num for num in numbers if all(num % div != 0 for div in range(2, int(num**0.5) + 1))]\n"
   ]
  },
  {
   "cell_type": "code",
   "execution_count": 87,
   "id": "86abd249-44db-46b0-b4a2-a8f28f83cc64",
   "metadata": {},
   "outputs": [],
   "source": [
    "def palindrome(num):\n",
    "    if str(num) == (str(num))[::-1]:\n",
    "        return True"
   ]
  },
  {
   "cell_type": "code",
   "execution_count": 88,
   "id": "17bdc4f2-eb81-4b40-be9f-90f6f484ba51",
   "metadata": {},
   "outputs": [
    {
     "name": "stdout",
     "output_type": "stream",
     "text": [
      "[2, 3, 5, 7, 11]\n"
     ]
    }
   ],
   "source": [
    "\n",
    "prime_palindrome = [num for num in prime_numbers if palindrome(num)]\n",
    "print(prime_palindrome)\n"
   ]
  }
 ],
 "metadata": {
  "kernelspec": {
   "display_name": "Python 3 (ipykernel)",
   "language": "python",
   "name": "python3"
  },
  "language_info": {
   "codemirror_mode": {
    "name": "ipython",
    "version": 3
   },
   "file_extension": ".py",
   "mimetype": "text/x-python",
   "name": "python",
   "nbconvert_exporter": "python",
   "pygments_lexer": "ipython3",
   "version": "3.10.8"
  }
 },
 "nbformat": 4,
 "nbformat_minor": 5
}
