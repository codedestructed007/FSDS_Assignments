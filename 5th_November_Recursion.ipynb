{
 "cells": [
  {
   "cell_type": "markdown",
   "id": "c6a592ca-7777-4cfe-a230-0401a64b1fb5",
   "metadata": {},
   "source": [
    "# Recursion questions"
   ]
  },
  {
   "cell_type": "markdown",
   "id": "3a16e890-ef51-44c4-a24f-cab5f1f51410",
   "metadata": {},
   "source": [
    "1. Can you explain the logic and working of the Tower of Hanoi algorithm by writing a Java program? How does the recursion work, and how are the movements of disks between rods accomplished?"
   ]
  },
  {
   "cell_type": "markdown",
   "id": "d5c6f2fc-38e4-42fd-8c4a-e30427fcbe9a",
   "metadata": {},
   "source": [
    "Yes, I can definitly explain you the working of the Tower of Hanoi. But I can not able to code in java as I am asked in this questions..\n",
    "But I can code in python programming language"
   ]
  },
  {
   "cell_type": "markdown",
   "id": "ca419c72-42f1-470d-990d-281af004a983",
   "metadata": {},
   "source": [
    "Overview-\n",
    "You will rarely ended up learning Recursion without solving the popular problem which is the Tower of Hanoi. This problem is totally created to understand the concept of recursion.\n",
    "Considering solving a problem manually can be limited at a particular level.\n",
    "For Finishing it completely we are required a preprogrammed set of instructions which can be repeated the same steps infinite time within couple of seconds.\n",
    "\n",
    "Problem Statement - \n",
    "\n",
    "The Tower of Hanoi problem involves moving a tower of disks from one peg to another, following the rules that only one disk can be moved at a time, and no disk may be placed on top of a smaller disk. \n",
    "We have to calculate the number of steps required to complete the program.\n",
    "\n",
    "Approach [How we can solve it using recursion] - \n",
    "Steps are\n",
    "1. Split total number of discs into two segments\n",
    "1.1 top n-1 \n",
    "1.2 last one bigger disk\n",
    "2. Take out upper n-1 segment of disc and put into the auxiliary tower \n",
    "3. Take out the last bigger disc and put into the final tower \n",
    "4. Again pick the bunch of discs (n-1) and put above of the larger disc\n",
    "5. Put those (n-1) into recursion, and keep going until the base condition is met\n",
    "6. Base condition is when n-1 becomes 1"
   ]
  },
  {
   "cell_type": "markdown",
   "id": "1dee265c-16c2-4914-af86-310cc05b8373",
   "metadata": {},
   "source": [
    "Coding-\n"
   ]
  },
  {
   "cell_type": "code",
   "execution_count": 3,
   "id": "ef2eb75f-363a-4523-b843-e6c1a6078bc5",
   "metadata": {},
   "outputs": [],
   "source": [
    "def tower_of_hanoi(no_of_discs):\n",
    "    \n",
    "    # base condition\n",
    "    if no_of_discs == 1:\n",
    "        return 1    \n",
    "    \n",
    "    # logic  \n",
    "    return tower_of_hanoi(no_of_discs-1) + 1 + tower_of_hanoi(no_of_discs-1)"
   ]
  },
  {
   "cell_type": "code",
   "execution_count": 7,
   "id": "3714cff4-bbfa-4782-a70d-6b37bf31cd41",
   "metadata": {},
   "outputs": [
    {
     "data": {
      "text/plain": [
       "15"
      ]
     },
     "execution_count": 7,
     "metadata": {},
     "output_type": "execute_result"
    }
   ],
   "source": [
    "tower_of_hanoi(4)"
   ]
  },
  {
   "cell_type": "markdown",
   "id": "afbe571e-1a2f-4572-875b-251a710441b3",
   "metadata": {},
   "source": [
    "2. Given two strings word1 and word2, return the minimum number of operations required to convert word1 to word2. Example 1: Input: word1 = \"horse\", word2 = \"ros\" Output: 3 Explanation: horse -> rorse (replace 'h' with 'r') rorse -> rose (remove 'r') rose -> ros (remove 'e')"
   ]
  },
  {
   "cell_type": "code",
   "execution_count": 18,
   "id": "310ee210-9d2e-4434-934d-98f893c49aa9",
   "metadata": {},
   "outputs": [],
   "source": [
    "def minDistance(word1, word2):\n",
    "    m, n = len(word1), len(word2)\n",
    "\n",
    "    # Initialize a 2D array to store the minimum operations\n",
    "    dp = [[0] * (n + 1) for _ in range(m + 1)]\n",
    "\n",
    "    # Base cases: fill in the first row and first column\n",
    "    for i in range(m + 1):\n",
    "        dp[i][0] = i\n",
    "    for j in range(n + 1):\n",
    "        dp[0][j] = j\n",
    "\n",
    "    # Fill in the DP array\n",
    "    for i in range(1, m + 1):\n",
    "        for j in range(1, n + 1):\n",
    "            # If characters match, no additional operation needed\n",
    "            if word1[i - 1] == word2[j - 1]:\n",
    "                dp[i][j] = dp[i - 1][j - 1]\n",
    "            else:\n",
    "                # Minimum of (insert, delete, substitute)\n",
    "                dp[i][j] = min(dp[i - 1][j], dp[i][j - 1], dp[i - 1][j - 1]) + 1\n",
    "\n",
    "    # The final answer is stored in the bottom-right cell\n",
    "    return dp[m][n]\n",
    "\n"
   ]
  },
  {
   "cell_type": "code",
   "execution_count": 19,
   "id": "b96f49af-0f46-40f4-9e59-7abd12a8735a",
   "metadata": {},
   "outputs": [
    {
     "name": "stdout",
     "output_type": "stream",
     "text": [
      "3\n"
     ]
    }
   ],
   "source": [
    "\n",
    "word1 = \"horse\"\n",
    "word2 = \"ros\"\n",
    "result = minDistance(word1, word2)\n",
    "print(result)"
   ]
  },
  {
   "cell_type": "markdown",
   "id": "2a9a9a12-129b-4ede-9495-e895e064b33f",
   "metadata": {},
   "source": [
    "3. Print the max value of the array [ 13, 1, -3, 22, 5]."
   ]
  },
  {
   "cell_type": "code",
   "execution_count": 8,
   "id": "91320b0d-4c29-414e-914e-8b149557def3",
   "metadata": {},
   "outputs": [],
   "source": [
    "def maximum_value(array):\n",
    "    maximum = 0\n",
    "    for i in array:\n",
    "        if i > maximum:\n",
    "            maximum = i\n",
    "    return maximum"
   ]
  },
  {
   "cell_type": "code",
   "execution_count": 9,
   "id": "8eabe458-6e0f-4f33-b077-e10d3c63fd3f",
   "metadata": {},
   "outputs": [
    {
     "data": {
      "text/plain": [
       "22"
      ]
     },
     "execution_count": 9,
     "metadata": {},
     "output_type": "execute_result"
    }
   ],
   "source": [
    "maximum_value([13, 1, -3, 22, 5])"
   ]
  },
  {
   "cell_type": "markdown",
   "id": "5237972b-cfd8-415f-b66e-80e354ab135c",
   "metadata": {},
   "source": [
    "4. Find the sum of the values of the array [92, 23, 15, -20, 10]."
   ]
  },
  {
   "cell_type": "code",
   "execution_count": 13,
   "id": "99a80187-90d2-496f-bf97-5637911e73d5",
   "metadata": {},
   "outputs": [],
   "source": [
    "def sum_of_array(num):\n",
    "    total = 0\n",
    "    for i in num:\n",
    "        total +=i\n",
    "    return total"
   ]
  },
  {
   "cell_type": "code",
   "execution_count": 14,
   "id": "86340eb1-7fd1-48ca-b3d7-ccfa3c90da2c",
   "metadata": {},
   "outputs": [
    {
     "data": {
      "text/plain": [
       "120"
      ]
     },
     "execution_count": 14,
     "metadata": {},
     "output_type": "execute_result"
    }
   ],
   "source": [
    "sum_of_array([92, 23, 15, -20, 10])"
   ]
  },
  {
   "cell_type": "markdown",
   "id": "6ef31a03-0c3a-4f11-a72e-380a6383ae6c",
   "metadata": {},
   "source": [
    "5. Given a number n. Print if it is an armstrong number or not.An armstrong number is a number if the sum of every digit in that number raised to the power of total digits in that number is equal to the number."
   ]
  },
  {
   "cell_type": "code",
   "execution_count": 15,
   "id": "23cd985a-9a6c-4b20-b196-19481d15f6ac",
   "metadata": {},
   "outputs": [],
   "source": [
    "def armstrong_number(num):\n",
    "    string_number = str(num)\n",
    "    total_digits = len(str(num))\n",
    "    result = 0\n",
    "    for i in string_number:\n",
    "        result += int(i) **total_digits\n",
    "    if str(result) == str(num):\n",
    "        return 'Yes An armstrong number'\n",
    "    return 'No not a armstrong number'"
   ]
  },
  {
   "cell_type": "code",
   "execution_count": 16,
   "id": "ad5b250c-7718-4cd0-9427-b95affac90c7",
   "metadata": {},
   "outputs": [
    {
     "data": {
      "text/plain": [
       "'No not a armstrong number'"
      ]
     },
     "execution_count": 16,
     "metadata": {},
     "output_type": "execute_result"
    }
   ],
   "source": [
    "armstrong_number(124)"
   ]
  },
  {
   "cell_type": "code",
   "execution_count": 17,
   "id": "4f92ba23-391b-4b25-9eb2-c0665660bd5c",
   "metadata": {},
   "outputs": [
    {
     "data": {
      "text/plain": [
       "'Yes An armstrong number'"
      ]
     },
     "execution_count": 17,
     "metadata": {},
     "output_type": "execute_result"
    }
   ],
   "source": [
    "armstrong_number(153)"
   ]
  },
  {
   "cell_type": "code",
   "execution_count": null,
   "id": "3318f0c1-4a68-4f87-b0f7-d9161033289c",
   "metadata": {},
   "outputs": [],
   "source": []
  }
 ],
 "metadata": {
  "kernelspec": {
   "display_name": "Python 3 (ipykernel)",
   "language": "python",
   "name": "python3"
  },
  "language_info": {
   "codemirror_mode": {
    "name": "ipython",
    "version": 3
   },
   "file_extension": ".py",
   "mimetype": "text/x-python",
   "name": "python",
   "nbconvert_exporter": "python",
   "pygments_lexer": "ipython3",
   "version": "3.10.8"
  }
 },
 "nbformat": 4,
 "nbformat_minor": 5
}
