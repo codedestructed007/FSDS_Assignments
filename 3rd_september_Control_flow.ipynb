{
 "cells": [
  {
   "cell_type": "markdown",
   "id": "4f4b643a-a6ab-45f6-953e-34e2bd007ca4",
   "metadata": {},
   "source": [
    "# 3rd September\n",
    "# Control flow python "
   ]
  },
  {
   "cell_type": "markdown",
   "id": "81fed383-af8e-4659-b565-57a416b05a6f",
   "metadata": {},
   "source": [
    "## Basic if-Else statements"
   ]
  },
  {
   "cell_type": "markdown",
   "id": "24d8858a-7f22-4b05-b1fe-a3d376ebef3a",
   "metadata": {},
   "source": [
    "1. Write a python program to check if a given number is positive or negative"
   ]
  },
  {
   "cell_type": "code",
   "execution_count": 1,
   "id": "7c57fa0a-257d-42d6-86fc-e37ede722210",
   "metadata": {},
   "outputs": [
    {
     "name": "stdout",
     "output_type": "stream",
     "text": [
      "Positive\n",
      "Negative\n",
      "ZERO\n"
     ]
    }
   ],
   "source": [
    "def check_number(num:int):\n",
    "    if num > 0 :\n",
    "        return 'Positive'\n",
    "    else:\n",
    "        if num < 0:\n",
    "            return 'Negative'\n",
    "        else:\n",
    "            return 'ZERO'\n",
    "print(check_number(23))\n",
    "print(check_number(-12))\n",
    "print(check_number(0))"
   ]
  },
  {
   "cell_type": "markdown",
   "id": "d8d64b6f-f1fe-4832-bc1c-2ea00be6abd7",
   "metadata": {},
   "source": [
    "2. Create a program that determines if a person is eligible to vote based ton their age."
   ]
  },
  {
   "cell_type": "code",
   "execution_count": 2,
   "id": "367d747f-16e3-4def-9601-e73cc03deefe",
   "metadata": {},
   "outputs": [
    {
     "data": {
      "text/plain": [
       "'You are eligible'"
      ]
     },
     "execution_count": 2,
     "metadata": {},
     "output_type": "execute_result"
    }
   ],
   "source": [
    "def check_eligibility(age:int):\n",
    "    if age > 18 :\n",
    "        return 'You are eligible'\n",
    "    else:\n",
    "        return 'You are not eligible'\n",
    "check_eligibility(19)"
   ]
  },
  {
   "cell_type": "markdown",
   "id": "6f5863e3-6a68-413e-a68b-8ceda26b91f6",
   "metadata": {},
   "source": [
    "3. Develop a program to find the maximum of two numbers using if-else statements."
   ]
  },
  {
   "cell_type": "code",
   "execution_count": 3,
   "id": "008a2082-bff7-4856-93b9-a4b4bee5ec43",
   "metadata": {},
   "outputs": [
    {
     "data": {
      "text/plain": [
       "'5235 is greater than 232'"
      ]
     },
     "execution_count": 3,
     "metadata": {},
     "output_type": "execute_result"
    }
   ],
   "source": [
    "def bigger_numer(num1, num2):\n",
    "    if num1 > num2:\n",
    "        return \"{} is greater than {}\".format(num1, num2)\n",
    "    else:\n",
    "        return \"{} is greater than {}\".format(num2, num1)\n",
    "bigger_numer(232,5235)"
   ]
  },
  {
   "cell_type": "markdown",
   "id": "c05a9886-3c0a-42e1-88bb-c004b6b94fee",
   "metadata": {},
   "source": [
    "4. Write a python script to classify a given year as a leap year"
   ]
  },
  {
   "cell_type": "code",
   "execution_count": 4,
   "id": "db4c5f90-6e2b-4144-9b42-ccee8c846c82",
   "metadata": {},
   "outputs": [
    {
     "name": "stdout",
     "output_type": "stream",
     "text": [
      "Leap Year\n",
      "Leap Year\n",
      "Not a Leap Year\n"
     ]
    }
   ],
   "source": [
    "def if_a_leap_year(year:int):\n",
    "    # if not a century then should be divisible by 4\n",
    "    # or if a century then divisible by 400\n",
    "    if (year % 4 == 0 and year % 100 != 0) or (year % 400==0):\n",
    "        return 'Leap Year'\n",
    "    else:\n",
    "        return 'Not a Leap Year'\n",
    "print(if_a_leap_year(1232))\n",
    "print(if_a_leap_year(4040))\n",
    "print(if_a_leap_year(42134))"
   ]
  },
  {
   "cell_type": "markdown",
   "id": "22bc967e-d7ae-4ec9-88a9-428e4752b4d8",
   "metadata": {},
   "source": [
    "5. Create a program that checks whether a character is a vowel or a constonants"
   ]
  },
  {
   "cell_type": "code",
   "execution_count": 5,
   "id": "102bb5a0-4f61-4504-a734-618d3aaaa36d",
   "metadata": {},
   "outputs": [
    {
     "name": "stdout",
     "output_type": "stream",
     "text": [
      "Vowel\n",
      "Consonants\n"
     ]
    }
   ],
   "source": [
    "def vowel_or_consonants(st:str):\n",
    "    if st in list('aeiou'):\n",
    "        return 'Vowel'\n",
    "    else:\n",
    "        return 'Consonants'\n",
    "print(vowel_or_consonants('a'))\n",
    "print(vowel_or_consonants('t'))"
   ]
  },
  {
   "cell_type": "markdown",
   "id": "411c01c8-8cf8-49f7-a320-4522ae94e70a",
   "metadata": {},
   "source": [
    "6. Implement a program to determine whether a given number is even or odd"
   ]
  },
  {
   "cell_type": "code",
   "execution_count": 6,
   "id": "58f393d4-5232-4635-aa5d-a415934a2885",
   "metadata": {},
   "outputs": [
    {
     "name": "stdout",
     "output_type": "stream",
     "text": [
      "Odd\n",
      "Even\n",
      "Odd\n"
     ]
    }
   ],
   "source": [
    "def even_or_odd(num:int):\n",
    "    if num % 2 == 0:\n",
    "        return 'Even'\n",
    "    else:\n",
    "        return 'Odd'\n",
    "print(even_or_odd(421))\n",
    "print(even_or_odd(30))\n",
    "print(even_or_odd(23))"
   ]
  },
  {
   "cell_type": "markdown",
   "id": "00844322-ce77-4c79-9789-a049bd2911db",
   "metadata": {},
   "source": [
    "7. Write a python function to calculate the absolute value of a number without the abs function"
   ]
  },
  {
   "cell_type": "code",
   "execution_count": 7,
   "id": "ed5550b0-2ae2-4aa7-affd-9bb2cea71441",
   "metadata": {},
   "outputs": [
    {
     "data": {
      "text/plain": [
       "234"
      ]
     },
     "execution_count": 7,
     "metadata": {},
     "output_type": "execute_result"
    }
   ],
   "source": [
    "def absolute_(num:int):\n",
    "    return int(str(num)[1:len(str(num))])\n",
    "absolute_(-234)"
   ]
  },
  {
   "cell_type": "markdown",
   "id": "28f34daf-8c68-4a67-bcba-c731e16ffd93",
   "metadata": {},
   "source": [
    "8. Develop a program that determines the largest of three given numbers using if-else statements"
   ]
  },
  {
   "cell_type": "code",
   "execution_count": 8,
   "id": "3146da1a-fc45-4f72-b2d1-59c2c29a2f21",
   "metadata": {},
   "outputs": [
    {
     "name": "stdout",
     "output_type": "stream",
     "text": [
      "54 is the largest\n"
     ]
    }
   ],
   "source": [
    "def largest(num1, num2, num3):\n",
    "    largest_num = None\n",
    "    \n",
    "    if num1 > num2:\n",
    "        if num1 > num3:\n",
    "            largest_num = num1\n",
    "    else:\n",
    "        if num2 > num3:\n",
    "            largest_num = num2\n",
    "\n",
    "    if largest_num is None:\n",
    "        largest_num = num3\n",
    "    \n",
    "    return \"{} is the largest\".format(largest_num)\n",
    "\n",
    "result = largest(23, 4, 54)\n",
    "print(result)\n"
   ]
  },
  {
   "cell_type": "markdown",
   "id": "7b3ff26c-64a3-486a-b931-6f2ca798c48d",
   "metadata": {},
   "source": [
    "9. Create a program that checks if a given string  is a palindrome"
   ]
  },
  {
   "cell_type": "code",
   "execution_count": 9,
   "id": "f3ff95b1-cdfa-4675-952a-1a6562ed3865",
   "metadata": {},
   "outputs": [
    {
     "name": "stdout",
     "output_type": "stream",
     "text": [
      "No It is not a palindrome number\n",
      "Yes it is a palindrome number\n"
     ]
    }
   ],
   "source": [
    "def check_if_palindrome(num:int):\n",
    "    if str(num) == str(num)[::-1]:\n",
    "        return 'Yes it is a palindrome number'\n",
    "    else:\n",
    "        return 'No It is not a palindrome number'\n",
    "print(check_if_palindrome(23343))\n",
    "print(check_if_palindrome(1221))"
   ]
  },
  {
   "cell_type": "markdown",
   "id": "3b97fab4-88fb-4c5f-9a01-825f92eefcc9",
   "metadata": {},
   "source": [
    "10. Write a python program to calculate the grade based on a strudent's score"
   ]
  },
  {
   "cell_type": "code",
   "execution_count": 10,
   "id": "4705f73a-701b-4a18-a2ba-d90f1a2c34db",
   "metadata": {},
   "outputs": [
    {
     "name": "stdout",
     "output_type": "stream",
     "text": [
      "C\n",
      "B\n",
      "Fail\n",
      "A\n"
     ]
    }
   ],
   "source": [
    "def grade(num:int):\n",
    "    if num < 40:\n",
    "        return 'Fail'\n",
    "    elif 40 <= num < 60 :\n",
    "        return 'C'\n",
    "    elif 60 <= num < 80:\n",
    "        return 'B'\n",
    "    elif 80 <=num <100:\n",
    "        return 'A'\n",
    "print(grade(40))\n",
    "print(grade(61))\n",
    "print(grade(35))\n",
    "print(grade(91))"
   ]
  },
  {
   "cell_type": "markdown",
   "id": "53dadc39-24c7-4ce8-8c43-ff751bffb534",
   "metadata": {},
   "source": [
    "## Nested if else statements"
   ]
  },
  {
   "cell_type": "markdown",
   "id": "41340d20-9bda-4f34-a0ac-3284c796246e",
   "metadata": {},
   "source": [
    "11. Write a program to find the largest among three numbers using nested if-else statements"
   ]
  },
  {
   "cell_type": "code",
   "execution_count": 11,
   "id": "c9b67454-4c16-471d-af6a-d0c2de51caee",
   "metadata": {},
   "outputs": [
    {
     "name": "stdout",
     "output_type": "stream",
     "text": [
      "54 is the largest\n"
     ]
    }
   ],
   "source": [
    "def largest(num1, num2, num3):\n",
    "    largest_num = None\n",
    "    \n",
    "    if num1 > num2:\n",
    "        if num1 > num3:\n",
    "            largest_num = num1\n",
    "    else:\n",
    "        if num2 > num3:\n",
    "            largest_num = num2\n",
    "\n",
    "    if largest_num is None:\n",
    "        largest_num = num3\n",
    "    \n",
    "    return \"{} is the largest\".format(largest_num)\n",
    "\n",
    "result = largest(23, 4, 54)\n",
    "print(result)\n"
   ]
  },
  {
   "cell_type": "markdown",
   "id": "74f0137b-d9fc-4279-81cc-569e48d5c58c",
   "metadata": {},
   "source": [
    "12. Implement a program to determine if a triangle is equilateral, isosceles or scalene triangle"
   ]
  },
  {
   "cell_type": "code",
   "execution_count": 12,
   "id": "a3440c99-a50a-4dea-af1f-49add08e35db",
   "metadata": {},
   "outputs": [
    {
     "name": "stdout",
     "output_type": "stream",
     "text": [
      "Isosceles\n",
      "Scalene\n",
      "Equilateral\n"
     ]
    }
   ],
   "source": [
    "def type_of_triangle(side1,side2,side3):\n",
    "    if side1 == side2 == side3 :\n",
    "        return 'Equilateral'\n",
    "    else:\n",
    "        if side1 == side2 or side1 == side3 or side2 == side3:\n",
    "            return 'Isosceles'\n",
    "        else:\n",
    "            return 'Scalene'\n",
    "print(type_of_triangle(34,654,34))\n",
    "print(type_of_triangle(12,43,87))\n",
    "print(type_of_triangle(12,12,12))"
   ]
  },
  {
   "cell_type": "markdown",
   "id": "8b91fc74-f17b-430d-9ede-ae473a015fdd",
   "metadata": {},
   "source": [
    "13. Develop a program that checks if a year is a leap year and also if it is a century year."
   ]
  },
  {
   "cell_type": "code",
   "execution_count": 13,
   "id": "cf811011-9e69-4f9e-b2cb-e8d4368cb1ab",
   "metadata": {},
   "outputs": [
    {
     "name": "stdout",
     "output_type": "stream",
     "text": [
      "Yes, 400 is a leap as well as century year\n",
      "Yes, 800 is a leap as well as century year\n"
     ]
    }
   ],
   "source": [
    "def leap_or_century(year:int):\n",
    "    if (year % 400==0 ):\n",
    "        return 'Yes, {} is a leap as well as century year'.format(year)\n",
    "print(leap_or_century(400))\n",
    "print(leap_or_century(800))"
   ]
  },
  {
   "cell_type": "markdown",
   "id": "4c735704-2551-4ff5-80e7-168618a4283e",
   "metadata": {},
   "source": [
    "14. Write a python script to determine if a number is positive, negative or zero"
   ]
  },
  {
   "cell_type": "code",
   "execution_count": 14,
   "id": "84c41a1e-3614-4f78-96e2-8f6a8e34b8d3",
   "metadata": {},
   "outputs": [
    {
     "name": "stdout",
     "output_type": "stream",
     "text": [
      "Positive\n",
      "Negative\n",
      "ZERO\n"
     ]
    }
   ],
   "source": [
    "def check_number(num:int):\n",
    "    if num > 0 :\n",
    "        return 'Positive'\n",
    "    else:\n",
    "        if num < 0:\n",
    "            return 'Negative'\n",
    "        else:\n",
    "            return 'ZERO'\n",
    "print(check_number(23))\n",
    "print(check_number(-12))\n",
    "print(check_number(0))"
   ]
  },
  {
   "cell_type": "markdown",
   "id": "0a398d5b-f4d7-4105-9103-323289457f73",
   "metadata": {},
   "source": [
    "15. Create a program to check if a person is a teenager(b/w 13 and 19 years old)"
   ]
  },
  {
   "cell_type": "code",
   "execution_count": 15,
   "id": "3cbaf600-64a9-4f96-bc5c-ea96ae0ecdf5",
   "metadata": {},
   "outputs": [
    {
     "name": "stdout",
     "output_type": "stream",
     "text": [
      "You are not a teenager\n",
      "Your are in your teenage, go play ludo\n"
     ]
    }
   ],
   "source": [
    "def check_teenage(age:int):\n",
    "    if 13 < age < 19:\n",
    "        return 'Your are in your teenage, go play ludo'\n",
    "    else:\n",
    "        return 'You are not a teenager'\n",
    "print(check_teenage(23))\n",
    "print(check_teenage(18))"
   ]
  },
  {
   "cell_type": "markdown",
   "id": "6b5e073f-6e7c-4db4-9c4f-de99b82cf5a8",
   "metadata": {},
   "source": [
    "16. Develop a program that determines the type of angle based on its measures (acute , obtuse and right)"
   ]
  },
  {
   "cell_type": "code",
   "execution_count": 16,
   "id": "c4e88a68-f6fb-4240-929c-f3e481782c07",
   "metadata": {},
   "outputs": [
    {
     "name": "stdout",
     "output_type": "stream",
     "text": [
      "Acute\n",
      "Right\n"
     ]
    }
   ],
   "source": [
    "def angle_type(angle:float):\n",
    "    if angle > 90 :\n",
    "        return 'Obtuse'\n",
    "    else:\n",
    "        if angle < 90:\n",
    "            return 'Acute'\n",
    "        else:\n",
    "            return 'Right'\n",
    "        \n",
    "print(angle_type(89))\n",
    "print(angle_type(90))\n"
   ]
  },
  {
   "cell_type": "markdown",
   "id": "1b40550c-e676-49d0-8786-794b063819d1",
   "metadata": {},
   "source": [
    "17. Write a python program to calculate the roots of a quadratic equation"
   ]
  },
  {
   "cell_type": "code",
   "execution_count": 17,
   "id": "5a5c7098-c102-4f58-998e-106f45df7beb",
   "metadata": {},
   "outputs": [
    {
     "name": "stdout",
     "output_type": "stream",
     "text": [
      "(-3.5, -6.5)\n",
      "(-4.5, -5.5)\n"
     ]
    }
   ],
   "source": [
    "# input format ax^2 + bx + c == 0 \n",
    "# here coefficient of x^2 , x  and contant term is a, b and c resp\n",
    "\n",
    "def roots_of_quadratice(a , b , c):\n",
    "    if (b**2 - 4 * a * c) < 0:\n",
    "        return 'Roots are imaginary'\n",
    "    else:\n",
    "        return -b + ((b**2 - 4 * a * c) ** 0.5) / 2 * a , -b - ((b**2 - 4 * a * c) ** 0.5) / 2 * a \n",
    "print(roots_of_quadratice(3,5,2))\n",
    "print(roots_of_quadratice(1,5,6))"
   ]
  },
  {
   "cell_type": "markdown",
   "id": "47574b60-37a1-4cc3-afda-477b62ede9e4",
   "metadata": {},
   "source": [
    "18. Implement a program to determine the day of the week based on a user-provide input(1 for monday , 2 for tuesday)"
   ]
  },
  {
   "cell_type": "code",
   "execution_count": 18,
   "id": "d1f7b249-1054-4bd2-b496-c567e110c205",
   "metadata": {},
   "outputs": [
    {
     "name": "stdout",
     "output_type": "stream",
     "text": [
      "Thru\n",
      "Fri\n"
     ]
    }
   ],
   "source": [
    "def day_of_week(num:int):\n",
    "    week_day = {1 : 'Mon',2: 'Tue',3: 'Wed',4: 'Thru',5: 'Fri',6:'Sat',7:'Sun'}\n",
    "    if num > 7:\n",
    "        num = num //7\n",
    "        return week_day[num]\n",
    "    else:\n",
    "        return week_day[num]\n",
    "\n",
    "print(day_of_week(4))\n",
    "print(day_of_week((35)))"
   ]
  },
  {
   "cell_type": "markdown",
   "id": "b0fc33c2-28e6-4355-a6cc-2e0cdb814eb2",
   "metadata": {},
   "source": [
    "19. Create a program that determines if a year is a leap year andalso if it is evenly divisible by 400"
   ]
  },
  {
   "cell_type": "code",
   "execution_count": 19,
   "id": "e2389572-02cf-400a-88db-d4f7d6c9d8d4",
   "metadata": {},
   "outputs": [
    {
     "name": "stdout",
     "output_type": "stream",
     "text": [
      "Yes, 400 is a leap as well as divisible by 400\n",
      "Yes, 800 is a leap as well as divisible by 400\n"
     ]
    }
   ],
   "source": [
    "def leap_or_century(year:int):\n",
    "    if (year % 400==0 ):\n",
    "        return 'Yes, {} is a leap as well as divisible by 400'.format(year)\n",
    "print(leap_or_century(400))\n",
    "print(leap_or_century(800))"
   ]
  },
  {
   "cell_type": "markdown",
   "id": "12ef2272-1095-4e95-bdb9-2f378767b04f",
   "metadata": {},
   "source": [
    "20. Develop a program that checks if given number is prime "
   ]
  },
  {
   "cell_type": "code",
   "execution_count": 20,
   "id": "ec999873-762a-44e3-8c62-c60919465a53",
   "metadata": {},
   "outputs": [
    {
     "name": "stdout",
     "output_type": "stream",
     "text": [
      "Prime\n",
      "Prime\n",
      "Prime\n",
      "Not Prime\n"
     ]
    }
   ],
   "source": [
    "def is_prime(num):\n",
    "    for i in range(2,num):\n",
    "        if num % i == 0:\n",
    "            return 'Not Prime'\n",
    "    return 'Prime'\n",
    "print(is_prime(7))\n",
    "print(is_prime(11))\n",
    "print(is_prime(19))\n",
    "print(is_prime(49))"
   ]
  },
  {
   "cell_type": "markdown",
   "id": "607b3b41-494d-4740-98e8-cf4f2eacf621",
   "metadata": {},
   "source": [
    "# Elif statements"
   ]
  },
  {
   "cell_type": "markdown",
   "id": "6c6d258f-f0c1-40ec-bd62-0437de874395",
   "metadata": {},
   "source": [
    "21. Write a python program to assign grades based on different ranges of scores using elif"
   ]
  },
  {
   "cell_type": "code",
   "execution_count": 21,
   "id": "3eff7940-e88b-420e-9f7e-7642464c9e6b",
   "metadata": {},
   "outputs": [
    {
     "name": "stdout",
     "output_type": "stream",
     "text": [
      "C\n",
      "B\n",
      "Fail\n",
      "A\n"
     ]
    }
   ],
   "source": [
    "def scoring(num:int):\n",
    "    if num < 40:\n",
    "        return 'Fail'\n",
    "    elif 40 <= num < 60 :\n",
    "        return 'C'\n",
    "    elif 60 <= num < 80:\n",
    "        return 'B'\n",
    "    elif 80 <=num <100:\n",
    "        return 'A'\n",
    "print(grade(40))\n",
    "print(grade(61))\n",
    "print(grade(35))\n",
    "print(grade(91))"
   ]
  },
  {
   "cell_type": "markdown",
   "id": "c6ffb78d-a82c-4d23-b869-43090816de93",
   "metadata": {},
   "source": [
    "22. Implement a program to determine the type of a triangle based on its angles"
   ]
  },
  {
   "cell_type": "code",
   "execution_count": 22,
   "id": "d03cce3b-d441-487e-b39b-f4436c61f0c6",
   "metadata": {},
   "outputs": [
    {
     "name": "stdout",
     "output_type": "stream",
     "text": [
      "Obtuse angled Triangle\n",
      "Right angled Triangle\n"
     ]
    }
   ],
   "source": [
    "def triangle_type(angle1, angle2, angle3):\n",
    "    if angle1  == 90 or angle2 == 90 or angle3 == 90:\n",
    "        return 'Right angled Triangle'\n",
    "    elif angle1 < 90 and angle2 < 90 and angle3 < 90 :\n",
    "        return 'Acute angled Triangle'\n",
    "    else:\n",
    "        return 'Obtuse angled Triangle'\n",
    "    \n",
    "print(triangle_type(35 , 35, 110))\n",
    "print(triangle_type(20, 90 , 70))"
   ]
  },
  {
   "cell_type": "markdown",
   "id": "dc255c16-146c-4222-8736-a78b7970b59f",
   "metadata": {},
   "source": [
    "23. Develop a program to categorize a given person's BMI into underweight, normal, elif statements. "
   ]
  },
  {
   "cell_type": "code",
   "execution_count": 23,
   "id": "e5dc2aee-b147-4806-82c9-fc59b5dc051f",
   "metadata": {},
   "outputs": [
    {
     "name": "stdout",
     "output_type": "stream",
     "text": [
      "Normal Weight\n",
      "Overweight\n",
      "Underweight\n"
     ]
    }
   ],
   "source": [
    "def Bmi_category(bmi:int):\n",
    "    if bmi < 18.5 :\n",
    "        return 'Underweight'\n",
    "    elif  18.5 <= bmi <= 24.9:\n",
    "        return 'Normal Weight'\n",
    "    else:\n",
    "        return 'Overweight'\n",
    "    \n",
    "print(Bmi_category(20))\n",
    "print(Bmi_category(26))\n",
    "print(Bmi_category(17))\n"
   ]
  },
  {
   "cell_type": "markdown",
   "id": "8135b0aa-afae-49f3-907e-8377107312aa",
   "metadata": {},
   "source": [
    "24. Create a program that determines whether a given number is positive , negative or zero using elif "
   ]
  },
  {
   "cell_type": "code",
   "execution_count": 24,
   "id": "d4c483a3-1bb1-4bba-8117-2e8d97910f58",
   "metadata": {},
   "outputs": [
    {
     "name": "stdout",
     "output_type": "stream",
     "text": [
      "Positive\n",
      "Negative\n",
      "ZERO\n"
     ]
    }
   ],
   "source": [
    "def check_number(num:int):\n",
    "    if num > 0 :\n",
    "        return 'Positive'\n",
    "    elif  num < 0:               \n",
    "            return 'Negative'\n",
    "    else:               \n",
    "        return 'ZERO'\n",
    "print(check_number(23))\n",
    "print(check_number(-12))\n",
    "print(check_number(0))"
   ]
  },
  {
   "cell_type": "markdown",
   "id": "f713799a-7fed-4cf7-94ec-c49f9b5a8e44",
   "metadata": {},
   "source": [
    "25. Write a python script to determine the type of a character(upper, lower, ) using elif"
   ]
  },
  {
   "cell_type": "code",
   "execution_count": 25,
   "id": "2b331975-5550-4c3f-913b-7df79724b9df",
   "metadata": {},
   "outputs": [
    {
     "name": "stdout",
     "output_type": "stream",
     "text": [
      "Lowercased Word\n",
      "Uppercased word\n"
     ]
    }
   ],
   "source": [
    "def upper_or_lower(st:str):\n",
    "    if st.isupper():\n",
    "        return 'Uppercased word'\n",
    "    elif st.islower():\n",
    "        return 'Lowercased Word'\n",
    "print(upper_or_lower('satyam'))\n",
    "print(upper_or_lower('SATYAM'))"
   ]
  },
  {
   "cell_type": "markdown",
   "id": "81546e59-5a2f-4812-b984-45a5bb106c09",
   "metadata": {},
   "source": [
    "26. Implement a program to calculate the discounted price based on different purchase"
   ]
  },
  {
   "cell_type": "code",
   "execution_count": 26,
   "id": "fe10b57b-9c1f-4650-a00b-3f185600bd99",
   "metadata": {},
   "outputs": [
    {
     "name": "stdout",
     "output_type": "stream",
     "text": [
      "Yay, you got rs 20 off\n",
      "Sorry, No discount\n",
      "Yay , you got rs50 off\n"
     ]
    }
   ],
   "source": [
    "# put cost of the object\n",
    "## will return the discount offered on that product\n",
    "def discount_machine(cost:int):\n",
    "    if cost < 150 :\n",
    "        return 'Sorry, No discount'\n",
    "    elif  150 < cost <= 200 :\n",
    "        return 'Yay, you got rs 20 off'\n",
    "    elif 200 < cost  :\n",
    "        return 'Yay , you got rs50 off'\n",
    "\n",
    "print(discount_machine(200))\n",
    "print(discount_machine(140))\n",
    "print(discount_machine(580))"
   ]
  },
  {
   "cell_type": "markdown",
   "id": "bf29c47e-add8-4e05-81be-06c2b3854965",
   "metadata": {},
   "source": [
    "27. Develop a program to calculate the eliectricity bill based on different consumption"
   ]
  },
  {
   "cell_type": "code",
   "execution_count": 27,
   "id": "1630d273-d26e-43ad-92dd-a090033b1af1",
   "metadata": {},
   "outputs": [
    {
     "name": "stdout",
     "output_type": "stream",
     "text": [
      "Your stae implemented XYZ is 5000\n",
      " Your state implemented XYZ is 1400\n"
     ]
    }
   ],
   "source": [
    "def electricity_bill(units:int):\n",
    "    if 30 < units < 50 :\n",
    "        return ' Your state implemented XYZ is 1400'\n",
    "    elif 50 <= units <=70 :\n",
    "        return 'YOur state implemented XYZ is 2000'\n",
    "    elif units > 100 :\n",
    "        return 'Your stae implemented XYZ is 5000'\n",
    "print(electricity_bill(300))\n",
    "print(electricity_bill(40))\n",
    "    "
   ]
  },
  {
   "cell_type": "markdown",
   "id": "3a96c62b-ac98-4211-91e8-d48b7962af18",
   "metadata": {},
   "source": [
    "28. Create a program to determine the type of quadrilateral based on its angles and sides using if elif"
   ]
  },
  {
   "cell_type": "code",
   "execution_count": 28,
   "id": "33a2a6ce-1c42-4c94-a986-f358b3916188",
   "metadata": {},
   "outputs": [
    {
     "name": "stdout",
     "output_type": "stream",
     "text": [
      "The quadrilateral is a Square\n"
     ]
    }
   ],
   "source": [
    "def determine_quadrilateral_type(angle1, angle2, angle3, angle4, side1, side2, side3, side4):\n",
    "    if angle1 == angle2 == angle3 == angle4 == 90:\n",
    "        if side1 == side2 == side3 == side4:\n",
    "            return \"Square\"\n",
    "        else:\n",
    "            return \"Rectangle\"\n",
    "    elif angle1 == angle2 == angle3 == angle4:\n",
    "        return \"Rhombus\"\n",
    "    elif angle1 == angle3 and angle2 == angle4:\n",
    "        if side1 == side3 and side2 == side4:\n",
    "            return \"Parallelogram\"\n",
    "        else:\n",
    "            return \"Trapezoid\"\n",
    "    else:\n",
    "        return \"Quadrilateral (Unknown Type)\"\n",
    "\n",
    "# Example usage:\n",
    "angle1 = 90\n",
    "angle2 = 90\n",
    "angle3 = 90\n",
    "angle4 = 90\n",
    "side1 = 5\n",
    "side2 = 5\n",
    "side3 = 5\n",
    "side4 = 5\n",
    "\n",
    "quadrilateral_type = determine_quadrilateral_type(angle1, angle2, angle3, angle4, side1, side2, side3, side4)\n",
    "print(\"The quadrilateral is a\", quadrilateral_type)\n"
   ]
  },
  {
   "cell_type": "markdown",
   "id": "35fd8209-6e26-4f3e-b245-00d94e7e1f68",
   "metadata": {},
   "source": [
    "29. Write a python script to determine a season based on a user-provided month using elif statements"
   ]
  },
  {
   "cell_type": "code",
   "execution_count": 29,
   "id": "28dc39c1-8caa-4688-8780-2d177b2ea4c6",
   "metadata": {},
   "outputs": [
    {
     "name": "stdout",
     "output_type": "stream",
     "text": [
      "The season for March is Spring.\n"
     ]
    }
   ],
   "source": [
    "def determine_season(month):\n",
    "    # Convert the month to lowercase to make it case-insensitive\n",
    "    month = month.lower()\n",
    "\n",
    "    # Determine the season based on the month\n",
    "    if month in [\"december\", \"january\", \"february\"]:\n",
    "        return \"Winter\"\n",
    "    elif month in [\"march\", \"april\", \"may\"]:\n",
    "        return \"Spring\"\n",
    "    elif month in [\"june\", \"july\", \"august\"]:\n",
    "        return \"Summer\"\n",
    "    elif month in [\"september\", \"october\", \"november\"]:\n",
    "        return \"Fall\"\n",
    "    else:\n",
    "        return \"Unknown\"\n",
    "\n",
    "# Example usage:\n",
    "input_month = \"March\"  # Replace with the month you want to check\n",
    "season = determine_season(input_month)\n",
    "print(f\"The season for {input_month} is {season}.\")\n"
   ]
  },
  {
   "cell_type": "markdown",
   "id": "0c2af7de-c31a-4247-bfd7-7bcbd96d9e93",
   "metadata": {},
   "source": [
    "30. Implement a program to determine the type of year(leap or common) and months (30 or 31 ) using elif statements"
   ]
  },
  {
   "cell_type": "code",
   "execution_count": 30,
   "id": "49976136-e2a7-434b-a152-6b3357350d57",
   "metadata": {},
   "outputs": [
    {
     "name": "stdout",
     "output_type": "stream",
     "text": [
      "2023 is a Common Year, and the month of 7 has 31 days.\n"
     ]
    }
   ],
   "source": [
    "def determine_year_month_type(year, month):\n",
    "    # Check if it's a leap year\n",
    "    if (year % 4 == 0 and year % 100 != 0) or (year % 400 == 0):\n",
    "        is_leap_year = True\n",
    "    else:\n",
    "        is_leap_year = False\n",
    "\n",
    "    # Determine the number of days in the month\n",
    "    if month == 2:\n",
    "        if is_leap_year:\n",
    "            days_in_month = 29\n",
    "        else:\n",
    "            days_in_month = 28\n",
    "    elif month in [4, 6, 9, 11]:\n",
    "        days_in_month = 30\n",
    "    else:\n",
    "        days_in_month = 31\n",
    "\n",
    "    # Determine and return the type of year and the number of days in the month\n",
    "    if is_leap_year:\n",
    "        year_type = \"Leap Year\"\n",
    "    else:\n",
    "        year_type = \"Common Year\"\n",
    "\n",
    "    return year_type, days_in_month\n",
    "\n",
    "# Example usage:\n",
    "year = 2023  # Replace with the year you want to check\n",
    "month = 7    # Replace with the month you want to check\n",
    "\n",
    "year_type, days_in_month = determine_year_month_type(year, month)\n",
    "print(f\"{year} is a {year_type}, and the month of {month} has {days_in_month} days.\")\n"
   ]
  },
  {
   "cell_type": "markdown",
   "id": "6b010465-3426-44ff-8aae-72c19e65ad42",
   "metadata": {},
   "source": [
    "# Basic level"
   ]
  },
  {
   "cell_type": "markdown",
   "id": "34c4b984-d16a-46fe-864f-364a2025d036",
   "metadata": {},
   "source": [
    "1. Write a Python program that checks if a given number is positive, negative, or zero."
   ]
  },
  {
   "cell_type": "code",
   "execution_count": 31,
   "id": "07296049-a69e-4d4b-a95a-b1f57d1a67c9",
   "metadata": {},
   "outputs": [
    {
     "name": "stdout",
     "output_type": "stream",
     "text": [
      "Positive\n",
      "Negative\n",
      "ZERO\n"
     ]
    }
   ],
   "source": [
    "def check_number(num:int):\n",
    "    if num > 0 :\n",
    "        return 'Positive'\n",
    "    elif  num < 0:               \n",
    "            return 'Negative'\n",
    "    else:               \n",
    "        return 'ZERO'\n",
    "print(check_number(23))\n",
    "print(check_number(-12))\n",
    "print(check_number(0))"
   ]
  },
  {
   "cell_type": "markdown",
   "id": "c31eca10-24e4-4701-bcb4-253ad115c413",
   "metadata": {},
   "source": [
    "2. Create a program to determine if a person is eligible to vote based on their age."
   ]
  },
  {
   "cell_type": "code",
   "execution_count": 32,
   "id": "2db10f09-1b7f-4de0-996e-ed69d110f5ac",
   "metadata": {},
   "outputs": [
    {
     "data": {
      "text/plain": [
       "'You are eligible'"
      ]
     },
     "execution_count": 32,
     "metadata": {},
     "output_type": "execute_result"
    }
   ],
   "source": [
    "def check_eligibility(age:int):\n",
    "    if age > 18 :\n",
    "        return 'You are eligible'\n",
    "    else:\n",
    "        return 'You are not eligible'\n",
    "check_eligibility(19)"
   ]
  },
  {
   "cell_type": "markdown",
   "id": "a49dab98-69bb-4ca3-b010-ac3c2ffb105b",
   "metadata": {},
   "source": [
    "3. Write a program to find the maximum of two given numbers using conditional statements."
   ]
  },
  {
   "cell_type": "code",
   "execution_count": 33,
   "id": "c6388093-658d-4c26-8ece-12cdae0776a6",
   "metadata": {},
   "outputs": [
    {
     "data": {
      "text/plain": [
       "'5235 is greater than 232'"
      ]
     },
     "execution_count": 33,
     "metadata": {},
     "output_type": "execute_result"
    }
   ],
   "source": [
    "def bigger_numer(num1, num2):\n",
    "    if num1 > num2:\n",
    "        return \"{} is greater than {}\".format(num1, num2)\n",
    "    else:\n",
    "        return \"{} is greater than {}\".format(num2, num1)\n",
    "bigger_numer(232,5235)"
   ]
  },
  {
   "cell_type": "markdown",
   "id": "42054e69-fc3e-4941-a36c-3080dd75db5c",
   "metadata": {},
   "source": [
    "4. Develop a program that calculates the grade of a student based on their exam score."
   ]
  },
  {
   "cell_type": "code",
   "execution_count": 34,
   "id": "2294f8be-135c-41dd-90fd-10d90dc198f9",
   "metadata": {},
   "outputs": [
    {
     "name": "stdout",
     "output_type": "stream",
     "text": [
      "C\n",
      "B\n",
      "Fail\n",
      "A\n"
     ]
    }
   ],
   "source": [
    "def grade(num:int):\n",
    "    if num < 40:\n",
    "        return 'Fail'\n",
    "    elif 40 <= num < 60 :\n",
    "        return 'C'\n",
    "    elif 60 <= num < 80:\n",
    "        return 'B'\n",
    "    elif 80 <=num <100:\n",
    "        return 'A'\n",
    "print(grade(40))\n",
    "print(grade(61))\n",
    "print(grade(35))\n",
    "print(grade(91))"
   ]
  },
  {
   "cell_type": "markdown",
   "id": "e4951f45-279f-4592-b66a-2788a92a7b29",
   "metadata": {},
   "source": [
    "5. Create a program that checks if a year is a leap year or not."
   ]
  },
  {
   "cell_type": "code",
   "execution_count": 35,
   "id": "f75b331f-9fbb-424b-b672-98ae7b261daa",
   "metadata": {},
   "outputs": [
    {
     "name": "stdout",
     "output_type": "stream",
     "text": [
      "Leap Year\n",
      "Leap Year\n",
      "Not a Leap Year\n"
     ]
    }
   ],
   "source": [
    "def if_a_leap_year(year:int):\n",
    "    # if not a century then should be divisible by 4\n",
    "    # or if a century then divisible by 400\n",
    "    if (year % 4 == 0 and year % 100 != 0) or (year % 400==0):\n",
    "        return 'Leap Year'\n",
    "    else:\n",
    "        return 'Not a Leap Year'\n",
    "print(if_a_leap_year(1232))\n",
    "print(if_a_leap_year(4040))\n",
    "print(if_a_leap_year(42134))"
   ]
  },
  {
   "cell_type": "markdown",
   "id": "203de368-cb8f-40de-9787-320df39beea3",
   "metadata": {},
   "source": [
    "6. Write a program to classify a triangle based on its sides' lengths.\n"
   ]
  },
  {
   "cell_type": "code",
   "execution_count": 36,
   "id": "a2a58b0a-f032-4100-8762-e9a8dff07e06",
   "metadata": {},
   "outputs": [
    {
     "name": "stdout",
     "output_type": "stream",
     "text": [
      "Isosceles\n",
      "Scalene\n",
      "Equilateral\n"
     ]
    }
   ],
   "source": [
    "def type_of_triangle(side1,side2,side3):\n",
    "    if side1 == side2 == side3 :\n",
    "        return 'Equilateral'\n",
    "    else:\n",
    "        if side1 == side2 or side1 == side3 or side2 == side3:\n",
    "            return 'Isosceles'\n",
    "        else:\n",
    "            return 'Scalene'\n",
    "print(type_of_triangle(34,654,34))\n",
    "print(type_of_triangle(12,43,87))\n",
    "print(type_of_triangle(12,12,12))"
   ]
  },
  {
   "cell_type": "markdown",
   "id": "d17229fa-aa90-4abf-bbde-2df78cae1593",
   "metadata": {},
   "source": [
    "7. Build a program that determines the largest of three given numbers."
   ]
  },
  {
   "cell_type": "code",
   "execution_count": 37,
   "id": "f856721f-5e72-45bb-8ad7-4d0ba36adb7f",
   "metadata": {},
   "outputs": [
    {
     "name": "stdout",
     "output_type": "stream",
     "text": [
      "54 is the largest\n"
     ]
    }
   ],
   "source": [
    "def largest(num1, num2, num3):\n",
    "    largest_num = None\n",
    "    \n",
    "    if num1 > num2:\n",
    "        if num1 > num3:\n",
    "            largest_num = num1\n",
    "    else:\n",
    "        if num2 > num3:\n",
    "            largest_num = num2\n",
    "\n",
    "    if largest_num is None:\n",
    "        largest_num = num3\n",
    "    \n",
    "    return \"{} is the largest\".format(largest_num)\n",
    "\n",
    "result = largest(23, 4, 54)\n",
    "print(result)"
   ]
  },
  {
   "cell_type": "markdown",
   "id": "cd5cd6fd-5fb4-4df0-adcc-094f93219b63",
   "metadata": {},
   "source": [
    "8. Develop a program that checks whether a character is a vowel or a consonant."
   ]
  },
  {
   "cell_type": "code",
   "execution_count": 38,
   "id": "1007a79b-7ff5-4d0e-a254-2cc7a5bc0a9f",
   "metadata": {},
   "outputs": [
    {
     "name": "stdout",
     "output_type": "stream",
     "text": [
      "Vowel\n",
      "Consonants\n"
     ]
    }
   ],
   "source": [
    "def vowel_or_consonants(st:str):\n",
    "    if st in list('aeiou'):\n",
    "        return 'Vowel'\n",
    "    else:\n",
    "        return 'Consonants'\n",
    "print(vowel_or_consonants('a'))\n",
    "print(vowel_or_consonants('t'))"
   ]
  },
  {
   "cell_type": "markdown",
   "id": "5a131ed1-c89e-4f11-837e-98a514c11427",
   "metadata": {},
   "source": [
    "9. Create a program to calculate the total cost of a shopping cart based on discounts."
   ]
  },
  {
   "cell_type": "code",
   "execution_count": 39,
   "id": "4485148d-c36c-4976-a141-8271888d0fcd",
   "metadata": {},
   "outputs": [
    {
     "name": "stdout",
     "output_type": "stream",
     "text": [
      "Yay, you got rs 20 off\n",
      "Sorry, No discount\n",
      "Yay , you got rs50 off\n"
     ]
    }
   ],
   "source": [
    "# put cost of the object\n",
    "## will return the discount offered on that product\n",
    "def discount_machine(cost:int):\n",
    "    if cost < 150 :\n",
    "        return 'Sorry, No discount'\n",
    "    elif  150 < cost <= 200 :\n",
    "        return 'Yay, you got rs 20 off'\n",
    "    elif 200 < cost  :\n",
    "        return 'Yay , you got rs50 off'\n",
    "\n",
    "print(discount_machine(200))\n",
    "print(discount_machine(140))\n",
    "print(discount_machine(580))"
   ]
  },
  {
   "cell_type": "markdown",
   "id": "a4862721-05b4-474f-8af2-fa2b3f903a61",
   "metadata": {},
   "source": [
    "10. Write a program that checks if a given number is even or odd."
   ]
  },
  {
   "cell_type": "code",
   "execution_count": 40,
   "id": "be4e1c64-fd6c-43dc-a2ed-5c0d2a4e809b",
   "metadata": {},
   "outputs": [
    {
     "name": "stdout",
     "output_type": "stream",
     "text": [
      "Odd\n",
      "Even\n",
      "Odd\n"
     ]
    }
   ],
   "source": [
    "def even_or_odd(num:int):\n",
    "    if num % 2 == 0:\n",
    "        return 'Even'\n",
    "    else:\n",
    "        return 'Odd'\n",
    "print(even_or_odd(421))\n",
    "print(even_or_odd(30))\n",
    "print(even_or_odd(23))"
   ]
  },
  {
   "cell_type": "markdown",
   "id": "1dfd59e5-23cd-4fad-ae30-2b48e344790e",
   "metadata": {},
   "source": [
    "# Intermediate level:"
   ]
  },
  {
   "cell_type": "markdown",
   "id": "50c4e02b-5f71-4289-b8b5-91687959a386",
   "metadata": {},
   "source": [
    "11. Write a program that calculates the roots of a quadratic equation ."
   ]
  },
  {
   "cell_type": "code",
   "execution_count": 41,
   "id": "8c061936-1b05-4ed7-9c53-007ea754cbf5",
   "metadata": {},
   "outputs": [
    {
     "name": "stdout",
     "output_type": "stream",
     "text": [
      "(-3.5, -6.5)\n",
      "(-4.5, -5.5)\n"
     ]
    }
   ],
   "source": [
    "# input format ax^2 + bx + c == 0 \n",
    "# here coefficient of x^2 , x  and contant term is a, b and c resp\n",
    "\n",
    "def roots_of_quadratice(a , b , c):\n",
    "    if (b**2 - 4 * a * c) < 0:\n",
    "        return 'Roots are imaginary'\n",
    "    else:\n",
    "        return -b + ((b**2 - 4 * a * c) ** 0.5) / 2 * a , -b - ((b**2 - 4 * a * c) ** 0.5) / 2 * a \n",
    "print(roots_of_quadratice(3,5,2))\n",
    "print(roots_of_quadratice(1,5,6))"
   ]
  },
  {
   "cell_type": "markdown",
   "id": "854b8642-e087-437d-806f-50007994b604",
   "metadata": {},
   "source": [
    "12. Create a program that determines the day of the week based on the day number"
   ]
  },
  {
   "cell_type": "code",
   "execution_count": 42,
   "id": "7bf41c3c-3ba0-45dd-bdda-753772557aad",
   "metadata": {},
   "outputs": [
    {
     "name": "stdout",
     "output_type": "stream",
     "text": [
      "Thru\n",
      "Fri\n"
     ]
    }
   ],
   "source": [
    "def day_of_week(num:int):\n",
    "    week_day = {1 : 'Mon',2: 'Tue',3: 'Wed',4: 'Thru',5: 'Fri',6:'Sat',7:'Sun'}\n",
    "    if num > 7:\n",
    "        num = num //7\n",
    "        return week_day[num]\n",
    "    else:\n",
    "        return week_day[num]\n",
    "\n",
    "print(day_of_week(4))\n",
    "print(day_of_week((35)))"
   ]
  },
  {
   "cell_type": "markdown",
   "id": "fc45a265-2a23-4720-aec2-4febeacbea78",
   "metadata": {},
   "source": [
    "13. Develop a program that calculates the factorial of a given number using recursion."
   ]
  },
  {
   "cell_type": "code",
   "execution_count": 43,
   "id": "0f41f484-89e7-4fc6-883f-d33d38205d5c",
   "metadata": {},
   "outputs": [
    {
     "data": {
      "text/plain": [
       "40320"
      ]
     },
     "execution_count": 43,
     "metadata": {},
     "output_type": "execute_result"
    }
   ],
   "source": [
    "def factorial(num:int):\n",
    "    if num == 0 or num == 1:\n",
    "        return 1\n",
    "    else:\n",
    "        return num * factorial(num-1)\n",
    "factorial(8)"
   ]
  },
  {
   "cell_type": "markdown",
   "id": "fc557501-92f2-4c43-954d-c26a7fc98c80",
   "metadata": {},
   "source": [
    "14. Write a program to find the largest among three numbers without using the max() function"
   ]
  },
  {
   "cell_type": "code",
   "execution_count": 44,
   "id": "a5307441-3d3a-4c3c-b314-a982989d353d",
   "metadata": {},
   "outputs": [
    {
     "name": "stdout",
     "output_type": "stream",
     "text": [
      "54 is the largest\n"
     ]
    }
   ],
   "source": [
    "def largest(num1, num2, num3):\n",
    "    largest_num = None\n",
    "    \n",
    "    if num1 > num2:\n",
    "        if num1 > num3:\n",
    "            largest_num = num1\n",
    "    else:\n",
    "        if num2 > num3:\n",
    "            largest_num = num2\n",
    "\n",
    "    if largest_num is None:\n",
    "        largest_num = num3\n",
    "    \n",
    "    return \"{} is the largest\".format(largest_num)\n",
    "\n",
    "result = largest(23, 4, 54)\n",
    "print(result)\n"
   ]
  },
  {
   "cell_type": "markdown",
   "id": "73423015-637b-446f-96de-f8bc2ee861e3",
   "metadata": {},
   "source": [
    "15. Create a program that simulates a basic ATM transaction menu."
   ]
  },
  {
   "cell_type": "code",
   "execution_count": 45,
   "id": "37e7e78c-365d-4169-a21e-7ab7bf019e51",
   "metadata": {},
   "outputs": [
    {
     "name": "stdout",
     "output_type": "stream",
     "text": [
      "You have withdrawal 3500 amount\n"
     ]
    },
    {
     "name": "stdin",
     "output_type": "stream",
     "text": [
      "Enter yes to see amount in your account yes\n"
     ]
    },
    {
     "data": {
      "text/plain": [
       "10500"
      ]
     },
     "execution_count": 45,
     "metadata": {},
     "output_type": "execute_result"
    }
   ],
   "source": [
    "def ATM(amount, bank_balance):\n",
    "    print('You have withdrawal {} amount'.format(amount))\n",
    "    remaining_amount = input('Enter yes to see amount in your account')\n",
    "    if remaining_amount.lower() == 'yes':\n",
    "        return bank_balance - amount\n",
    "    else:\n",
    "        return 'Thank you, come again'\n",
    "ATM(3500, 14000)"
   ]
  },
  {
   "cell_type": "markdown",
   "id": "55a62205-f646-4211-bc1d-71311b5eb41d",
   "metadata": {},
   "source": [
    "16. Build a program that checks if a given string is a palindrom e or not"
   ]
  },
  {
   "cell_type": "code",
   "execution_count": 46,
   "id": "0e3655c1-be7d-4d05-a571-60324a6ef94c",
   "metadata": {},
   "outputs": [
    {
     "name": "stdout",
     "output_type": "stream",
     "text": [
      "No It is not a palindrome string\n",
      "Yes it is a palindrome string\n"
     ]
    }
   ],
   "source": [
    "def check_if_palindrome(st:str):\n",
    "    if st == st[::-1]:\n",
    "        return 'Yes it is a palindrome string'\n",
    "    else:\n",
    "        return 'No It is not a palindrome string'\n",
    "print(check_if_palindrome('hello'))\n",
    "print(check_if_palindrome('racar'))"
   ]
  },
  {
   "cell_type": "markdown",
   "id": "9d9ceaa5-00e9-4a7b-9b95-3bacbe2e69ae",
   "metadata": {},
   "source": [
    "17. Write a program that calculates the average of a list of numbers , excluding the smalles and largest values"
   ]
  },
  {
   "cell_type": "code",
   "execution_count": 47,
   "id": "cf9639c1-c940-429d-b4b3-be25599ac5fb",
   "metadata": {},
   "outputs": [
    {
     "data": {
      "text/plain": [
       "215.0"
      ]
     },
     "execution_count": 47,
     "metadata": {},
     "output_type": "execute_result"
    }
   ],
   "source": [
    "def average(l:list):\n",
    "    new_l = sorted(l)[1:len(l)-1]\n",
    "    return sum(new_l)/ len(new_l)\n",
    "average([24,423,5,5634,52,34,234,523])\n",
    "    "
   ]
  },
  {
   "cell_type": "markdown",
   "id": "855a0ab6-34f2-4724-88ed-f2989c21f5d9",
   "metadata": {},
   "source": [
    "18. Develop a program that converts a given temperature from celsius to Fahrenheit"
   ]
  },
  {
   "cell_type": "code",
   "execution_count": 48,
   "id": "d6d9e90c-faff-4e72-9ce7-36b185d15c91",
   "metadata": {},
   "outputs": [
    {
     "data": {
      "text/plain": [
       "98.60000000000001"
      ]
     },
     "execution_count": 48,
     "metadata": {},
     "output_type": "execute_result"
    }
   ],
   "source": [
    "def c_to_f(c:float):\n",
    "    return 9/5 * c + 32\n",
    "c_to_f(37)"
   ]
  },
  {
   "cell_type": "markdown",
   "id": "637f5d63-50a9-459f-a558-f33c5e5bfd68",
   "metadata": {},
   "source": [
    "19. Create a program that simulates a basic calculator for addition, subtraction, multiplication"
   ]
  },
  {
   "cell_type": "code",
   "execution_count": 49,
   "id": "843c5c89-1f47-4656-8f2b-e23f08e9dea1",
   "metadata": {},
   "outputs": [
    {
     "name": "stdout",
     "output_type": "stream",
     "text": [
      "Options:\n",
      "Enter 'add' for addition\n",
      "Enter 'subtract' for subtraction\n",
      "Enter 'multiply' for multiplication\n",
      "Enter 'quit' to end the program\n"
     ]
    },
    {
     "name": "stdin",
     "output_type": "stream",
     "text": [
      ":  quit\n"
     ]
    }
   ],
   "source": [
    "# Function to perform addition\n",
    "def add(x, y):\n",
    "    return x + y\n",
    "\n",
    "# Function to perform subtraction\n",
    "def subtract(x, y):\n",
    "    return x - y\n",
    "\n",
    "# Function to perform multiplication\n",
    "def multiply(x, y):\n",
    "    return x * y\n",
    "\n",
    "# Main program loop\n",
    "while True:\n",
    "    print(\"Options:\")\n",
    "    print(\"Enter 'add' for addition\")\n",
    "    print(\"Enter 'subtract' for subtraction\")\n",
    "    print(\"Enter 'multiply' for multiplication\")\n",
    "    print(\"Enter 'quit' to end the program\")\n",
    "\n",
    "    user_input = input(\": \")\n",
    "\n",
    "    if user_input == \"quit\":\n",
    "        break\n",
    "    elif user_input in [\"add\", \"subtract\", \"multiply\"]:\n",
    "        num1 = float(input(\"Enter first number: \"))\n",
    "        num2 = float(input(\"Enter second number: \"))\n",
    "\n",
    "        if user_input == \"add\":\n",
    "            print(\"Result:\", add(num1, num2))\n",
    "        elif user_input == \"subtract\":\n",
    "            print(\"Result:\", subtract(num1, num2))\n",
    "        elif user_input == \"multiply\":\n",
    "            print(\"Result:\", multiply(num1, num2))\n",
    "    else:\n",
    "        print(\"Invalid input. Please enter a valid option.\")\n"
   ]
  },
  {
   "cell_type": "markdown",
   "id": "8471330d-1fa6-49ea-96d4-3400e9667bc7",
   "metadata": {},
   "source": [
    "20. Write a program that determines the roots of a cubic equation using the Cardano formula"
   ]
  },
  {
   "cell_type": "code",
   "execution_count": 50,
   "id": "ca550fe7-d7c6-4046-9d07-ddc938991370",
   "metadata": {},
   "outputs": [
    {
     "name": "stdin",
     "output_type": "stream",
     "text": [
      "Enter the coefficient a:  2\n",
      "Enter the coefficient b:  4\n",
      "Enter the coefficient c:  45\n",
      "Enter the coefficient d:  78\n"
     ]
    },
    {
     "name": "stdout",
     "output_type": "stream",
     "text": [
      "Roots of the cubic equation:\n",
      "Root 1: -1.765790\n"
     ]
    }
   ],
   "source": [
    "import math\n",
    "\n",
    "# Function to find the cube root of a number\n",
    "def cube_root(x):\n",
    "    if x >= 0:\n",
    "        return x ** (1/3)\n",
    "    else:\n",
    "        return -((-x) ** (1/3))\n",
    "\n",
    "# Function to solve a cubic equation using the Cardano formula\n",
    "def solve_cubic(a, b, c, d):\n",
    "    # Calculate intermediate values\n",
    "    p = (3 * a * c - b ** 2) / (3 * a ** 2)\n",
    "    q = (2 * b ** 3 - 9 * a * b * c + 27 * a ** 2 * d) / (27 * a ** 3)\n",
    "    delta = (q ** 2) / 4 + (p ** 3) / 27\n",
    "\n",
    "    # Check for different cases\n",
    "    if delta > 0:\n",
    "        # One real root and two complex roots\n",
    "        u1 = cube_root(-q / 2 + math.sqrt(delta))\n",
    "        u2 = cube_root(-q / 2 - math.sqrt(delta))\n",
    "        real_root = u1 + u2 - b / (3 * a)\n",
    "        return [real_root]\n",
    "    elif delta == 0:\n",
    "        # Three real roots (two of them are equal)\n",
    "        u = cube_root(-q / 2)\n",
    "        real_root1 = 2 * u - b / (3 * a)\n",
    "        real_root2 = -u - b / (3 * a)\n",
    "        return [real_root1, real_root2]\n",
    "    else:\n",
    "        # Three distinct real roots\n",
    "        theta = math.acos(-q / (2 * math.sqrt(-(p ** 3) / 27)))\n",
    "        u1 = 2 * math.sqrt(-p / 3) * math.cos(theta / 3)\n",
    "        u2 = 2 * math.sqrt(-p / 3) * math.cos((theta + 2 * math.pi) / 3)\n",
    "        u3 = 2 * math.sqrt(-p / 3) * math.cos((theta + 4 * math.pi) / 3)\n",
    "        real_root1 = u1 - b / (3 * a)\n",
    "        real_root2 = u2 - b / (3 * a)\n",
    "        real_root3 = u3 - b / (3 * a)\n",
    "        return [real_root1, real_root2, real_root3]\n",
    "\n",
    "# Input coefficients of the cubic equation (ax^3 + bx^2 + cx + d = 0)\n",
    "a = float(input(\"Enter the coefficient a: \"))\n",
    "b = float(input(\"Enter the coefficient b: \"))\n",
    "c = float(input(\"Enter the coefficient c: \"))\n",
    "d = float(input(\"Enter the coefficient d: \"))\n",
    "\n",
    "# Call the solve_cubic function to find the roots\n",
    "roots = solve_cubic(a, b, c, d)\n",
    "\n",
    "# Display the roots\n",
    "print(\"Roots of the cubic equation:\")\n",
    "for i, root in enumerate(roots):\n",
    "    print(f\"Root {i+1}: {root:.6f}\")\n"
   ]
  },
  {
   "cell_type": "markdown",
   "id": "c0f3d4fe-b704-4e96-99fb-aa79c1cdbe4f",
   "metadata": {},
   "source": [
    "# Advanced Level"
   ]
  },
  {
   "cell_type": "markdown",
   "id": "4bedb30d-7edd-449c-91ae-de64c09c53e6",
   "metadata": {},
   "source": [
    "21. Create a program that calculates the income tax based on the user's income and tax bracket"
   ]
  },
  {
   "cell_type": "code",
   "execution_count": 52,
   "id": "de14ebd3-a7e2-4b06-9587-2f2fab4e436f",
   "metadata": {},
   "outputs": [
    {
     "data": {
      "text/plain": [
       "'10% incmoe tax will be deducted,(80000.0) INR'"
      ]
     },
     "execution_count": 52,
     "metadata": {},
     "output_type": "execute_result"
    }
   ],
   "source": [
    "def your_income_tax(overall_income:int):\n",
    "    if  300000 > overall_income :\n",
    "        return 'No tax deduction on this income'\n",
    "    elif 300000 < overall_income <= 600000:\n",
    "        return '5% income tax will be deducted, ({}) INR'.format((5/100)*overall_income)\n",
    "    elif 600000 < overall_income <= 900000:\n",
    "        return '10% incmoe tax will be deducted,({}) INR'.format((10/100)*overall_income)\n",
    "    else:\n",
    "        return '20% income tax will be deducted,({}) INR'.format((20/100)*overall_income)\n",
    "    \n",
    "your_income_tax(800000)"
   ]
  },
  {
   "cell_type": "markdown",
   "id": "502f1071-6664-4de1-ac29-c4ec989018aa",
   "metadata": {},
   "source": [
    "22. Write a program that simulates a rock - paper- scissors game against the computer."
   ]
  },
  {
   "cell_type": "code",
   "execution_count": 69,
   "id": "db811fac-1cfe-4c6f-8126-f18ea9a78a4c",
   "metadata": {},
   "outputs": [
    {
     "name": "stdout",
     "output_type": "stream",
     "text": [
      "Hello satyam, welcome to rock-paper-scissor game\n"
     ]
    },
    {
     "name": "stdin",
     "output_type": "stream",
     "text": [
      "0 for Rock, 1 for paper and 2 for Scissor 2\n"
     ]
    },
    {
     "name": "stdout",
     "output_type": "stream",
     "text": [
      "Your choice - Scissor\n",
      " computer choice - Scissor\n"
     ]
    },
    {
     "data": {
      "text/plain": [
       "'Tie'"
      ]
     },
     "execution_count": 69,
     "metadata": {},
     "output_type": "execute_result"
    }
   ],
   "source": [
    "import random\n",
    "def rps_game(name:str):\n",
    "    print('Hello {}, welcome to rock-paper-scissor game'.format(name))\n",
    "    game_assignments = {0: 'Rock', 1: 'Paper' , 2: 'Scissor'}\n",
    "    while True:\n",
    "        human_turn =game_assignments[int(input('0 for Rock, 1 for paper and 2 for Scissor'))]\n",
    "        computer_turn=game_assignments[random.choice(list(game_assignments.keys()))]\n",
    "        print('Your choice - {}\\n computer choice - {}'.format(human_turn,computer_turn))\n",
    "        if computer_turn == human_turn:\n",
    "            return 'Tie'\n",
    "        elif ((human_turn == 'Rock' and computer_turn == 'Scissor') or (human_turn == 'Paper' and computer_turn == 'Rock') or(human_turn == 'Scissor' and computer_turn == 'Paper')):\n",
    "            return 'you wins'\n",
    "        else:\n",
    "            return 'Computer wins'\n",
    "            \n",
    "            \n",
    "rps_game('satyam')\n",
    "        \n",
    "    "
   ]
  },
  {
   "cell_type": "markdown",
   "id": "7e10cb5b-a8c9-4d63-bab7-8db9ab1468b7",
   "metadata": {},
   "source": [
    "23. Develop a program that generates a random password based on user preference(lenght, complexity)"
   ]
  },
  {
   "cell_type": "code",
   "execution_count": 89,
   "id": "3dd3a26b-36ef-406d-9366-19611b3c396b",
   "metadata": {},
   "outputs": [
    {
     "data": {
      "text/plain": [
       "'2XnMeh6r9s73418F'"
      ]
     },
     "execution_count": 89,
     "metadata": {},
     "output_type": "execute_result"
    }
   ],
   "source": [
    "import random\n",
    "import string\n",
    "def random_password_generator(length , complexity):\n",
    "    \"\"\" complexity 1 = only numbers\n",
    "    complexity 2 = numbers as well as alphabets\n",
    "    complexity 3 = numbers , alphabets as well as symbols\"\"\"\n",
    "    pass_length = length\n",
    "    pass_complexity = complexity\n",
    "    num = list(range(1,10))\n",
    "    alphabets = list(string.ascii_uppercase) + list(string.ascii_lowercase)\n",
    "    symbols = ['!', '@', '#', '$', '%', '^', '&', '*', '(', ')', '-', '+', '=', '_', '[', ']', '{', '}', ';', ':', ',', '.', '<', '>', '?', '/', '|', '\\\\']\n",
    "    password = []\n",
    "    quotient = pass_length//pass_complexity\n",
    "    reminder = pass_length % pass_complexity\n",
    "    if pass_complexity == 1:\n",
    "        # pick only numbers\n",
    "        password.extend(random.sample(num,quotient))\n",
    "    elif pass_complexity == 2:\n",
    "        password.extend(random.sample(num , quotient))\n",
    "        password.extend(random.sample(alphabets, quotient+reminder))\n",
    "        \n",
    "    else:\n",
    "        password.extend(random.sample(num, quotient))\n",
    "        \n",
    "        password.extend(random.sample(alphabets, quotient))\n",
    "        password.extend(random.sample(symbols, quotient+reminder))\n",
    "    \n",
    "    random.shuffle(password)\n",
    "    password = list(map(str, password))\n",
    "    return \"\".join(password)\n",
    "        \n",
    "random_password_generator(16,2)"
   ]
  },
  {
   "cell_type": "markdown",
   "id": "02d46b6b-82bb-4155-aa47-3b6ef908484f",
   "metadata": {},
   "source": [
    "24. Create a program that implements a simple text-based adventure game with branching scenarios."
   ]
  },
  {
   "cell_type": "code",
   "execution_count": 93,
   "id": "4ad4e023-88a3-498e-bfea-659917199b14",
   "metadata": {},
   "outputs": [
    {
     "name": "stdout",
     "output_type": "stream",
     "text": [
      "Are you ready, satyam?\n"
     ]
    },
    {
     "name": "stdin",
     "output_type": "stream",
     "text": [
      "Yes or No:  yes\n",
      "You stand at the edge of the Enchanted Forest, looking at the dark and ominous trees. Do you dare enter? (Choice: Yes/No):  yes\n",
      "You enter the forest, and the dense trees block out the sunlight. You come across a fork in the path. Do you go left or right? (Choice: Left/Right):  left\n",
      "If you chose the left path, you encounter a friendly forest creature who offers to guide you. Do you accept their help? (Choice: Yes/No):  yes\n"
     ]
    },
    {
     "name": "stdout",
     "output_type": "stream",
     "text": [
      "The creature guides you safely through the forest.\n"
     ]
    },
    {
     "name": "stdin",
     "output_type": "stream",
     "text": [
      "You reach a clearing and find a riddle carved on a stone. Solve the riddle to proceed (Enter your answer):  forest\n"
     ]
    },
    {
     "name": "stdout",
     "output_type": "stream",
     "text": [
      "Congratulations! You solved the riddle and continue your journey.\n"
     ]
    }
   ],
   "source": [
    "def adventure_game(name: str):\n",
    "    print('Are you ready, {}?'.format(name))\n",
    "    ready_or_not = input('Yes or No: ')\n",
    "    if ready_or_not.lower() == 'yes':\n",
    "        enter_or_not = input('You stand at the edge of the Enchanted Forest, looking at the dark and ominous trees. Do you dare enter? (Choice: Yes/No): ')\n",
    "        if enter_or_not.lower() == 'yes':\n",
    "            left_or_right = input(\"You enter the forest, and the dense trees block out the sunlight. You come across a fork in the path. Do you go left or right? (Choice: Left/Right): \")\n",
    "            if left_or_right.lower() == 'left':\n",
    "                accept_help = input('If you chose the left path, you encounter a friendly forest creature who offers to guide you. Do you accept their help? (Choice: Yes/No): ')\n",
    "                if accept_help.lower() == 'yes':\n",
    "                    print('The creature guides you safely through the forest.')\n",
    "                    riddle_answer = input('You reach a clearing and find a riddle carved on a stone. Solve the riddle to proceed (Enter your answer): ')\n",
    "                    \n",
    "                    if riddle_answer.lower() == 'forest':\n",
    "                        print('Congratulations! You solved the riddle and continue your journey.')\n",
    "                        # You can continue the story with more choices and challenges.\n",
    "                    else:\n",
    "                        return 'Wrong answer. Your journey ends here.'\n",
    "                else:\n",
    "                    return 'Thanks for your visit. Your journey ends.'\n",
    "            else:\n",
    "                return 'Thanks for your visit. Your journey ends.'\n",
    "        else:\n",
    "            return 'Thanks for your visit. Your journey ends.'\n",
    "    else:\n",
    "        return 'Thanks for your visit. Your journey ends.'\n",
    "\n",
    "\n",
    "# You can continue adding more story elements and choices to the game.\n",
    "adventure_game('satyam')"
   ]
  },
  {
   "cell_type": "markdown",
   "id": "29f3d4f4-c70a-4ec7-8ece-7a272fee0292",
   "metadata": {},
   "source": [
    "25. Build a program that solves a linear equation for x, considering different cases."
   ]
  },
  {
   "cell_type": "code",
   "execution_count": 96,
   "id": "361ffc7b-eb9d-4b2d-82e0-8d2656e72e08",
   "metadata": {},
   "outputs": [
    {
     "data": {
      "text/plain": [
       "72.85"
      ]
     },
     "execution_count": 96,
     "metadata": {},
     "output_type": "execute_result"
    }
   ],
   "source": [
    "## format will be like 6x - 19 = 3x - 10.\n",
    "## inputing will be like \n",
    "## left x coefficient = 6 , left constant = -19\n",
    "## right x coefficient = 3 and right constant = -10\n",
    "def solve_linar(left_coef , left_const, right_coef, right_const):\n",
    "    return round((right_const + -(left_const) / (left_coef + -(right_coef))),2)\n",
    "solve_linar(23,53,-23,74)"
   ]
  },
  {
   "cell_type": "markdown",
   "id": "7c3a4fe7-2042-424b-ba1a-8a3ac0592bb8",
   "metadata": {},
   "source": [
    "26. Write a program that simulates a basic quiz game with multiple-choice questions and scoring."
   ]
  },
  {
   "cell_type": "code",
   "execution_count": 98,
   "id": "f764de61-0f24-4925-9a5f-26b740a5a336",
   "metadata": {},
   "outputs": [
    {
     "name": "stdout",
     "output_type": "stream",
     "text": [
      "Welcome to the Quiz!\n",
      "What is the capital of France?\n",
      "1. Paris\n",
      "2. Berlin\n",
      "3. Madrid\n",
      "4. Rome\n"
     ]
    },
    {
     "name": "stdin",
     "output_type": "stream",
     "text": [
      "Enter the number of your answer:  1\n"
     ]
    },
    {
     "name": "stdout",
     "output_type": "stream",
     "text": [
      "Correct!\n",
      "\n",
      "Which planet is known as the Red Planet?\n",
      "1. Earth\n",
      "2. Mars\n",
      "3. Venus\n",
      "4. Jupiter\n"
     ]
    },
    {
     "name": "stdin",
     "output_type": "stream",
     "text": [
      "Enter the number of your answer:  2\n"
     ]
    },
    {
     "name": "stdout",
     "output_type": "stream",
     "text": [
      "Correct!\n",
      "\n",
      "What is the largest mammal in the world?\n",
      "1. Elephant\n",
      "2. Giraffe\n",
      "3. Blue Whale\n",
      "4. Hippopotamus\n"
     ]
    },
    {
     "name": "stdin",
     "output_type": "stream",
     "text": [
      "Enter the number of your answer:  3\n"
     ]
    },
    {
     "name": "stdout",
     "output_type": "stream",
     "text": [
      "Correct!\n",
      "\n",
      "You scored 3 out of 3.\n"
     ]
    }
   ],
   "source": [
    "def ask_question(question, options, correct_option):\n",
    "    print(question)\n",
    "    for i, option in enumerate(options, start=1):\n",
    "        print(f\"{i}. {option}\")\n",
    "    \n",
    "    user_choice = int(input(\"Enter the number of your answer: \"))\n",
    "    \n",
    "    if user_choice == correct_option:\n",
    "        print(\"Correct!\\n\")\n",
    "        return 1\n",
    "    else:\n",
    "        print(f\"Wrong! The correct answer was {options[correct_option - 1]}\\n\")\n",
    "        return 0\n",
    "\n",
    "def take_quiz(questions):\n",
    "    score = 0\n",
    "    for question in questions:\n",
    "        score += ask_question(*question)\n",
    "    \n",
    "    print(f\"You scored {score} out of {len(questions)}.\")\n",
    "\n",
    "# Define the quiz questions as a list of tuples\n",
    "quiz_questions = [\n",
    "    (\"What is the capital of France?\",\n",
    "     [\"Paris\", \"Berlin\", \"Madrid\", \"Rome\"], 1),\n",
    "\n",
    "    (\"Which planet is known as the Red Planet?\",\n",
    "     [\"Earth\", \"Mars\", \"Venus\", \"Jupiter\"], 2),\n",
    "\n",
    "    (\"What is the largest mammal in the world?\",\n",
    "     [\"Elephant\", \"Giraffe\", \"Blue Whale\", \"Hippopotamus\"], 3)\n",
    "]\n",
    "\n",
    "# Take the quiz\n",
    "print(\"Welcome to the Quiz!\")\n",
    "take_quiz(quiz_questions)\n"
   ]
  },
  {
   "cell_type": "markdown",
   "id": "a74beff2-ca36-45fa-85ba-ea0de63984b1",
   "metadata": {},
   "source": [
    "27. Develop a program that determines whether a given year is a prime number or not."
   ]
  },
  {
   "cell_type": "code",
   "execution_count": 101,
   "id": "b7e8b673-f18d-49fb-bada-52d8ebb2a6cb",
   "metadata": {},
   "outputs": [
    {
     "name": "stdout",
     "output_type": "stream",
     "text": [
      "7 divides 2023\n"
     ]
    },
    {
     "data": {
      "text/plain": [
       "'2023 year is not a prime number'"
      ]
     },
     "execution_count": 101,
     "metadata": {},
     "output_type": "execute_result"
    }
   ],
   "source": [
    "def check_year_prime(year:int):\n",
    "    for i in range(2, year):\n",
    "        if year % i == 0 :\n",
    "            print('{} divides {}'.format(i,year))\n",
    "            return '{} year is not a prime number'.format(year)\n",
    "    return 'Yes, {} year is a prime number'.format(year)\n",
    "check_year_prime(2023)"
   ]
  },
  {
   "cell_type": "markdown",
   "id": "6657556c-73f3-469c-b225-d9063f75e251",
   "metadata": {},
   "source": [
    "28. Create a program that sorts three numbers in ascending order using conditional statements."
   ]
  },
  {
   "cell_type": "code",
   "execution_count": 102,
   "id": "f3d46fbf-a684-4d03-8636-fa9a7792c033",
   "metadata": {},
   "outputs": [
    {
     "data": {
      "text/plain": [
       "(16, 42, 46)"
      ]
     },
     "execution_count": 102,
     "metadata": {},
     "output_type": "execute_result"
    }
   ],
   "source": [
    "def sort_with_if_else(num1, num2, num3):\n",
    "    if num1 < num2 and num1 < num3:\n",
    "        if num2 < num3:\n",
    "            return (num1,num2,num3)\n",
    "        else:\n",
    "            return (num1, num3,num2)\n",
    "    elif num2< num1 and num2< num3:\n",
    "        if num1 < num3:\n",
    "            return (num2, num1,num3)\n",
    "        else:\n",
    "            return (num2,num3,num1)\n",
    "        \n",
    "    else:\n",
    "        if num2<num1:\n",
    "            return (num3 , num2, num1)\n",
    "        else:\n",
    "            return (num3, num1, num2)\n",
    "sort_with_if_else(42,46,16)"
   ]
  },
  {
   "cell_type": "markdown",
   "id": "aea632f9-59cf-4660-83fb-ad9f35b79e4b",
   "metadata": {},
   "source": [
    "29. Build a program that determines the roots of a quartic equation using numerical methods."
   ]
  },
  {
   "cell_type": "code",
   "execution_count": 103,
   "id": "b9a3b7c1-2e47-491a-8d31-89a51a67a4fc",
   "metadata": {},
   "outputs": [
    {
     "name": "stdout",
     "output_type": "stream",
     "text": [
      "(-3.5, -6.5)\n",
      "(-4.5, -5.5)\n"
     ]
    }
   ],
   "source": [
    "def roots_of_quadratice(a , b , c):\n",
    "    if (b**2 - 4 * a * c) < 0:\n",
    "        return 'Roots are imaginary'\n",
    "    else:\n",
    "        return -b + ((b**2 - 4 * a * c) ** 0.5) / 2 * a , -b - ((b**2 - 4 * a * c) ** 0.5) / 2 * a \n",
    "print(roots_of_quadratice(3,5,2))\n",
    "print(roots_of_quadratice(1,5,6))"
   ]
  },
  {
   "cell_type": "markdown",
   "id": "2b82c603-5fd0-426d-9d71-8858010503d8",
   "metadata": {},
   "source": [
    "30.Write a program that calculates the BMI (Body Mass Index) and provides health recommendations based"
   ]
  },
  {
   "cell_type": "code",
   "execution_count": 104,
   "id": "9142a27e-d312-4614-b48e-91bfb9e03a97",
   "metadata": {},
   "outputs": [
    {
     "name": "stdout",
     "output_type": "stream",
     "text": [
      "Normal Weight,\n",
      " You are absolutely fine just keep doing workout everyday\n",
      "Overweight,\n",
      " Your need to burn more calories than consume\n",
      "Underweight\n",
      " Try consume more calories from healthy diet\n"
     ]
    }
   ],
   "source": [
    "def Bmi_category(bmi:int):\n",
    "    if bmi < 18.5 :\n",
    "        return 'Underweight\\n Try consume more calories from healthy diet'\n",
    "    elif  18.5 <= bmi <= 24.9:\n",
    "        return 'Normal Weight,\\n You are absolutely fine just keep doing workout everyday'\n",
    "    else:\n",
    "        return 'Overweight,\\n Your need to burn more calories than consume'\n",
    "    \n",
    "print(Bmi_category(20))\n",
    "print(Bmi_category(26))\n",
    "print(Bmi_category(17))\n"
   ]
  },
  {
   "cell_type": "markdown",
   "id": "f940802e-6519-4e0b-9b8c-d592e9e17434",
   "metadata": {},
   "source": [
    "# Challenge Level"
   ]
  },
  {
   "cell_type": "markdown",
   "id": "bd32b34c-f323-4cf9-9ffd-1aba2b4ccb7a",
   "metadata": {},
   "source": [
    "31. Create a program that validates a password based on complexity rules (length, characters, etc.)."
   ]
  },
  {
   "cell_type": "code",
   "execution_count": 105,
   "id": "dd4fec12-d309-4a76-9074-beabf5b2aad2",
   "metadata": {},
   "outputs": [
    {
     "data": {
      "text/plain": [
       "'O76CF4f583w19AMs'"
      ]
     },
     "execution_count": 105,
     "metadata": {},
     "output_type": "execute_result"
    }
   ],
   "source": [
    "import random\n",
    "import string\n",
    "def random_password_generator(length , complexity):\n",
    "    \"\"\" complexity 1 = only numbers\n",
    "    complexity 2 = numbers as well as alphabets\n",
    "    complexity 3 = numbers , alphabets as well as symbols\"\"\"\n",
    "    pass_length = length\n",
    "    pass_complexity = complexity\n",
    "    num = list(range(1,10))\n",
    "    alphabets = list(string.ascii_uppercase) + list(string.ascii_lowercase)\n",
    "    symbols = ['!', '@', '#', '$', '%', '^', '&', '*', '(', ')', '-', '+', '=', '_', '[', ']', '{', '}', ';', ':', ',', '.', '<', '>', '?', '/', '|', '\\\\']\n",
    "    password = []\n",
    "    quotient = pass_length//pass_complexity\n",
    "    reminder = pass_length % pass_complexity\n",
    "    if pass_complexity == 1:\n",
    "        # pick only numbers\n",
    "        password.extend(random.sample(num,quotient))\n",
    "    elif pass_complexity == 2:\n",
    "        password.extend(random.sample(num , quotient))\n",
    "        password.extend(random.sample(alphabets, quotient+reminder))\n",
    "        \n",
    "    else:\n",
    "        password.extend(random.sample(num, quotient))\n",
    "        \n",
    "        password.extend(random.sample(alphabets, quotient))\n",
    "        password.extend(random.sample(symbols, quotient+reminder))\n",
    "    \n",
    "    random.shuffle(password)\n",
    "    password = list(map(str, password))\n",
    "    return \"\".join(password)\n",
    "        \n",
    "random_password_generator(16,2)"
   ]
  },
  {
   "cell_type": "markdown",
   "id": "5d06b365-6ef2-4a41-a376-20e03b670f0a",
   "metadata": {},
   "source": [
    "32. Develop a program that performs matrix addition and subtraction based on user input."
   ]
  },
  {
   "cell_type": "code",
   "execution_count": 4,
   "id": "f3335041-0c59-450a-9cae-25c4cc308605",
   "metadata": {},
   "outputs": [
    {
     "name": "stdin",
     "output_type": "stream",
     "text": [
      "Enter the opeation your want , 1. addition\n",
      "2. Subtraction\n",
      "3. Multiplication\n",
      "4. Division\n",
      " 2\n"
     ]
    },
    {
     "data": {
      "text/plain": [
       "array([[ -23,   22,  -51],\n",
       "       [2330,   18,  199]])"
      ]
     },
     "execution_count": 4,
     "metadata": {},
     "output_type": "execute_result"
    }
   ],
   "source": [
    "a = np.array([[1,24,2],[2353,23,234]])\n",
    "b = np.array([[24,2,53],[23,5,35]])\n",
    "operation = int(input('Enter the opeation your want , 1. addition\\n2. Subtraction\\n3. Multiplication\\n4. Division\\n'))\n",
    "def matrix_operations(operation):\n",
    "    if operation == 1:\n",
    "        #perform addition\n",
    "        return a + b\n",
    "\n",
    "    elif operation == 2:\n",
    "        #perform subtraction\n",
    "        return a -b\n",
    "    elif operation == 3:\n",
    "        #perform multiplication\n",
    "        return a*b\n",
    "    elif operation == 4:\n",
    "        #perform division\n",
    "        return a/b\n",
    "matrix_operations(operation)"
   ]
  },
  {
   "cell_type": "markdown",
   "id": "c495b7cc-131b-410e-9701-914236435029",
   "metadata": {},
   "source": [
    "33.  Write a program that calculates the greatest common divisor (GCD) of two numbers using the Euclidean algo."
   ]
  },
  {
   "cell_type": "code",
   "execution_count": 5,
   "id": "d53c0dca-76e1-4108-9a73-ee30628f0f27",
   "metadata": {},
   "outputs": [
    {
     "name": "stdin",
     "output_type": "stream",
     "text": [
      "Enter the first number:  34\n",
      "Enter the second number:  8\n"
     ]
    },
    {
     "name": "stdout",
     "output_type": "stream",
     "text": [
      "The GCD of 34 and 8 is 2\n"
     ]
    }
   ],
   "source": [
    "def gcd_euclidean(a, b):\n",
    "    while b:\n",
    "        a, b = b, a % b\n",
    "    return a\n",
    "\n",
    "# Input two numbers from the user\n",
    "num1 = int(input(\"Enter the first number: \"))\n",
    "num2 = int(input(\"Enter the second number: \"))\n",
    "\n",
    "# Calculate the GCD using the Euclidean algorithm\n",
    "gcd = gcd_euclidean(num1, num2)\n",
    "\n",
    "# Print the result\n",
    "print(f\"The GCD of {num1} and {num2} is {gcd}\")\n"
   ]
  },
  {
   "cell_type": "markdown",
   "id": "4baf5537-a482-413f-8650-688bf66986a5",
   "metadata": {},
   "source": [
    "34. Build a program that performs matrix multiplication using nested loops and conditional statements."
   ]
  },
  {
   "cell_type": "code",
   "execution_count": 37,
   "id": "1895216f-09c5-44a1-8fb0-d62f5ec32c67",
   "metadata": {},
   "outputs": [
    {
     "name": "stdout",
     "output_type": "stream",
     "text": [
      "[[2.4000e+01 4.8000e+01 1.0600e+02]\n",
      " [5.4119e+04 1.1500e+02 8.1900e+03]]\n"
     ]
    }
   ],
   "source": [
    "a = np.array([[1,24,2],[2353,23,234]])\n",
    "b = np.array([[24,2,53],[23,5,35]])\n",
    "result = np.zeros((len(a[:,0]) ,len(a[0,:])))\n",
    "for i, row in enumerate(a):\n",
    "    for j , ele in enumerate(row):\n",
    "        result[i,j] = a[i,j]*b[i,j]\n",
    "        \n",
    "print(result)\n",
    "# rounded\n"
   ]
  },
  {
   "cell_type": "markdown",
   "id": "82127ce3-4fb0-41e2-ab8a-270cf161e942",
   "metadata": {},
   "source": [
    "35. Create a program that simulates a basic text-based tic-tac-toe game against the computer."
   ]
  },
  {
   "cell_type": "code",
   "execution_count": 41,
   "id": "115e9d13-06d7-40b5-ad8e-ee349554c689",
   "metadata": {},
   "outputs": [
    {
     "name": "stdout",
     "output_type": "stream",
     "text": [
      "Welcome to Tic-Tac-Toe!\n",
      "  |   |  \n",
      "---------\n",
      "  |   |  \n",
      "---------\n",
      "  |   |  \n",
      "---------\n"
     ]
    },
    {
     "name": "stdin",
     "output_type": "stream",
     "text": [
      "Enter your move (row and column, e.g., '1 2'):  2 2\n"
     ]
    },
    {
     "name": "stdout",
     "output_type": "stream",
     "text": [
      "  |   |  \n",
      "---------\n",
      "  |   |  \n",
      "---------\n",
      "  |   | X\n",
      "---------\n",
      "Computer's turn...\n",
      "  |   | O\n",
      "---------\n",
      "  |   |  \n",
      "---------\n",
      "  |   | X\n",
      "---------\n"
     ]
    },
    {
     "name": "stdin",
     "output_type": "stream",
     "text": [
      "Enter your move (row and column, e.g., '1 2'):  2 2\n"
     ]
    },
    {
     "name": "stdout",
     "output_type": "stream",
     "text": [
      "Invalid move. Try again.\n",
      "  |   | O\n",
      "---------\n",
      "  |   |  \n",
      "---------\n",
      "  |   | X\n",
      "---------\n"
     ]
    },
    {
     "name": "stdin",
     "output_type": "stream",
     "text": [
      "Enter your move (row and column, e.g., '1 2'):  1 1\n"
     ]
    },
    {
     "name": "stdout",
     "output_type": "stream",
     "text": [
      "  |   | O\n",
      "---------\n",
      "  | X |  \n",
      "---------\n",
      "  |   | X\n",
      "---------\n",
      "Computer's turn...\n",
      "  |   | O\n",
      "---------\n",
      "  | X |  \n",
      "---------\n",
      "O |   | X\n",
      "---------\n"
     ]
    },
    {
     "name": "stdin",
     "output_type": "stream",
     "text": [
      "Enter your move (row and column, e.g., '1 2'):  0 0\n"
     ]
    },
    {
     "name": "stdout",
     "output_type": "stream",
     "text": [
      "X |   | O\n",
      "---------\n",
      "  | X |  \n",
      "---------\n",
      "O |   | X\n",
      "---------\n",
      "Player X wins! Congratulations!\n"
     ]
    }
   ],
   "source": [
    "import random\n",
    "\n",
    "def print_board(board):\n",
    "    for row in board:\n",
    "        print(\" | \".join(row))\n",
    "        print(\"-\" * 9)\n",
    "\n",
    "def check_win(board, player):\n",
    "    for row in board:\n",
    "        if all(cell == player for cell in row):\n",
    "            return True\n",
    "\n",
    "    for col in range(3):\n",
    "        if all(board[row][col] == player for row in range(3)):\n",
    "            return True\n",
    "\n",
    "    if all(board[i][i] == player for i in range(3)) or all(board[i][2 - i] == player for i in range(3)):\n",
    "        return True\n",
    "\n",
    "    return False\n",
    "\n",
    "def is_full(board):\n",
    "    return all(cell != \" \" for row in board for cell in row)\n",
    "\n",
    "def get_empty_cells(board):\n",
    "    return [(row, col) for row in range(3) for col in range(3) if board[row][col] == \" \"]\n",
    "\n",
    "def computer_move(board):\n",
    "    empty_cells = get_empty_cells(board)\n",
    "    return random.choice(empty_cells)\n",
    "\n",
    "def tic_tac_toe():\n",
    "    board = [[\" \" for _ in range(3)] for _ in range(3)]\n",
    "    player = \"X\"\n",
    "    computer = \"O\"\n",
    "\n",
    "    print(\"Welcome to Tic-Tac-Toe!\")\n",
    "\n",
    "    while True:\n",
    "        print_board(board)\n",
    "\n",
    "        if player == \"X\":\n",
    "            row, col = map(int, input(\"Enter your move (row and column, e.g., '1 2'): \").split())\n",
    "        else:\n",
    "            print(\"Computer's turn...\")\n",
    "            row, col = computer_move(board)\n",
    "\n",
    "        if board[row][col] == \" \":\n",
    "            board[row][col] = player\n",
    "            if check_win(board, player):\n",
    "                print_board(board)\n",
    "                print(f\"Player {player} wins! Congratulations!\")\n",
    "                break\n",
    "            elif is_full(board):\n",
    "                print_board(board)\n",
    "                print(\"It's a draw!\")\n",
    "                break\n",
    "\n",
    "            player = \"X\" if player == \"O\" else \"O\"\n",
    "        else:\n",
    "            print(\"Invalid move. Try again.\")\n",
    "\n",
    "if __name__ == \"__main__\":\n",
    "    tic_tac_toe()\n",
    "\n"
   ]
  },
  {
   "cell_type": "markdown",
   "id": "cb3c03ec-3805-4a45-bb45-2df86c1c148c",
   "metadata": {},
   "source": [
    "36. Write a program that generates Fibonacci numbers up to a specified term using iterative methods."
   ]
  },
  {
   "cell_type": "code",
   "execution_count": 43,
   "id": "01fd4603-2f84-4b28-afb1-42ac6502bfe0",
   "metadata": {},
   "outputs": [
    {
     "name": "stdout",
     "output_type": "stream",
     "text": [
      "0\n",
      "1\n",
      "1\n",
      "2\n",
      "3\n",
      "5\n",
      "8\n",
      "13\n",
      "21\n",
      "34\n"
     ]
    }
   ],
   "source": [
    "def fibonacci(n):\n",
    "    a , b = 0 , 1\n",
    "    for i in range(n):\n",
    "        yield a\n",
    "        a , b = b , a + b\n",
    "for i in fibonacci(10):\n",
    "    print(i)"
   ]
  },
  {
   "cell_type": "markdown",
   "id": "1a0a7463-f0d6-48aa-825f-9f374a1a6d32",
   "metadata": {},
   "source": [
    "37. Develop a program that calculates the nth term of the Fibonacci sequence using memoization."
   ]
  },
  {
   "cell_type": "code",
   "execution_count": 58,
   "id": "a7c964b1-5369-48ec-a391-fcdb02abd4de",
   "metadata": {},
   "outputs": [
    {
     "name": "stdout",
     "output_type": "stream",
     "text": [
      "The 8th term of the Fibonacci sequence is: 21\n"
     ]
    }
   ],
   "source": [
    "def fibonacci(fibonacci_length):\n",
    "    fib = {}\n",
    "    a, b = 0, 1\n",
    "    for i in range(fibonacci_length):\n",
    "        fib[i] = a\n",
    "        a, b = b, a + b\n",
    "    return fib\n",
    "\n",
    "def ith_term_fibonacci(fibonacci_length, n):\n",
    "    fib_sequence = fibonacci(fibonacci_length)\n",
    "    if n in fib_sequence:\n",
    "        return fib_sequence[n]\n",
    "    else:\n",
    "        return None  # Handle the case where n is out of range\n",
    "n = 8\n",
    "result = ith_term_fibonacci(10, n)\n",
    "if result is not None:\n",
    "    print(f\"The {n}th term of the Fibonacci sequence is: {result}\")\n",
    "else:\n",
    "    print(\"The requested term is out of range.\")\n"
   ]
  },
  {
   "cell_type": "markdown",
   "id": "f7e9e4ee-1cd5-4e52-a7f8-93294af3ddb7",
   "metadata": {},
   "source": [
    "38. Create a program that generates a calendar for a given month and year using conditional statements."
   ]
  },
  {
   "cell_type": "code",
   "execution_count": 59,
   "id": "e023b369-6376-4224-9150-21f2fd3048d7",
   "metadata": {},
   "outputs": [
    {
     "name": "stdin",
     "output_type": "stream",
     "text": [
      "Enter the year (e.g., 2023):  2023\n",
      "Enter the month (1-12):  3\n"
     ]
    },
    {
     "name": "stdout",
     "output_type": "stream",
     "text": [
      "\n",
      "Calendar:\n",
      "     March 2023\n",
      "Mo Tu We Th Fr Sa Su\n",
      "       1  2  3  4  5\n",
      " 6  7  8  9 10 11 12\n",
      "13 14 15 16 17 18 19\n",
      "20 21 22 23 24 25 26\n",
      "27 28 29 30 31\n",
      "\n"
     ]
    }
   ],
   "source": [
    "import calendar\n",
    "\n",
    "# Input month and year\n",
    "year = int(input(\"Enter the year (e.g., 2023): \"))\n",
    "month = int(input(\"Enter the month (1-12): \"))\n",
    "\n",
    "# Validate the input\n",
    "if month < 1 or month > 12:\n",
    "    print(\"Invalid month input. Please enter a number between 1 and 12.\")\n",
    "else:\n",
    "    # Get the calendar for the specified month and year\n",
    "    cal = calendar.month(year, month)\n",
    "\n",
    "    # Print the calendar\n",
    "    print(\"\\nCalendar:\")\n",
    "    print(cal)\n"
   ]
  },
  {
   "cell_type": "markdown",
   "id": "3d4c516f-b5bd-4c77-86fa-7d43701e1267",
   "metadata": {},
   "source": [
    "39. Build a program that simulates a basic text-based blackjack game against the computer."
   ]
  },
  {
   "cell_type": "code",
   "execution_count": 60,
   "id": "55095987-b478-46cd-beb1-3b00c9dc3977",
   "metadata": {},
   "outputs": [
    {
     "name": "stdout",
     "output_type": "stream",
     "text": [
      "Welcome to Text-Based Blackjack!\n",
      "\n",
      "Your hand: 5, 7\n",
      "Dealer's hand: Q, ?\n"
     ]
    },
    {
     "name": "stdin",
     "output_type": "stream",
     "text": [
      "\n",
      "Do you want to 'hit' or 'stand'?  hit\n"
     ]
    },
    {
     "name": "stdout",
     "output_type": "stream",
     "text": [
      "\n",
      "Your hand: 5, 7, 8\n",
      "Dealer's hand: Q, ?\n"
     ]
    },
    {
     "name": "stdin",
     "output_type": "stream",
     "text": [
      "\n",
      "Do you want to 'hit' or 'stand'?  stand\n"
     ]
    },
    {
     "name": "stdout",
     "output_type": "stream",
     "text": [
      "\n",
      "Dealer's hand: Q, 3, K\n",
      "Dealer busts! You win!\n"
     ]
    }
   ],
   "source": [
    "import random\n",
    "\n",
    "# Define card values\n",
    "card_values = {\n",
    "    '2': 2, '3': 3, '4': 4, '5': 5, '6': 6, '7': 7, '8': 8, '9': 9, '10': 10,\n",
    "    'J': 10, 'Q': 10, 'K': 10, 'A': 11  # Ace can be 1 or 11\n",
    "}\n",
    "\n",
    "# Define the deck of cards\n",
    "deck = ['2', '3', '4', '5', '6', '7', '8', '9', '10', 'J', 'Q', 'K', 'A']\n",
    "\n",
    "def deal_card():\n",
    "    \"\"\"Deal a random card from the deck.\"\"\"\n",
    "    return random.choice(deck)\n",
    "\n",
    "def calculate_hand_value(hand):\n",
    "    \"\"\"Calculate the total value of a hand.\"\"\"\n",
    "    total_value = sum(card_values[card] for card in hand)\n",
    "    \n",
    "    # Check for aces and reduce their value from 11 to 1 if needed\n",
    "    for card in hand:\n",
    "        if card == 'A' and total_value > 21:\n",
    "            total_value -= 10\n",
    "    \n",
    "    return total_value\n",
    "\n",
    "def blackjack():\n",
    "    print(\"Welcome to Text-Based Blackjack!\")\n",
    "\n",
    "    # Initialize the deck and hands\n",
    "    deck = ['2', '3', '4', '5', '6', '7', '8', '9', '10', 'J', 'Q', 'K', 'A']\n",
    "    player_hand = [deal_card(), deal_card()]\n",
    "    dealer_hand = [deal_card(), deal_card()]\n",
    "\n",
    "    while True:\n",
    "        # Display player's hand and one of the dealer's cards\n",
    "        print(f\"\\nYour hand: {', '.join(player_hand)}\")\n",
    "        print(f\"Dealer's hand: {dealer_hand[0]}, ?\")\n",
    "\n",
    "        # Check if player or dealer has blackjack\n",
    "        if calculate_hand_value(player_hand) == 21:\n",
    "            print(\"Congratulations! You have Blackjack! You win!\")\n",
    "            break\n",
    "        elif calculate_hand_value(dealer_hand) == 21:\n",
    "            print(\"Dealer has Blackjack. You lose.\")\n",
    "            break\n",
    "\n",
    "        # Ask the player for their move (hit or stand)\n",
    "        choice = input(\"\\nDo you want to 'hit' or 'stand'? \").strip().lower()\n",
    "        \n",
    "        if choice == 'hit':\n",
    "            # Deal another card to the player\n",
    "            player_hand.append(deal_card())\n",
    "\n",
    "            # Check if player busts\n",
    "            if calculate_hand_value(player_hand) > 21:\n",
    "                print(\"Bust! You lose.\")\n",
    "                break\n",
    "        elif choice == 'stand':\n",
    "            # Dealer's turn\n",
    "            while calculate_hand_value(dealer_hand) < 17:\n",
    "                dealer_hand.append(deal_card())\n",
    "\n",
    "            # Display the dealer's hand\n",
    "            print(\"\\nDealer's hand:\", ', '.join(dealer_hand))\n",
    "\n",
    "            # Determine the winner\n",
    "            if calculate_hand_value(dealer_hand) > 21:\n",
    "                print(\"Dealer busts! You win!\")\n",
    "            elif calculate_hand_value(dealer_hand) >= calculate_hand_value(player_hand):\n",
    "                print(\"Dealer wins.\")\n",
    "            else:\n",
    "                print(\"You win!\")\n",
    "            break\n",
    "        else:\n",
    "            print(\"Invalid choice. Please enter 'hit' or 'stand'.\")\n",
    "\n",
    "if __name__ == \"__main__\":\n",
    "    blackjack()\n"
   ]
  },
  {
   "cell_type": "markdown",
   "id": "3112f6eb-2520-48a1-8c27-8f003bf77fb4",
   "metadata": {},
   "source": [
    "40. Write a program that generates the prime factors of a given number using tiral division."
   ]
  },
  {
   "cell_type": "code",
   "execution_count": 61,
   "id": "476c134e-a075-4bc3-866e-27bbfc967358",
   "metadata": {},
   "outputs": [
    {
     "name": "stdin",
     "output_type": "stream",
     "text": [
      "Enter a number:  35\n"
     ]
    },
    {
     "name": "stdout",
     "output_type": "stream",
     "text": [
      "The prime factors of 35 are: 5, 7\n"
     ]
    }
   ],
   "source": [
    "def prime_factors(n):\n",
    "    factors = []\n",
    "    divisor = 2\n",
    "    \n",
    "    while divisor <= n:\n",
    "        if n % divisor == 0:\n",
    "            factors.append(divisor)\n",
    "            n //= divisor\n",
    "        else:\n",
    "            divisor += 1\n",
    "    \n",
    "    return factors\n",
    "\n",
    "# Input a number from the user\n",
    "num = int(input(\"Enter a number: \"))\n",
    "\n",
    "# Calculate and print the prime factors\n",
    "factors = prime_factors(num)\n",
    "\n",
    "if len(factors) == 0:\n",
    "    print(f\"{num} is a prime number with no prime factors other than 1 and itself.\")\n",
    "else:\n",
    "    print(f\"The prime factors of {num} are: {', '.join(map(str, factors))}\")\n"
   ]
  },
  {
   "cell_type": "code",
   "execution_count": null,
   "id": "5c0bff31-86a5-40e9-9569-08a49e164f92",
   "metadata": {},
   "outputs": [],
   "source": []
  }
 ],
 "metadata": {
  "kernelspec": {
   "display_name": "Python 3 (ipykernel)",
   "language": "python",
   "name": "python3"
  },
  "language_info": {
   "codemirror_mode": {
    "name": "ipython",
    "version": 3
   },
   "file_extension": ".py",
   "mimetype": "text/x-python",
   "name": "python",
   "nbconvert_exporter": "python",
   "pygments_lexer": "ipython3",
   "version": "3.10.8"
  }
 },
 "nbformat": 4,
 "nbformat_minor": 5
}
